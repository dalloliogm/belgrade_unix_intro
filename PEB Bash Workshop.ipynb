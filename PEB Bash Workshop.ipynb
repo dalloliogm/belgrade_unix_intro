{
 "cells": [
  {
   "cell_type": "markdown",
   "metadata": {
    "toc": "true"
   },
   "source": [
    "# Table of Contents\n",
    " <p><div class=\"lev1 toc-item\"><a href=\"#PEB-Belgrade---Bash-workshop\" data-toc-modified-id=\"PEB-Belgrade---Bash-workshop-1\"><span class=\"toc-item-num\">1&nbsp;&nbsp;</span>PEB Belgrade - Bash workshop</a></div><div class=\"lev1 toc-item\"><a href=\"#How-to-follow-this-workshop\" data-toc-modified-id=\"How-to-follow-this-workshop-2\"><span class=\"toc-item-num\">2&nbsp;&nbsp;</span>How to follow this workshop</a></div><div class=\"lev2 toc-item\"><a href=\"#Getting-a-Terminal-application\" data-toc-modified-id=\"Getting-a-Terminal-application-2.1\"><span class=\"toc-item-num\">2.1&nbsp;&nbsp;</span>Getting a Terminal application</a></div><div class=\"lev3 toc-item\"><a href=\"#Windows\" data-toc-modified-id=\"Windows-2.1.1\"><span class=\"toc-item-num\">2.1.1&nbsp;&nbsp;</span>Windows</a></div><div class=\"lev3 toc-item\"><a href=\"#Mac\" data-toc-modified-id=\"Mac-2.1.2\"><span class=\"toc-item-num\">2.1.2&nbsp;&nbsp;</span>Mac</a></div><div class=\"lev3 toc-item\"><a href=\"#Linux\" data-toc-modified-id=\"Linux-2.1.3\"><span class=\"toc-item-num\">2.1.3&nbsp;&nbsp;</span>Linux</a></div><div class=\"lev2 toc-item\"><a href=\"#Getting-the-workshop-materials\" data-toc-modified-id=\"Getting-the-workshop-materials-2.2\"><span class=\"toc-item-num\">2.2&nbsp;&nbsp;</span>Getting the workshop materials</a></div><div class=\"lev1 toc-item\"><a href=\"#Basic-Unix-Commands:-ls,-cd\" data-toc-modified-id=\"Basic-Unix-Commands:-ls,-cd-3\"><span class=\"toc-item-num\">3&nbsp;&nbsp;</span>Basic Unix Commands: ls, cd</a></div><div class=\"lev1 toc-item\"><a href=\"#Accessing-the-contents-of-a-file:-head,-tail,-less,-more\" data-toc-modified-id=\"Accessing-the-contents-of-a-file:-head,-tail,-less,-more-4\"><span class=\"toc-item-num\">4&nbsp;&nbsp;</span>Accessing the contents of a file: head, tail, less, more</a></div><div class=\"lev1 toc-item\"><a href=\"#Searching-patterns-into-file:-grep\" data-toc-modified-id=\"Searching-patterns-into-file:-grep-5\"><span class=\"toc-item-num\">5&nbsp;&nbsp;</span>Searching patterns into file: grep</a></div><div class=\"lev2 toc-item\"><a href=\"#Accessing-grep-documentation\" data-toc-modified-id=\"Accessing-grep-documentation-5.1\"><span class=\"toc-item-num\">5.1&nbsp;&nbsp;</span>Accessing grep documentation</a></div>"
   ]
  },
  {
   "cell_type": "markdown",
   "metadata": {
    "slideshow": {
     "slide_type": "slide"
    }
   },
   "source": [
    "# PEB Belgrade - Bash workshop\n",
    "\n",
    "Giovanni M. Dall'Olio, GSK, 12/09/2016. http://bioinfoblog.it\n",
    "\n",
    "```\n",
    " _______________\n",
    " / Welcome to    \\\n",
    " \\ PEB Belgrade! /\n",
    "  ---------------\n",
    "         \\   ^__^\n",
    "          \\  (oo)\\_______\n",
    "             (__)\\       )\\/\\\n",
    "                 ||----w |\n",
    "                 ||     ||\n",
    "```\n",
    "\n",
    "Welcome to Belgrade!\n",
    "\n",
    "In this workshop we will review some basic Unix command, as well as bash usage.\n",
    "\n",
    "If you attended the [Programming for Evolutionary Biology course in Leipzig](http://evop.bioinf.uni-leipzig.de/), this will be a refreshener. I've hidden some **secrets** in the exercises, so you will not get bored :-)\n",
    "\n",
    "If you are new to bash, this short workshop will give you an introduction."
   ]
  },
  {
   "cell_type": "markdown",
   "metadata": {
    "slideshow": {
     "slide_type": "slide"
    }
   },
   "source": [
    "# How to follow this workshop\n",
    "\n",
    "\n",
    "## Getting a Terminal application\n",
    "\n",
    "All the exercises will be done in a Terminal. \n",
    "\n",
    "During the conference we may have time for a \"Linux Install Party\", to get Linux into some of your laptops. However, to save time during this workshop we will simply install a terminal emulator softare in your computer.\n",
    "\n",
    "Scroll down to see what to install or launch."
   ]
  },
  {
   "cell_type": "markdown",
   "metadata": {
    "slideshow": {
     "slide_type": "subslide"
    }
   },
   "source": [
    "### Windows\n",
    "\n",
    "For Windows users, we will use a terminal emulator software called MobaXTerm: http://mobaxterm.mobatek.net/\n",
    "\n",
    "The Home Edition is free and contains all the features we will need for the workshop:\n",
    "\n",
    "<a href=\"http://mobaxterm.mobatek.net/\" target=\"_blank\"><img src=\"http://mobaxterm.mobatek.net/img/moba/features/feature-terminal.png\" width=\"400\"></a>"
   ]
  },
  {
   "cell_type": "markdown",
   "metadata": {
    "slideshow": {
     "slide_type": "subslide"
    }
   },
   "source": [
    "### Mac\n",
    "\n",
    "You should be able to use the Console App in Mac.\n",
    "\n",
    "<img src=\"http://blog.teamtreehouse.com/wp-content/uploads/2012/09/Screen-Shot-2012-09-25-at-1.01.45-PM.png\" width=\"400\">"
   ]
  },
  {
   "cell_type": "markdown",
   "metadata": {
    "slideshow": {
     "slide_type": "subslide"
    }
   },
   "source": [
    "### Linux\n",
    "\n",
    "Congratulations on having Linux installed! You can use your favorite terminal app (e.g. gnome-terminal or konsole)\n",
    "\n",
    "<img src=\"https://camo.githubusercontent.com/358e5e2206148280d127128499ad92e8621e5517/68747470733a2f2f7261772e6769746875622e636f6d2f63656d6d616e6f75696c696469732f6d6f6e6f6b61692d676e6f6d652d7465726d696e616c2f6d61737465722f73637265656e73686f742d30312e706e67\" width=\"400\">\n"
   ]
  },
  {
   "cell_type": "markdown",
   "metadata": {
    "slideshow": {
     "slide_type": "slide"
    }
   },
   "source": [
    "## Getting the workshop materials\n",
    "\n",
    "Now that we have a terminal application ready, let's download all the course materials.\n",
    "\n",
    "Open the terminal, and type the following commands (only the lines starting with \"$:\"):\n",
    "\n",
    "```\n",
    "$: wget  https://github.com/dalloliogm/belgrade_unix_intro/archive/master.zip\n",
    "\n",
    "$: unzip master.zip\n",
    "\n",
    "\n",
    "```\n",
    "\n",
    "\n",
    "Explanation:\n",
    "\n",
    " - the **wget** command downloads a .zip file containing all the materials\n",
    " - the **unzip** command uncompresses the .zip file, creating a new folder in your home area.\n",
    " \n",
    " \n",
    "This will contain all the data necessary to follow the exercises, as well as this tutorial and the others. "
   ]
  },
  {
   "cell_type": "markdown",
   "metadata": {
    "slideshow": {
     "slide_type": "subslide"
    }
   },
   "source": [
    "\\# Expected output\n",
    "\n",
    "```\n",
    "$: wget  https://github.com/dalloliogm/belgrade_unix_intro/archive/master.zip\n",
    "\n",
    "--2016-08-26 09:55:53--  https://github.com/dalloliogm/belgrade_unix_intro/archive/master.zip\n",
    "Resolving github.com... 192.30.253.113\n",
    "Connecting to github.com|192.30.253.113|:443... connected.\n",
    "HTTP request sent, awaiting response... 302 Found\n",
    "Location: https://codeload.github.com/dalloliogm/belgrade_unix_intro/zip/master [following]\n",
    "--2016-08-26 09:55:54--  https://codeload.github.com/dalloliogm/belgrade_unix_intro/zip/master\n",
    "Resolving codeload.github.com... 192.30.253.120\n",
    "Connecting to codeload.github.com|192.30.253.120|:443... connected.\n",
    "HTTP request sent, awaiting response... 200 OK\n",
    "Length: 129112 (126K) [application/zip]\n",
    "Saving to: `master.zip.1'\n",
    "\n",
    "100%[========================================================================================================================================================================>] 129,112      617K/s   in 0.2s\n",
    "\n",
    "2016-08-26 09:55:54 (617 KB/s) - `master.zip' saved [129112/129112]\n",
    "$: unzip master.zip\n",
    "\n",
    "Archive:  master.zip\n",
    "   creating: belgrade_unix_intro-master/\n",
    "  inflating: belgrade_unix_intro-master/PEB Bash Workshop.ipynb\n",
    "  inflating: belgrade_unix_intro-master/README.md\n",
    "   creating: belgrade_unix_intro-master/data/\n",
    "   creating: belgrade_unix_intro-master/data/part1_grep/\n",
    "  inflating: belgrade_unix_intro-master/data/part1_grep/file1.txt\n",
    "  inflating: belgrade_unix_intro-master/data/part1_grep/file2.txt\n",
    "   creating: belgrade_unix_intro-master/src/\n",
    "   creating: belgrade_unix_intro-master/src/data/\n",
    "  inflating: belgrade_unix_intro-master/src/data/README.rst\n",
    "  inflating: belgrade_unix_intro-master/src/generate_grep_exercise.py\n",
    "  ```"
   ]
  },
  {
   "cell_type": "markdown",
   "metadata": {
    "slideshow": {
     "slide_type": "slide"
    }
   },
   "source": [
    "# Basic Unix Commands: ls, cd\n",
    "\n",
    "Let's have a look at the files we just downloaded.\n",
    "\n",
    "We will use two basic Unix commands:\n",
    "\n",
    " - **ls** list the number of files in the current directory\n",
    " - **cd** allows to move to a different directory.\n",
    " \n",
    " \n",
    "Typing **ls** will show all the files in the current directory. Among these you should see a folder called **belgrade_unix_intro-master**, created by the wget and unzip commands. \n",
    " \n",
    "Let's move to this new directory, and list the files in it:\n",
    " \n",
    "```\n",
    "$: cd belgrade_unix_intro-master/\n",
    "$: ls\n",
    "```\n",
    "\n",
    "This will show a list of files, including a file called **start_here.txt**, a README, a few folders (data/, src/), and some other files."
   ]
  },
  {
   "cell_type": "code",
   "execution_count": 67,
   "metadata": {
    "collapsed": false,
    "slideshow": {
     "slide_type": "subslide"
    }
   },
   "outputs": [
    {
     "name": "stdout",
     "output_type": "stream",
     "text": [
      "total 36\r\n",
      "drwxr-x---. 2 gmd78366 gsk_rd  4096 Aug 26 18:28 \u001b[0m\u001b[01;34mdata\u001b[0m\r\n",
      "-rw-r-----. 1 gmd78366 gsk_rd 19520 Aug 27 03:35 PEB Bash Workshop.ipynb\r\n",
      "-rw-r-----. 1 gmd78366 gsk_rd   260 Aug 26 14:47 README.md\r\n",
      "drwxr-x---. 4 gmd78366 gsk_rd  4096 Aug 27 04:20 \u001b[01;34msrc\u001b[0m\r\n",
      "-rw-r-----. 1 gmd78366 gsk_rd  1877 Aug 25 18:06 start_here.txt\r\n"
     ]
    }
   ],
   "source": [
    "# Contents of the PEB workshop directory\n",
    "ls -l"
   ]
  },
  {
   "cell_type": "markdown",
   "metadata": {
    "slideshow": {
     "slide_type": "slide"
    }
   },
   "source": [
    "# Accessing the contents of a file: head, tail, less, more\n",
    "\n",
    "<style>\n",
    "table {float:left}\n",
    "</style>\n",
    "\n",
    "The new folder contains a file named start_here.txt, containing the first instructions for the workshop.\n",
    "\n",
    "To access the contents of a file, we can use several Unix commands:\n",
    "\n",
    "| command       | description                                   | example             |\n",
    "| :------------:|:-------------------------------------         |:------------------- |\n",
    "| **head**      | print the first lines of the file             | head start_here.txt |\n",
    "| **tail**      | print the last lines of the file              | tail start_here.txt |\n",
    "| **cat**       | print the contents of the file to the screen  | cat start_here.txt  |\n",
    "| **less**      | allows to navigate contents of the file       | less start_here.txt |\n",
    "\n",
    "\n",
    "For the first exercise, type \"head start_here.txt\" and follow the instructions:\n"
   ]
  },
  {
   "cell_type": "code",
   "execution_count": 68,
   "metadata": {
    "collapsed": false
   },
   "outputs": [
    {
     "name": "stdout",
     "output_type": "stream",
     "text": [
      " _________________________________________________\r\n",
      "/ To navigate the contents of this file, type:     \\\r\n",
      "|                                                  |\r\n",
      "|        less start_here.txt                       |\r\n",
      "\\                                                  /\r\n",
      " --------------------------------------------------\r\n",
      "        \\   ^__^\r\n",
      "         \\  (oo)\\_______\r\n",
      "            (__)\\       )\\/\\\r\n",
      "                ||----w |\r\n"
     ]
    }
   ],
   "source": [
    "head start_here.txt"
   ]
  },
  {
   "cell_type": "markdown",
   "metadata": {
    "slideshow": {
     "slide_type": "slide"
    }
   },
   "source": [
    "# Searching patterns into file: grep\n",
    "\n",
    "The instructions for the next exercises are stored in the **data/exercise1_grep.txt** file. \n",
    "\n",
    "However, if you look at this file with head or less, you will see that its contents have no meaning!"
   ]
  },
  {
   "cell_type": "code",
   "execution_count": 69,
   "metadata": {
    "collapsed": false,
    "slideshow": {
     "slide_type": "-"
    }
   },
   "outputs": [
    {
     "name": "stdout",
     "output_type": "stream",
     "text": [
      "VZSIybppOk6tVyoP Rn 15CjrNQwLryWIVdocsh9    \r\n",
      "1RJstartXis0IUHFRzO8mwWPP8HU078uVblqHO1K    \r\n",
      "MTBuoGYg6KorstartYzlTCLzqA1e784zUfWzHpq7     ______________________________\r\n",
      "3n3jic51WkgfdZUBfnLxUn95yoLuX1ZzszJ15Z 2    97KerUPqpOKRBgm4uLImNJlQPUzAKQIySVQ\r\n",
      "kKNDcyIVaJAfFORkbh6w0BXOA8G3Z7CEstart8y4    / Congrats!                    \\ \r\n",
      "mEUywiCso4OnuiAFLhmZBraSzmz6t4RGabnd1Kgg    7bIPwpjoty2X3lGvOIt65CGLUCIvN9 fHxA\r\n",
      "LTZSCl7LjPHwOpXZzF 9ndYH3KmGJWyzJhGUhoL     onY6ZokJZR5f oVte86Gzxbydn YWFC3tbg\r\n",
      "yX7S6docstGIL5tgzpsnj2iD1pbvuBW 3aZN81bT        The documentation for grep can be accessed through man:\r\n",
      "INxV7V3u4llxq8M2IbHxD3St3jzrUP9ep6MEUluP    uvt mbdmEMHj7 xxWXYNzKXhuobFxWCI1MA\r\n",
      "LwVx0Z6eCQkXHIm7aJt3zFd Jfrje6hA5QX094e1    idjkIa M7BKC39VapAOYp9e1FraSnCePkcJ\r\n"
     ]
    }
   ],
   "source": [
    "head data/exercise1_grep.txt"
   ]
  },
  {
   "cell_type": "markdown",
   "metadata": {
    "slideshow": {
     "slide_type": "-"
    }
   },
   "source": [
    "This is because I've hidden all the instructions in the file, just to make things more interesting!\n",
    "\n",
    "Scroll down to see how to continue."
   ]
  },
  {
   "cell_type": "markdown",
   "metadata": {
    "slideshow": {
     "slide_type": "subslide"
    }
   },
   "source": [
    "More precisely, I've hidden the first exercises in all the lines containing the word \"start\" somewhere.\n",
    "\n",
    "To find all the lines containing the word \"start\" in the exercise file, type:\n",
    "\n",
    "```\n",
    "$: grep start data/exercise1_grep\n",
    "```"
   ]
  },
  {
   "cell_type": "code",
   "execution_count": 70,
   "metadata": {
    "collapsed": false,
    "slideshow": {
     "slide_type": "fragment"
    }
   },
   "outputs": [
    {
     "name": "stdout",
     "output_type": "stream",
     "text": [
      "1RJstartXis0IUHFRzO8mwWPP8HU078uVblqHO1K    \r\n",
      "MTBuoGYg6KorstartYzlTCLzqA1e784zUfWzHpq7     ______________________________\r\n",
      "kKNDcyIVaJAfFORkbh6w0BXOA8G3Z7CEstart8y4    / Congrats!                    \\ \r\n",
      "pNZPR3Zw3a4YkW NbD2CgqwLIstartjAUqFevZYi    |  You've used grep correctly, |\r\n",
      "l42FnMwv92EjyoiXRVstartTyi6Gsxm4pgnjocRH    \\  and found a cow.            /\r\n",
      "SBMZRPph4ZMdFUR2M pXdGISHvNiSoOhYstart72     ------------------------------\r\n",
      "EO7M7gxYMCyXdnk QfVMU4pvfhUzaUzhstartWSg            \\   ^__^\r\n",
      "LiH3ITaaYtzdpEyMILkC1ojY0vSFDcstartTNjWH             \\  (oo)\\_______\r\n",
      "4astartvi2YvjOwDfhpCG3E2D3GbbMEda2elRJPA                (__)\\       )\\/\\ \r\n",
      "kW4eWAvg7t1XimkstartN J4G2KFfbHakmvpiLoJ                    ||----w |\r\n",
      "8YZwQJxtShrcGjsmRHqeyebPR8dIPNwegfLstart                    ||     ||\r\n",
      "brkBOZ6UhCgkstartA7DN0TYjZbs3RQRQ8EB8ATR    \r\n",
      "Tw0Y2bzstart6iwdTZambRmsQ57JGQHnu0J1OpZd    \r\n",
      "mhd1FYIdPx572PstartzoYUiuXRSryyktO xzQxt    \r\n",
      "Sjstartet7cevBK0xJB5wC7ffLsMVeRZqOUzy8GR        The command grep allows to search for a pattern in a text file.\r\n",
      "yfg44i5p2dstartSsNl7a3ICrrsH6DiMzehbNH7V        It will print all the matching lines to the screen.\r\n",
      "JdVs3KC4E 63xjuPsYstartGYx u9oFLL2WsKDYL    \r\n",
      "startlwJM24IWGVpwPZLllDrfGYXkvNEWzsw94Fj        =================\r\n",
      "V1azOQIaOxNgstarts4vMkkw79rU8tgwvQr8lshd        Next Exercise\r\n",
      "HLjnwOM6Yfuq7S9zTKkM9LO0dCcehM vOklstart        =================\r\n",
      "0IYAeWmcBrdR startP0IZw2zYQMgaotj4qVkV6C    \r\n",
      "U9v7z4AfKr0hRNOWkpUdgdmqUiCFstarthrFKxG0        In the next exercise we will see how to access grep's documentation.\r\n",
      "start6C1uOQ ELcrxf2J ISkNjAFhF4huMPkwrMi    \r\n",
      "lW816start55qp9iyf3ypD VqhI QIn46OCoIHc         Grep the following word to continue:\r\n",
      "uDiASGWnWymQVO5e2R6Z9IrEKc42zvstartSuJec    \r\n",
      "WwVHd11eQhKc718oDSstartkCchsG6CFcXcc8vrx                     | |                  \r\n",
      "jeP5wnzpstart4xGUVCIEs5dmBly02btK06lmBE7                   __| |  ___    ___  ___ \r\n",
      "aBf08Zp4zr gGdstartidzaEk6zhFQYeYDf5wtuc                  / _` | / _ \\  / __|/ __|\r\n",
      "Eeta319N6hly37BIpstartrqdH2oW4EuC5wpk4bS                 | (_| || (_) || (__ \\__ \\ \r\n",
      "eSw7trxdRQHmNstartwaH s3x8nD5U4V9Qkiw1j0                  \\__,_| \\___/  \\___||___/\r\n",
      "EnOHXXkdppelcbxzZstartvxRwJJJnPsA4ReewT8    \r\n",
      "Vs1oWstart23KWjHh5acp5p1pnGlcJBbex87Wj2Y    \r\n"
     ]
    }
   ],
   "source": [
    "grep start data/exercise1_grep.txt"
   ]
  },
  {
   "cell_type": "markdown",
   "metadata": {
    "slideshow": {
     "slide_type": "slide"
    }
   },
   "source": [
    "## Accessing grep documentation\n",
    "\n",
    "To access the documentation of a command, we can use the **man** command.\n",
    "\n",
    "Let's type the following:\n",
    "\n",
    "```\n",
    "$: man grep\n",
    "```\n",
    "\n",
    "This will allow to navigate the documentation for grep, in the same modality as with the **less** command.\n",
    "\n",
    "Scrolling down will allow you to see that there are many paramers that can be given to customize grep's behaviour. "
   ]
  },
  {
   "cell_type": "code",
   "execution_count": 71,
   "metadata": {
    "collapsed": false,
    "slideshow": {
     "slide_type": "fragment"
    }
   },
   "outputs": [
    {
     "name": "stdout",
     "output_type": "stream",
     "text": [
      "VZSIybppOk6tVyoP Rn 15CjrNQwLryWIVdocsh9    \r\n",
      "yX7S6docstGIL5tgzpsnj2iD1pbvuBW 3aZN81bT        The documentation for grep can be accessed through man:\r\n",
      "JuDdocsp8KqyiZuXTKz1JMcP84lfCLMsZBpchH2M    \r\n",
      "lhAkYyYCekumbSpmkeosyGK4vd4AwdO684pfdocs            $: man grep\r\n",
      "7l1lqFhfWLkD4AGuMT0fGL0kUtBZu9YR7docspEx        \r\n",
      "E8wfNxVxnr0jz ts5docsD KB VOKz9FIKtdWD7C        Scroll down to see all the parameters for grep and their description.\r\n",
      "VjhWzhp12dPrvI1docsnlTHu4wiUPKp7H5vBICV0    \r\n",
      "jNeJjwiwrIRPdG8SnmrnLRUPs8Jmz8ydocsMn9CC        Use / to search for text.\r\n",
      "nDGsLXZneYJYmtYt2gEuihxB3zMudocsOrk4GkuY        Press the q key to exit.\r\n",
      "TgHUAnrAZbTShF1wUovMLtREFYBP57r pnqdocso    \r\n",
      "zfiS7oaE3Fdocs8By qWWTw05xESLp0vbp0WOFwX    \r\n",
      "crg35docs560nEGtx8Psj3yRr6quXkdy3vtgnqB9    \r\n",
      "7aHqUClLOIJ A5W2 IOcW8ZZXf0docssZHktlKPZ        ==============\r\n",
      "AlpcuJ04NvX7kM2QAr341WhVtoH094wdocsUkSxw        Next exercise\r\n",
      "uQiWpN6MIgEIjmdocs2C90NWYfoOsFiUdrBdgkFY        ==============\r\n",
      "ExCSdocsUiDKnZ0oCnWUBObgpRaWgAw 6hT8q9ZR    \r\n",
      "PZwYjpi1iwXrWT2TsyerstCl24gmQdocszyuZ5wm        There is an option in grep to do case-insensitive searches.\r\n",
      "ydocs5WqJWMxE2y4RGpscC  hT1wF4LhOx4ca9DP    \r\n",
      "SVXLBQOD4EdocsUJuCcmDI59v23Q4nU4GFSqotF9        Grep this document again, searching for the long form of that option.\r\n",
      "VLsIsL6lsuMBNwfdocsythhMwAnCd2XPrWv1YOVy    \r\n",
      "l9HxGf BQxAU5H0QdocseXwy5hV56rZM94BgCfAU        Note that you will need to quote it using single quotes, e.g.:\r\n",
      "odocs7VvQoSmbevK5sGGamqn8gMKSy94l3S8c3xj    \r\n",
      "docskjcF3lnrq18jkr3PFoBltGxtm iAxoECA2CC            $: grep '--my-option' data/exercise1_grep.txt\r\n",
      "docs3cd0i8PekzY1JMdX70TFzAxfxbBPedAtsZM6    \r\n",
      "PTVxkXGv7V0YVrPCNAS65a6Zdocsk8ntqJrRinuP        \r\n"
     ]
    }
   ],
   "source": [
    "grep docs data/exercise1_grep.txt"
   ]
  }
 ],
 "metadata": {
  "celltoolbar": "Slideshow",
  "kernelspec": {
   "display_name": "Bash",
   "language": "bash",
   "name": "bash"
  },
  "language_info": {
   "codemirror_mode": "shell",
   "file_extension": ".sh",
   "mimetype": "text/x-sh",
   "name": "bash"
  },
  "nav_menu": {},
  "toc": {
   "navigate_menu": true,
   "number_sections": true,
   "sideBar": true,
   "threshold": 6,
   "toc_cell": true,
   "toc_section_display": "block",
   "toc_window_display": false
  }
 },
 "nbformat": 4,
 "nbformat_minor": 1
}
