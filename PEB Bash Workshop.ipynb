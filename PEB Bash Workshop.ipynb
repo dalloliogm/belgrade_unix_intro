{
 "cells": [
  {
   "cell_type": "markdown",
   "metadata": {
    "toc": "true"
   },
   "source": [
    "# Table of Contents\n",
    " <p><div class=\"lev1 toc-item\"><a href=\"#PEB-Belgrade---Bash-workshop\" data-toc-modified-id=\"PEB-Belgrade---Bash-workshop-1\"><span class=\"toc-item-num\">1&nbsp;&nbsp;</span>PEB Belgrade - Bash workshop</a></div><div class=\"lev1 toc-item\"><a href=\"#How-to-follow-this-workshop\" data-toc-modified-id=\"How-to-follow-this-workshop-2\"><span class=\"toc-item-num\">2&nbsp;&nbsp;</span>How to follow this workshop</a></div><div class=\"lev2 toc-item\"><a href=\"#Getting-a-Terminal-application\" data-toc-modified-id=\"Getting-a-Terminal-application-2.1\"><span class=\"toc-item-num\">2.1&nbsp;&nbsp;</span>Getting a Terminal application</a></div><div class=\"lev3 toc-item\"><a href=\"#Windows\" data-toc-modified-id=\"Windows-2.1.1\"><span class=\"toc-item-num\">2.1.1&nbsp;&nbsp;</span>Windows</a></div><div class=\"lev3 toc-item\"><a href=\"#Mac\" data-toc-modified-id=\"Mac-2.1.2\"><span class=\"toc-item-num\">2.1.2&nbsp;&nbsp;</span>Mac</a></div><div class=\"lev3 toc-item\"><a href=\"#Linux\" data-toc-modified-id=\"Linux-2.1.3\"><span class=\"toc-item-num\">2.1.3&nbsp;&nbsp;</span>Linux</a></div><div class=\"lev2 toc-item\"><a href=\"#Getting-the-workshop-materials\" data-toc-modified-id=\"Getting-the-workshop-materials-2.2\"><span class=\"toc-item-num\">2.2&nbsp;&nbsp;</span>Getting the workshop materials</a></div><div class=\"lev1 toc-item\"><a href=\"#Basic-Unix-Commands:-ls,-cd\" data-toc-modified-id=\"Basic-Unix-Commands:-ls,-cd-3\"><span class=\"toc-item-num\">3&nbsp;&nbsp;</span>Basic Unix Commands: ls, cd</a></div><div class=\"lev1 toc-item\"><a href=\"#Accessing-the-contents-of-a-file:-head,-cat,-less\" data-toc-modified-id=\"Accessing-the-contents-of-a-file:-head,-cat,-less-4\"><span class=\"toc-item-num\">4&nbsp;&nbsp;</span>Accessing the contents of a file: head, cat, less</a></div><div class=\"lev1 toc-item\"><a href=\"#Searching-patterns-into-file:-grep\" data-toc-modified-id=\"Searching-patterns-into-file:-grep-5\"><span class=\"toc-item-num\">5&nbsp;&nbsp;</span>Searching patterns into file: grep</a></div><div class=\"lev2 toc-item\"><a href=\"#Accessing-grep-documentation\" data-toc-modified-id=\"Accessing-grep-documentation-5.1\"><span class=\"toc-item-num\">5.1&nbsp;&nbsp;</span>Accessing grep documentation</a></div><div class=\"lev2 toc-item\"><a href=\"#Searching-multiple-files\" data-toc-modified-id=\"Searching-multiple-files-5.2\"><span class=\"toc-item-num\">5.2&nbsp;&nbsp;</span>Searching multiple files</a></div><div class=\"lev2 toc-item\"><a href=\"#Searching-multiple-patterns-and-the-Unix-piping-system\" data-toc-modified-id=\"Searching-multiple-patterns-and-the-Unix-piping-system-5.3\"><span class=\"toc-item-num\">5.3&nbsp;&nbsp;</span>Searching multiple patterns and the Unix piping system</a></div><div class=\"lev2 toc-item\"><a href=\"#Regular-Expressions\" data-toc-modified-id=\"Regular-Expressions-5.4\"><span class=\"toc-item-num\">5.4&nbsp;&nbsp;</span>Regular Expressions</a></div><div class=\"lev1 toc-item\"><a href=\"#Working-with-tabular-files:-Awk\" data-toc-modified-id=\"Working-with-tabular-files:-Awk-6\"><span class=\"toc-item-num\">6&nbsp;&nbsp;</span>Working with tabular files: Awk</a></div>"
   ]
  },
  {
   "cell_type": "markdown",
   "metadata": {
    "slideshow": {
     "slide_type": "slide"
    }
   },
   "source": [
    "# PEB Belgrade - Bash workshop\n",
    "\n",
    "Giovanni M. Dall'Olio, GSK, 12/09/2016. http://bioinfoblog.it\n",
    "\n",
    "```\n",
    " _______________\n",
    " / Welcome to    \\\n",
    " \\ PEB Belgrade! /\n",
    "  ---------------\n",
    "         \\   ^__^\n",
    "          \\  (oo)\\_______\n",
    "             (__)\\       )\\/\\\n",
    "                 ||----w |\n",
    "                 ||     ||\n",
    "```\n",
    "\n",
    "Welcome to Belgrade!\n",
    "\n",
    "In this workshop we will review some basic Unix command, as well as bash usage.\n",
    "\n",
    "If you attended the [Programming for Evolutionary Biology course in Leipzig](http://evop.bioinf.uni-leipzig.de/), this will be a refreshener. I've hidden some **secrets** in the exercises, so you will not get bored :-)\n",
    "\n",
    "If you are new to bash, this will be a short introduction."
   ]
  },
  {
   "cell_type": "code",
   "execution_count": 55,
   "metadata": {
    "collapsed": false,
    "slideshow": {
     "slide_type": "skip"
    }
   },
   "outputs": [
    {
     "name": "stdout",
     "output_type": "stream",
     "text": []
    }
   ],
   "source": [
    "# Configuration - this will not appear in the slideshow\n",
    "alias grep='grep --color'"
   ]
  },
  {
   "cell_type": "markdown",
   "metadata": {
    "slideshow": {
     "slide_type": "slide"
    }
   },
   "source": [
    "# How to follow this workshop\n",
    "\n",
    "\n",
    "## Getting a Terminal application\n",
    "\n",
    "All the exercises will be done in a Terminal. \n",
    "\n",
    "During the conference we may have also time for a \"Linux Install Party\", to get Linux into some of your laptops. However there are ways to access a bash terminal without installing Linux first.\n",
    "\n",
    "Scroll down to see what to install or launch."
   ]
  },
  {
   "cell_type": "markdown",
   "metadata": {
    "slideshow": {
     "slide_type": "subslide"
    }
   },
   "source": [
    "### Windows\n",
    "\n",
    "For Windows users, we will use a terminal emulator software called MobaXTerm: http://mobaxterm.mobatek.net/\n",
    "\n",
    "The Home Edition is free and contains all the features we will need for the workshop:\n",
    "\n",
    "<a href=\"http://mobaxterm.mobatek.net/\" target=\"_blank\"><img src=\"http://mobaxterm.mobatek.net/img/moba/features/feature-terminal.png\" width=\"400\"></a>"
   ]
  },
  {
   "cell_type": "markdown",
   "metadata": {
    "slideshow": {
     "slide_type": "subslide"
    }
   },
   "source": [
    "### Mac\n",
    "\n",
    "You should be able to use the Console App in Mac.\n",
    "\n",
    "<img src=\"http://blog.teamtreehouse.com/wp-content/uploads/2012/09/Screen-Shot-2012-09-25-at-1.01.45-PM.png\" width=\"400\">"
   ]
  },
  {
   "cell_type": "markdown",
   "metadata": {
    "slideshow": {
     "slide_type": "subslide"
    }
   },
   "source": [
    "### Linux\n",
    "\n",
    "Congratulations on having Linux installed! You can use your favorite terminal app (e.g. gnome-terminal or konsole)\n",
    "\n",
    "<img src=\"https://camo.githubusercontent.com/358e5e2206148280d127128499ad92e8621e5517/68747470733a2f2f7261772e6769746875622e636f6d2f63656d6d616e6f75696c696469732f6d6f6e6f6b61692d676e6f6d652d7465726d696e616c2f6d61737465722f73637265656e73686f742d30312e706e67\" width=\"400\">\n"
   ]
  },
  {
   "cell_type": "markdown",
   "metadata": {
    "slideshow": {
     "slide_type": "slide"
    }
   },
   "source": [
    "## Getting the workshop materials\n",
    "\n",
    "Now that we have a terminal application ready, let's download all the course materials.\n",
    "\n",
    "Open the terminal, and type the following commands (omitting the \"$:\"):\n",
    "\n",
    "```\n",
    "$: wget  https://github.com/dalloliogm/belgrade_unix_intro/archive/master.zip\n",
    "$: unzip master.zip\n",
    "\n",
    "```\n",
    "\n",
    "\n",
    "Explanation:\n",
    "\n",
    " - the **wget** command downloads a .zip file containing all the materials\n",
    " - the **unzip** command uncompresses the .zip file, creating a new folder in your home area.\n",
    " \n",
    " \n",
    "This will contain all the data necessary to follow the exercises, as well as this tutorial and the others. "
   ]
  },
  {
   "cell_type": "markdown",
   "metadata": {
    "slideshow": {
     "slide_type": "subslide"
    }
   },
   "source": [
    "\\# Expected output\n",
    "\n",
    "```\n",
    "$: wget  https://github.com/dalloliogm/belgrade_unix_intro/archive/master.zip\n",
    "\n",
    "--2016-08-26 09:55:53--  https://github.com/dalloliogm/belgrade_unix_intro/archive/master.zip\n",
    "Resolving github.com... 192.30.253.113\n",
    "Connecting to github.com|192.30.253.113|:443... connected.\n",
    "HTTP request sent, awaiting response... 302 Found\n",
    "Location: https://codeload.github.com/dalloliogm/belgrade_unix_intro/zip/master [following]\n",
    "--2016-08-26 09:55:54--  https://codeload.github.com/dalloliogm/belgrade_unix_intro/zip/master\n",
    "Resolving codeload.github.com... 192.30.253.120\n",
    "Connecting to codeload.github.com|192.30.253.120|:443... connected.\n",
    "HTTP request sent, awaiting response... 200 OK\n",
    "Length: 129112 (126K) [application/zip]\n",
    "Saving to: `master.zip.1'\n",
    "\n",
    "100%[========================================================================================================================================================================>] 129,112      617K/s   in 0.2s\n",
    "\n",
    "2016-08-26 09:55:54 (617 KB/s) - `master.zip' saved [129112/129112]\n",
    "$: unzip master.zip\n",
    "\n",
    "Archive:  master.zip\n",
    "   creating: belgrade_unix_intro-master/\n",
    "  inflating: belgrade_unix_intro-master/PEB Bash Workshop.ipynb\n",
    "  inflating: belgrade_unix_intro-master/README.md\n",
    "   creating: belgrade_unix_intro-master/data/\n",
    "   creating: belgrade_unix_intro-master/data/part1_grep/\n",
    "  inflating: belgrade_unix_intro-master/data/part1_grep/file1.txt\n",
    "  inflating: belgrade_unix_intro-master/data/part1_grep/file2.txt\n",
    "   creating: belgrade_unix_intro-master/src/\n",
    "   creating: belgrade_unix_intro-master/src/data/\n",
    "  inflating: belgrade_unix_intro-master/src/data/README.rst\n",
    "  inflating: belgrade_unix_intro-master/src/generate_grep_exercise.py\n",
    "  ```"
   ]
  },
  {
   "cell_type": "markdown",
   "metadata": {
    "slideshow": {
     "slide_type": "slide"
    }
   },
   "source": [
    "# Basic Unix Commands: ls, cd\n",
    "\n",
    "Let's have a look at the files we just downloaded.\n",
    "\n",
    "We will use two basic Unix commands:\n",
    "\n",
    " - **ls** list the number of files in the current directory\n",
    " - **cd** allows to move to a different directory.\n",
    " \n",
    " \n",
    "Typing **ls** will show all the files in the current directory. Among these you should see a folder called **belgrade_unix_intro-master**, created by the wget and unzip commands. \n",
    " \n",
    "Let's move to this new directory, and list the files in it:\n",
    " \n",
    "```\n",
    "$: cd belgrade_unix_intro-master/\n",
    "$: ls\n",
    "```\n",
    "\n",
    "This will show a list of files, including a file called **start_here.txt**, a README, a few folders (data/, src/), and some other files."
   ]
  },
  {
   "cell_type": "code",
   "execution_count": 38,
   "metadata": {
    "collapsed": false,
    "slideshow": {
     "slide_type": "subslide"
    }
   },
   "outputs": [
    {
     "name": "stdout",
     "output_type": "stream",
     "text": [
      "total 84\r\n",
      "drwxr-x---. 3 gmd78366 gsk_rd  4096 Aug 27 14:41 \u001b[0m\u001b[01;34mdata\u001b[0m\r\n",
      "-rw-r-----. 1 gmd78366 gsk_rd   454 Aug 27 10:53 Makefile\r\n",
      "-rw-r-----. 1 gmd78366 gsk_rd 29171 Aug 27 14:52 PEB Bash Workshop.ipynb\r\n",
      "-rw-r-----. 1 gmd78366 gsk_rd 21335 Aug 27 11:06 PEB Bash Workshop.nbconvert.ipynb\r\n",
      "-rw-r-----. 1 gmd78366 gsk_rd   260 Aug 26 14:47 README.md\r\n",
      "drwxr-x---. 4 gmd78366 gsk_rd  4096 Aug 27 14:57 \u001b[01;34msrc\u001b[0m\r\n",
      "-rw-r-----. 1 gmd78366 gsk_rd  1877 Aug 25 18:06 start_here.txt\r\n"
     ]
    }
   ],
   "source": [
    "# Contents of the PEB workshop directory\n",
    "ls -l"
   ]
  },
  {
   "cell_type": "markdown",
   "metadata": {
    "slideshow": {
     "slide_type": "slide"
    }
   },
   "source": [
    "# Accessing the contents of a file: head, cat, less\n",
    "\n",
    "The new folder contains a file named start_here.txt, containing the first instructions for the workshop.\n",
    "\n",
    "To access the contents of a file, we can use several Unix commands:\n",
    "\n",
    "| command       | description                                   | example             |\n",
    "| :------------:|:-------------------------------------         |:------------------- |\n",
    "| **head**      | print the first lines of the file             | head start_here.txt |\n",
    "| **tail**      | print the last lines of the file              | tail start_here.txt |\n",
    "| **cat**       | print the contents of the file to the screen  | cat start_here.txt  |\n",
    "| **less**      | allows to navigate contents of the file       | less start_here.txt |"
   ]
  },
  {
   "cell_type": "markdown",
   "metadata": {},
   "source": [
    "For the first exercise, type \"head start_here.txt\" and follow the instructions:\n"
   ]
  },
  {
   "cell_type": "code",
   "execution_count": 57,
   "metadata": {
    "collapsed": false
   },
   "outputs": [
    {
     "name": "stdout",
     "output_type": "stream",
     "text": [
      " _________________________________________________\r\n",
      "/ To navigate the contents of this file, type:     \\\r\n",
      "|                                                  |\r\n",
      "|        less start_here.txt                       |\r\n",
      "\\                                                  /\r\n",
      " --------------------------------------------------\r\n",
      "        \\   ^__^\r\n",
      "         \\  (oo)\\_______\r\n",
      "            (__)\\       )\\/\\\r\n",
      "                ||----w |\r\n"
     ]
    }
   ],
   "source": [
    "head start_here.txt"
   ]
  },
  {
   "cell_type": "markdown",
   "metadata": {
    "slideshow": {
     "slide_type": "slide"
    }
   },
   "source": [
    "# Searching patterns into file: grep\n",
    "\n",
    "The instructions for the next exercises are stored in the **data/exercise1_grep.txt** file. \n",
    "\n",
    "However, if you look at this file with head or less, you will see that its contents have no meaning!"
   ]
  },
  {
   "cell_type": "code",
   "execution_count": 40,
   "metadata": {
    "collapsed": false,
    "slideshow": {
     "slide_type": "-"
    }
   },
   "outputs": [
    {
     "name": "stdout",
     "output_type": "stream",
     "text": [
      "JPkhuQzfdOWoLkKWwubrAAjn9CcwHBSw OM1WNUS    fQZHbyD4iyH8YgMnEyBXqrsB5PXUjxCCAAs\r\n",
      "UVTngbqXotwH6F0XvALF0yNvIH1tQ9 SUdgRvfX6    QsgNeyHLDk4ADUEcmQwQH3VTqNDYjCXrEac\r\n",
      "d UN ztkyeDsXQ6ofGFO5uoemafW6J3dEAMolRlg    3STDIVD9ZG3DkOiktfciiEI3py5YmINDAFQ\r\n",
      "pwsir8WmRsD8Ksd9vWoyhd4lp3jZwtvBr8nzcxNZ    YXFkROIaW8dJs5t6IRQpHXThUW6WXhQtwQ5\r\n",
      "9ykh0iCUvbkqr6 fSNhT5gz3ePCQHiZotXe0dsza    rpURJBGAwgFfZADFUVEhtFZN9z8aQfznWtE\r\n",
      "P TLpen7tnCqsIxQT9C7UENO7h3j1cFOLQ51Sv40    B7yVIaeTFA75OYikHj5YXWCCr5AofggB3sV\r\n",
      "neP8jkXN3tZiwbXjjdVvy8dhXhyxYXSXd4Q886kz    saYZB3ETF71VtzgOf1U05s6KqDJlMvLAO3S\r\n",
      "mNWcBjCRN4YagTolbvlBZ5nUcCScE5HWcnqhzRfC    y1DxtYKybuOTxycvSZSoC3QmnMARlGF8yEE\r\n",
      "AU9kYJTESgZxsOa 151CjnHISNOYgQNmzjwYku0q    iggiYHbyBNevVjO6LCSX4URk1hstA7pTGCh\r\n",
      "7VtU8RMMx4rcohjctdtJPSbEuLNUE8NXk59qjSZD    f4xkqbBCOh5WiHJ0awYrMyBbdbb1acMpJvj\r\n"
     ]
    }
   ],
   "source": [
    "head data/exercise1_grep.txt"
   ]
  },
  {
   "cell_type": "markdown",
   "metadata": {
    "slideshow": {
     "slide_type": "-"
    }
   },
   "source": [
    "This is because I've hidden all the instructions in the file, just to make things more interesting!\n",
    "\n",
    "Scroll down to see how to continue."
   ]
  },
  {
   "cell_type": "markdown",
   "metadata": {
    "slideshow": {
     "slide_type": "subslide"
    }
   },
   "source": [
    "I've hidden the instructions for the first exercise in the lines containing the word \"start\" somewhere.\n",
    "\n",
    "To find them, type:\n",
    "\n",
    "```\n",
    "$: grep start data/exercise1_grep\n",
    "```"
   ]
  },
  {
   "cell_type": "code",
   "execution_count": 41,
   "metadata": {
    "collapsed": false,
    "slideshow": {
     "slide_type": "fragment"
    }
   },
   "outputs": [
    {
     "name": "stdout",
     "output_type": "stream",
     "text": [
      "wTjlEmhMskadRXYIefOGA7CauL7TIy8\u001b[01;31m\u001b[Kstart\u001b[m\u001b[KmdGK    \r\n",
      "V776gcmzSHrRJKNX \u001b[01;31m\u001b[Kstart\u001b[m\u001b[K QEf7SDDI YLYKWKUo     ______________________________\r\n",
      "bM Sjjf7k579miPji08EsQSGr0R31MBT \u001b[01;31m\u001b[Kstart\u001b[m\u001b[KgR    / Congrats!                    \\ \r\n",
      "0DMKs97J7yDRuLu \u001b[01;31m\u001b[Kstart\u001b[m\u001b[K rYd MjwcSZ59Yqbiti    |  You've used grep correctly, |\r\n",
      "st0eP8\u001b[01;31m\u001b[Kstart\u001b[m\u001b[KSy3JhqYXHB4s6UZpFQPUcMKDFMhCe    \\  and found a cow.            /\r\n",
      "oMHSWZOKQy1rxVQJ\u001b[01;31m\u001b[Kstart\u001b[m\u001b[K4MSTQLNY qOHxMYx39I     ------------------------------\r\n",
      "P \u001b[01;31m\u001b[Kstart\u001b[m\u001b[K 3ihYGzJJTnrGfcZw4GD BOinapv5XcfQ            \\   ^__^\r\n",
      "IP1R3flkDgzoHKRRhhYAO96Qa\u001b[01;31m\u001b[Kstart\u001b[m\u001b[K3r93DehAw8             \\  (oo)\\_______\r\n",
      "CWg4MaRla58rY6ySOpp0i0 9KrCDqo \u001b[01;31m\u001b[Kstart\u001b[m\u001b[KRkqd                (__)\\       )\\/\\ \r\n",
      "cgVNy eBdr8AWK EnwjZ6yeHE9ZzVs \u001b[01;31m\u001b[Kstart\u001b[m\u001b[K 1zd                    ||----w |\r\n",
      "waScNfBYeddlcOp5wEvjSkRNw44ZAHoAD9 \u001b[01;31m\u001b[Kstart\u001b[m\u001b[K                    ||     ||\r\n",
      "lCZf\u001b[01;31m\u001b[Kstart\u001b[m\u001b[KI4Q7FytRrMF0d9hs7sCh8ZNj3Fp9L1f    \r\n",
      "ht\u001b[01;31m\u001b[Kstart\u001b[m\u001b[K bQjzRI4vrkWU 0WjAnXx3tk9X4Dz7H d    \r\n",
      "rIL 0Yl8frKTCP7V34\u001b[01;31m\u001b[Kstart\u001b[m\u001b[K KNQv87LXMUyubxza    \r\n",
      "OOh p6kyUd6zHBNbSoc6g57JOmpymCH \u001b[01;31m\u001b[Kstart\u001b[m\u001b[KX K    The command grep allows to search\r\n",
      "8QbzNl9ugHpQiTBQ5\u001b[01;31m\u001b[Kstart\u001b[m\u001b[K rX7qjLiPFUpASB4jy    for a pattern in a text file.\r\n",
      "ZMibQCU3ANAuiGTxUv\u001b[01;31m\u001b[Kstart\u001b[m\u001b[KH RtuKLYEukeOKv8n    \r\n",
      "yICKrKypg3Oop1 \u001b[01;31m\u001b[Kstart\u001b[m\u001b[K78iQon5 kg6HUmvkjmHK    It will print all the matching \r\n",
      "adBMmKkBFN9CYBPjYhpg1R \u001b[01;31m\u001b[Kstart\u001b[m\u001b[K q7q3W4H6nfT    lines to the screen.\r\n",
      " \u001b[01;31m\u001b[Kstart\u001b[m\u001b[KadRcqp9Ite16 3femPxdmlttrJuah8UCHW    \r\n",
      "vrWxUBVaBBIxCdAXnXEePDJFh \u001b[01;31m\u001b[Kstart\u001b[m\u001b[KExeFVrry     =================\r\n",
      "Sd6irzPBFb\u001b[01;31m\u001b[Kstart\u001b[m\u001b[K I1v7wwkgWiDbvA6k1X5kFkdn    Next Exercise\r\n",
      "z5PmRgfgjIWQ \u001b[01;31m\u001b[Kstart\u001b[m\u001b[K rSsJoHPNn gjpJVngaBYr    =================\r\n",
      "HxT6sxsQJqCMeEd0 \u001b[01;31m\u001b[Kstart\u001b[m\u001b[K xYLLBZw1wHHjjCzuZ    \r\n",
      "jxUBhwYec T7CknGFv6GyODtLaiF0fy \u001b[01;31m\u001b[Kstart\u001b[m\u001b[K J8    In the next exercise we will see \r\n",
      "MmxjaXtxYpFZp\u001b[01;31m\u001b[Kstart\u001b[m\u001b[K DPubhWcC3bLNDgNpo1uCT    how to access grep's documentation.\r\n",
      "SjhMS \u001b[01;31m\u001b[Kstart\u001b[m\u001b[KEb E0TscLg8V8Krx1RbJ735h3vFtl    \r\n",
      "Jl9hAihHOO8WNWXjCpAK7Wx1Yg\u001b[01;31m\u001b[Kstart\u001b[m\u001b[KNtx5Sf1qU    Grep the following word to continue:\r\n",
      "U35b6 \u001b[01;31m\u001b[Kstart\u001b[m\u001b[K Gh78P6OrMHfWmVuaIJNqyU rIwP4      _            _        \r\n",
      "vc4kxY \u001b[01;31m\u001b[Kstart\u001b[m\u001b[KXn0qxaz47ySPRgd6AA0RjLTRnlS8     | |          | |       \r\n",
      "jJ3cb3pRZRtNzrsiflMgWX3t5S9z \u001b[01;31m\u001b[Kstart\u001b[m\u001b[K 181fD     | |__    ___ | | _ __  \r\n",
      "hi37dCSsJf5kzc3utF5y0084B\u001b[01;31m\u001b[Kstart\u001b[m\u001b[Kc5Sr4bN eJ     | '_ \\  / _ \\| || '_ \\ \r\n",
      "aw8OYKLzn9 Z7w \u001b[01;31m\u001b[Kstart\u001b[m\u001b[K FLZZbEmuY9vnunboYEE     | | | ||  __/| || |_) |\r\n",
      "gV1Z \u001b[01;31m\u001b[Kstart\u001b[m\u001b[K UnNz3gc3f3rTA07BZ9aAjM7jfXKYm     |_| |_| \\___||_|| .__/ \r\n",
      "vGxgRXuJvInZkKB1h37 KP9ns\u001b[01;31m\u001b[Kstart\u001b[m\u001b[K f7CxKNlwm                     | |    \r\n",
      "3Cci\u001b[01;31m\u001b[Kstart\u001b[m\u001b[K vWeUD4kXyj4robDPEm7g9aS7vjogrI                     |_|  \r\n",
      "HT6h4clJp1pbZLVtVZIPTclZHw3PAKe7yp\u001b[01;31m\u001b[Kstart\u001b[m\u001b[K7    \r\n",
      "V3RHvkCubFj\u001b[01;31m\u001b[Kstart\u001b[m\u001b[KNFEp66CxQeaposwvggO b8XE    \r\n"
     ]
    }
   ],
   "source": [
    "grep start data/exercise1_grep.txt"
   ]
  },
  {
   "cell_type": "markdown",
   "metadata": {
    "slideshow": {
     "slide_type": "slide"
    }
   },
   "source": [
    "## Accessing grep documentation\n",
    "\n",
    "To access the documentation of a command, we can use the **man** command.\n",
    "\n",
    "Let's type the following:\n",
    "\n",
    "```\n",
    "$: man grep\n",
    "```\n",
    "\n",
    "This will allow to navigate the documentation for grep, in the same modality as with the **less** command. Use the arrows to scroll, and q to exit.\n",
    "\n",
    "For the next exercise, we will have to do a case-insensitive search for \"ignorecase\", and count the number of lines."
   ]
  },
  {
   "cell_type": "code",
   "execution_count": 52,
   "metadata": {
    "collapsed": false,
    "slideshow": {
     "slide_type": "subslide"
    }
   },
   "outputs": [
    {
     "name": "stdout",
     "output_type": "stream",
     "text": [
      "J \u001b[01;31m\u001b[Khelp\u001b[m\u001b[K aT8bLN6UFEM8QZqnnQnnrTby8Wpogfv8N    \r\n",
      "gr0i EF6cSPJBjUwzyi40HwPl8h\u001b[01;31m\u001b[Khelp\u001b[m\u001b[K FeYTfcEL    The documentation for grep can \r\n",
      "jyRxeOOomb\u001b[01;31m\u001b[Khelp\u001b[m\u001b[KrlLFwxfILGplvbfNJ8baAJwLQ9    be accessed through man:\r\n",
      "oQIRfq1GMsB\u001b[01;31m\u001b[Khelp\u001b[m\u001b[K coNU5ISWItyzgZEa 3giutmf    \r\n",
      "4boR1Ir9L\u001b[01;31m\u001b[Khelp\u001b[m\u001b[K bB3MLBN0ZLFW1k8pm3rgZ09Jcy        $: man grep\r\n",
      "KjlCuzmmVLefOadUVH \u001b[01;31m\u001b[Khelp\u001b[m\u001b[K SZJjek3PMCbivsDa    \r\n",
      "ORvn PahgWtkM9ETFhG \u001b[01;31m\u001b[Khelp\u001b[m\u001b[K hVFsHfBUM0EAydH    Scroll down to see all the \r\n",
      "tmehoMe6mXVbks9GCKHKyv81y \u001b[01;31m\u001b[Khelp\u001b[m\u001b[K LMMHSwuo7    parameters for grep and their description.\r\n",
      " xF3auoiaAmJ9NxpkGJVOhBPP3 \u001b[01;31m\u001b[Khelp\u001b[m\u001b[K PruFG5xC    \r\n",
      "qZnAeEGpt4if456tr1Uw4\u001b[01;31m\u001b[Khelp\u001b[m\u001b[KaZDRa7VOKtBhqfz    Use / to search for text.\r\n",
      "TJXM9TQXk\u001b[01;31m\u001b[Khelp\u001b[m\u001b[K GdafnlFWdDkrdNG8TuAnjugXom    Press the q key to exit.\r\n",
      "QE\u001b[01;31m\u001b[Khelp\u001b[m\u001b[K ZT5CtgZtrh7HMWcmlc06IhXbbLkbd85Fm    \r\n",
      "\u001b[01;31m\u001b[Khelp\u001b[m\u001b[K 81glp59Lgx7i3VNx5RRqhE9vZJRXG1AC3I7    \r\n",
      "dEMl8seZVo1HJhyKPRt KinMbWtZgGC\u001b[01;31m\u001b[Khelp\u001b[m\u001b[K UX4c    \r\n",
      "PJ37WZLjdd uMAkl8DbPwODUSwwv5idijZZ\u001b[01;31m\u001b[Khelp\u001b[m\u001b[K     ==============\r\n",
      "OGP5YquC uMkukGU\u001b[01;31m\u001b[Khelp\u001b[m\u001b[KKv6nED986fSoSeoYsKu6    Next exercise\r\n",
      "QFz18FSf8YjhwZfXbi \u001b[01;31m\u001b[Khelp\u001b[m\u001b[K hr5VAAB1nzHnPZgZ    ==============\r\n",
      " \u001b[01;31m\u001b[Khelp\u001b[m\u001b[K fpr9jUGZuDKdUXTXncqTVa y gEgBrCbd8    \r\n",
      "\u001b[01;31m\u001b[Khelp\u001b[m\u001b[K 4UcHlhXSRaBoH0AOZ0XdN8Sx1GDYJCEdGH6    For the next exercise, you will need to open \r\n",
      "ptL1DCOhpwhEI9AzJpDra9Sy0A V\u001b[01;31m\u001b[Khelp\u001b[m\u001b[K FMWRwZk    grep's documentation and identify two options:\r\n",
      "xrGYFFtHLrI4eAn M9vuGL\u001b[01;31m\u001b[Khelp\u001b[m\u001b[KbV 1gSJpYDhose    \r\n",
      "PuYDhHQ4k6mX6j4h E7z98dU5Y9adOGnzX\u001b[01;31m\u001b[Khelp\u001b[m\u001b[Khd    - the option for case-insensitive searches\r\n",
      " zxHHBN \u001b[01;31m\u001b[Khelp\u001b[m\u001b[K VDapAaIlOJh9HEAKYqdZSDuw1sx    - the option for counting \r\n",
      "FZgRetdHXTrQ9wN6ztj3PRribl\u001b[01;31m\u001b[Khelp\u001b[m\u001b[KhVcUlh7v6r      the number of matching lines, \r\n",
      "wsCTZ\u001b[01;31m\u001b[Khelp\u001b[m\u001b[KOtg9pQtXdoQ7q3NWCf7eQojz9EXWBIW      instead of printing them to the screen.\r\n",
      "3mdskbbmQsJUWvpBOaREyKHMUHobdQPglC\u001b[01;31m\u001b[Khelp\u001b[m\u001b[K w    \r\n",
      "fGi7iq r0FRHH5UzCU1AatiRac\u001b[01;31m\u001b[Khelp\u001b[m\u001b[K FFkyqij16    Once you have identified these options, \r\n",
      "1kRfW4snYOjYBUvOwtgHISP XrL\u001b[01;31m\u001b[Khelp\u001b[m\u001b[KP4syTykpl    do a case-insensitive search on this file for the word \r\n",
      "BvDBP6hm8alyeXyUB0KnLWv1L741 7 \u001b[01;31m\u001b[Khelp\u001b[m\u001b[K DCCr    \"ignorecase\", then count the number of lines.\r\n",
      "0TOmJXk\u001b[01;31m\u001b[Khelp\u001b[m\u001b[K 1f61AcW4XEQmg4uIVlxAzbG1ImDs    \r\n",
      "gXuOohXqi44S xkbhHxwnMKt9QUHehodHA\u001b[01;31m\u001b[Khelp\u001b[m\u001b[K n        \r\n"
     ]
    }
   ],
   "source": [
    "grep help data/exercise1_grep.txt"
   ]
  },
  {
   "cell_type": "code",
   "execution_count": 44,
   "metadata": {
    "collapsed": false,
    "slideshow": {
     "slide_type": "subslide"
    }
   },
   "outputs": [
    {
     "name": "stdout",
     "output_type": "stream",
     "text": [
      "21\r\n"
     ]
    }
   ],
   "source": [
    "grep -i -c ignorecase data/exercise1_grep.txt"
   ]
  },
  {
   "cell_type": "code",
   "execution_count": 45,
   "metadata": {
    "collapsed": false,
    "slideshow": {
     "slide_type": "fragment"
    }
   },
   "outputs": [
    {
     "name": "stdout",
     "output_type": "stream",
     "text": [
      "fdVZVetdxo7f7enutpFMCFEhbzrfcc\u001b[01;31m\u001b[Kignorecase\u001b[m\u001b[K    \r\n",
      "eE0DTuAUHgKiEqeP\u001b[01;31m\u001b[Kignorecase\u001b[m\u001b[KPagtMxe8zYe3VA            \r\n",
      "Ax\u001b[01;31m\u001b[Kignorecase\u001b[m\u001b[KQ6KYbR  bPfj6P5nyw7C5M9jCzeT    Remember that, to continue with the exercise, \r\n",
      "MsqfMR8vJeDsD\u001b[01;31m\u001b[Kignorecase\u001b[m\u001b[K6bneHOBIf0GMrPt F    you need to do a case-insensitive search for the word\r\n",
      "1r4q8a7helpuNfpESEnQRRhlXGny3SYQ87lrB1yj    \"\u001b[01;31m\u001b[Kignorecase\u001b[m\u001b[K\", then count the number of lines.\r\n",
      "KwM4BiHebzHtuke9nJmN0PKG8PAQG\u001b[01;31m\u001b[Kignorecase\u001b[m\u001b[Kz    \r\n",
      "mC3U18qLLkLT8Si\u001b[01;31m\u001b[KIgnorEcase\u001b[m\u001b[KvveBPhnFdhUaYot     _____________\r\n",
      "ukw7sy\u001b[01;31m\u001b[KIGNORECASE\u001b[m\u001b[K3bXaWyPWksG0X0oeNukWNCoJ    / Good Job!   \\ \r\n",
      "mcNiO oKFv6ZpG\u001b[01;31m\u001b[KIgnorEcase\u001b[m\u001b[KKoxYbuCMxq635e6o    | You did a   |\r\n",
      "W\u001b[01;31m\u001b[KIgnorEcase\u001b[m\u001b[Krm66yufxRI0zA 3uIOtBqvRUm dAt    | case-insens |\r\n",
      "rzK1Irr0PjveVmZ6\u001b[01;31m\u001b[Kignorecase\u001b[m\u001b[KHZbfxyDbVFv9oJ    | itive       |\r\n",
      "UpxqsFcDM4L99koi7iOGei\u001b[01;31m\u001b[Kignorecase\u001b[m\u001b[Kk7USrz5c    \\ search      /\r\n",
      "gj7X4h6v\u001b[01;31m\u001b[Kignorecase\u001b[m\u001b[Ko1YbTK77g4JyrATeFlFCF1     -------------\r\n",
      "hKZucO8U700zQ0Kil0\u001b[01;31m\u001b[KignOrecase\u001b[m\u001b[KMBDBzTihAPhX            \\   ^__^\r\n",
      "6v8QJNgUYt9rUIXlOxG0eOwJkPO\u001b[01;31m\u001b[KIgnorEcase\u001b[m\u001b[KCMo             \\  (oo)\\_______\r\n",
      "K1eLzMadB\u001b[01;31m\u001b[Kignorecase\u001b[m\u001b[KvWEdCNZxEDIqXBAV4UJXO                (__)\\       )\\/\\ \r\n",
      "kXNxrF5uyma6VRXzjkmjVXW\u001b[01;31m\u001b[KIgnorEcase\u001b[m\u001b[K6H8gUFK                    ||----w |\r\n",
      "XGfjs yx1mi4Y NE1s\u001b[01;31m\u001b[KIGNORECASE\u001b[m\u001b[KOJm9tz5pz7ha                    ||     ||\r\n",
      "wdyZ3ex1ccq0Q5ly9Wi5v\u001b[01;31m\u001b[KignOrecase\u001b[m\u001b[KLM6GHGtxS    \r\n",
      "\u001b[01;31m\u001b[Kignorecase\u001b[m\u001b[KJxQQRIHHZhid54vKptTRFW5jwwVYiG    \r\n",
      "PqxFESEW03 Gc7diqS9H8\u001b[01;31m\u001b[Kignorecase\u001b[m\u001b[KN44zglnSm        \r\n"
     ]
    }
   ],
   "source": [
    "grep -i ignorecase data/exercise1_grep.txt"
   ]
  },
  {
   "cell_type": "code",
   "execution_count": 61,
   "metadata": {
    "collapsed": false,
    "slideshow": {
     "slide_type": "fragment"
    }
   },
   "outputs": [
    {
     "name": "stdout",
     "output_type": "stream",
     "text": [
      "48Uz3CsSCpX\u001b[01;31m\u001b[K21\u001b[m\u001b[KHAh iztYgq17F07SJ1b4p eQMno    \r\n",
      "  zLHasN5s7wcDq5DYZNYtC8sXK5G7TmtUe34S\u001b[01;31m\u001b[K21\u001b[m\u001b[K    \r\n",
      "I375lToxmtRSiRx4gy\u001b[01;31m\u001b[K21\u001b[m\u001b[KJ7b9OB9ZchgpW4xNEF S    Searching in multiple files\r\n",
      "5OBdpsqCfw7iUJjZRXvHKVHO8QhkvFn8qIUg\u001b[01;31m\u001b[K21\u001b[m\u001b[KQq    \r\n",
      "R0bTfETeK5hzxyuncJLsizrlp8nlvQq5\u001b[01;31m\u001b[K21\u001b[m\u001b[KhjsOya    Grep can search the same pattern\r\n",
      "NzfHxZeQ8weWQFNBHbeFnfV9p\u001b[01;31m\u001b[K21\u001b[m\u001b[KmyUZhAXLvN lw    in more than one file at the same time.\r\n",
      "Vz rG3EhWrY5L7auqrEpjV83fZW\u001b[01;31m\u001b[K21\u001b[m\u001b[KANCM9tJY 9u    \r\n",
      "BA5ue9p6fySUCbGThRgdNa\u001b[01;31m\u001b[K21\u001b[m\u001b[Kewgactbhhk1lyLDl    The folder data/multiplefiles/ contains hundreds of different files.\r\n",
      "YVSkMlwDQuhFrQYVyk7myv\u001b[01;31m\u001b[K21\u001b[m\u001b[K QJKrVgF7ZnycahI    \r\n",
      "OXpZmQnFGTIBjFw6Gylchg8iyj4\u001b[01;31m\u001b[K21\u001b[m\u001b[KaCYZ49Cv 1l    Can you identify the file containing the word \"piping\"?\r\n",
      "rC6Ll3Gyr\u001b[01;31m\u001b[K21\u001b[m\u001b[KGuvxMnBeKTUJVXiYb0RFgl9OFwGur    \r\n",
      "hq1x4\u001b[01;31m\u001b[K21\u001b[m\u001b[KkrrNtQ6P9cjFmd7iv13u7fi9CpWbAyj B        \r\n"
     ]
    }
   ],
   "source": [
    "# solution\n",
    "grep 21 data/exercise1_grep.txt"
   ]
  },
  {
   "cell_type": "markdown",
   "metadata": {
    "slideshow": {
     "slide_type": "slide"
    }
   },
   "source": [
    "## Searching multiple files\n",
    "\n",
    "Grep is useful to search over multiple files in a single command.\n",
    "\n",
    "The folder data/multiplefiles/ contains 50 randomly generated files. You can see their contents with head data/multiplefiles/\\* or with less.\n",
    "\n",
    "One of these files contains the word \"regex\" in it. Are you able to find it?"
   ]
  },
  {
   "cell_type": "code",
   "execution_count": 60,
   "metadata": {
    "collapsed": false,
    "slideshow": {
     "slide_type": "subslide"
    }
   },
   "outputs": [
    {
     "name": "stdout",
     "output_type": "stream",
     "text": [
      "\u001b[35m\u001b[Kdata/multiplefiles/file32.txt\u001b[m\u001b[K\u001b[36m\u001b[K:\u001b[m\u001b[K5gsumFTKbKEJv9dD8W94FhoEQU8qf8RMUc\u001b[01;31m\u001b[Kregex\u001b[m\u001b[KR    \r\n",
      "\u001b[35m\u001b[Kdata/multiplefiles/file32.txt\u001b[m\u001b[K\u001b[36m\u001b[K:\u001b[m\u001b[KYgDiqkA C1o\u001b[01;31m\u001b[Kregex\u001b[m\u001b[K9giqI66c3sOwfLirOsgPpSuq    \r\n",
      "\u001b[35m\u001b[Kdata/multiplefiles/file32.txt\u001b[m\u001b[K\u001b[36m\u001b[K:\u001b[m\u001b[KIsXSnp 8U8pKR0LsVuK\u001b[01;31m\u001b[Kregex\u001b[m\u001b[KO5GFegOtV4GW4fNQ    Good! You've found the \r\n",
      "\u001b[35m\u001b[Kdata/multiplefiles/file32.txt\u001b[m\u001b[K\u001b[36m\u001b[K:\u001b[m\u001b[Kl 4px8KhPRmfEJgi5uTuVO1XahG3H1sY\u001b[01;31m\u001b[Kregex\u001b[m\u001b[K4wt    file containing the word \"\u001b[01;31m\u001b[Kregex\u001b[m\u001b[K\"\r\n",
      "\u001b[35m\u001b[Kdata/multiplefiles/file32.txt\u001b[m\u001b[K\u001b[36m\u001b[K:\u001b[m\u001b[Kyz8P5 HC6N5D XRHPncZjTAeM\u001b[01;31m\u001b[Kregex\u001b[m\u001b[KT9bQUoZdsh    \r\n",
      "\u001b[35m\u001b[Kdata/multiplefiles/file32.txt\u001b[m\u001b[K\u001b[36m\u001b[K:\u001b[m\u001b[KeWUd18s0MVx5YYrEK KCKeF5hvO\u001b[01;31m\u001b[Kregex\u001b[m\u001b[KIiZbIGUX    To continue, \r\n",
      "\u001b[35m\u001b[Kdata/multiplefiles/file32.txt\u001b[m\u001b[K\u001b[36m\u001b[K:\u001b[m\u001b[KMLXiKZJ8KyHMou9lYsz4ZjFYJSfB 14t\u001b[01;31m\u001b[Kregex\u001b[m\u001b[KtpJ    grep file32.txt data/exercise1_grep.txt\r\n",
      "\u001b[35m\u001b[Kdata/multiplefiles/file32.txt\u001b[m\u001b[K\u001b[36m\u001b[K:\u001b[m\u001b[KveFQU\u001b[01;31m\u001b[Kregex\u001b[m\u001b[KfnQxwQw6POJRNvvAeYwToX6ptvN39m    \r\n",
      "\u001b[35m\u001b[Kdata/multiplefiles/file32.txt\u001b[m\u001b[K\u001b[36m\u001b[K:\u001b[m\u001b[KcHoNv\u001b[01;31m\u001b[Kregex\u001b[m\u001b[KiGjHkmptPVTjOzvWVGbrGoHoywV4Vy    \r\n"
     ]
    }
   ],
   "source": [
    "# solution\n",
    "grep 'regex' data/multiplefiles/*"
   ]
  },
  {
   "cell_type": "markdown",
   "metadata": {
    "slideshow": {
     "slide_type": "slide"
    }
   },
   "source": [
    "## Searching multiple patterns and the Unix piping system\n",
    "\n",
    "How can we search that contain two or more patterns?\n",
    "\n",
    "One solution is to use the Unix piping system, executing one grep command, and then another grep on the output.\n",
    "\n",
    "This can be done using the pipe \"|\" symbol, like the following:\n",
    "\n",
    "```\n",
    "$: grep (first pattern) myfile.txt | grep (second pattern)\n",
    "```\n",
    "\n",
    "Scroll down for some example."
   ]
  },
  {
   "cell_type": "markdown",
   "metadata": {
    "slideshow": {
     "slide_type": "subslide"
    }
   },
   "source": [
    "The file data/genes/mgat_genes.gb is a genbank file. Notice how this format is well suited for grep searches:"
   ]
  },
  {
   "cell_type": "code",
   "execution_count": 58,
   "metadata": {
    "collapsed": false
   },
   "outputs": [
    {
     "name": "stdout",
     "output_type": "stream",
     "text": [
      "LOCUS       HUMUDPCNA               4705 bp    DNA     linear   PRI 19-SEP-1995\r\n",
      "DEFINITION  Human alpha-1,3-mannosyl-glycoprotein beta-1,\r\n",
      "            2-N-acetylglucosaminyltransferase (MGAT) gene, complete cds.\r\n",
      "ACCESSION   M61829\r\n",
      "VERSION     M61829.1  GI:340075\r\n",
      "KEYWORDS    alpha-1,3-mannosyl-glycoprotein beta-1,2-N-acetylglucosaminyltrae.\r\n",
      "SOURCE      Homo sapiens (human)\r\n",
      "  ORGANISM  Homo sapiens\r\n",
      "            Eukaryota; Metazoa; Chordata; Craniata; Vertebrata; Euteleostomi;\r\n",
      "            Mammalia; Eutheria; Euarchontoglires; Primates; Haplorrhini;\r\n"
     ]
    }
   ],
   "source": [
    "head data/genes/mgat_genes.gb"
   ]
  },
  {
   "cell_type": "markdown",
   "metadata": {
    "slideshow": {
     "slide_type": "fragment"
    }
   },
   "source": [
    "Let's say we want to search all the lines where \"ORGANISM\" is \"Homo sapiens\". \n",
    "\n",
    "We can do it with two grep commands:\n",
    "\n",
    "```\n",
    "grep ORGANISM data/genes/mgat_genes_vertebrates.gb | grep 'Homo sapiens'\n",
    "```\n",
    "Notice that searching for \"Homo sapiens\" alone would not be enough, as there are other lines where the word \"Homo sapiens\" is present.\n",
    "\n",
    "The file contains sequences from two other organisms apart from Homo sapiens. Can you guess which one to search for the next exercise?\n"
   ]
  },
  {
   "cell_type": "code",
   "execution_count": 66,
   "metadata": {
    "collapsed": false
   },
   "outputs": [
    {
     "name": "stdout",
     "output_type": "stream",
     "text": [
      "  ORGANISM  Bos \u001b[01;31m\u001b[Ktaurus\u001b[m\u001b[K\r\n",
      "  ORGANISM  Bos \u001b[01;31m\u001b[Ktaurus\u001b[m\u001b[K\r\n",
      "  ORGANISM  Bos \u001b[01;31m\u001b[Ktaurus\u001b[m\u001b[K\r\n",
      "  ORGANISM  Bos \u001b[01;31m\u001b[Ktaurus\u001b[m\u001b[K\t\t\t   _______________\r\n",
      "  ORGANISM  Bos \u001b[01;31m\u001b[Ktaurus\u001b[m\u001b[K\t\t          < Well guessed! >\r\n",
      "  ORGANISM  Bos \u001b[01;31m\u001b[Ktaurus\u001b[m\u001b[K\t\t\t   ---------------\r\n",
      "  ORGANISM  Bos \u001b[01;31m\u001b[Ktaurus\u001b[m\u001b[K\t\t\t\t\t\\   ^__^\r\n",
      "  ORGANISM  Bos \u001b[01;31m\u001b[Ktaurus\u001b[m\u001b[K\t\t\t\t\t \\  (oo)\\_______\r\n",
      "  ORGANISM  Bos \u001b[01;31m\u001b[Ktaurus\u001b[m\u001b[K\t\t\t  \t\t    (__)\\       )\\/\\\r\n",
      "  ORGANISM  Bos \u001b[01;31m\u001b[Ktaurus\u001b[m\u001b[K\t\t\t\t\t\t||----w |\r\n",
      "  ORGANISM  Bos \u001b[01;31m\u001b[Ktaurus\u001b[m\u001b[K\t\t\t\t\t\t||     ||\r\n",
      "  ORGANISM  Bos \u001b[01;31m\u001b[Ktaurus\u001b[m\u001b[K\r\n",
      "  ORGANISM  Bos \u001b[01;31m\u001b[Ktaurus\u001b[m\u001b[K\r\n",
      "  ORGANISM  Bos \u001b[01;31m\u001b[Ktaurus\u001b[m\u001b[K\r\n",
      "  ORGANISM  Bos \u001b[01;31m\u001b[Ktaurus\u001b[m\u001b[K\r\n",
      "  ORGANISM  Bos \u001b[01;31m\u001b[Ktaurus\u001b[m\u001b[K\r\n",
      "  ORGANISM  Bos \u001b[01;31m\u001b[Ktaurus\u001b[m\u001b[K\t\t\t\t===============\r\n",
      "  ORGANISM  Bos \u001b[01;31m\u001b[Ktaurus\u001b[m\u001b[K\t\t\t\tNext Exercise\r\n",
      "  ORGANISM  Bos \u001b[01;31m\u001b[Ktaurus\u001b[m\u001b[K\t\t\t\t===============\r\n",
      "  ORGANISM  Bos \u001b[01;31m\u001b[Ktaurus\u001b[m\u001b[K\r\n",
      "  ORGANISM  Bos \u001b[01;31m\u001b[Ktaurus\u001b[m\u001b[K\t\t\t\tTo continue, grep\r\n",
      "  ORGANISM  Bos \u001b[01;31m\u001b[Ktaurus\u001b[m\u001b[K\t\t\t\t\"regex\" in\r\n",
      "  ORGANISM  Bos \u001b[01;31m\u001b[Ktaurus\u001b[m\u001b[K\t\t\t\tdata/exercise1_grep.txt\r\n",
      "  ORGANISM  Bos \u001b[01;31m\u001b[Ktaurus\u001b[m\u001b[K\r\n"
     ]
    }
   ],
   "source": [
    "# Number of sequences from Homo sapiens:\n",
    "grep ORGANISM data/genes/mgat_genes.gb | grep taurus"
   ]
  },
  {
   "cell_type": "markdown",
   "metadata": {
    "slideshow": {
     "slide_type": "slide"
    }
   },
   "source": [
    "## Regular Expressions"
   ]
  },
  {
   "cell_type": "markdown",
   "metadata": {},
   "source": [
    "# Working with tabular files: Awk"
   ]
  }
 ],
 "metadata": {
  "celltoolbar": "Slideshow",
  "kernelspec": {
   "display_name": "Bash",
   "language": "bash",
   "name": "bash"
  },
  "language_info": {
   "codemirror_mode": "shell",
   "file_extension": ".sh",
   "mimetype": "text/x-sh",
   "name": "bash"
  },
  "nav_menu": {},
  "toc": {
   "navigate_menu": true,
   "number_sections": true,
   "sideBar": true,
   "threshold": 6,
   "toc_cell": true,
   "toc_section_display": "block",
   "toc_window_display": false
  }
 },
 "nbformat": 4,
 "nbformat_minor": 1
}
