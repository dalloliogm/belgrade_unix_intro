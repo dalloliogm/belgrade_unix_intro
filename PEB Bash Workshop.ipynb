{
 "cells": [
  {
   "cell_type": "markdown",
   "metadata": {
    "toc": "true"
   },
   "source": [
    "# Table of Contents\n",
    " <p><div class=\"lev1 toc-item\"><a href=\"#PEB-Belgrade---Bash-workshop\" data-toc-modified-id=\"PEB-Belgrade---Bash-workshop-1\"><span class=\"toc-item-num\">1&nbsp;&nbsp;</span>PEB Belgrade - Bash workshop</a></div><div class=\"lev1 toc-item\"><a href=\"#How-to-follow-this-workshop\" data-toc-modified-id=\"How-to-follow-this-workshop-2\"><span class=\"toc-item-num\">2&nbsp;&nbsp;</span>How to follow this workshop</a></div><div class=\"lev2 toc-item\"><a href=\"#Getting-a-Terminal-application\" data-toc-modified-id=\"Getting-a-Terminal-application-2.1\"><span class=\"toc-item-num\">2.1&nbsp;&nbsp;</span>Getting a Terminal application</a></div><div class=\"lev3 toc-item\"><a href=\"#Windows\" data-toc-modified-id=\"Windows-2.1.1\"><span class=\"toc-item-num\">2.1.1&nbsp;&nbsp;</span>Windows</a></div><div class=\"lev3 toc-item\"><a href=\"#Mac\" data-toc-modified-id=\"Mac-2.1.2\"><span class=\"toc-item-num\">2.1.2&nbsp;&nbsp;</span>Mac</a></div><div class=\"lev3 toc-item\"><a href=\"#Linux\" data-toc-modified-id=\"Linux-2.1.3\"><span class=\"toc-item-num\">2.1.3&nbsp;&nbsp;</span>Linux</a></div><div class=\"lev2 toc-item\"><a href=\"#Getting-the-workshop-materials\" data-toc-modified-id=\"Getting-the-workshop-materials-2.2\"><span class=\"toc-item-num\">2.2&nbsp;&nbsp;</span>Getting the workshop materials</a></div><div class=\"lev1 toc-item\"><a href=\"#Basic-Unix-Commands:-ls,-cd\" data-toc-modified-id=\"Basic-Unix-Commands:-ls,-cd-3\"><span class=\"toc-item-num\">3&nbsp;&nbsp;</span>Basic Unix Commands: ls, cd</a></div><div class=\"lev1 toc-item\"><a href=\"#Accessing-the-contents-of-a-file:-head,-cat,-less\" data-toc-modified-id=\"Accessing-the-contents-of-a-file:-head,-cat,-less-4\"><span class=\"toc-item-num\">4&nbsp;&nbsp;</span>Accessing the contents of a file: head, cat, less</a></div><div class=\"lev1 toc-item\"><a href=\"#Searching-patterns-into-file:-grep\" data-toc-modified-id=\"Searching-patterns-into-file:-grep-5\"><span class=\"toc-item-num\">5&nbsp;&nbsp;</span>Searching patterns into file: grep</a></div><div class=\"lev2 toc-item\"><a href=\"#Accessing-grep-documentation\" data-toc-modified-id=\"Accessing-grep-documentation-5.1\"><span class=\"toc-item-num\">5.1&nbsp;&nbsp;</span>Accessing grep documentation</a></div><div class=\"lev2 toc-item\"><a href=\"#Regular-Expressions\" data-toc-modified-id=\"Regular-Expressions-5.2\"><span class=\"toc-item-num\">5.2&nbsp;&nbsp;</span>Regular Expressions</a></div>"
   ]
  },
  {
   "cell_type": "code",
   "execution_count": null,
   "metadata": {
    "collapsed": true
   },
   "outputs": [],
   "source": []
  },
  {
   "cell_type": "markdown",
   "metadata": {
    "slideshow": {
     "slide_type": "slide"
    }
   },
   "source": [
    "# PEB Belgrade - Bash workshop\n",
    "\n",
    "Giovanni M. Dall'Olio, GSK, 12/09/2016. http://bioinfoblog.it\n",
    "\n",
    "```\n",
    " _______________\n",
    " / Welcome to    \\\n",
    " \\ PEB Belgrade! /\n",
    "  ---------------\n",
    "         \\   ^__^\n",
    "          \\  (oo)\\_______\n",
    "             (__)\\       )\\/\\\n",
    "                 ||----w |\n",
    "                 ||     ||\n",
    "```\n",
    "\n",
    "Welcome to Belgrade!\n",
    "\n",
    "In this workshop we will review some basic Unix command, as well as bash usage.\n",
    "\n",
    "If you attended the [Programming for Evolutionary Biology course in Leipzig](http://evop.bioinf.uni-leipzig.de/), this will be a refreshener. I've hidden some **secrets** in the exercises, so you will not get bored :-)\n",
    "\n",
    "If you are new to bash, this will be a short introduction."
   ]
  },
  {
   "cell_type": "code",
   "execution_count": 26,
   "metadata": {
    "collapsed": false,
    "slideshow": {
     "slide_type": "skip"
    }
   },
   "outputs": [
    {
     "name": "stdout",
     "output_type": "stream",
     "text": []
    }
   ],
   "source": [
    "# Configuration - this will not appear in the slideshow\n",
    "alias grep='grep --color'"
   ]
  },
  {
   "cell_type": "markdown",
   "metadata": {
    "slideshow": {
     "slide_type": "slide"
    }
   },
   "source": [
    "# How to follow this workshop\n",
    "\n",
    "\n",
    "## Getting a Terminal application\n",
    "\n",
    "All the exercises will be done in a Terminal. \n",
    "\n",
    "Thus, we will have to install a terminal emulator software in your computer.\n",
    "\n",
    "During the conference we may have also time for a \"Linux Install Party\", to get Linux into some of your laptops.\n",
    "\n",
    "Scroll down to see what to install or launch."
   ]
  },
  {
   "cell_type": "markdown",
   "metadata": {
    "slideshow": {
     "slide_type": "subslide"
    }
   },
   "source": [
    "### Windows\n",
    "\n",
    "For Windows users, we will use a terminal emulator software called MobaXTerm: http://mobaxterm.mobatek.net/\n",
    "\n",
    "The Home Edition is free and contains all the features we will need for the workshop:\n",
    "\n",
    "<a href=\"http://mobaxterm.mobatek.net/\" target=\"_blank\"><img src=\"http://mobaxterm.mobatek.net/img/moba/features/feature-terminal.png\" width=\"400\"></a>"
   ]
  },
  {
   "cell_type": "markdown",
   "metadata": {
    "slideshow": {
     "slide_type": "subslide"
    }
   },
   "source": [
    "### Mac\n",
    "\n",
    "You should be able to use the Console App in Mac.\n",
    "\n",
    "<img src=\"http://blog.teamtreehouse.com/wp-content/uploads/2012/09/Screen-Shot-2012-09-25-at-1.01.45-PM.png\" width=\"400\">"
   ]
  },
  {
   "cell_type": "markdown",
   "metadata": {
    "slideshow": {
     "slide_type": "subslide"
    }
   },
   "source": [
    "### Linux\n",
    "\n",
    "Congratulations on having Linux installed! You can use your favorite terminal app (e.g. gnome-terminal or konsole)\n",
    "\n",
    "<img src=\"https://camo.githubusercontent.com/358e5e2206148280d127128499ad92e8621e5517/68747470733a2f2f7261772e6769746875622e636f6d2f63656d6d616e6f75696c696469732f6d6f6e6f6b61692d676e6f6d652d7465726d696e616c2f6d61737465722f73637265656e73686f742d30312e706e67\" width=\"400\">\n"
   ]
  },
  {
   "cell_type": "markdown",
   "metadata": {
    "slideshow": {
     "slide_type": "slide"
    }
   },
   "source": [
    "## Getting the workshop materials\n",
    "\n",
    "Now that we have a terminal application ready, let's download all the course materials.\n",
    "\n",
    "Open the terminal, and type the following commands (only the lines starting with \"$:\"):\n",
    "\n",
    "```\n",
    "$: wget  https://github.com/dalloliogm/belgrade_unix_intro/archive/master.zip\n",
    "\n",
    "$: unzip master.zip\n",
    "\n",
    "\n",
    "```\n",
    "\n",
    "\n",
    "Explanation:\n",
    "\n",
    " - the **wget** command downloads a .zip file containing all the materials\n",
    " - the **unzip** command uncompresses the .zip file, creating a new folder in your home area.\n",
    " \n",
    " \n",
    "This will contain all the data necessary to follow the exercises, as well as this tutorial and the others. "
   ]
  },
  {
   "cell_type": "markdown",
   "metadata": {
    "slideshow": {
     "slide_type": "subslide"
    }
   },
   "source": [
    "\\# Expected output\n",
    "\n",
    "```\n",
    "$: wget  https://github.com/dalloliogm/belgrade_unix_intro/archive/master.zip\n",
    "\n",
    "--2016-08-26 09:55:53--  https://github.com/dalloliogm/belgrade_unix_intro/archive/master.zip\n",
    "Resolving github.com... 192.30.253.113\n",
    "Connecting to github.com|192.30.253.113|:443... connected.\n",
    "HTTP request sent, awaiting response... 302 Found\n",
    "Location: https://codeload.github.com/dalloliogm/belgrade_unix_intro/zip/master [following]\n",
    "--2016-08-26 09:55:54--  https://codeload.github.com/dalloliogm/belgrade_unix_intro/zip/master\n",
    "Resolving codeload.github.com... 192.30.253.120\n",
    "Connecting to codeload.github.com|192.30.253.120|:443... connected.\n",
    "HTTP request sent, awaiting response... 200 OK\n",
    "Length: 129112 (126K) [application/zip]\n",
    "Saving to: `master.zip.1'\n",
    "\n",
    "100%[========================================================================================================================================================================>] 129,112      617K/s   in 0.2s\n",
    "\n",
    "2016-08-26 09:55:54 (617 KB/s) - `master.zip' saved [129112/129112]\n",
    "$: unzip master.zip\n",
    "\n",
    "Archive:  master.zip\n",
    "   creating: belgrade_unix_intro-master/\n",
    "  inflating: belgrade_unix_intro-master/PEB Bash Workshop.ipynb\n",
    "  inflating: belgrade_unix_intro-master/README.md\n",
    "   creating: belgrade_unix_intro-master/data/\n",
    "   creating: belgrade_unix_intro-master/data/part1_grep/\n",
    "  inflating: belgrade_unix_intro-master/data/part1_grep/file1.txt\n",
    "  inflating: belgrade_unix_intro-master/data/part1_grep/file2.txt\n",
    "   creating: belgrade_unix_intro-master/src/\n",
    "   creating: belgrade_unix_intro-master/src/data/\n",
    "  inflating: belgrade_unix_intro-master/src/data/README.rst\n",
    "  inflating: belgrade_unix_intro-master/src/generate_grep_exercise.py\n",
    "  ```"
   ]
  },
  {
   "cell_type": "markdown",
   "metadata": {
    "slideshow": {
     "slide_type": "slide"
    }
   },
   "source": [
    "# Basic Unix Commands: ls, cd\n",
    "\n",
    "Let's have a look at the files we just downloaded.\n",
    "\n",
    "We will use two basic Unix commands:\n",
    "\n",
    " - **ls** list the number of files in the current directory\n",
    " - **cd** allows to move to a different directory.\n",
    " \n",
    " \n",
    "Typing **ls** will show all the files in the current directory. Among these you should see a folder called **belgrade_unix_intro-master**, created by the wget and unzip commands. \n",
    " \n",
    "Let's move to this new directory, and list the files in it:\n",
    " \n",
    "```\n",
    "$: cd belgrade_unix_intro-master/\n",
    "$: ls\n",
    "```\n",
    "\n",
    "This will show a list of files, including a file called **start_here.txt**, a README, a few folders (data/, src/), and some other files."
   ]
  },
  {
   "cell_type": "code",
   "execution_count": 27,
   "metadata": {
    "collapsed": false,
    "slideshow": {
     "slide_type": "subslide"
    }
   },
   "outputs": [
    {
     "name": "stdout",
     "output_type": "stream",
     "text": [
      "total 80\r\n",
      "drwxr-x---. 2 gmd78366 gsk_rd  4096 Aug 27 11:50 \u001b[0m\u001b[01;34mdata\u001b[0m\r\n",
      "-rw-r-----. 1 gmd78366 gsk_rd   454 Aug 27 10:53 Makefile\r\n",
      "-rw-r-----. 1 gmd78366 gsk_rd 28407 Aug 27 14:18 PEB Bash Workshop.ipynb\r\n",
      "-rw-r-----. 1 gmd78366 gsk_rd 21335 Aug 27 11:06 PEB Bash Workshop.nbconvert.ipynb\r\n",
      "-rw-r-----. 1 gmd78366 gsk_rd   260 Aug 26 14:47 README.md\r\n",
      "drwxr-x---. 4 gmd78366 gsk_rd  4096 Aug 27 14:05 \u001b[01;34msrc\u001b[0m\r\n",
      "-rw-r-----. 1 gmd78366 gsk_rd  1877 Aug 25 18:06 start_here.txt\r\n"
     ]
    }
   ],
   "source": [
    "# Contents of the PEB workshop directory\n",
    "ls -l"
   ]
  },
  {
   "cell_type": "markdown",
   "metadata": {
    "slideshow": {
     "slide_type": "slide"
    }
   },
   "source": [
    "# Accessing the contents of a file: head, cat, less\n",
    "\n",
    "The new folder contains a file named start_here.txt, containing the first instructions for the workshop.\n",
    "\n",
    "To access the contents of a file, we can use several Unix commands:\n",
    "\n",
    "| command       | description                                   | example             |\n",
    "| :------------:|:-------------------------------------         |:------------------- |\n",
    "| **head**      | print the first lines of the file             | head start_here.txt |\n",
    "| **tail**      | print the last lines of the file              | tail start_here.txt |\n",
    "| **cat**       | print the contents of the file to the screen  | cat start_here.txt  |\n",
    "| **less**      | allows to navigate contents of the file       | less start_here.txt |"
   ]
  },
  {
   "cell_type": "markdown",
   "metadata": {},
   "source": [
    "For the first exercise, type \"head start_here.txt\" and follow the instructions:\n"
   ]
  },
  {
   "cell_type": "code",
   "execution_count": 28,
   "metadata": {
    "collapsed": false
   },
   "outputs": [
    {
     "name": "stdout",
     "output_type": "stream",
     "text": [
      " _________________________________________________\r\n",
      "/ To navigate the contents of this file, type:     \\\r\n",
      "|                                                  |\r\n",
      "|        less start_here.txt                       |\r\n",
      "\\                                                  /\r\n",
      " --------------------------------------------------\r\n",
      "        \\   ^__^\r\n",
      "         \\  (oo)\\_______\r\n",
      "            (__)\\       )\\/\\\r\n",
      "                ||----w |\r\n"
     ]
    }
   ],
   "source": [
    "head start_here.txt"
   ]
  },
  {
   "cell_type": "markdown",
   "metadata": {
    "slideshow": {
     "slide_type": "slide"
    }
   },
   "source": [
    "# Searching patterns into file: grep\n",
    "\n",
    "The instructions for the next exercises are stored in the **data/exercise1_grep.txt** file. \n",
    "\n",
    "However, if you look at this file with head or less, you will see that its contents have no meaning!"
   ]
  },
  {
   "cell_type": "code",
   "execution_count": 29,
   "metadata": {
    "collapsed": false,
    "slideshow": {
     "slide_type": "-"
    }
   },
   "outputs": [
    {
     "name": "stdout",
     "output_type": "stream",
     "text": [
      "3n21c1fGoIxgN0O9OLvKcKwXkct9NAOYQ3Pbomji    \r\n",
      "Eqd4yE3yexOx7AHx6XEuimiBzunPm8GZoOMTIyHB    IcCB1BZeVqQcUeW5g MhD03WR DAj5syq3z\r\n",
      "ZFXICMKzstart UCaSN16BGqSd410Als  AB0yXI    \r\n",
      "M07IYcNb0iIpcqoUoJPPKQysTVTRSvGcvnstart      ______________________________\r\n",
      "R8J40jLeLpyouK4Rp80N3Hmx GfcI1c0start km    / Congrats!                    \\ \r\n",
      "ltkuS4fkIlGLxHeyignorecaseQiNUPbfH4ULN7b    \r\n",
      "7SlkCT0TNb4yyKHIwUseC68qF start epuImbdv    |  You've used grep correctly, |\r\n",
      "tfjBfW startyhxDEpeOEAiU5vcEIraPs6BkAO8d    \\  and found a cow.            /\r\n",
      "0nXSrd4T7ye6bujuBQpe AbaU5IMOHG8yEUmQ7Hn    x 5I8fJXsu3IgSBbREeu6OIIbnjWEWIXsUm\r\n",
      "dffGGp6k jignorecaseNuU4O037rTZXmxNKbSfz            \r\n"
     ]
    }
   ],
   "source": [
    "head data/exercise1_grep.txt"
   ]
  },
  {
   "cell_type": "markdown",
   "metadata": {
    "slideshow": {
     "slide_type": "-"
    }
   },
   "source": [
    "This is because I've hidden all the instructions in the file, just to make things more interesting!\n",
    "\n",
    "Scroll down to see how to continue."
   ]
  },
  {
   "cell_type": "markdown",
   "metadata": {
    "slideshow": {
     "slide_type": "subslide"
    }
   },
   "source": [
    "More precisely, I've hidden the first exercises in all the lines containing the word \"start\" somewhere.\n",
    "\n",
    "To find all the lines containing the word \"start\" in the exercise file, type:\n",
    "\n",
    "```\n",
    "$: grep start data/exercise1_grep\n",
    "```"
   ]
  },
  {
   "cell_type": "code",
   "execution_count": 30,
   "metadata": {
    "collapsed": false,
    "slideshow": {
     "slide_type": "fragment"
    }
   },
   "outputs": [
    {
     "name": "stdout",
     "output_type": "stream",
     "text": [
      "ZFXICMKz\u001b[01;31m\u001b[Kstart\u001b[m\u001b[K UCaSN16BGqSd410Als  AB0yXI    \r\n",
      "M07IYcNb0iIpcqoUoJPPKQysTVTRSvGcvn\u001b[01;31m\u001b[Kstart\u001b[m\u001b[K      ______________________________\r\n",
      "R8J40jLeLpyouK4Rp80N3Hmx GfcI1c0\u001b[01;31m\u001b[Kstart\u001b[m\u001b[K km    / Congrats!                    \\ \r\n",
      "7SlkCT0TNb4yyKHIwUseC68qF \u001b[01;31m\u001b[Kstart\u001b[m\u001b[K epuImbdv    |  You've used grep correctly, |\r\n",
      "tfjBfW \u001b[01;31m\u001b[Kstart\u001b[m\u001b[KyhxDEpeOEAiU5vcEIraPs6BkAO8d    \\  and found a cow.            /\r\n",
      "xN0uer0eXasQMxiUTuULFSYdJs8hcMcp\u001b[01;31m\u001b[Kstart\u001b[m\u001b[K 7J     ------------------------------\r\n",
      "u \u001b[01;31m\u001b[Kstart\u001b[m\u001b[KbECqCeYgewX0gfCISq8WfFRZYSrgvfvqS            \\   ^__^\r\n",
      "W3QxEhvVse1xeJOKibXpc18QVio9I \u001b[01;31m\u001b[Kstart\u001b[m\u001b[K VZbq             \\  (oo)\\_______\r\n",
      "jiRlkXZgLmAC6rPM \u001b[01;31m\u001b[Kstart\u001b[m\u001b[K K8M9zoyYrhXQKiSlq                (__)\\       )\\/\\ \r\n",
      "bvWzpcM7 M6Ip6x\u001b[01;31m\u001b[Kstart\u001b[m\u001b[K n7EUUn0DQwX6oIn 5dK                    ||----w |\r\n",
      "Ss9XH9tiO5UVdMKdgGXGHJ8IpePR9\u001b[01;31m\u001b[Kstart\u001b[m\u001b[KGF6Kme                    ||     ||\r\n",
      "JDZ4RyYKxjvtMIxPqXiWDdOB98M \u001b[01;31m\u001b[Kstart\u001b[m\u001b[KImVueJr    \r\n",
      "Rqg97xopzcQd1Bk0R4FljsYYvD9fdF \u001b[01;31m\u001b[Kstart\u001b[m\u001b[KuR7c    \r\n",
      "Ul \u001b[01;31m\u001b[Kstart\u001b[m\u001b[Kg99DF93XSDjGlkLvJe3QWWV8 IDorXHT    \r\n",
      "T5VOJUIaLUqjmwfDb \u001b[01;31m\u001b[Kstart\u001b[m\u001b[K DrE5cahWUOoKBQxs    The command grep allows to search\r\n",
      "Ur5qnYZI B7dXyCq7EXbjPmdYhuy\u001b[01;31m\u001b[Kstart\u001b[m\u001b[K nJt0Id    for a pattern in a text file.\r\n",
      "Y3yI7\u001b[01;31m\u001b[Kstart\u001b[m\u001b[K 03K4ISXjCSylroL61ZpmWRFscB3bj    \r\n",
      "BOZ8BmVrIiOlgTuB 1e3\u001b[01;31m\u001b[Kstart\u001b[m\u001b[K WS7snE5hrbm5iw    It will print all the matching \r\n",
      "axHNR6dpCNTAPXEpXrK7bq\u001b[01;31m\u001b[Kstart\u001b[m\u001b[K K6vpw9oZJWTb    lines to the screen.\r\n",
      " AW4LO3JY04wnlf3 \u001b[01;31m\u001b[Kstart\u001b[m\u001b[K hfoZ0 pileponQT7a    \r\n",
      " EmbJBpSPHLS3zkGO1\u001b[01;31m\u001b[Kstart\u001b[m\u001b[KUz4VaSyU6st Pmbt0    =================\r\n",
      "oPwlDf4wNVbtJaWejurJpbAnFs7M \u001b[01;31m\u001b[Kstart\u001b[m\u001b[KnfZSFv    Next Exercise\r\n",
      "8TLL1gnRWa0c\u001b[01;31m\u001b[Kstart\u001b[m\u001b[K suyegHftavp5JaVojdFyrL    =================\r\n",
      "6uoSFvBsUodLRSGN3QFxhF0lbtfIQd4p\u001b[01;31m\u001b[Kstart\u001b[m\u001b[KXiw    \r\n",
      "GU \u001b[01;31m\u001b[Kstart\u001b[m\u001b[KtBYz3ZHzy8NpvNE1zk44LTvrK f8901V    In the next exercise we will see \r\n",
      "qeY9UsV9jh1EnHUkd5uk \u001b[01;31m\u001b[Kstart\u001b[m\u001b[KhUIHRScXwYKo8i    how to access grep's documentation.\r\n",
      "EHpLyUOsSAzuJ9ua1ufkD4doDSu\u001b[01;31m\u001b[Kstart\u001b[m\u001b[K Bg5Pvgf    \r\n",
      "LJixmBCDh84 \u001b[01;31m\u001b[Kstart\u001b[m\u001b[K iIAVZJzha3RzxqbXGZI69B    Grep the following word to continue:\r\n",
      "aovmrBFwAMuBClJIsXY1E8PVWWb\u001b[01;31m\u001b[Kstart\u001b[m\u001b[KUqB9t9cF      _            _        \r\n",
      "u8glCRy5XpHclpg4tLyki50cHbtqM7 \u001b[01;31m\u001b[Kstart\u001b[m\u001b[KVyLY     | |          | |       \r\n",
      "mU16rU74u\u001b[01;31m\u001b[Kstart\u001b[m\u001b[K SV7YjbNJDDAe5FJyK6LDHxHEl     | |__    ___ | | _ __  \r\n",
      " \u001b[01;31m\u001b[Kstart\u001b[m\u001b[K h3kAe5LIQKI1WaItudBdy7IVRGNe5CcCk     | '_ \\  / _ \\| || '_ \\ \r\n",
      "17tYvdpR \u001b[01;31m\u001b[Kstart\u001b[m\u001b[K p0F3yzfoKWmekulDWSp OqCyy     | | | ||  __/| || |_) |\r\n",
      "8TtVbtpFvzwpOvtKFkGz3x\u001b[01;31m\u001b[Kstart\u001b[m\u001b[K pAqcRa1CyoAn     |_| |_| \\___||_|| .__/ \r\n",
      "sDOKz\u001b[01;31m\u001b[Kstart\u001b[m\u001b[K5 lLwpzm5LAZg0aak hnHvYsitv0s3                     | |    \r\n",
      "mu5BEYF s059RXlAALGwf0 isnOZl\u001b[01;31m\u001b[Kstart\u001b[m\u001b[K B 9zi                     |_|  \r\n",
      "QrbEoMJ3HEA5nBNt93lry5mLKj cY \u001b[01;31m\u001b[Kstart\u001b[m\u001b[K bMZA    \r\n",
      "7G1Dv\u001b[01;31m\u001b[Kstart\u001b[m\u001b[KZunv4KmBtOVJnqoZenKu9t4JV7SD7S    \r\n"
     ]
    }
   ],
   "source": [
    "grep start data/exercise1_grep.txt"
   ]
  },
  {
   "cell_type": "markdown",
   "metadata": {
    "slideshow": {
     "slide_type": "slide"
    }
   },
   "source": [
    "## Accessing grep documentation\n",
    "\n",
    "To access the documentation of a command, we can use the **man** command.\n",
    "\n",
    "Let's type the following:\n",
    "\n",
    "```\n",
    "$: man grep\n",
    "```\n",
    "\n",
    "This will allow to navigate the documentation for grep, in the same modality as with the **less** command. Use the arrows to scroll, and q to exit.\n",
    "\n",
    "For the next exercise, we will have to do a case-insensitive search for \"ignorecase\", and count the number of lines."
   ]
  },
  {
   "cell_type": "code",
   "execution_count": 32,
   "metadata": {
    "collapsed": false,
    "slideshow": {
     "slide_type": "subslide"
    }
   },
   "outputs": [
    {
     "name": "stdout",
     "output_type": "stream",
     "text": []
    }
   ],
   "source": [
    "grep docs data/exercise1_grep.txt"
   ]
  },
  {
   "cell_type": "code",
   "execution_count": 33,
   "metadata": {
    "collapsed": false,
    "slideshow": {
     "slide_type": "subslide"
    }
   },
   "outputs": [
    {
     "name": "stdout",
     "output_type": "stream",
     "text": [
      "21\r\n"
     ]
    }
   ],
   "source": [
    "grep -i -c ignorecase data/exercise1_grep.txt"
   ]
  },
  {
   "cell_type": "code",
   "execution_count": 34,
   "metadata": {
    "collapsed": false,
    "slideshow": {
     "slide_type": "fragment"
    }
   },
   "outputs": [
    {
     "name": "stdout",
     "output_type": "stream",
     "text": [
      "ltkuS4fkIlGLxHey\u001b[01;31m\u001b[Kignorecase\u001b[m\u001b[KQiNUPbfH4ULN7b    \r\n",
      "dffGGp6k j\u001b[01;31m\u001b[Kignorecase\u001b[m\u001b[KNuU4O037rTZXmxNKbSfz            \r\n",
      "9yXirotb\u001b[01;31m\u001b[Kignorecase\u001b[m\u001b[KC3G6ju Y SsL9kbGvvKKT3        Remember that, to continue with the exercise, \r\n",
      "dE4h\u001b[01;31m\u001b[Kignorecase\u001b[m\u001b[KAH5apb7mW5Url4fcIQ3Aj0WVKU        you need to do a case-insensitive search for the word\r\n",
      "sK6helpjSyrEkNPKYrAQKDCh65gmfwvb34yDiZzF    \"\u001b[01;31m\u001b[Kignorecase\u001b[m\u001b[K\", then count the number of lines.\r\n",
      "fdr6G6hbVlRQ0qO1fv\u001b[01;31m\u001b[KIgnorEcase\u001b[m\u001b[KzYJhYFwaKlzC    \r\n",
      "ZNIYVtv3Sgwg\u001b[01;31m\u001b[KIGNORECASE\u001b[m\u001b[KxyQD5B3FYmRqsDSy99     _____________\r\n",
      "lVyJxifa5hUx jjsGIPVod 3i0R6l\u001b[01;31m\u001b[Kignorecase\u001b[m\u001b[Kv    / Good Job!   \\ \r\n",
      "zvhStBefrfTeBBmObpeQWOwLAi1\u001b[01;31m\u001b[KIGNORECASE\u001b[m\u001b[KQjb    | You did a   |\r\n",
      "nkPlEL45Cj9N7Sn1wz\u001b[01;31m\u001b[Kignorecase\u001b[m\u001b[Knmo9s0fEmSof    | case-insens |\r\n",
      "Y9H 6rZveECwg7pU5teKNk\u001b[01;31m\u001b[Kignorecase\u001b[m\u001b[KA1R5sYL9    | itive       |\r\n",
      "kJYZx\u001b[01;31m\u001b[Kignorecase\u001b[m\u001b[KceuF9TI8jcgMqfZ4mWIaurvNT    \\ search      /\r\n",
      "bSRRH\u001b[01;31m\u001b[KIgnorEcase\u001b[m\u001b[Kqo9fYkMcKPatlG3GuJpaHUXBK     -------------\r\n",
      "t17K438\u001b[01;31m\u001b[KignOrecase\u001b[m\u001b[KjOkIS1mf55vxfXkIWV8qK9L            \\   ^__^\r\n",
      "57EshEepTDCTPYevNI0\u001b[01;31m\u001b[KIgnorEcase\u001b[m\u001b[KxP77AB9HnRy             \\  (oo)\\_______\r\n",
      "akgkqUFu3\u001b[01;31m\u001b[KIgnorEcase\u001b[m\u001b[KtoBCSlUGJRSO7RHirrMGS                (__)\\       )\\/\\ \r\n",
      "6WM3I3bAOxUbkUpfQU Df\u001b[01;31m\u001b[KIgnorEcase\u001b[m\u001b[KkxJUG7VjV                    ||----w |\r\n",
      " jd01RGiJiySGv7Nw xH1r\u001b[01;31m\u001b[Kignorecase\u001b[m\u001b[KPhMlOENI                    ||     ||\r\n",
      "3IWlH7z0\u001b[01;31m\u001b[Kignorecase\u001b[m\u001b[KfsAINdXWliO1hVb33Zg48D    \r\n",
      "k MxThXTP0Vi9vlyMl0tjygHfHC\u001b[01;31m\u001b[Kignorecase\u001b[m\u001b[K4yp    \r\n",
      "3tIQfkJUEK0Poy\u001b[01;31m\u001b[KIgnorEcase\u001b[m\u001b[KTLgNoikS UzpprVp        \r\n"
     ]
    }
   ],
   "source": [
    "grep -i ignorecase data/exercise1_grep.txt"
   ]
  },
  {
   "cell_type": "markdown",
   "metadata": {
    "slideshow": {
     "slide_type": "slide"
    }
   },
   "source": [
    "## Regular Expressions\n",
    "\n",
    "Regular expressions allow to specify more complex patterns.\n",
    "\n",
    "For example, "
   ]
  },
  {
   "cell_type": "code",
   "execution_count": null,
   "metadata": {
    "collapsed": false
   },
   "outputs": [],
   "source": [
    "grep 21 data/exercise1_grep.txt"
   ]
  }
 ],
 "metadata": {
  "celltoolbar": "Slideshow",
  "kernelspec": {
   "display_name": "Bash",
   "language": "bash",
   "name": "bash"
  },
  "language_info": {
   "codemirror_mode": "shell",
   "file_extension": ".sh",
   "mimetype": "text/x-sh",
   "name": "bash"
  },
  "nav_menu": {},
  "toc": {
   "navigate_menu": true,
   "number_sections": true,
   "sideBar": true,
   "threshold": 6,
   "toc_cell": true,
   "toc_section_display": "block",
   "toc_window_display": false
  }
 },
 "nbformat": 4,
 "nbformat_minor": 1
}
