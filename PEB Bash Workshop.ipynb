{
 "cells": [
  {
   "cell_type": "markdown",
   "metadata": {
    "toc": "true"
   },
   "source": [
    "# Table of Contents\n",
    " <p><div class=\"lev1 toc-item\"><a href=\"#PEB-Belgrade---Bash-workshop\" data-toc-modified-id=\"PEB-Belgrade---Bash-workshop-1\"><span class=\"toc-item-num\">1&nbsp;&nbsp;</span>PEB Belgrade - Bash workshop</a></div><div class=\"lev1 toc-item\"><a href=\"#How-to-follow-this-workshop\" data-toc-modified-id=\"How-to-follow-this-workshop-2\"><span class=\"toc-item-num\">2&nbsp;&nbsp;</span>How to follow this workshop</a></div><div class=\"lev2 toc-item\"><a href=\"#Getting-a-Terminal-application\" data-toc-modified-id=\"Getting-a-Terminal-application-2.1\"><span class=\"toc-item-num\">2.1&nbsp;&nbsp;</span>Getting a Terminal application</a></div><div class=\"lev3 toc-item\"><a href=\"#Windows\" data-toc-modified-id=\"Windows-2.1.1\"><span class=\"toc-item-num\">2.1.1&nbsp;&nbsp;</span>Windows</a></div><div class=\"lev3 toc-item\"><a href=\"#Mac\" data-toc-modified-id=\"Mac-2.1.2\"><span class=\"toc-item-num\">2.1.2&nbsp;&nbsp;</span>Mac</a></div><div class=\"lev3 toc-item\"><a href=\"#Linux\" data-toc-modified-id=\"Linux-2.1.3\"><span class=\"toc-item-num\">2.1.3&nbsp;&nbsp;</span>Linux</a></div><div class=\"lev2 toc-item\"><a href=\"#Getting-the-workshop-materials\" data-toc-modified-id=\"Getting-the-workshop-materials-2.2\"><span class=\"toc-item-num\">2.2&nbsp;&nbsp;</span>Getting the workshop materials</a></div><div class=\"lev1 toc-item\"><a href=\"#Basic-Unix-Commands:-ls,-cd\" data-toc-modified-id=\"Basic-Unix-Commands:-ls,-cd-3\"><span class=\"toc-item-num\">3&nbsp;&nbsp;</span>Basic Unix Commands: ls, cd</a></div><div class=\"lev1 toc-item\"><a href=\"#Accessing-the-contents-of-a-file:-head,-cat,-less\" data-toc-modified-id=\"Accessing-the-contents-of-a-file:-head,-cat,-less-4\"><span class=\"toc-item-num\">4&nbsp;&nbsp;</span>Accessing the contents of a file: head, cat, less</a></div><div class=\"lev1 toc-item\"><a href=\"#Searching-patterns-into-file:-grep\" data-toc-modified-id=\"Searching-patterns-into-file:-grep-5\"><span class=\"toc-item-num\">5&nbsp;&nbsp;</span>Searching patterns into file: grep</a></div><div class=\"lev2 toc-item\"><a href=\"#Accessing-grep-documentation\" data-toc-modified-id=\"Accessing-grep-documentation-5.1\"><span class=\"toc-item-num\">5.1&nbsp;&nbsp;</span>Accessing grep documentation</a></div><div class=\"lev2 toc-item\"><a href=\"#Searching-multiple-files\" data-toc-modified-id=\"Searching-multiple-files-5.2\"><span class=\"toc-item-num\">5.2&nbsp;&nbsp;</span>Searching multiple files</a></div><div class=\"lev2 toc-item\"><a href=\"#Searching-multiple-patterns-and-the-Unix-piping-system\" data-toc-modified-id=\"Searching-multiple-patterns-and-the-Unix-piping-system-5.3\"><span class=\"toc-item-num\">5.3&nbsp;&nbsp;</span>Searching multiple patterns and the Unix piping system</a></div><div class=\"lev2 toc-item\"><a href=\"#Regular-Expressions\" data-toc-modified-id=\"Regular-Expressions-5.4\"><span class=\"toc-item-num\">5.4&nbsp;&nbsp;</span>Regular Expressions</a></div><div class=\"lev1 toc-item\"><a href=\"#Working-with-tabular-files:-Awk\" data-toc-modified-id=\"Working-with-tabular-files:-Awk-6\"><span class=\"toc-item-num\">6&nbsp;&nbsp;</span>Working with tabular files: Awk</a></div>"
   ]
  },
  {
   "cell_type": "markdown",
   "metadata": {
    "slideshow": {
     "slide_type": "slide"
    }
   },
   "source": [
    "# PEB Belgrade - Bash workshop\n",
    "\n",
    "Giovanni M. Dall'Olio, GSK, 12/09/2016. http://bioinfoblog.it\n",
    "\n",
    "```\n",
    " _______________\n",
    " / Welcome to    \\\n",
    " \\ PEB Belgrade! /\n",
    "  ---------------\n",
    "         \\   ^__^\n",
    "          \\  (oo)\\_______\n",
    "             (__)\\       )\\/\\\n",
    "                 ||----w |\n",
    "                 ||     ||\n",
    "```\n",
    "\n",
    "Welcome to Belgrade!\n",
    "\n",
    "In this workshop we will review some basic Unix command, as well as bash usage.\n",
    "\n",
    "If you attended the [Programming for Evolutionary Biology course in Leipzig](http://evop.bioinf.uni-leipzig.de/), this will be a refreshener. I've hidden some **secrets** in the exercises, so you will not get bored :-)\n",
    "\n",
    "If you are new to bash, this will be a short introduction."
   ]
  },
  {
   "cell_type": "code",
   "execution_count": 90,
   "metadata": {
    "collapsed": false,
    "slideshow": {
     "slide_type": "skip"
    }
   },
   "outputs": [
    {
     "name": "stdout",
     "output_type": "stream",
     "text": []
    }
   ],
   "source": [
    "# Configuration - this will not appear in the slideshow\n",
    "alias grep='grep --color'"
   ]
  },
  {
   "cell_type": "markdown",
   "metadata": {
    "slideshow": {
     "slide_type": "slide"
    }
   },
   "source": [
    "# How to follow this workshop\n",
    "\n",
    "\n",
    "## Getting a Terminal application\n",
    "\n",
    "All the exercises will be done in a Terminal. \n",
    "\n",
    "During the conference we may have also time for a \"Linux Install Party\", to get Linux into some of your laptops. However there are ways to access a bash terminal without installing Linux first.\n",
    "\n",
    "Scroll down to see what to install or launch."
   ]
  },
  {
   "cell_type": "markdown",
   "metadata": {
    "slideshow": {
     "slide_type": "subslide"
    }
   },
   "source": [
    "### Windows\n",
    "\n",
    "For Windows users, we will use a terminal emulator software called MobaXTerm: http://mobaxterm.mobatek.net/\n",
    "\n",
    "The Home Edition is free and contains all the features we will need for the workshop:\n",
    "\n",
    "<a href=\"http://mobaxterm.mobatek.net/\" target=\"_blank\"><img src=\"http://mobaxterm.mobatek.net/img/moba/features/feature-terminal.png\" width=\"400\"></a>"
   ]
  },
  {
   "cell_type": "markdown",
   "metadata": {
    "slideshow": {
     "slide_type": "subslide"
    }
   },
   "source": [
    "### Mac\n",
    "\n",
    "You should be able to use the Console App in Mac.\n",
    "\n",
    "<img src=\"http://blog.teamtreehouse.com/wp-content/uploads/2012/09/Screen-Shot-2012-09-25-at-1.01.45-PM.png\" width=\"400\">"
   ]
  },
  {
   "cell_type": "markdown",
   "metadata": {
    "slideshow": {
     "slide_type": "subslide"
    }
   },
   "source": [
    "### Linux\n",
    "\n",
    "Congratulations on having Linux installed! You can use your favorite terminal app (e.g. gnome-terminal or konsole)\n",
    "\n",
    "<img src=\"https://camo.githubusercontent.com/358e5e2206148280d127128499ad92e8621e5517/68747470733a2f2f7261772e6769746875622e636f6d2f63656d6d616e6f75696c696469732f6d6f6e6f6b61692d676e6f6d652d7465726d696e616c2f6d61737465722f73637265656e73686f742d30312e706e67\" width=\"400\">\n"
   ]
  },
  {
   "cell_type": "markdown",
   "metadata": {
    "slideshow": {
     "slide_type": "slide"
    }
   },
   "source": [
    "## Getting the workshop materials\n",
    "\n",
    "Now that we have a terminal application ready, let's download all the course materials.\n",
    "\n",
    "Open the terminal, and type the following commands (omitting the \"$:\"):\n",
    "\n",
    "```\n",
    "$: wget  https://github.com/dalloliogm/belgrade_unix_intro/archive/master.zip\n",
    "$: unzip master.zip\n",
    "\n",
    "```\n",
    "\n",
    "\n",
    "Explanation:\n",
    "\n",
    " - the **wget** command downloads a .zip file containing all the materials\n",
    " - the **unzip** command uncompresses the .zip file, creating a new folder in your home area."
   ]
  },
  {
   "cell_type": "markdown",
   "metadata": {
    "slideshow": {
     "slide_type": "subslide"
    }
   },
   "source": [
    "\\# Expected output\n",
    "\n",
    "```\n",
    "$: wget  https://github.com/dalloliogm/belgrade_unix_intro/archive/master.zip\n",
    "\n",
    "--2016-08-26 09:55:53--  https://github.com/dalloliogm/belgrade_unix_intro/archive/master.zip\n",
    "Resolving github.com... 192.30.253.113\n",
    "Connecting to github.com|192.30.253.113|:443... connected.\n",
    "HTTP request sent, awaiting response... 302 Found\n",
    "Location: https://codeload.github.com/dalloliogm/belgrade_unix_intro/zip/master [following]\n",
    "--2016-08-26 09:55:54--  https://codeload.github.com/dalloliogm/belgrade_unix_intro/zip/master\n",
    "Resolving codeload.github.com... 192.30.253.120\n",
    "Connecting to codeload.github.com|192.30.253.120|:443... connected.\n",
    "HTTP request sent, awaiting response... 200 OK\n",
    "Length: 129112 (126K) [application/zip]\n",
    "Saving to: `master.zip.1'\n",
    "\n",
    "100%[========================================================================================================================================================================>] 129,112      617K/s   in 0.2s\n",
    "\n",
    "2016-08-26 09:55:54 (617 KB/s) - `master.zip' saved [129112/129112]\n",
    "$: unzip master.zip\n",
    "\n",
    "Archive:  master.zip\n",
    "   creating: belgrade_unix_intro-master/\n",
    "  inflating: belgrade_unix_intro-master/PEB Bash Workshop.ipynb\n",
    "  inflating: belgrade_unix_intro-master/README.md\n",
    "   creating: belgrade_unix_intro-master/data/\n",
    "   creating: belgrade_unix_intro-master/data/part1_grep/\n",
    "  inflating: belgrade_unix_intro-master/data/part1_grep/file1.txt\n",
    "  inflating: belgrade_unix_intro-master/data/part1_grep/file2.txt\n",
    "   creating: belgrade_unix_intro-master/src/\n",
    "   creating: belgrade_unix_intro-master/src/data/\n",
    "  inflating: belgrade_unix_intro-master/src/data/README.rst\n",
    "  inflating: belgrade_unix_intro-master/src/generate_grep_exercise.py\n",
    "  ```"
   ]
  },
  {
   "cell_type": "markdown",
   "metadata": {
    "slideshow": {
     "slide_type": "slide"
    }
   },
   "source": [
    "# Basic Unix Commands: ls, cd\n",
    "\n",
    "Let's have a look at the files we just downloaded.\n",
    "\n",
    "We will use two basic Unix commands:\n",
    "\n",
    " - **ls** list the number of files in the current directory\n",
    " - **cd** allows to move to a different directory.\n",
    " \n",
    " \n",
    "Typing **ls** will show all the files in the current directory. Among these you should see a folder called **belgrade_unix_intro-master**, created by the wget and unzip commands. \n",
    " \n",
    "Let's move to this new directory, and list the files in it:\n",
    " \n",
    "```\n",
    "$: cd belgrade_unix_intro-master/\n",
    "$: ls\n",
    "```\n",
    "\n",
    "This will show a list of files, including a file called **start_here.txt**, a README, a few folders (data/, src/), and some other files."
   ]
  },
  {
   "cell_type": "code",
   "execution_count": 91,
   "metadata": {
    "collapsed": false,
    "slideshow": {
     "slide_type": "subslide"
    }
   },
   "outputs": [
    {
     "name": "stdout",
     "output_type": "stream",
     "text": [
      "total 360\r\n",
      "drwxr-x---. 4 gmd78366 gsk_rd   4096 Aug 28 06:06 \u001b[0m\u001b[01;34mdata\u001b[0m\r\n",
      "-rw-r-----. 1 gmd78366 gsk_rd    454 Aug 27 10:53 Makefile\r\n",
      "-rw-r-----. 1 gmd78366 gsk_rd  44178 Aug 30 12:30 PEB Bash Workshop.ipynb\r\n",
      "-rw-r-----. 1 gmd78366 gsk_rd    260 Aug 26 14:47 README.md\r\n",
      "-rw-r-----. 1 gmd78366 gsk_rd 293778 Aug 29 10:31 slides.html\r\n",
      "drwxr-x---. 4 gmd78366 gsk_rd   4096 Aug 30 12:37 \u001b[01;34msrc\u001b[0m\r\n",
      "-rw-r-----. 1 gmd78366 gsk_rd   1877 Aug 25 18:06 start_here.txt\r\n"
     ]
    }
   ],
   "source": [
    "# Contents of the PEB workshop directory\n",
    "ls -l"
   ]
  },
  {
   "cell_type": "markdown",
   "metadata": {
    "slideshow": {
     "slide_type": "slide"
    }
   },
   "source": [
    "# Accessing the contents of a file: head, cat, less\n",
    "\n",
    "The new folder contains a file named start_here.txt, containing the first instructions for the workshop.\n",
    "\n",
    "To access the contents of a file, we can use several Unix commands:\n",
    "\n",
    "| command       | description                                   | example             |\n",
    "| :------------:|:-------------------------------------         |:------------------- |\n",
    "| **head**      | print the first lines of the file             | head start_here.txt |\n",
    "| **tail**      | print the last lines of the file              | tail start_here.txt |\n",
    "| **cat**       | print the contents of the file to the screen  | cat start_here.txt  |\n",
    "| **less**      | allows to navigate contents of the file       | less start_here.txt |"
   ]
  },
  {
   "cell_type": "markdown",
   "metadata": {},
   "source": [
    "For the first exercise, type \"head start_here.txt\" and follow the instructions:\n"
   ]
  },
  {
   "cell_type": "code",
   "execution_count": 92,
   "metadata": {
    "collapsed": false
   },
   "outputs": [
    {
     "name": "stdout",
     "output_type": "stream",
     "text": [
      " _________________________________________________\r\n",
      "/ To navigate the contents of this file, type:     \\\r\n",
      "|                                                  |\r\n",
      "|        less start_here.txt                       |\r\n",
      "\\                                                  /\r\n",
      " --------------------------------------------------\r\n",
      "        \\   ^__^\r\n",
      "         \\  (oo)\\_______\r\n",
      "            (__)\\       )\\/\\\r\n",
      "                ||----w |\r\n"
     ]
    }
   ],
   "source": [
    "head start_here.txt"
   ]
  },
  {
   "cell_type": "markdown",
   "metadata": {
    "slideshow": {
     "slide_type": "slide"
    }
   },
   "source": [
    "# Searching patterns into file: grep\n",
    "\n",
    "The instructions for the next exercises are stored in the **data/exercise1_grep.txt** file. \n",
    "\n",
    "However, if you look at this file with head or less, you will see that its contents have no meaning!"
   ]
  },
  {
   "cell_type": "code",
   "execution_count": 93,
   "metadata": {
    "collapsed": false,
    "slideshow": {
     "slide_type": "-"
    }
   },
   "outputs": [
    {
     "name": "stdout",
     "output_type": "stream",
     "text": [
      "csErXRAPPmdvB5sUN9KlXfj5bjOhnYu8uGrh9UVi    Ju09y6X3Oal0vzE8GOsjoj WSkockTf1p89\r\n",
      "EY0fGNsEP9F9vNPwZh10HFMG 3CmwdyEdfFjo nV    VKGtrKduaz3fhJPqcBizWefiSXyA9ihwd99\r\n",
      "hVnY6vDo1VHrKTbhWpjfD6M0MpeHvrFRVbBQKZWV    lOhURVugkKeASKmYD4uYsUidylQV3qqkfqp\r\n",
      "mtVuNeuRVlkkaMPrgNFDmOyoPCltm6s01ZftGhMG    ddebmtOCJyHQXgHB7dcZzQmGJ4kouy0vXGH\r\n",
      "FfVXzNt4NxfzHH7MdCtfimm8b7SqAic5C8zvlHtS    r6Hxyxm3zehuQPh1KbLNoiPWePseBcNarvd\r\n",
      "3xblxzPhiRffCkfIgZCZFHBv47UGkP1IyF4hTZ0Q    YEuBy6gRmVfquJqUvTRTIAZpLwFdmBb00r7\r\n",
      "fksvPElFNPyjTfm 7wcrtAVYgWVQ6FBDoqZ0AYeE    UK6vTY39GZMoUapqkGquVc5fsD7votfmo0q\r\n",
      "z0ErfnInf4X FcAyProU9FZ4pocydPyRlBvcxcB3    hwF3Yw89ZrkcpNMMYjOBkOevG4zINf9z387\r\n",
      "0SDg QtWdIob0yk8oTkqqvRnoLZSroHoyZsJIO0R    xoptxYImIjxMKfr8v8FWviEwEQ8gCdkVyOx\r\n",
      "IkKTHgEG7QSZiXlsf19VeSYeOXJc8llpa0aR3glU    9CHlWPfqZyZDm V  MZUc5RQ0ZtEzSXgqJH\r\n"
     ]
    }
   ],
   "source": [
    "head data/exercise1_grep.txt"
   ]
  },
  {
   "cell_type": "markdown",
   "metadata": {
    "slideshow": {
     "slide_type": "-"
    }
   },
   "source": [
    "This is because I've hidden all the instructions in the file, just to make things more interesting!\n",
    "\n",
    "Scroll down to see how to continue."
   ]
  },
  {
   "cell_type": "markdown",
   "metadata": {
    "slideshow": {
     "slide_type": "subslide"
    }
   },
   "source": [
    "I've hidden the instructions for the first exercise in the lines containing the word \"start\" somewhere.\n",
    "\n",
    "To find them, type:\n",
    "\n",
    "```\n",
    "$: grep start data/exercise1_grep\n",
    "```"
   ]
  },
  {
   "cell_type": "code",
   "execution_count": 94,
   "metadata": {
    "collapsed": false,
    "slideshow": {
     "slide_type": "fragment"
    }
   },
   "outputs": [
    {
     "name": "stdout",
     "output_type": "stream",
     "text": [
      "0AqP4qQNKEwOE\u001b[01;31m\u001b[Kstart\u001b[m\u001b[KplNAC8r6NHla8FLQoy8vCS    \r\n",
      "6HQlZXc9QTHCmVwqLUrO7\u001b[01;31m\u001b[Kstart\u001b[m\u001b[KmNVG1U0kfGQnh      ______________________________\r\n",
      "yubIzvnQsx8mmY0eJSISzMRng \u001b[01;31m\u001b[Kstart\u001b[m\u001b[KGsGFEESQq    / Congrats!                    \\  \r\n",
      "UGgmyhAM4JALpxzu6DEntitUPojW 9V \u001b[01;31m\u001b[Kstart\u001b[m\u001b[KACN    |  You've used grep correctly, |\r\n",
      "Hw \u001b[01;31m\u001b[Kstart\u001b[m\u001b[K 991RkQg7xfcY4pIWAEcRyY8zcL9lgGb    \\  and found a cow.            /\r\n",
      "IFeEUGjvi1ocrxyMc4w4ZN7ZgD \u001b[01;31m\u001b[Kstart\u001b[m\u001b[K5iXkwtfS     ------------------------------\r\n",
      "HfxJkMs0FxN0syi6S1y\u001b[01;31m\u001b[Kstart\u001b[m\u001b[KMnr5 ZIGY5lJkXhK            \\   ^__^\r\n",
      "ooegn6P0RWC4aDY \u001b[01;31m\u001b[Kstart\u001b[m\u001b[Kmb4AlaZxQyv4mxYtMd4             \\  (oo)\\_______\r\n",
      "5ecLZMnCxmt8Ozcd\u001b[01;31m\u001b[Kstart\u001b[m\u001b[K pw5D5ifPQGQ3ja8vf0                (__)\\       )\\/\\ \r\n",
      "\u001b[01;31m\u001b[Kstart\u001b[m\u001b[KYgevGgtxFq70AJfYFKrSSe6WCN4R6TODmc7                    ||----w |\r\n",
      "  QRH\u001b[01;31m\u001b[Kstart\u001b[m\u001b[KeFbdprTX kCBSvFxao leyl1XIECkX                    ||     ||\r\n",
      "BWkdILWCQQbZcqAPImvuzhsTpD98vSQJU \u001b[01;31m\u001b[Kstart\u001b[m\u001b[KG    \r\n",
      "AxYUAWQ \u001b[01;31m\u001b[Kstart\u001b[m\u001b[KukhpA7XAu9uNf6  uzndvvkzxFO    \r\n",
      "LgWeS1aTW65Wb7cugVfnc \u001b[01;31m\u001b[Kstart\u001b[m\u001b[K 8L3b3PWIoRl7    \r\n",
      "xkAH9i99prl97KBCjz \u001b[01;31m\u001b[Kstart\u001b[m\u001b[Kxoc6cIKfp6UWM3oT    The command grep allows to search\r\n",
      "Nt wuzBBFOZwnbdmCtwRN3JRsCz  vx3\u001b[01;31m\u001b[Kstart\u001b[m\u001b[Kt6c    for a pattern in a text file.\r\n",
      "9TPt gHVGnwaJvPjP 4033TMUS5X\u001b[01;31m\u001b[Kstart\u001b[m\u001b[K08ZHWZS    \r\n",
      "9GIPtt4oVI NfcIm \u001b[01;31m\u001b[Kstart\u001b[m\u001b[K HyM4 tnNwObXeGSqA    It will print all the matching \r\n",
      "EgqPMHpJaCqaob7Dvfrk4xCZ \u001b[01;31m\u001b[Kstart\u001b[m\u001b[K xo5U3LHHw    lines to the screen.\r\n",
      "ICmNe3b0mbGFzOCv6Wj1PLORm8k\u001b[01;31m\u001b[Kstart\u001b[m\u001b[K OOxaKQT    \r\n",
      "dyT68MtCyKyELcCN6rQ8r6P9HITB \u001b[01;31m\u001b[Kstart\u001b[m\u001b[K 06LSV    =================\r\n",
      "XIWI59 \u001b[01;31m\u001b[Kstart\u001b[m\u001b[K l8Jwx1VWyIMxMO9b7Ktf6FPya6C    Next Exercise\r\n",
      "BnL0oSMxfgvpIcvMwXo5dJE3UkR \u001b[01;31m\u001b[Kstart\u001b[m\u001b[K Qwdkt5    =================\r\n",
      "78JT5Ccb9WTD\u001b[01;31m\u001b[Kstart\u001b[m\u001b[KBfimkciDKBR3g6aga6rwkQQ    \r\n",
      "dly1xIS3cwp e8xWxnPy \u001b[01;31m\u001b[Kstart\u001b[m\u001b[K o8sBAK6q6dB46    In the next exercise we will see \r\n",
      "Di8IHV \u001b[01;31m\u001b[Kstart\u001b[m\u001b[K 6AYp73PVQRvC0vHan6XSpOLbWzB    how to access grep's documentation.\r\n",
      "NfaMkrPvwGbSjrDYXcglR6j\u001b[01;31m\u001b[Kstart\u001b[m\u001b[KYHdjjVxtD6pf    \r\n",
      "p \u001b[01;31m\u001b[Kstart\u001b[m\u001b[KVdZFOgbWbbgqIbGRPzAYJs6ff0GKt0edp    Grep the following word to continue:\r\n",
      "8OWsZVc0 \u001b[01;31m\u001b[Kstart\u001b[m\u001b[K Dssl4IwvWW5SBmdnZlvzwPW51      _            _        \r\n",
      "jh hGFFZ8pG78k v C4ajCv\u001b[01;31m\u001b[Kstart\u001b[m\u001b[KtXDBH1AAqhsL     | |          | |       \r\n",
      "Z \u001b[01;31m\u001b[Kstart\u001b[m\u001b[K sztSOG0y5Xhit3dlpRlHufH6HMhMyqL8     | |__    ___ | | _ __  \r\n",
      " \u001b[01;31m\u001b[Kstart\u001b[m\u001b[K BAmDUMWmnqj8XmX4zGcwt6TU6wuiVH74j     | '_ \\  / _ \\| || '_ \\ \r\n",
      "7aC \u001b[01;31m\u001b[Kstart\u001b[m\u001b[KFMAYibC0eMgZYJhj4wcXCu67nFXOXN0     | | | ||  __/| || |_) |\r\n",
      "oYKW7gbGAm\u001b[01;31m\u001b[Kstart\u001b[m\u001b[K3bNaAbRvGrdYvYAaHKxChMJX4     |_| |_| \\___||_|| .__/ \r\n",
      "dWy1wn\u001b[01;31m\u001b[Kstart\u001b[m\u001b[K BnJX9dl5Za9tQ1bhgH8V7Z5vwB8K                     | |    \r\n",
      "pikdO5HfjKxt FX0F FNGtg\u001b[01;31m\u001b[Kstart\u001b[m\u001b[KZVPILzxXSmTe                     |_|  \r\n",
      "nGodHTCor5eU71NID7YBt0LV7Eq\u001b[01;31m\u001b[Kstart\u001b[m\u001b[KNgRXo9Tl    \r\n",
      "fr\u001b[01;31m\u001b[Kstart\u001b[m\u001b[KEKTNwb0SAeJthnsXL3IKehjd57OK nNKb    \r\n"
     ]
    }
   ],
   "source": [
    "grep start data/exercise1_grep.txt"
   ]
  },
  {
   "cell_type": "markdown",
   "metadata": {
    "slideshow": {
     "slide_type": "slide"
    }
   },
   "source": [
    "## Accessing grep documentation\n",
    "\n",
    "To access the documentation of a command, we can use the **man** command.\n",
    "\n",
    "Let's type the following:\n",
    "\n",
    "```\n",
    "$: man grep\n",
    "```\n",
    "\n",
    "This will allow to navigate the documentation for grep, in the same modality as with the **less** command. Use the arrows to scroll, and q to exit.\n",
    "\n",
    "For the next exercise, you will have to identify two options in the man page, and use them to do a case-insensitive search for \"ignorecase\", and count the number of lines."
   ]
  },
  {
   "cell_type": "code",
   "execution_count": 95,
   "metadata": {
    "collapsed": false,
    "slideshow": {
     "slide_type": "subslide"
    }
   },
   "outputs": [
    {
     "name": "stdout",
     "output_type": "stream",
     "text": [
      "zwUD5l7r1to1\u001b[01;31m\u001b[Khelp\u001b[m\u001b[K 8VM3DAldrwhJ0FgEWw4yKFA    \r\n",
      "LD31QbHdkwnxMJinEV7A9ASYsc7drmW\u001b[01;31m\u001b[Khelp\u001b[m\u001b[K EqY8    The documentation for grep can \r\n",
      "BJxEann\u001b[01;31m\u001b[Khelp\u001b[m\u001b[K SytBkAmZmhE5aiyFH8A9rX6hLaa6    be accessed through man:\r\n",
      "fjK\u001b[01;31m\u001b[Khelp\u001b[m\u001b[KfhOg3WngHC99N3EpeJT5lXAD1EUNCW1Ic    \r\n",
      " AUGLlWl5ew1RGdwIrohYFKgOsoTMTY \u001b[01;31m\u001b[Khelp\u001b[m\u001b[K XcG        $: man grep\r\n",
      "t64ZixUQ\u001b[01;31m\u001b[Khelp\u001b[m\u001b[KH MjhjaqtJkqANNF3lc6oG1zPerN    \r\n",
      "NJbIxvtLOErPZw1MGPPmxh \u001b[01;31m\u001b[Khelp\u001b[m\u001b[K nq11im45lhwu    Scroll down to see all the \r\n",
      "HjfSFNkcZuR\u001b[01;31m\u001b[Khelp\u001b[m\u001b[K tGOgwUOHfSUz4hNRxXlfHAwt    parameters for grep and their description.\r\n",
      "dOteAzv9tlstmbf83ObiMNliYQTilW\u001b[01;31m\u001b[Khelp\u001b[m\u001b[K 3UXq4    \r\n",
      "\u001b[01;31m\u001b[Khelp\u001b[m\u001b[K rgrc9seyF6Rpxz9wJHcpYTvySQ6VyA6DqbN    Use / to search for text.\r\n",
      "olAi1X7LTNJJX\u001b[01;31m\u001b[Khelp\u001b[m\u001b[Kma3KBpVt0DgIsWWZY7rY4UI    Press the q key to exit.\r\n",
      "PFQhKyG7SvxfI5vQS5qs8oWi8\u001b[01;31m\u001b[Khelp\u001b[m\u001b[K b me0z9TP5    \r\n",
      "MyIDi44SB7CAM4 \u001b[01;31m\u001b[Khelp\u001b[m\u001b[K HwQElQJxGPvrANPv 5fe    \r\n",
      " nZKZfqX9c9XCptY \u001b[01;31m\u001b[Khelp\u001b[m\u001b[K AwdcoaLVsEvtifqeNM    \r\n",
      "QlqMVq3GLucTp1\u001b[01;31m\u001b[Khelp\u001b[m\u001b[KjOQZbNQCMlnsWB8lEF 98L    ==============\r\n",
      " c0prr0xS9Jz36ebU6UT4Nkus \u001b[01;31m\u001b[Khelp\u001b[m\u001b[K 3Bz3yFAh8    Next exercise\r\n",
      "UWIKpzAlGgqXHTNBd1\u001b[01;31m\u001b[Khelp\u001b[m\u001b[K 16dU3VH0BF7hYhioh    ==============\r\n",
      "jUZvorVC43Ry7Q6kzsHiGmpkY\u001b[01;31m\u001b[Khelp\u001b[m\u001b[K z8jlenSc1l    \r\n",
      "IK5pnOOhqLz5ZXvxB4vaFf\u001b[01;31m\u001b[Khelp\u001b[m\u001b[K xQ9iDnRENo6AM    For the next exercise, you will need to open \r\n",
      "PYMqrZTQyc\u001b[01;31m\u001b[Khelp\u001b[m\u001b[K nBj89FusSiVgt UvJdAi1C6um    grep's documentation and identify two options:\r\n",
      "PX4Fu5lhTNdBmEiZeQejALDDu Hot7gqqH\u001b[01;31m\u001b[Khelp\u001b[m\u001b[KGv    \r\n",
      "WG\u001b[01;31m\u001b[Khelp\u001b[m\u001b[K mBEms8GX0rQLOIjDyz7GPoKrWd44ExMvR    - the option for case-insensitive searches\r\n",
      "aiAE9ZOU \u001b[01;31m\u001b[Khelp\u001b[m\u001b[K TkuIgHHVl5UT4pmdxm8RDgnfaV    - the option for counting \r\n",
      "Km\u001b[01;31m\u001b[Khelp\u001b[m\u001b[K kmbsQvKbHgtMDDMD8lQgYC6pmiLOXtLjx      the number of matching lines, \r\n",
      "kUvmHXOT3eb5M o9vxnQ0Anh4a0K \u001b[01;31m\u001b[Khelp\u001b[m\u001b[K HkJL6g      instead of printing them to the screen.\r\n",
      "pm8b46Jr EkcxNgeSs8muvL\u001b[01;31m\u001b[Khelp\u001b[m\u001b[K1eHu9Si7FW4sL    \r\n",
      "sACMyWgQMs4wiUs353oXRSPBpec\u001b[01;31m\u001b[Khelp\u001b[m\u001b[KdsshsGvyo    Once you have identified these options, \r\n",
      "fQDN4 8MibFDDz \u001b[01;31m\u001b[Khelp\u001b[m\u001b[K P08m6zd3CbMJItuIbViz    do a case-insensitive search on this file for the word \r\n",
      "Pim10JC5yrGTKutRB\u001b[01;31m\u001b[Khelp\u001b[m\u001b[KpMsZ4NKC7PTNCOOJRvR    \"ignorecase\", then count the number of lines.\r\n",
      "4Qufk0UWMmsBQv qDtg9a\u001b[01;31m\u001b[Khelp\u001b[m\u001b[KEint9nTIlDNMC66    \r\n",
      "h0REgZaK6N EwOlJRoHDbMj39twLzd \u001b[01;31m\u001b[Khelp\u001b[m\u001b[K a6 o        \r\n"
     ]
    }
   ],
   "source": [
    "grep help data/exercise1_grep.txt"
   ]
  },
  {
   "cell_type": "code",
   "execution_count": 96,
   "metadata": {
    "collapsed": false,
    "slideshow": {
     "slide_type": "subslide"
    }
   },
   "outputs": [
    {
     "name": "stdout",
     "output_type": "stream",
     "text": [
      "l9OuhmFYeoJHKA9ZDgWxeT5W\u001b[01;31m\u001b[Kignorecase\u001b[m\u001b[KlXL9U     \r\n",
      "ZAVka8jw\u001b[01;31m\u001b[Kignorecase\u001b[m\u001b[KRpeGE5d0AW7xc4N47UsBEJ            \r\n",
      "EpQLByrHBbVl\u001b[01;31m\u001b[Kignorecase\u001b[m\u001b[KU077ljJjBiVFvwKfFd    Remember that, to continue with the exercise, \r\n",
      "uXUmPnt4JcI\u001b[01;31m\u001b[Kignorecase\u001b[m\u001b[KkxABW9 QhsEUuOMqBbT    you need to do a case-insensitive search for the word\r\n",
      "JwcWlrvWgfPiq44kh03pqRDD18LqL21s3izIMZWu    | \"\u001b[01;31m\u001b[Kignorecase\u001b[m\u001b[K\"   |\r\n",
      "Pim10JC5yrGTKutRBhelppMsZ4NKC7PTNCOOJRvR    \"\u001b[01;31m\u001b[Kignorecase\u001b[m\u001b[K\", then count the number of lines.\r\n",
      "weRHM\u001b[01;31m\u001b[KIGNORECASE\u001b[m\u001b[KdljcLwbj9UAnfGDnAJH4YEago    \r\n",
      "RduuS6gY58PYV\u001b[01;31m\u001b[KIgnorEcase\u001b[m\u001b[K9ritYdyR1qo8OC8Xr     _____________\r\n",
      "G5COZbs\u001b[01;31m\u001b[KIgnorEcase\u001b[m\u001b[KFWci8BGgIXTv7fimw8RrgOE    / Good Job!   \\ \r\n",
      "F4RmOHtmYuzn Ugj\u001b[01;31m\u001b[Kignorecase\u001b[m\u001b[KywtbkIPkbm4fEu    | You did a   |\r\n",
      "U5bc0wMDxP1DkC6\u001b[01;31m\u001b[KIgnorEcase\u001b[m\u001b[KqTudxZadVxj4xPX    | case-insens |\r\n",
      "IpETJlo3J\u001b[01;31m\u001b[Kignorecase\u001b[m\u001b[KpSnA60AOoC5aQe9pnoUdZ    | itive       |\r\n",
      "Xzp8sVxhOzufztNQ4DtTaFVVhCoN9\u001b[01;31m\u001b[Kignorecase\u001b[m\u001b[Kr    \\ search      /\r\n",
      "7wx8kTehLsCHtPvdMWJVBwept\u001b[01;31m\u001b[KignOrecase\u001b[m\u001b[K3qyXu     -------------\r\n",
      "GVuxwgdLXZF1Pz1rP\u001b[01;31m\u001b[Kignorecase\u001b[m\u001b[K9TQ7NMSdbMZl6            \\   ^__^\r\n",
      "0Nj0qVr0t6WSXNRLS1vynBTPI\u001b[01;31m\u001b[KIgnorEcase\u001b[m\u001b[K6SnJq             \\  (oo)\\_______\r\n",
      "hYJ3jwdsJFOljBbgzC\u001b[01;31m\u001b[Kignorecase\u001b[m\u001b[KyV8DiBY ehp6                (__)\\       )\\/\\ \r\n",
      "gYp87vP7S\u001b[01;31m\u001b[KIGNORECASE\u001b[m\u001b[KNc7wwAHkdsps4GbUNWZtl                    ||----w |\r\n",
      "H6UUFrr1YyrZsi81QZ7A5rwn4vX\u001b[01;31m\u001b[KIgnorEcase\u001b[m\u001b[KEe                     ||     ||\r\n",
      "D qEqXdycapcOG3\u001b[01;31m\u001b[KignOrecase\u001b[m\u001b[KPQs8Km8NPUcbqAW    \r\n",
      "Rin 5x\u001b[01;31m\u001b[Kignorecase\u001b[m\u001b[KsvAf94z6RgoGXRCbeKNciDPt    \r\n",
      "aVmGBp\u001b[01;31m\u001b[Kignorecase\u001b[m\u001b[KLJ46q8E8OPSxx86zjA50fMZ1        \r\n"
     ]
    }
   ],
   "source": [
    "# how to do a case-insensitive search\n",
    "grep -i ignorecase data/exercise1_grep.txt"
   ]
  },
  {
   "cell_type": "code",
   "execution_count": 97,
   "metadata": {
    "collapsed": false,
    "slideshow": {
     "slide_type": "fragment"
    }
   },
   "outputs": [
    {
     "name": "stdout",
     "output_type": "stream",
     "text": [
      "22\r\n"
     ]
    }
   ],
   "source": [
    "# how to count the number of lines, instead of printing them\n",
    "grep -i -c ignorecase data/exercise1_grep.txt"
   ]
  },
  {
   "cell_type": "code",
   "execution_count": 98,
   "metadata": {
    "collapsed": false,
    "slideshow": {
     "slide_type": "fragment"
    }
   },
   "outputs": [
    {
     "name": "stdout",
     "output_type": "stream",
     "text": [
      "vxtVV TDPe6wksmM\u001b[01;31m\u001b[K21\u001b[m\u001b[KB5j95UJlGd8bsTKCkqLjfz    \r\n",
      "QeMYBlHaBcXtnlHFzGn19Z\u001b[01;31m\u001b[K21\u001b[m\u001b[K83cSI1SO9mIZFWZj    \r\n",
      "Zgxp\u001b[01;31m\u001b[K21\u001b[m\u001b[KMMZ80w87oSr16Pj5EGdEtIc0zoKjzd1V8R     ________________\r\n",
      "8Y7egv6lEj6 zidQjwnSo\u001b[01;31m\u001b[K21\u001b[m\u001b[KYx6L33UfWSfIzXM9V    / Congrats! Yes  \\ \r\n",
      "  36IY1nvhIj5T8PQdpm LTsqwdXvf8aHN\u001b[01;31m\u001b[K21\u001b[m\u001b[KFZll    | there are \u001b[01;31m\u001b[K21\u001b[m\u001b[K   |\r\n",
      "M4eWaFHrmn4OSLrwl9pSN6JabeLY\u001b[01;31m\u001b[K21\u001b[m\u001b[KGtLjjOTDD     | lines          |\r\n",
      "YiaQpqI7WWMRaflmUt1Ifz0Y66\u001b[01;31m\u001b[K21\u001b[m\u001b[KOQZJkDdwrNkX    | containing the |\r\n",
      "fXfwIJctbj11lTJ8SQZkKG1AgY1jbUmPC\u001b[01;31m\u001b[K21\u001b[m\u001b[Kn1DYn    | word           |\r\n",
      "JwcWlrvWgfPiq44kh03pqRDD18LqL\u001b[01;31m\u001b[K21\u001b[m\u001b[Ks3izIMZWu    | \"ignorecase\"   |\r\n",
      "yeT4DHvviyGGSMSmfULOqFqtWXB8tasp9lRH\u001b[01;31m\u001b[K21\u001b[m\u001b[K73    \\ in this file   /\r\n",
      "Ac\u001b[01;31m\u001b[K21\u001b[m\u001b[K4UHM3ff3KMyGlutUMJ6oLfm64HB6yQSWN1Y      ----------------\r\n",
      "xGzZx0C8R\u001b[01;31m\u001b[K21\u001b[m\u001b[Kjqhcv3fKIKLGzu1tezpasbCm1Pddi            \\   ^__^\r\n",
      "rTMMHMNvTBLk9FYL77zNn7WammrQ\u001b[01;31m\u001b[K21\u001b[m\u001b[KgpbiOkQpEO             \\  (oo)\\_______\r\n",
      "RCe3X69GujmXg0M8j0hzHcT0GfG\u001b[01;31m\u001b[K21\u001b[m\u001b[KEXdjL8pr5sX                (__)\\       )\\/\\  \r\n",
      "hGyijjdVN\u001b[01;31m\u001b[K21\u001b[m\u001b[Kh0L9Cy5OWUPZZONgyaX8IpbvL0fSC                    ||----w |\r\n",
      "IZ udd\u001b[01;31m\u001b[K21\u001b[m\u001b[KWqmNb7uMMb0DrmSagFFV0Mg1IO5zG0Va                    ||     ||\r\n",
      "h5OSDR1DraINzm XApkp6N\u001b[01;31m\u001b[K21\u001b[m\u001b[KzrmXkZD0Tktr468Q    \r\n",
      "FqGHg73JWmEsPUfKcNPM8p0mdrLjAKaWRWHufH\u001b[01;31m\u001b[K21\u001b[m\u001b[K    \r\n",
      "uI4T8acbn\u001b[01;31m\u001b[K21\u001b[m\u001b[K90Xeo4o1p9ve5eFx3NbZIkPGRMkKZ    =============\r\n",
      "ka5RYqWXBwqcSm91ujAQNNh6lFrXSxr j4k\u001b[01;31m\u001b[K21\u001b[m\u001b[KvCB    Next exercise\r\n",
      "NB4Nap8XH 51r8gc9oYCBNdMyRw9qoq\u001b[01;31m\u001b[K21\u001b[m\u001b[K4JKLlJG    =============\r\n",
      "uOklmBtrLDW\u001b[01;31m\u001b[K21\u001b[m\u001b[KYN9zerPhHsdPEjNfaZgFoYyW0tI    \r\n",
      "S6E43EpPxiAYFkO ewpZ67 \u001b[01;31m\u001b[K21\u001b[m\u001b[KOF9NaXwNhB75MTv    Searching in multiple files\r\n",
      "JLa4dzQBtzXBxqfhjcUDvfL6kEOEmmJP\u001b[01;31m\u001b[K21\u001b[m\u001b[KGzMVK7    \r\n",
      "rIXuZ\u001b[01;31m\u001b[K21\u001b[m\u001b[KJSlaGMOKGt0oL0yYXCDvYN7wsUO1plsFM    Grep can search the same pattern\r\n",
      "EltWnPR\u001b[01;31m\u001b[K21\u001b[m\u001b[K06muKxcftXI543uzuONqURQ0KzKsssE    in more than one file at the same time.\r\n",
      "PN0lA0Q8iVeobKbj5wAO9mbZQTJeBlwCLT1\u001b[01;31m\u001b[K21\u001b[m\u001b[K7 y    \r\n",
      "zZMTSwGd Rl\u001b[01;31m\u001b[K21\u001b[m\u001b[KORJl9XmuLcKx WoFjPytBL7O0cj    The folder data/multiplefiles/ contains hundreds of different files.\r\n",
      "Y\u001b[01;31m\u001b[K21\u001b[m\u001b[KvWAIX4Z0WUTM7DmK0wshcILLhhbOjCdYsjYjv    \r\n",
      "JIZwhvDKgBN7mYp91l1amc5vslf\u001b[01;31m\u001b[K21\u001b[m\u001b[KT1QF7rPSOGb    Can you identify the file containing the word \"piping\"?\r\n",
      "1FnljYC\u001b[01;31m\u001b[K21\u001b[m\u001b[KyJelDddYuBIoBGS8wRPd9dbx385UdfB    \r\n",
      "ncv XY3arX7Tz1NdjKsdJp8l7U4\u001b[01;31m\u001b[K21\u001b[m\u001b[KX8zLqA0IlFc        \r\n"
     ]
    }
   ],
   "source": [
    "# solution: how to find the instructions for the next exercise\n",
    "grep 21 data/exercise1_grep.txt"
   ]
  },
  {
   "cell_type": "markdown",
   "metadata": {
    "slideshow": {
     "slide_type": "slide"
    }
   },
   "source": [
    "## Searching multiple files\n",
    "\n",
    "Grep is useful to search over multiple files in a single command.\n",
    "\n",
    "The folder data/multiplefiles/ contains 50 randomly generated files. You can see their contents with head data/multiplefiles/\\* or with less.\n",
    "\n",
    "One of these files contains the word \"regex\" in it. Are you able to find it?"
   ]
  },
  {
   "cell_type": "code",
   "execution_count": 99,
   "metadata": {
    "collapsed": false,
    "slideshow": {
     "slide_type": "subslide"
    }
   },
   "outputs": [
    {
     "name": "stdout",
     "output_type": "stream",
     "text": [
      "\u001b[35m\u001b[Kdata/multiplefiles/file32.txt\u001b[m\u001b[K\u001b[36m\u001b[K:\u001b[m\u001b[K5gsumFTKbKEJv9dD8W94FhoEQU8qf8RMUc\u001b[01;31m\u001b[Kregex\u001b[m\u001b[KR    \r\n",
      "\u001b[35m\u001b[Kdata/multiplefiles/file32.txt\u001b[m\u001b[K\u001b[36m\u001b[K:\u001b[m\u001b[KYgDiqkA C1o\u001b[01;31m\u001b[Kregex\u001b[m\u001b[K9giqI66c3sOwfLirOsgPpSuq    \r\n",
      "\u001b[35m\u001b[Kdata/multiplefiles/file32.txt\u001b[m\u001b[K\u001b[36m\u001b[K:\u001b[m\u001b[KIsXSnp 8U8pKR0LsVuK\u001b[01;31m\u001b[Kregex\u001b[m\u001b[KO5GFegOtV4GW4fNQ    Good! You've found the \r\n",
      "\u001b[35m\u001b[Kdata/multiplefiles/file32.txt\u001b[m\u001b[K\u001b[36m\u001b[K:\u001b[m\u001b[Kl 4px8KhPRmfEJgi5uTuVO1XahG3H1sY\u001b[01;31m\u001b[Kregex\u001b[m\u001b[K4wt    file containing the word \"\u001b[01;31m\u001b[Kregex\u001b[m\u001b[K\"\r\n",
      "\u001b[35m\u001b[Kdata/multiplefiles/file32.txt\u001b[m\u001b[K\u001b[36m\u001b[K:\u001b[m\u001b[Kyz8P5 HC6N5D XRHPncZjTAeM\u001b[01;31m\u001b[Kregex\u001b[m\u001b[KT9bQUoZdsh    \r\n",
      "\u001b[35m\u001b[Kdata/multiplefiles/file32.txt\u001b[m\u001b[K\u001b[36m\u001b[K:\u001b[m\u001b[KeWUd18s0MVx5YYrEK KCKeF5hvO\u001b[01;31m\u001b[Kregex\u001b[m\u001b[KIiZbIGUX    To continue, \r\n",
      "\u001b[35m\u001b[Kdata/multiplefiles/file32.txt\u001b[m\u001b[K\u001b[36m\u001b[K:\u001b[m\u001b[KMLXiKZJ8KyHMou9lYsz4ZjFYJSfB 14t\u001b[01;31m\u001b[Kregex\u001b[m\u001b[KtpJ    grep file32.txt data/exercise1_grep.txt\r\n",
      "\u001b[35m\u001b[Kdata/multiplefiles/file32.txt\u001b[m\u001b[K\u001b[36m\u001b[K:\u001b[m\u001b[KveFQU\u001b[01;31m\u001b[Kregex\u001b[m\u001b[KfnQxwQw6POJRNvvAeYwToX6ptvN39m    \r\n",
      "\u001b[35m\u001b[Kdata/multiplefiles/file32.txt\u001b[m\u001b[K\u001b[36m\u001b[K:\u001b[m\u001b[KcHoNv\u001b[01;31m\u001b[Kregex\u001b[m\u001b[KiGjHkmptPVTjOzvWVGbrGoHoywV4Vy    \r\n"
     ]
    }
   ],
   "source": [
    "# solution\n",
    "grep 'regex' data/multiplefiles/*"
   ]
  },
  {
   "cell_type": "markdown",
   "metadata": {
    "slideshow": {
     "slide_type": "slide"
    }
   },
   "source": [
    "## Searching multiple patterns and the Unix piping system\n",
    "\n",
    "How can we search that contain two or more patterns?\n",
    "\n",
    "One solution is to use the Unix piping system, executing one grep command, and then another grep on the output.\n",
    "\n",
    "This can be done using the pipe \"|\" symbol, like the following:\n",
    "\n",
    "```\n",
    "$: grep (first pattern) myfile.txt | grep (second pattern)\n",
    "```\n",
    "\n",
    "Scroll down for some example."
   ]
  },
  {
   "cell_type": "markdown",
   "metadata": {
    "slideshow": {
     "slide_type": "subslide"
    }
   },
   "source": [
    "The file data/genes/mgat_genes.gb is a genbank file. Notice how this format is well suited for grep searches:"
   ]
  },
  {
   "cell_type": "code",
   "execution_count": 100,
   "metadata": {
    "collapsed": false
   },
   "outputs": [
    {
     "name": "stdout",
     "output_type": "stream",
     "text": [
      "LOCUS       HUMUDPCNA               4705 bp    DNA     linear   PRI 19-SEP-1995\r\n",
      "DEFINITION  Human alpha-1,3-mannosyl-glycoprotein beta-1,\r\n",
      "            2-N-acetylglucosaminyltransferase (MGAT) gene, complete cds.\r\n",
      "ACCESSION   M61829\r\n",
      "VERSION     M61829.1  GI:340075\r\n",
      "KEYWORDS    alpha-1,3-mannosyl-glycoprotein beta-1,2-N-acetylglucosaminyltrae.\r\n",
      "SOURCE      Homo sapiens (human)\r\n",
      "  ORGANISM  Homo sapiens\r\n",
      "            Eukaryota; Metazoa; Chordata; Craniata; Vertebrata; Euteleostomi;\r\n",
      "            Mammalia; Eutheria; Euarchontoglires; Primates; Haplorrhini;\r\n"
     ]
    }
   ],
   "source": [
    "head data/genes/mgat_genes.gb"
   ]
  },
  {
   "cell_type": "markdown",
   "metadata": {
    "slideshow": {
     "slide_type": "fragment"
    }
   },
   "source": [
    "Let's say we want to search all the lines where \"ORGANISM\" is \"Homo sapiens\". \n",
    "\n",
    "We can do it with two grep commands:\n",
    "\n",
    "```\n",
    "grep ORGANISM data/genes/mgat_genes.gb | grep 'Homo sapiens'\n",
    "```\n",
    "Notice that searching for \"Homo sapiens\" alone would not be enough, as there are other lines where the word \"Homo sapiens\" is present."
   ]
  },
  {
   "cell_type": "code",
   "execution_count": 103,
   "metadata": {
    "collapsed": false
   },
   "outputs": [
    {
     "name": "stdout",
     "output_type": "stream",
     "text": [
      "  ORGANISM  \u001b[01;31m\u001b[KHomo sapiens\u001b[m\u001b[K\r\n",
      "  ORGANISM  \u001b[01;31m\u001b[KHomo sapiens\u001b[m\u001b[K\r\n",
      "  ORGANISM  \u001b[01;31m\u001b[KHomo sapiens\u001b[m\u001b[K\r\n",
      "  ORGANISM  \u001b[01;31m\u001b[KHomo sapiens\u001b[m\u001b[K\r\n",
      "  ORGANISM  \u001b[01;31m\u001b[KHomo sapiens\u001b[m\u001b[K\r\n",
      "  ORGANISM  \u001b[01;31m\u001b[KHomo sapiens\u001b[m\u001b[K\r\n",
      "  ORGANISM  \u001b[01;31m\u001b[KHomo sapiens\u001b[m\u001b[K\r\n",
      "  ORGANISM  \u001b[01;31m\u001b[KHomo sapiens\u001b[m\u001b[K\r\n",
      "  ORGANISM  \u001b[01;31m\u001b[KHomo sapiens\u001b[m\u001b[K\r\n",
      "  ORGANISM  \u001b[01;31m\u001b[KHomo sapiens\u001b[m\u001b[K\r\n",
      "  ORGANISM  \u001b[01;31m\u001b[KHomo sapiens\u001b[m\u001b[K\r\n",
      "  ORGANISM  \u001b[01;31m\u001b[KHomo sapiens\u001b[m\u001b[K\r\n",
      "  ORGANISM  \u001b[01;31m\u001b[KHomo sapiens\u001b[m\u001b[K\r\n",
      "  ORGANISM  \u001b[01;31m\u001b[KHomo sapiens\u001b[m\u001b[K\r\n",
      "  ORGANISM  \u001b[01;31m\u001b[KHomo sapiens\u001b[m\u001b[K\r\n",
      "  ORGANISM  \u001b[01;31m\u001b[KHomo sapiens\u001b[m\u001b[K\r\n",
      "  ORGANISM  \u001b[01;31m\u001b[KHomo sapiens\u001b[m\u001b[K\r\n",
      "  ORGANISM  \u001b[01;31m\u001b[KHomo sapiens\u001b[m\u001b[K\r\n",
      "  ORGANISM  \u001b[01;31m\u001b[KHomo sapiens\u001b[m\u001b[K\r\n",
      "  ORGANISM  \u001b[01;31m\u001b[KHomo sapiens\u001b[m\u001b[K\r\n",
      "  ORGANISM  \u001b[01;31m\u001b[KHomo sapiens\u001b[m\u001b[K\r\n",
      "  ORGANISM  \u001b[01;31m\u001b[KHomo sapiens\u001b[m\u001b[K\r\n",
      "  ORGANISM  \u001b[01;31m\u001b[KHomo sapiens\u001b[m\u001b[K\r\n",
      "  ORGANISM  \u001b[01;31m\u001b[KHomo sapiens\u001b[m\u001b[K\r\n",
      "  ORGANISM  \u001b[01;31m\u001b[KHomo sapiens\u001b[m\u001b[K\r\n",
      "  ORGANISM  \u001b[01;31m\u001b[KHomo sapiens\u001b[m\u001b[K\r\n",
      "  ORGANISM  \u001b[01;31m\u001b[KHomo sapiens\u001b[m\u001b[K\r\n",
      "  ORGANISM  \u001b[01;31m\u001b[KHomo sapiens\u001b[m\u001b[K\r\n",
      "  ORGANISM  \u001b[01;31m\u001b[KHomo sapiens\u001b[m\u001b[K\r\n",
      "  ORGANISM  \u001b[01;31m\u001b[KHomo sapiens\u001b[m\u001b[K\r\n",
      "  ORGANISM  \u001b[01;31m\u001b[KHomo sapiens\u001b[m\u001b[K\r\n",
      "  ORGANISM  \u001b[01;31m\u001b[KHomo sapiens\u001b[m\u001b[K\r\n",
      "  ORGANISM  \u001b[01;31m\u001b[KHomo sapiens\u001b[m\u001b[K\r\n",
      "  ORGANISM  \u001b[01;31m\u001b[KHomo sapiens\u001b[m\u001b[K\r\n",
      "  ORGANISM  \u001b[01;31m\u001b[KHomo sapiens\u001b[m\u001b[K\r\n",
      "  ORGANISM  \u001b[01;31m\u001b[KHomo sapiens\u001b[m\u001b[K\r\n",
      "  ORGANISM  \u001b[01;31m\u001b[KHomo sapiens\u001b[m\u001b[K\r\n",
      "  ORGANISM  \u001b[01;31m\u001b[KHomo sapiens\u001b[m\u001b[K\r\n",
      "  ORGANISM  \u001b[01;31m\u001b[KHomo sapiens\u001b[m\u001b[K\r\n",
      "  ORGANISM  \u001b[01;31m\u001b[KHomo sapiens\u001b[m\u001b[K\r\n",
      "  ORGANISM  \u001b[01;31m\u001b[KHomo sapiens\u001b[m\u001b[K\r\n",
      "  ORGANISM  \u001b[01;31m\u001b[KHomo sapiens\u001b[m\u001b[K\r\n",
      "  ORGANISM  \u001b[01;31m\u001b[KHomo sapiens\u001b[m\u001b[K\r\n",
      "  ORGANISM  \u001b[01;31m\u001b[KHomo sapiens\u001b[m\u001b[K\r\n",
      "  ORGANISM  \u001b[01;31m\u001b[KHomo sapiens\u001b[m\u001b[K\r\n",
      "  ORGANISM  \u001b[01;31m\u001b[KHomo sapiens\u001b[m\u001b[K\r\n",
      "  ORGANISM  \u001b[01;31m\u001b[KHomo sapiens\u001b[m\u001b[K\r\n",
      "  ORGANISM  \u001b[01;31m\u001b[KHomo sapiens\u001b[m\u001b[K\r\n",
      "  ORGANISM  \u001b[01;31m\u001b[KHomo sapiens\u001b[m\u001b[K\r\n",
      "  ORGANISM  \u001b[01;31m\u001b[KHomo sapiens\u001b[m\u001b[K\r\n",
      "  ORGANISM  \u001b[01;31m\u001b[KHomo sapiens\u001b[m\u001b[K\r\n",
      "  ORGANISM  \u001b[01;31m\u001b[KHomo sapiens\u001b[m\u001b[K\r\n",
      "  ORGANISM  \u001b[01;31m\u001b[KHomo sapiens\u001b[m\u001b[K\r\n",
      "  ORGANISM  \u001b[01;31m\u001b[KHomo sapiens\u001b[m\u001b[K\r\n",
      "  ORGANISM  \u001b[01;31m\u001b[KHomo sapiens\u001b[m\u001b[K\r\n",
      "  ORGANISM  \u001b[01;31m\u001b[KHomo sapiens\u001b[m\u001b[K\r\n",
      "  ORGANISM  \u001b[01;31m\u001b[KHomo sapiens\u001b[m\u001b[K\r\n",
      "  ORGANISM  \u001b[01;31m\u001b[KHomo sapiens\u001b[m\u001b[K\r\n",
      "  ORGANISM  \u001b[01;31m\u001b[KHomo sapiens\u001b[m\u001b[K\r\n",
      "  ORGANISM  \u001b[01;31m\u001b[KHomo sapiens\u001b[m\u001b[K\r\n"
     ]
    }
   ],
   "source": [
    "grep ORGANISM data/genes/mgat_genes.gb | grep 'Homo sapiens'"
   ]
  },
  {
   "cell_type": "markdown",
   "metadata": {
    "slideshow": {
     "slide_type": "subslide"
    }
   },
   "source": [
    "The file contains sequences from two other organisms apart from Homo sapiens. Can you guess which one to search for the next exercise?"
   ]
  },
  {
   "cell_type": "code",
   "execution_count": 102,
   "metadata": {
    "collapsed": false,
    "slideshow": {
     "slide_type": "fragment"
    }
   },
   "outputs": [
    {
     "name": "stdout",
     "output_type": "stream",
     "text": [
      "  ORGANISM  Bos \u001b[01;31m\u001b[Ktaurus\u001b[m\u001b[K\r\n",
      "  ORGANISM  Bos \u001b[01;31m\u001b[Ktaurus\u001b[m\u001b[K\r\n",
      "  ORGANISM  Bos \u001b[01;31m\u001b[Ktaurus\u001b[m\u001b[K\r\n",
      "  ORGANISM  Bos \u001b[01;31m\u001b[Ktaurus\u001b[m\u001b[K\t\t\t   _______________\r\n",
      "  ORGANISM  Bos \u001b[01;31m\u001b[Ktaurus\u001b[m\u001b[K\t\t          < Well guessed! >\r\n",
      "  ORGANISM  Bos \u001b[01;31m\u001b[Ktaurus\u001b[m\u001b[K\t\t\t   ---------------\r\n",
      "  ORGANISM  Bos \u001b[01;31m\u001b[Ktaurus\u001b[m\u001b[K\t\t\t\t\t\\   ^__^\r\n",
      "  ORGANISM  Bos \u001b[01;31m\u001b[Ktaurus\u001b[m\u001b[K\t\t\t\t\t \\  (oo)\\_______\r\n",
      "  ORGANISM  Bos \u001b[01;31m\u001b[Ktaurus\u001b[m\u001b[K\t\t\t  \t\t    (__)\\       )\\/\\\r\n",
      "  ORGANISM  Bos \u001b[01;31m\u001b[Ktaurus\u001b[m\u001b[K\t\t\t\t\t\t||----w |\r\n",
      "  ORGANISM  Bos \u001b[01;31m\u001b[Ktaurus\u001b[m\u001b[K\t\t\t\t\t\t||     ||\r\n",
      "  ORGANISM  Bos \u001b[01;31m\u001b[Ktaurus\u001b[m\u001b[K\r\n",
      "  ORGANISM  Bos \u001b[01;31m\u001b[Ktaurus\u001b[m\u001b[K\r\n",
      "  ORGANISM  Bos \u001b[01;31m\u001b[Ktaurus\u001b[m\u001b[K\r\n",
      "  ORGANISM  Bos \u001b[01;31m\u001b[Ktaurus\u001b[m\u001b[K\r\n",
      "  ORGANISM  Bos \u001b[01;31m\u001b[Ktaurus\u001b[m\u001b[K\r\n",
      "  ORGANISM  Bos \u001b[01;31m\u001b[Ktaurus\u001b[m\u001b[K\t\t\t\t===============\r\n",
      "  ORGANISM  Bos \u001b[01;31m\u001b[Ktaurus\u001b[m\u001b[K\t\t\t\tNext Exercise\r\n",
      "  ORGANISM  Bos \u001b[01;31m\u001b[Ktaurus\u001b[m\u001b[K\t\t\t\t===============\r\n",
      "  ORGANISM  Bos \u001b[01;31m\u001b[Ktaurus\u001b[m\u001b[K\r\n",
      "  ORGANISM  Bos \u001b[01;31m\u001b[Ktaurus\u001b[m\u001b[K\t\t\t\tTo continue, grep\r\n",
      "  ORGANISM  Bos \u001b[01;31m\u001b[Ktaurus\u001b[m\u001b[K\t\t\t\t\"regex\" in\r\n",
      "  ORGANISM  Bos \u001b[01;31m\u001b[Ktaurus\u001b[m\u001b[K\t\t\t\tdata/exercise1_grep.txt\r\n",
      "  ORGANISM  Bos \u001b[01;31m\u001b[Ktaurus\u001b[m\u001b[K\r\n"
     ]
    }
   ],
   "source": [
    "# Solution: grep for \"bos taurus\":\n",
    "grep ORGANISM data/genes/mgat_genes.gb | grep taurus"
   ]
  },
  {
   "cell_type": "markdown",
   "metadata": {
    "slideshow": {
     "slide_type": "slide"
    }
   },
   "source": [
    "## Regular Expressions\n",
    "\n",
    "Regular expressions allow to search for more complex patterns. \n",
    "\n",
    "| regex    | description |\n",
    "| -------- | ----------- |\n",
    "| .        | matches any character |\n",
    "| [A-Za-z] | matches any of the characters within parenthesis|\n",
    "| .\\*      | matches any character, any number of times| "
   ]
  },
  {
   "cell_type": "markdown",
   "metadata": {},
   "source": [
    "# Working with tabular files: Awk"
   ]
  }
 ],
 "metadata": {
  "celltoolbar": "Slideshow",
  "kernelspec": {
   "display_name": "Bash",
   "language": "bash",
   "name": "bash"
  },
  "language_info": {
   "codemirror_mode": "shell",
   "file_extension": ".sh",
   "mimetype": "text/x-sh",
   "name": "bash"
  },
  "nav_menu": {},
  "toc": {
   "navigate_menu": true,
   "number_sections": true,
   "sideBar": true,
   "threshold": 6,
   "toc_cell": true,
   "toc_section_display": "block",
   "toc_window_display": false
  }
 },
 "nbformat": 4,
 "nbformat_minor": 1
}
