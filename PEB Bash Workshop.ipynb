{
 "cells": [
  {
   "cell_type": "markdown",
   "metadata": {
    "toc": "true"
   },
   "source": [
    "# Table of Contents\n",
    " <p><div class=\"lev1 toc-item\"><a href=\"#PEB-Belgrade---Bash-workshop\" data-toc-modified-id=\"PEB-Belgrade---Bash-workshop-1\"><span class=\"toc-item-num\">1&nbsp;&nbsp;</span>PEB Belgrade - Bash workshop</a></div><div class=\"lev1 toc-item\"><a href=\"#Definitions:-The-Unix-Philosophy\" data-toc-modified-id=\"Definitions:-The-Unix-Philosophy-2\"><span class=\"toc-item-num\">2&nbsp;&nbsp;</span>Definitions: The Unix Philosophy</a></div><div class=\"lev2 toc-item\"><a href=\"#More-definitions\" data-toc-modified-id=\"More-definitions-2.1\"><span class=\"toc-item-num\">2.1&nbsp;&nbsp;</span>More definitions</a></div><div class=\"lev1 toc-item\"><a href=\"#How-to-follow-this-workshop\" data-toc-modified-id=\"How-to-follow-this-workshop-3\"><span class=\"toc-item-num\">3&nbsp;&nbsp;</span>How to follow this workshop</a></div><div class=\"lev2 toc-item\"><a href=\"#Getting-a-Terminal-application\" data-toc-modified-id=\"Getting-a-Terminal-application-3.1\"><span class=\"toc-item-num\">3.1&nbsp;&nbsp;</span>Getting a Terminal application</a></div><div class=\"lev3 toc-item\"><a href=\"#Windows\" data-toc-modified-id=\"Windows-3.1.1\"><span class=\"toc-item-num\">3.1.1&nbsp;&nbsp;</span>Windows</a></div><div class=\"lev3 toc-item\"><a href=\"#Mac\" data-toc-modified-id=\"Mac-3.1.2\"><span class=\"toc-item-num\">3.1.2&nbsp;&nbsp;</span>Mac</a></div><div class=\"lev3 toc-item\"><a href=\"#Linux\" data-toc-modified-id=\"Linux-3.1.3\"><span class=\"toc-item-num\">3.1.3&nbsp;&nbsp;</span>Linux</a></div><div class=\"lev2 toc-item\"><a href=\"#Getting-the-workshop-materials\" data-toc-modified-id=\"Getting-the-workshop-materials-3.2\"><span class=\"toc-item-num\">3.2&nbsp;&nbsp;</span>Getting the workshop materials</a></div><div class=\"lev1 toc-item\"><a href=\"#Basic-Unix-Commands:-ls,-cd\" data-toc-modified-id=\"Basic-Unix-Commands:-ls,-cd-4\"><span class=\"toc-item-num\">4&nbsp;&nbsp;</span>Basic Unix Commands: ls, cd</a></div><div class=\"lev1 toc-item\"><a href=\"#Accessing-the-contents-of-a-file:-head,-cat,-less\" data-toc-modified-id=\"Accessing-the-contents-of-a-file:-head,-cat,-less-5\"><span class=\"toc-item-num\">5&nbsp;&nbsp;</span>Accessing the contents of a file: head, cat, less</a></div><div class=\"lev1 toc-item\"><a href=\"#Searching-patterns-into-file:-grep\" data-toc-modified-id=\"Searching-patterns-into-file:-grep-6\"><span class=\"toc-item-num\">6&nbsp;&nbsp;</span>Searching patterns into file: grep</a></div><div class=\"lev2 toc-item\"><a href=\"#Accessing-grep-documentation\" data-toc-modified-id=\"Accessing-grep-documentation-6.1\"><span class=\"toc-item-num\">6.1&nbsp;&nbsp;</span>Accessing grep documentation</a></div><div class=\"lev2 toc-item\"><a href=\"#Searching-multiple-files\" data-toc-modified-id=\"Searching-multiple-files-6.2\"><span class=\"toc-item-num\">6.2&nbsp;&nbsp;</span>Searching multiple files</a></div><div class=\"lev2 toc-item\"><a href=\"#Searching-multiple-patterns-and-the-Unix-piping-system\" data-toc-modified-id=\"Searching-multiple-patterns-and-the-Unix-piping-system-6.3\"><span class=\"toc-item-num\">6.3&nbsp;&nbsp;</span>Searching multiple patterns and the Unix piping system</a></div><div class=\"lev2 toc-item\"><a href=\"#Regular-Expressions\" data-toc-modified-id=\"Regular-Expressions-6.4\"><span class=\"toc-item-num\">6.4&nbsp;&nbsp;</span>Regular Expressions</a></div><div class=\"lev2 toc-item\"><a href=\"#Regular-Expression-exercise\" data-toc-modified-id=\"Regular-Expression-exercise-6.5\"><span class=\"toc-item-num\">6.5&nbsp;&nbsp;</span>Regular Expression exercise</a></div><div class=\"lev1 toc-item\"><a href=\"#Working-with-tabular-files:-Awk\" data-toc-modified-id=\"Working-with-tabular-files:-Awk-7\"><span class=\"toc-item-num\">7&nbsp;&nbsp;</span>Working with tabular files: Awk</a></div><div class=\"lev2 toc-item\"><a href=\"#Example-of-tabular-file:-the-GFF3-format\" data-toc-modified-id=\"Example-of-tabular-file:-the-GFF3-format-7.1\"><span class=\"toc-item-num\">7.1&nbsp;&nbsp;</span>Example of tabular file: the GFF3 format</a></div>"
   ]
  },
  {
   "cell_type": "markdown",
   "metadata": {
    "slideshow": {
     "slide_type": "slide"
    }
   },
   "source": [
    "# PEB Belgrade - Bash workshop\n",
    "\n",
    "Giovanni M. Dall'Olio, GlaxoSmithKline, 12/09/2016. http://bioinfoblog.it\n",
    "\n",
    "```\n",
    " _______________\n",
    " / Welcome to    \\\n",
    " \\ PEB Belgrade! /\n",
    "  ---------------\n",
    "         \\   ^__^\n",
    "          \\  (oo)\\_______\n",
    "             (__)\\       )\\/\\\n",
    "                 ||----w |\n",
    "                 ||     ||\n",
    "```\n",
    "\n",
    "Welcome to Belgrade!\n",
    "\n",
    "In this workshop we will review some basic Unix command, as well as bash usage.\n",
    "\n",
    "If you attended the [Programming for Evolutionary Biology course in Leipzig](http://evop.bioinf.uni-leipzig.de/), this will be a refreshener. I've hidden some **secrets** in the exercises, so you will not get bored :-)\n",
    "\n",
    "If you are new to bash, this will be a short introduction."
   ]
  },
  {
   "cell_type": "code",
   "execution_count": 1,
   "metadata": {
    "collapsed": false,
    "run_control": {
     "frozen": false,
     "read_only": false
    },
    "slideshow": {
     "slide_type": "skip"
    }
   },
   "outputs": [
    {
     "name": "stdout",
     "output_type": "stream",
     "text": []
    }
   ],
   "source": [
    "# Configuration - this will not appear in the slideshow\n",
    "alias grep='grep --color'"
   ]
  },
  {
   "cell_type": "markdown",
   "metadata": {
    "slideshow": {
     "slide_type": "slide"
    }
   },
   "source": [
    "# Definitions: The Unix Philosophy\n",
    "\n",
    "**Unix** is the name of an operating system created in the '80s, which became popular for introducing a novel approach to computing."
   ]
  },
  {
   "cell_type": "markdown",
   "metadata": {
    "slideshow": {
     "slide_type": "fragment"
    }
   },
   "source": [
    "The Unix philosophy can be summarised as: \n",
    "\n",
    "- Make each program do one thing well.\n",
    "- Expect the output of every program to become the input to another, as yet unknown, program. \n",
    "- Design and build software, even operating systems, to be tried early, ideally within weeks. \n",
    "- Use tools in preference to unskilled help to lighten a programming task"
   ]
  },
  {
   "cell_type": "markdown",
   "metadata": {
    "slideshow": {
     "slide_type": "subslide"
    }
   },
   "source": [
    "These principles can be useful to any person wishing to learn programming. You will see that how the Unix world is full of small programs, each with a simple and well defined scope, and you will learn how to combine these programs using the Unix Piping interface."
   ]
  },
  {
   "cell_type": "markdown",
   "metadata": {
    "slideshow": {
     "slide_type": "subslide"
    }
   },
   "source": [
    "## More definitions\n",
    "\n",
    "    Linux: \n",
    "        a \"descendant\" of Unix, e.g. an operating system based on Unix that can run on modern computers\n",
    "\n",
    "    Terminal:\n",
    "        A software that allows to input commands to the computer, by typing them rather than point-and-click\n",
    "        \n",
    "    Bash: \n",
    "        A command-line interpreter, e.g. a software that interprets the commands given from the terminal, and execute them."
   ]
  },
  {
   "cell_type": "markdown",
   "metadata": {
    "slideshow": {
     "slide_type": "slide"
    }
   },
   "source": [
    "# How to follow this workshop\n",
    "\n",
    "\n",
    "## Getting a Terminal application\n",
    "\n",
    "All the exercises will be done in a Terminal. \n",
    "\n",
    "During the conference we may have also time for a \"Linux Install Party\", to get Linux into some of your laptops. However there are ways to access a bash terminal without installing Linux first.\n",
    "\n",
    "Scroll down to see what to install or launch."
   ]
  },
  {
   "cell_type": "markdown",
   "metadata": {
    "slideshow": {
     "slide_type": "subslide"
    }
   },
   "source": [
    "### Windows\n",
    "\n",
    "For Windows users, we will use a terminal emulator software called MobaXTerm: http://mobaxterm.mobatek.net/\n",
    "\n",
    "The Home Edition is free and contains all the features we will need for the workshop:\n",
    "\n",
    "<a href=\"http://mobaxterm.mobatek.net/\" target=\"_blank\"><img src=\"http://mobaxterm.mobatek.net/img/moba/features/feature-terminal.png\" width=\"400\"></a>"
   ]
  },
  {
   "cell_type": "markdown",
   "metadata": {
    "slideshow": {
     "slide_type": "subslide"
    }
   },
   "source": [
    "### Mac\n",
    "\n",
    "You should be able to use the Console App in Mac.\n",
    "\n",
    "<img src=\"http://blog.teamtreehouse.com/wp-content/uploads/2012/09/Screen-Shot-2012-09-25-at-1.01.45-PM.png\" width=\"400\">"
   ]
  },
  {
   "cell_type": "markdown",
   "metadata": {
    "slideshow": {
     "slide_type": "subslide"
    }
   },
   "source": [
    "### Linux\n",
    "\n",
    "Congratulations on having Linux installed! You can use your favorite terminal app (e.g. gnome-terminal or konsole)\n",
    "\n",
    "<img src=\"https://camo.githubusercontent.com/358e5e2206148280d127128499ad92e8621e5517/68747470733a2f2f7261772e6769746875622e636f6d2f63656d6d616e6f75696c696469732f6d6f6e6f6b61692d676e6f6d652d7465726d696e616c2f6d61737465722f73637265656e73686f742d30312e706e67\" width=\"400\">\n"
   ]
  },
  {
   "cell_type": "markdown",
   "metadata": {
    "slideshow": {
     "slide_type": "slide"
    }
   },
   "source": [
    "## Getting the workshop materials\n",
    "\n",
    "Now that we have a terminal application ready, let's download all the course materials.\n",
    "\n",
    "Open the terminal, and type the following commands (omitting the \"$:\"):\n",
    "\n",
    "```\n",
    "$: wget  https://github.com/dalloliogm/belgrade_unix_intro/archive/master.zip\n",
    "$: unzip master.zip\n",
    "\n",
    "```\n",
    "\n",
    "\n",
    "Explanation:\n",
    "\n",
    " - the **wget** command downloads a .zip file containing all the materials\n",
    " - the **unzip** command uncompresses the .zip file, creating a new folder in your home area."
   ]
  },
  {
   "cell_type": "markdown",
   "metadata": {
    "slideshow": {
     "slide_type": "subslide"
    }
   },
   "source": [
    "\\# Expected output\n",
    "\n",
    "```\n",
    "$: wget  https://github.com/dalloliogm/belgrade_unix_intro/archive/master.zip\n",
    "\n",
    "--2016-08-26 09:55:53--  https://github.com/dalloliogm/belgrade_unix_intro/archive/master.zip\n",
    "Resolving github.com... 192.30.253.113\n",
    "Connecting to github.com|192.30.253.113|:443... connected.\n",
    "HTTP request sent, awaiting response... 302 Found\n",
    "Location: https://codeload.github.com/dalloliogm/belgrade_unix_intro/zip/master [following]\n",
    "--2016-08-26 09:55:54--  https://codeload.github.com/dalloliogm/belgrade_unix_intro/zip/master\n",
    "Resolving codeload.github.com... 192.30.253.120\n",
    "Connecting to codeload.github.com|192.30.253.120|:443... connected.\n",
    "HTTP request sent, awaiting response... 200 OK\n",
    "Length: 129112 (126K) [application/zip]\n",
    "Saving to: `master.zip.1'\n",
    "\n",
    "100%[========================================================================================================================================================================>] 129,112      617K/s   in 0.2s\n",
    "\n",
    "2016-08-26 09:55:54 (617 KB/s) - `master.zip' saved [129112/129112]\n",
    "$: unzip master.zip\n",
    "\n",
    "Archive:  master.zip\n",
    "   creating: belgrade_unix_intro-master/\n",
    "  inflating: belgrade_unix_intro-master/PEB Bash Workshop.ipynb\n",
    "  inflating: belgrade_unix_intro-master/README.md\n",
    "   creating: belgrade_unix_intro-master/data/\n",
    "   creating: belgrade_unix_intro-master/data/part1_grep/\n",
    "  inflating: belgrade_unix_intro-master/data/part1_grep/file1.txt\n",
    "  inflating: belgrade_unix_intro-master/data/part1_grep/file2.txt\n",
    "   creating: belgrade_unix_intro-master/src/\n",
    "   creating: belgrade_unix_intro-master/src/data/\n",
    "  inflating: belgrade_unix_intro-master/src/data/README.rst\n",
    "  inflating: belgrade_unix_intro-master/src/generate_grep_exercise.py\n",
    "  ```"
   ]
  },
  {
   "cell_type": "markdown",
   "metadata": {
    "slideshow": {
     "slide_type": "slide"
    }
   },
   "source": [
    "# Basic Unix Commands: ls, cd\n",
    "\n",
    "Let's have a look at the files we just downloaded.\n",
    "\n",
    "We will use two basic Unix commands:\n",
    "\n",
    " - **ls** list the number of files in the current directory\n",
    " - **cd** allows to move to a different directory.\n",
    " \n",
    " \n",
    "Typing **ls** will show all the files in the current directory. Among these you should see a folder called **belgrade_unix_intro-master**, created by the wget and unzip commands. \n",
    " \n",
    "Let's move to this new directory, and list the files in it:\n",
    " \n",
    "```\n",
    "$: cd belgrade_unix_intro-master/\n",
    "$: ls\n",
    "```\n",
    "\n",
    "This will show a list of files, including a file called **start_here.txt**, a README, a few folders (data/, src/), and some other files."
   ]
  },
  {
   "cell_type": "code",
   "execution_count": 2,
   "metadata": {
    "collapsed": false,
    "run_control": {
     "frozen": false,
     "read_only": false
    },
    "slideshow": {
     "slide_type": "subslide"
    }
   },
   "outputs": [
    {
     "name": "stdout",
     "output_type": "stream",
     "text": [
      "total 456\r\n",
      "drwxr-x---. 4 gmd78366 gsk_rd   4096 Aug 28 06:06 \u001b[0m\u001b[01;34mdata\u001b[0m\r\n",
      "-rw-r-----. 1 gmd78366 gsk_rd    123 Sep  6 05:13 example.bed\r\n",
      "-rw-r-----. 1 gmd78366 gsk_rd    454 Aug 27 10:53 Makefile\r\n",
      "-rw-r-----. 1 gmd78366 gsk_rd  54760 Sep  7 06:12 PEB Bash Workshop.ipynb\r\n",
      "-rw-r-----. 1 gmd78366 gsk_rd  56609 Sep  7 06:13 PEB Bioconductor workshop.ipynb\r\n",
      "-rw-r-----. 1 gmd78366 gsk_rd    260 Aug 26 14:47 README.md\r\n",
      "-rw-r-----. 1 gmd78366 gsk_rd 312257 Sep  7 04:59 slides.html\r\n",
      "drwxr-x---. 4 gmd78366 gsk_rd   4096 Sep  7 07:05 \u001b[01;34msrc\u001b[0m\r\n",
      "-rw-r-----. 1 gmd78366 gsk_rd   1877 Aug 25 18:06 start_here.txt\r\n"
     ]
    }
   ],
   "source": [
    "# Contents of the PEB workshop directory\n",
    "ls -l"
   ]
  },
  {
   "cell_type": "markdown",
   "metadata": {
    "slideshow": {
     "slide_type": "slide"
    }
   },
   "source": [
    "# Accessing the contents of a file: head, cat, less\n",
    "\n",
    "The new folder contains a file named start_here.txt, containing the first instructions for the workshop.\n",
    "\n",
    "To access the contents of a file, we can use several Unix commands:\n",
    "\n",
    "| command       | description                                   | example             |\n",
    "| :------------:|:-------------------------------------         |:------------------- |\n",
    "| **head**      | print the first lines of the file             | head start_here.txt |\n",
    "| **tail**      | print the last lines of the file              | tail start_here.txt |\n",
    "| **cat**       | print the contents of the file to the screen  | cat start_here.txt  |\n",
    "| **less**      | allows to navigate contents of the file       | less start_here.txt |"
   ]
  },
  {
   "cell_type": "markdown",
   "metadata": {},
   "source": [
    "For the first exercise, type \"head start_here.txt\" and follow the instructions:\n"
   ]
  },
  {
   "cell_type": "code",
   "execution_count": 3,
   "metadata": {
    "collapsed": false,
    "run_control": {
     "frozen": false,
     "read_only": false
    }
   },
   "outputs": [
    {
     "name": "stdout",
     "output_type": "stream",
     "text": [
      " _________________________________________________\r\n",
      "/ To navigate the contents of this file, type:     \\\r\n",
      "|                                                  |\r\n",
      "|        less start_here.txt                       |\r\n",
      "\\                                                  /\r\n",
      " --------------------------------------------------\r\n",
      "        \\   ^__^\r\n",
      "         \\  (oo)\\_______\r\n",
      "            (__)\\       )\\/\\\r\n",
      "                ||----w |\r\n"
     ]
    }
   ],
   "source": [
    "head start_here.txt"
   ]
  },
  {
   "cell_type": "markdown",
   "metadata": {
    "slideshow": {
     "slide_type": "slide"
    }
   },
   "source": [
    "# Searching patterns into file: grep\n",
    "\n",
    "The instructions for the next exercises are stored in the **data/exercise1_grep.txt** file. \n",
    "\n",
    "However, if you look at this file with head or less, you will see that its contents have no meaning!"
   ]
  },
  {
   "cell_type": "code",
   "execution_count": 4,
   "metadata": {
    "collapsed": false,
    "run_control": {
     "frozen": false,
     "read_only": false
    },
    "slideshow": {
     "slide_type": "-"
    }
   },
   "outputs": [
    {
     "name": "stdout",
     "output_type": "stream",
     "text": [
      "PWapg3ZDqzNWF6v VocznrWXXLTi gIY7Tj0bVx     pmslXrBubMQeoEJXrF0OfHpcpxwTlktHSCm\r\n",
      "spf5840ZpMkpg4tZvgd3z4dxLVLiXnfmtrNaGL9d    BV04Lu18iLMugTwPHRRkLCADC8PKO8jXutZ\r\n",
      "zBTK9i8ya oe4IoxbCZhST4XvDe mrccT7cwYGAD    1SmSareQB5q8wNsAvaA79aqXlIpmBZgmUVR\r\n",
      "4gr mwZcxIg6pQwgddsJa4giM7hzjp8lit49D7kH    upYIZQr8MbyEk4CX Y7k0uMmW9kk1fNJDea\r\n",
      "DMj0BJp wJ8BF3xyd61euAWb4IjOv6paBlKGse3a    buZnpSOJv9PWhQpQnuxmZosVdYFw6TZF3RG\r\n",
      "yxArpyFCKt5637qiASyfadyheMBAp4bccq5furIx    EOgGCEnWGuJwLSmvoehnXBdlbqDS5YN f7k\r\n",
      "T016mr v0mzedsHTFReC3ZjqVuYXpPuTulu8F0Z3    pmr9l96nOUEVXckfdiidZUP6UvFNh4Doaqz\r\n",
      "B0zFnnWEFttxrUjyuHgU9U09wEt7HfHBP1MAstQb    WgxYhtDn3swa5fsmYgtxQKjjbIZzuVszEdl\r\n",
      "qByK4hFg7JQowOAXW60EBXQYSDHFgUWHlJAGYnjO    CoB6YKtvZPaS8H8BRdsuBwdqU3KRz O9oXk\r\n",
      "3Ntf9b6jv7hZsjtfEcaIzMuakpsEjl6i7Mra4M3U    MgWDXcpafKACEA0rUAro9DjHo4VgbBJ6tdj\r\n"
     ]
    }
   ],
   "source": [
    "head data/exercise1_grep.txt"
   ]
  },
  {
   "cell_type": "markdown",
   "metadata": {
    "slideshow": {
     "slide_type": "-"
    }
   },
   "source": [
    "This is because I've hidden all the instructions in the file, just to make things more interesting!\n",
    "\n",
    "Scroll down to see how to continue."
   ]
  },
  {
   "cell_type": "markdown",
   "metadata": {
    "slideshow": {
     "slide_type": "subslide"
    }
   },
   "source": [
    "I've hidden the instructions for the first exercise in the lines containing the word \"start\" somewhere.\n",
    "\n",
    "To find them, type:\n",
    "\n",
    "```\n",
    "$: grep start data/exercise1_grep\n",
    "```"
   ]
  },
  {
   "cell_type": "code",
   "execution_count": 5,
   "metadata": {
    "collapsed": false,
    "run_control": {
     "frozen": false,
     "read_only": false
    },
    "slideshow": {
     "slide_type": "fragment"
    }
   },
   "outputs": [
    {
     "name": "stdout",
     "output_type": "stream",
     "text": [
      "NjIM \u001b[01;31m\u001b[Kstart\u001b[m\u001b[KesMsuqZNWhowFxuSFX4IaLymKGYdef    \r\n",
      "McQYo6 umUY816rvtSGjAl \u001b[01;31m\u001b[Kstart\u001b[m\u001b[K DdBaWfylxrZ     ______________________________\r\n",
      "Ewu1xLvv7OrXNWu4otWYoF gdV4U3i\u001b[01;31m\u001b[Kstart\u001b[m\u001b[KdzYlJ    / Congrats!                    \\  \r\n",
      "kDDgWqtLBgY85 PQm8p1ajcAEzbQdb \u001b[01;31m\u001b[Kstart\u001b[m\u001b[K rMv    |  You've used grep correctly, |\r\n",
      "kCVqk6sGesHvBp6 pNLzStgdhKu \u001b[01;31m\u001b[Kstart\u001b[m\u001b[K 9YQQNI    \\  and found a cow.            /\r\n",
      "tLMfr \u001b[01;31m\u001b[Kstart\u001b[m\u001b[KUY36ToJEfE4uqIAQ3JboyoBOFyL8s     ------------------------------\r\n",
      " bWKJdeuL \u001b[01;31m\u001b[Kstart\u001b[m\u001b[KI4xvVOZxwyC7oMKHaoG5ePF4k            \\   ^__^\r\n",
      "fThKk5wk \u001b[01;31m\u001b[Kstart\u001b[m\u001b[KAo6IzNddHcxuj93oFRam0mneoF             \\  (oo)\\_______\r\n",
      "aw\u001b[01;31m\u001b[Kstart\u001b[m\u001b[Kyw5tH3FzetzVxhw8c VrV7Uyis 5q8Yvj                (__)\\       )\\/\\ \r\n",
      "QgF4gHcEbAz \u001b[01;31m\u001b[Kstart\u001b[m\u001b[K 9ZbzG90fUafm64BIlTEIIr                    ||----w |\r\n",
      "XKWA \u001b[01;31m\u001b[Kstart\u001b[m\u001b[K6DpuNhYTXTcmo0UtCGa4SUo4JvnwvD                    ||     ||\r\n",
      "ZA0BrMOyH99y7VY97lkomNXHUJUv8MWg \u001b[01;31m\u001b[Kstart\u001b[m\u001b[K R    \r\n",
      "YgOF6ahX0hEhMf \u001b[01;31m\u001b[Kstart\u001b[m\u001b[KTZd 1 wDtbgoa86I8Atk    \r\n",
      "vln0CxxjrcgeeQ5EtPdG0Spx7\u001b[01;31m\u001b[Kstart\u001b[m\u001b[KIAT35hzj 6    \r\n",
      "xglkzByTDeiIKyoZbCQbO4br\u001b[01;31m\u001b[Kstart\u001b[m\u001b[K rb39 ExT9F    The command grep allows to search\r\n",
      "5\u001b[01;31m\u001b[Kstart\u001b[m\u001b[K7zPVWugW3vb9 mYBIxsuIVxhHUdIxiTgFZ    for a pattern in a text file.\r\n",
      "CLcSSkWNF0tHLOluZr43qptA \u001b[01;31m\u001b[Kstart\u001b[m\u001b[KxojHnAwbmJ    \r\n",
      "Fp \u001b[01;31m\u001b[Kstart\u001b[m\u001b[K ZwtvOeMtDld9oahg9rdmBvKtIjPqXFQ    It will print all the matching \r\n",
      "VOsyrwG4UOEsdfYLOfGFGKZWEvtJse \u001b[01;31m\u001b[Kstart\u001b[m\u001b[K 9Ra    lines to the screen.\r\n",
      "Sv81TKcZ8Fx1lb7xPZVMxW4ODNoKg8p7IHZ\u001b[01;31m\u001b[Kstart\u001b[m\u001b[K    \r\n",
      "GlbV\u001b[01;31m\u001b[Kstart\u001b[m\u001b[KpQQ5eQDweIn0VAGC8bQLbQ0Dzw4Ggvt    =================\r\n",
      "kziTL5jTi\u001b[01;31m\u001b[Kstart\u001b[m\u001b[K pijnXXmWRApPCC 19SUNHN8n7    Next Exercise\r\n",
      "v768DQ0dRCix6 \u001b[01;31m\u001b[Kstart\u001b[m\u001b[Kc0me0SF qIsYfeC704lam    =================\r\n",
      "vebdjvHTd\u001b[01;31m\u001b[Kstart\u001b[m\u001b[K RxBxhJayFkmRXqyOvqg5khG4O    \r\n",
      "QorxdcpNP1utzB\u001b[01;31m\u001b[Kstart\u001b[m\u001b[K6WpDOX4YzyIFpkZEalKW4    In the next exercise we will see \r\n",
      "GipBzz4Ul5sj3hVmVkQvPg \u001b[01;31m\u001b[Kstart\u001b[m\u001b[Kz9v6AF91EirG    how to access grep's documentation.\r\n",
      "CC09wNO65rwuCqUgi8Skg1NZ0SGR7WDUoVT\u001b[01;31m\u001b[Kstart\u001b[m\u001b[K    \r\n",
      "fjT7Ag59 RuhusLFzU \u001b[01;31m\u001b[Kstart\u001b[m\u001b[KGHFvKsYSp bnNsLG    Grep the following word to continue:\r\n",
      "Zx6RINR3hk \u001b[01;31m\u001b[Kstart\u001b[m\u001b[K667gnhTiLYLiB30MxX7irwVP      _            _        \r\n",
      "T0aoAQpfbNkO8LkSzSLJkLVEaXNxzQ \u001b[01;31m\u001b[Kstart\u001b[m\u001b[KVoL3     | |          | |       \r\n",
      "Nv0hZYvh0pHN0AlT BN\u001b[01;31m\u001b[Kstart\u001b[m\u001b[K C8pMzkIs7usQUWd     | |__    ___ | | _ __  \r\n",
      "5  \u001b[01;31m\u001b[Kstart\u001b[m\u001b[K  9Rq5tBOFDxiExQrRlPgCXoWt43a3US     | '_ \\  / _ \\| || '_ \\ \r\n",
      "46unsRj3c4ClXQvcoFPyE9cnRHDQOHFNNZ\u001b[01;31m\u001b[Kstart\u001b[m\u001b[Kc     | | | ||  __/| || |_) |\r\n",
      "40H3 \u001b[01;31m\u001b[Kstart\u001b[m\u001b[Kj6glBCFXqOhMH3BEdgBsPPQuBbOt6D     |_| |_| \\___||_|| .__/ \r\n",
      "Qam1yoNK3BCpwSyhRX8Wb3rA1U\u001b[01;31m\u001b[Kstart\u001b[m\u001b[K djDiAHuT                     | |    \r\n",
      "PFW \u001b[01;31m\u001b[Kstart\u001b[m\u001b[KKxEzUChDZGSPQNj4gsTS5k1JMBvWuY                      |_|  \r\n",
      "1bS5w1uaq65\u001b[01;31m\u001b[Kstart\u001b[m\u001b[KnVRWYkojLFMSkMjui8YYz1A5    \r\n",
      "g0 g8iyP \u001b[01;31m\u001b[Kstart\u001b[m\u001b[KQqkz7F05ST C S73TpreeesnFm    \r\n"
     ]
    }
   ],
   "source": [
    "grep start data/exercise1_grep.txt"
   ]
  },
  {
   "cell_type": "markdown",
   "metadata": {
    "slideshow": {
     "slide_type": "slide"
    }
   },
   "source": [
    "## Accessing grep documentation\n",
    "\n",
    "To access the documentation of a command, we can use the **man** command.\n",
    "\n",
    "Let's type the following:\n",
    "\n",
    "```\n",
    "$: man grep\n",
    "```\n",
    "\n",
    "This will allow to navigate the documentation for grep, in the same modality as with the **less** command. Use the arrows to scroll, and q to exit.\n",
    "\n",
    "For the next exercise, you will have to identify two options in the man page, and use them to do a case-insensitive search for \"ignorecase\", and count the number of lines."
   ]
  },
  {
   "cell_type": "code",
   "execution_count": 6,
   "metadata": {
    "collapsed": false,
    "run_control": {
     "frozen": false,
     "read_only": false
    },
    "slideshow": {
     "slide_type": "subslide"
    }
   },
   "outputs": [
    {
     "name": "stdout",
     "output_type": "stream",
     "text": [
      "td4kwN6cV0kqU3qMkwYOHl9MqjTQ \u001b[01;31m\u001b[Khelp\u001b[m\u001b[K MP6MrF    \r\n",
      "GY \u001b[01;31m\u001b[Khelp\u001b[m\u001b[K yEvNL3RuVQYqiumisBftk8irLzXwt61y    The documentation for grep can \r\n",
      "MTEwA\u001b[01;31m\u001b[Khelp\u001b[m\u001b[KhQapljO9yUtucAiNpvZrKdbwc3KUcsu    be accessed through man:\r\n",
      "NVD5n5HKKKz6GgDmyOGMlKSMTd \u001b[01;31m\u001b[Khelp\u001b[m\u001b[K Rii BCjC    \r\n",
      "ku1GNL6IpSHBvcGroqpHgbMUNCg3Yz3l\u001b[01;31m\u001b[Khelp\u001b[m\u001b[KnOBy        $: man grep\r\n",
      "XkHkwMI\u001b[01;31m\u001b[Khelp\u001b[m\u001b[K hidg7uJURR6loj5IAwv9oyeIUmqT    \r\n",
      "sGKar9AKY \u001b[01;31m\u001b[Khelp\u001b[m\u001b[K VhNi3MlGzT3WjAQdpWbvtuWeb    Scroll down to see all the \r\n",
      "jHLbw4whFT1B\u001b[01;31m\u001b[Khelp\u001b[m\u001b[KDfqZqhjXRYPjF0y7pkM8g3z3    parameters for grep and their description.\r\n",
      "hZ1OQgKcsgZo \u001b[01;31m\u001b[Khelp\u001b[m\u001b[K m4s64C8nSR5zM gU4fYObu    \r\n",
      "9jlkynOW\u001b[01;31m\u001b[Khelp\u001b[m\u001b[KLTaeswR5UnouUc3Ipsd4OjVI5PFO    Use / to search for text.\r\n",
      "k4pjhosSNRgJlr7kt\u001b[01;31m\u001b[Khelp\u001b[m\u001b[KAvkWOHszFMoP yPEbgT    Press the q key to exit.\r\n",
      "DPdj3lg4P6 UtuibInP\u001b[01;31m\u001b[Khelp\u001b[m\u001b[K ErdkiRKtYHTKDAJ     \r\n",
      "5Ru8b5\u001b[01;31m\u001b[Khelp\u001b[m\u001b[K cCuwtAVpbxoqHtK70dT9vtw5NsZR8    \r\n",
      "O\u001b[01;31m\u001b[Khelp\u001b[m\u001b[K hL9xy8U77RDjkZsRX6WDZf8ywnBY83LiL5    \r\n",
      "8nhxNAlz3yHtfZFEBjwvnKPFB \u001b[01;31m\u001b[Khelp\u001b[m\u001b[K qUV YkeQX    ==============\r\n",
      "FU4nt\u001b[01;31m\u001b[Khelp\u001b[m\u001b[K RStwArEw6UGFM4O7kKlxItNqVfD8Jl    Next exercise\r\n",
      "IcOj \u001b[01;31m\u001b[Khelp\u001b[m\u001b[K P56z3xD7QRkE1admG5sNTulg7B38om    ==============\r\n",
      "FSnpSHWkiELodvyTu Tx\u001b[01;31m\u001b[Khelp\u001b[m\u001b[K uAWnw9UTW0ZPITU    \r\n",
      "iCu7cLxdU0vLMBo\u001b[01;31m\u001b[Khelp\u001b[m\u001b[K46htatY8jYJC6XXVNDHTF    For the next exercise, you will need to open \r\n",
      "qLbjcY\u001b[01;31m\u001b[Khelp\u001b[m\u001b[K cp8USrp6u51ainbnXsp DForAbOq3    grep's documentation and identify two options:\r\n",
      "LPTakIcUOWmROON8GPJ4szSpKqZn3c \u001b[01;31m\u001b[Khelp\u001b[m\u001b[K k5jK    \r\n",
      "graSN0 cI4H6Zl \u001b[01;31m\u001b[Khelp\u001b[m\u001b[K hCxcK0ynPImVu0Mogdcw    - the option for case-insensitive searches\r\n",
      "MSewEHXyuatdRzy9GSokR DaLKp\u001b[01;31m\u001b[Khelp\u001b[m\u001b[KfDDJd7u p    - the option for counting \r\n",
      "r7k6b1c9XDZcWnxH syn9peY uNq\u001b[01;31m\u001b[Khelp\u001b[m\u001b[KjKyOyg0T      the number of matching lines, \r\n",
      "zi4Rycq58rmxjH zW1AhCWAO1s\u001b[01;31m\u001b[Khelp\u001b[m\u001b[KSyViqAbyAC      instead of printing them to the screen.\r\n",
      "CNx6GsFSs\u001b[01;31m\u001b[Khelp\u001b[m\u001b[K iRQE6pdA0jJiStNjknOaoQPSD     \r\n",
      "ial36NIIePB7P5 \u001b[01;31m\u001b[Khelp\u001b[m\u001b[K tpJ6bnVvVv7gESXp1Apc    Once you have identified these options, \r\n",
      "A9HSI nKdCcuDp8WGEFkbWE8gJsUAZatatIO\u001b[01;31m\u001b[Khelp\u001b[m\u001b[K    do a case-insensitive search on this file for the word \r\n",
      "erU3 7ppIkaPoqBFCFkFFYMo\u001b[01;31m\u001b[Khelp\u001b[m\u001b[K HxVST S9fFj    \"ignorecase\", then count the number of lines.\r\n",
      "lwjWEVzMBJSZiRSXvJzQmePQPFKeL4OQdO\u001b[01;31m\u001b[Khelp\u001b[m\u001b[K R    \r\n",
      "8P5kONdSaqg0tolHUGq8nN9brT7k \u001b[01;31m\u001b[Khelp\u001b[m\u001b[K 6duGCw        \r\n"
     ]
    }
   ],
   "source": [
    "grep help data/exercise1_grep.txt"
   ]
  },
  {
   "cell_type": "code",
   "execution_count": 7,
   "metadata": {
    "collapsed": false,
    "run_control": {
     "frozen": false,
     "read_only": false
    },
    "slideshow": {
     "slide_type": "subslide"
    }
   },
   "outputs": [
    {
     "name": "stdout",
     "output_type": "stream",
     "text": [
      "p14PGGX\u001b[01;31m\u001b[Kignorecase\u001b[m\u001b[KDoCCJ9sYiegaozfL6LXxDmf    \r\n",
      "o6m1cg7C\u001b[01;31m\u001b[Kignorecase\u001b[m\u001b[KUJbpjD laYkpG6gdBHbJIM            \r\n",
      "aNqS0Tg4kVIeLlyDeYoBlalps0\u001b[01;31m\u001b[Kignorecase\u001b[m\u001b[Kw5dd    Remember that, to continue with the exercise, \r\n",
      "bRe7rR0sM8mcf8W1woMoReyj\u001b[01;31m\u001b[Kignorecase\u001b[m\u001b[KLtPrHA    you need to do a case-insensitive search for the word\r\n",
      "erU3 7ppIkaPoqBFCFkFFYMohelp HxVST S9fFj    \"\u001b[01;31m\u001b[Kignorecase\u001b[m\u001b[K\", then count the number of lines.\r\n",
      "w\u001b[01;31m\u001b[Kignorecase\u001b[m\u001b[KTt0lDGMb5KCFWEm4t8RmBNXtLvURX                    ||----w |\r\n"
     ]
    }
   ],
   "source": [
    "# If we do a search for \"ignorecase\" without any option, we only get some of the lines.\n",
    "# You can notice that the cow is not properly displayed :-)\n",
    "grep ignorecase data/exercise1_grep.txt"
   ]
  },
  {
   "cell_type": "code",
   "execution_count": 8,
   "metadata": {
    "collapsed": false,
    "run_control": {
     "frozen": false,
     "read_only": false
    },
    "slideshow": {
     "slide_type": "fragment"
    }
   },
   "outputs": [
    {
     "name": "stdout",
     "output_type": "stream",
     "text": [
      "p14PGGX\u001b[01;31m\u001b[Kignorecase\u001b[m\u001b[KDoCCJ9sYiegaozfL6LXxDmf    \r\n",
      "o6m1cg7C\u001b[01;31m\u001b[Kignorecase\u001b[m\u001b[KUJbpjD laYkpG6gdBHbJIM            \r\n",
      "aNqS0Tg4kVIeLlyDeYoBlalps0\u001b[01;31m\u001b[Kignorecase\u001b[m\u001b[Kw5dd    Remember that, to continue with the exercise, \r\n",
      "bRe7rR0sM8mcf8W1woMoReyj\u001b[01;31m\u001b[Kignorecase\u001b[m\u001b[KLtPrHA    you need to do a case-insensitive search for the word\r\n",
      "erU3 7ppIkaPoqBFCFkFFYMohelp HxVST S9fFj    \"\u001b[01;31m\u001b[Kignorecase\u001b[m\u001b[K\", then count the number of lines.\r\n",
      "1ofqHyPgr74Vx 0vUkETWFA\u001b[01;31m\u001b[KIGNORECASE\u001b[m\u001b[Ku8SJQ5C    \r\n",
      "1 vfC7\u001b[01;31m\u001b[KIGNORECASE\u001b[m\u001b[KMUtRWYq3KGKJpR8koi7FhtzX     _____________\r\n",
      "OTMODZfX1gD9l38Tu9PEQZrshVzL\u001b[01;31m\u001b[KIGNORECASE\u001b[m\u001b[KbI    / Good Job!   \\ \r\n",
      "u7YtPPNnVLSzB8HCBvtOcIHey0X8Wt\u001b[01;31m\u001b[KIgnorEcase\u001b[m\u001b[K    | You did a   |\r\n",
      "QfX1XYVyUHpwU\u001b[01;31m\u001b[KIgnorEcase\u001b[m\u001b[KpT fi6GkHvOkG LDb    | case-insens |\r\n",
      "Vw4ePnDoZ4KxNs58pWlGMoFVc\u001b[01;31m\u001b[KIgnorEcase\u001b[m\u001b[KpQj 6    | itive       |\r\n",
      "fN4SOVBxl6\u001b[01;31m\u001b[KIgnorEcase\u001b[m\u001b[KeJ5Ldyb0y4PLVSL1ZCv7    \\ search      /\r\n",
      "mmNqW04FRacds3eYb\u001b[01;31m\u001b[KIgnorEcase\u001b[m\u001b[KRk5rFhFpKahDt     -------------\r\n",
      "ZgQZAYDnIE7Jk4PLhZ10gx\u001b[01;31m\u001b[KIGNORECASE\u001b[m\u001b[KpxQqxB4t            \\   ^__^\r\n",
      "50FY1806\u001b[01;31m\u001b[KignOrecase\u001b[m\u001b[K6DzXRGwihWPeO3J gjHsDG             \\  (oo)\\_______\r\n",
      "QxAIpmflI jFcJ\u001b[01;31m\u001b[KignOrecase\u001b[m\u001b[KQM06LNCSX lftJUX                (__)\\       )\\/\\ \r\n",
      "w\u001b[01;31m\u001b[Kignorecase\u001b[m\u001b[KTt0lDGMb5KCFWEm4t8RmBNXtLvURX                    ||----w |\r\n",
      "w1EeylvQJWMF\u001b[01;31m\u001b[KIgnorEcase\u001b[m\u001b[KWavz4 ICR89dkvr6sf                    ||     ||\r\n",
      "wayAmo30uEjxkMyJvis\u001b[01;31m\u001b[KIGNORECASE\u001b[m\u001b[KkwshDQX DGB    \r\n",
      "45s7W ggf\u001b[01;31m\u001b[KignOrecase\u001b[m\u001b[KUYiHjY0F6BWSqqDfZ6c F    \r\n",
      "zmqy\u001b[01;31m\u001b[KIgnorEcase\u001b[m\u001b[Kqo5w9DIs0DGFlDayGlVaheoIlO        \r\n"
     ]
    }
   ],
   "source": [
    "# The -i option allows to do a case-insensitive search.\n",
    "# As you can see, some lines contain upper case characters:\n",
    "grep -i ignorecase data/exercise1_grep.txt"
   ]
  },
  {
   "cell_type": "code",
   "execution_count": 9,
   "metadata": {
    "collapsed": false,
    "run_control": {
     "frozen": false,
     "read_only": false
    },
    "slideshow": {
     "slide_type": "fragment"
    }
   },
   "outputs": [
    {
     "name": "stdout",
     "output_type": "stream",
     "text": [
      "21\r\n"
     ]
    }
   ],
   "source": [
    "# To solve the exercise, we also have to count the number of output lines.\n",
    "# This can be done with the \"-c\" option:\n",
    "grep -i -c ignorecase data/exercise1_grep.txt"
   ]
  },
  {
   "cell_type": "code",
   "execution_count": 10,
   "metadata": {
    "collapsed": false,
    "run_control": {
     "frozen": false,
     "read_only": false
    },
    "slideshow": {
     "slide_type": "fragment"
    }
   },
   "outputs": [
    {
     "name": "stdout",
     "output_type": "stream",
     "text": [
      "tidjh\u001b[01;31m\u001b[K21\u001b[m\u001b[KyvuMNPDEma8t6PksdgTVkimf6F8LHegXf    \r\n",
      "OllivZL3QFq8OiobDOQjdrPT1KeqT\u001b[01;31m\u001b[K21\u001b[m\u001b[K bRG WMRc    \r\n",
      "eCmkBM\u001b[01;31m\u001b[K21\u001b[m\u001b[KOATsb57fD9ao6czsMB1f7gtWvJCFAW3z     ____________________\r\n",
      "YCOQlk1yUmr8EjN3NBxEB0SSToh\u001b[01;31m\u001b[K21\u001b[m\u001b[KXfpm BiVHS7    / Congrats! Yes      \\ \r\n",
      "JCsq1gs3drLCHAerYroSp331AJMHr\u001b[01;31m\u001b[K21\u001b[m\u001b[Km9Atm4UMR    | the answer to the  |\r\n",
      "z3nfFTpzSKGHfdDwtIadMjgiYx\u001b[01;31m\u001b[K21\u001b[m\u001b[Kiiat3S9VVT8R    | case-insensitive   |\r\n",
      "0qBEpfp1dcTibKVwObda341CTH9zoYJpBFe8\u001b[01;31m\u001b[K21\u001b[m\u001b[Kyy    | and count question |\r\n",
      "KJIsvaofywLv6uz1\u001b[01;31m\u001b[K21\u001b[m\u001b[K6aZlUBQ3XBJd1jVC5bdHAE    | is \u001b[01;31m\u001b[K21\u001b[m\u001b[K.             /\r\n",
      "jy0FgakHM4Tq7ncjhUN\u001b[01;31m\u001b[K21\u001b[m\u001b[KggkNyZhNhJC4eyz ESN     --------------------\r\n",
      "xwwOmWdp5pJ8IsvtNMx9EnWOnjmuUEdt4o8d\u001b[01;31m\u001b[K21\u001b[m\u001b[Kzc            \\   ^__^\r\n",
      "k azZdXgjRGFYTHuMIp0SFkwjp4vHRG1lnlmSj\u001b[01;31m\u001b[K21\u001b[m\u001b[K             \\  (oo)\\_______\r\n",
      "jYe19iH7NaYtPGDC7mXoy5G7\u001b[01;31m\u001b[K21\u001b[m\u001b[Ks8EGrD8wFCZSlJ                (__)\\       )\\/\\  \r\n",
      "CXUYNxwnP8jr3NR5T9SCl5TQAwJI5ZjNCm zw\u001b[01;31m\u001b[K21\u001b[m\u001b[KY                    ||----w |\r\n",
      "l\u001b[01;31m\u001b[K21\u001b[m\u001b[KFpLp HaLHc1MaoMXflHI4wr981PUNefC0cKDC                    ||     ||\r\n",
      "fC1BsEyvpDm cCnceoQCj3\u001b[01;31m\u001b[K21\u001b[m\u001b[Kv36bmPx5u9Ht6qxs    \r\n",
      "VAAh4PTzYzWSbMxmtDE8XtwYqSu8KFq50\u001b[01;31m\u001b[K21\u001b[m\u001b[KycKLY    \r\n",
      "WmHhzfH8XzJ4Dd3PvgMoIXAnoJJG3G9HlGUtD\u001b[01;31m\u001b[K21\u001b[m\u001b[Kd    =============\r\n",
      "yCrjC\u001b[01;31m\u001b[K21\u001b[m\u001b[KuBDHKBR1P0XVXQp9XE6T7Nqa6C p8ZQ4H    Next exercise\r\n",
      "zfa7If6rzhvuv O6HFHU\u001b[01;31m\u001b[K21\u001b[m\u001b[KcbLnpW0Yipf3xSKJSS    =============\r\n",
      "FPgwt6n3mfTJtartXVwrMAtmn3ISF\u001b[01;31m\u001b[K21\u001b[m\u001b[KyiK0U9NH4    \r\n",
      "PnV\u001b[01;31m\u001b[K21\u001b[m\u001b[KlkRoTqqVP 9Hs4v4RlJLFdOx6LkhICM WW1    Searching in multiple files\r\n",
      "uaRh\u001b[01;31m\u001b[K21\u001b[m\u001b[K9wTTl0wCVin63cfrywW06LwQOb vx1k5Uu    \r\n",
      "FTOHCTMDFlKj cNVu\u001b[01;31m\u001b[K21\u001b[m\u001b[KDgKqN1EZxhU1iPyGRrko1    Grep can search the same pattern\r\n",
      "EfzALglVAh8cPso5WmyYi8v1QG0c\u001b[01;31m\u001b[K21\u001b[m\u001b[KLUTKPqw66N    in more than one file at the same time.\r\n",
      "rGWMTbnXJnehtyAY3vxTJWUdaUXH MxFnyA\u001b[01;31m\u001b[K21\u001b[m\u001b[KfUN    \r\n",
      "l0UcWWd0LG0GeFwNKlGEyj07pbUOPTee1\u001b[01;31m\u001b[K21\u001b[m\u001b[Kt0MsN    The folder data/multiplefiles/ contains hundreds of different files.\r\n",
      "Ow7gE6ZNvIGLP775npX6j5menzWz4\u001b[01;31m\u001b[K21\u001b[m\u001b[KHg00qDP3w    \r\n",
      "uWhIZ4kk6cI7d9503RXAniriZjemCOZ\u001b[01;31m\u001b[K21\u001b[m\u001b[KJ7BTCBt    Can you identify the file containing the word \"regex\"?\r\n",
      "Wxd46\u001b[01;31m\u001b[K21\u001b[m\u001b[KC JxW68aYMWbeCMY0eVMtTqF8iAfhqazV    \r\n",
      "iekhxfE5LpZ\u001b[01;31m\u001b[K21\u001b[m\u001b[KqUxwIjXpYtMchz489rzXtZ0 VOU        \r\n"
     ]
    }
   ],
   "source": [
    "# solution: how to find the instructions for the next exercise\n",
    "grep 21 data/exercise1_grep.txt"
   ]
  },
  {
   "cell_type": "markdown",
   "metadata": {
    "slideshow": {
     "slide_type": "slide"
    }
   },
   "source": [
    "## Searching multiple files\n",
    "\n",
    "Grep is useful to search over multiple files in a single command.\n",
    "\n",
    "The folder data/multiplefiles/ contains 50 randomly generated files. You can see their contents with head data/multiplefiles/\\* or with less.\n",
    "\n",
    "One of these files contains the word \"regex\" in it. Are you able to find it?"
   ]
  },
  {
   "cell_type": "code",
   "execution_count": 11,
   "metadata": {
    "collapsed": false,
    "run_control": {
     "frozen": false,
     "read_only": false
    },
    "slideshow": {
     "slide_type": "subslide"
    }
   },
   "outputs": [
    {
     "name": "stdout",
     "output_type": "stream",
     "text": [
      "\u001b[35m\u001b[Kdata/multiplefiles/file32.txt\u001b[m\u001b[K\u001b[36m\u001b[K:\u001b[m\u001b[K5gsumFTKbKEJv9dD8W94FhoEQU8qf8RMUc\u001b[01;31m\u001b[Kregex\u001b[m\u001b[KR    \r\n",
      "\u001b[35m\u001b[Kdata/multiplefiles/file32.txt\u001b[m\u001b[K\u001b[36m\u001b[K:\u001b[m\u001b[KYgDiqkA C1o\u001b[01;31m\u001b[Kregex\u001b[m\u001b[K9giqI66c3sOwfLirOsgPpSuq    \r\n",
      "\u001b[35m\u001b[Kdata/multiplefiles/file32.txt\u001b[m\u001b[K\u001b[36m\u001b[K:\u001b[m\u001b[KIsXSnp 8U8pKR0LsVuK\u001b[01;31m\u001b[Kregex\u001b[m\u001b[KO5GFegOtV4GW4fNQ    Good! You've found the \r\n",
      "\u001b[35m\u001b[Kdata/multiplefiles/file32.txt\u001b[m\u001b[K\u001b[36m\u001b[K:\u001b[m\u001b[Kl 4px8KhPRmfEJgi5uTuVO1XahG3H1sY\u001b[01;31m\u001b[Kregex\u001b[m\u001b[K4wt    file containing the word \"\u001b[01;31m\u001b[Kregex\u001b[m\u001b[K\"\r\n",
      "\u001b[35m\u001b[Kdata/multiplefiles/file32.txt\u001b[m\u001b[K\u001b[36m\u001b[K:\u001b[m\u001b[Kyz8P5 HC6N5D XRHPncZjTAeM\u001b[01;31m\u001b[Kregex\u001b[m\u001b[KT9bQUoZdsh    \r\n",
      "\u001b[35m\u001b[Kdata/multiplefiles/file32.txt\u001b[m\u001b[K\u001b[36m\u001b[K:\u001b[m\u001b[KeWUd18s0MVx5YYrEK KCKeF5hvO\u001b[01;31m\u001b[Kregex\u001b[m\u001b[KIiZbIGUX    To continue, \r\n",
      "\u001b[35m\u001b[Kdata/multiplefiles/file32.txt\u001b[m\u001b[K\u001b[36m\u001b[K:\u001b[m\u001b[KMLXiKZJ8KyHMou9lYsz4ZjFYJSfB 14t\u001b[01;31m\u001b[Kregex\u001b[m\u001b[KtpJ    grep file32.txt data/exercise1_grep.txt\r\n",
      "\u001b[35m\u001b[Kdata/multiplefiles/file32.txt\u001b[m\u001b[K\u001b[36m\u001b[K:\u001b[m\u001b[KveFQU\u001b[01;31m\u001b[Kregex\u001b[m\u001b[KfnQxwQw6POJRNvvAeYwToX6ptvN39m    \r\n",
      "\u001b[35m\u001b[Kdata/multiplefiles/file32.txt\u001b[m\u001b[K\u001b[36m\u001b[K:\u001b[m\u001b[KcHoNv\u001b[01;31m\u001b[Kregex\u001b[m\u001b[KiGjHkmptPVTjOzvWVGbrGoHoywV4Vy    \r\n"
     ]
    }
   ],
   "source": [
    "# solution: you can use the \"*\" character to specify multiple files:\n",
    "grep 'regex' data/multiplefiles/*"
   ]
  },
  {
   "cell_type": "markdown",
   "metadata": {
    "slideshow": {
     "slide_type": "slide"
    }
   },
   "source": [
    "## Searching multiple patterns and the Unix piping system\n",
    "\n",
    "How can we search that contain two or more patterns?\n",
    "\n",
    "One solution is to use the Unix piping system, executing one grep command, and then another grep on the output.\n",
    "\n",
    "This can be done using the pipe \"|\" symbol, like the following:\n",
    "\n",
    "```\n",
    "$: grep (first pattern) myfile.txt | grep (second pattern)\n",
    "```\n",
    "\n",
    "Scroll down for some example."
   ]
  },
  {
   "cell_type": "markdown",
   "metadata": {
    "slideshow": {
     "slide_type": "subslide"
    }
   },
   "source": [
    "The file data/genes/mgat_genes.gb is a genbank file. Notice how this format is well suited for grep searches:"
   ]
  },
  {
   "cell_type": "code",
   "execution_count": 12,
   "metadata": {
    "collapsed": false,
    "run_control": {
     "frozen": false,
     "read_only": false
    }
   },
   "outputs": [
    {
     "name": "stdout",
     "output_type": "stream",
     "text": [
      "LOCUS       HUMUDPCNA               4705 bp    DNA     linear   PRI 19-SEP-1995\r\n",
      "DEFINITION  Human alpha-1,3-mannosyl-glycoprotein beta-1,\r\n",
      "            2-N-acetylglucosaminyltransferase (MGAT) gene, complete cds.\r\n",
      "ACCESSION   M61829\r\n",
      "VERSION     M61829.1  GI:340075\r\n",
      "KEYWORDS    alpha-1,3-mannosyl-glycoprotein beta-1,2-N-acetylglucosaminyltrae.\r\n",
      "SOURCE      Homo sapiens (human)\r\n",
      "  ORGANISM  Homo sapiens\r\n",
      "            Eukaryota; Metazoa; Chordata; Craniata; Vertebrata; Euteleostomi;\r\n",
      "            Mammalia; Eutheria; Euarchontoglires; Primates; Haplorrhini;\r\n"
     ]
    }
   ],
   "source": [
    "head data/genes/mgat_genes.gb"
   ]
  },
  {
   "cell_type": "markdown",
   "metadata": {
    "slideshow": {
     "slide_type": "fragment"
    }
   },
   "source": [
    "Let's say we want to search all the lines where \"ORGANISM\" is \"Homo sapiens\". \n",
    "\n",
    "We can do it with two grep commands:\n",
    "\n",
    "```\n",
    "grep ORGANISM data/genes/mgat_genes.gb | grep 'Homo sapiens'\n",
    "```\n",
    "Notice that searching for \"Homo sapiens\" alone would not be enough, as there are other lines where the word \"Homo sapiens\" is present."
   ]
  },
  {
   "cell_type": "code",
   "execution_count": 13,
   "metadata": {
    "collapsed": false,
    "run_control": {
     "frozen": false,
     "read_only": false
    }
   },
   "outputs": [
    {
     "name": "stdout",
     "output_type": "stream",
     "text": [
      "  ORGANISM  \u001b[01;31m\u001b[KHomo sapiens\u001b[m\u001b[K\r\n",
      "  ORGANISM  \u001b[01;31m\u001b[KHomo sapiens\u001b[m\u001b[K\r\n",
      "  ORGANISM  \u001b[01;31m\u001b[KHomo sapiens\u001b[m\u001b[K\r\n",
      "  ORGANISM  \u001b[01;31m\u001b[KHomo sapiens\u001b[m\u001b[K\r\n",
      "  ORGANISM  \u001b[01;31m\u001b[KHomo sapiens\u001b[m\u001b[K\r\n",
      "  ORGANISM  \u001b[01;31m\u001b[KHomo sapiens\u001b[m\u001b[K\r\n",
      "  ORGANISM  \u001b[01;31m\u001b[KHomo sapiens\u001b[m\u001b[K\r\n",
      "  ORGANISM  \u001b[01;31m\u001b[KHomo sapiens\u001b[m\u001b[K\r\n"
     ]
    }
   ],
   "source": [
    "grep ORGANISM data/genes/mgat_genes.gb | grep 'Homo sapiens'"
   ]
  },
  {
   "cell_type": "markdown",
   "metadata": {
    "slideshow": {
     "slide_type": "subslide"
    }
   },
   "source": [
    "The file contains sequences from two other organisms apart from Homo sapiens. Can you guess which one to search for the next exercise?"
   ]
  },
  {
   "cell_type": "code",
   "execution_count": 14,
   "metadata": {
    "collapsed": false,
    "run_control": {
     "frozen": false,
     "read_only": false
    },
    "slideshow": {
     "slide_type": "fragment"
    }
   },
   "outputs": [
    {
     "name": "stdout",
     "output_type": "stream",
     "text": [
      "  ORGANISM  Bos \u001b[01;31m\u001b[Ktaurus\u001b[m\u001b[K\r\n",
      "  ORGANISM  Bos \u001b[01;31m\u001b[Ktaurus\u001b[m\u001b[K\r\n",
      "  ORGANISM  Bos \u001b[01;31m\u001b[Ktaurus\u001b[m\u001b[K\r\n",
      "  ORGANISM  Bos \u001b[01;31m\u001b[Ktaurus\u001b[m\u001b[K\t\t\t   _______________\r\n",
      "  ORGANISM  Bos \u001b[01;31m\u001b[Ktaurus\u001b[m\u001b[K\t\t          < Well guessed! >\r\n",
      "  ORGANISM  Bos \u001b[01;31m\u001b[Ktaurus\u001b[m\u001b[K\t\t\t   ---------------\r\n",
      "  ORGANISM  Bos \u001b[01;31m\u001b[Ktaurus\u001b[m\u001b[K\t\t\t\t\t\\   ^__^\r\n",
      "  ORGANISM  Bos \u001b[01;31m\u001b[Ktaurus\u001b[m\u001b[K\t\t\t\t\t \\  (oo)\\_______\r\n",
      "  ORGANISM  Bos \u001b[01;31m\u001b[Ktaurus\u001b[m\u001b[K\t\t\t  \t\t    (__)\\       )\\/\\\r\n",
      "  ORGANISM  Bos \u001b[01;31m\u001b[Ktaurus\u001b[m\u001b[K\t\t\t\t\t\t||----w |\r\n",
      "  ORGANISM  Bos \u001b[01;31m\u001b[Ktaurus\u001b[m\u001b[K\t\t\t\t\t\t||     ||\r\n",
      "  ORGANISM  Bos \u001b[01;31m\u001b[Ktaurus\u001b[m\u001b[K\r\n",
      "  ORGANISM  Bos \u001b[01;31m\u001b[Ktaurus\u001b[m\u001b[K\r\n",
      "  ORGANISM  Bos \u001b[01;31m\u001b[Ktaurus\u001b[m\u001b[K\r\n",
      "  ORGANISM  Bos \u001b[01;31m\u001b[Ktaurus\u001b[m\u001b[K\r\n",
      "  ORGANISM  Bos \u001b[01;31m\u001b[Ktaurus\u001b[m\u001b[K\r\n",
      "  ORGANISM  Bos \u001b[01;31m\u001b[Ktaurus\u001b[m\u001b[K\t\t\t\t===============\r\n",
      "  ORGANISM  Bos \u001b[01;31m\u001b[Ktaurus\u001b[m\u001b[K\t\t\t\tNext Exercise\r\n",
      "  ORGANISM  Bos \u001b[01;31m\u001b[Ktaurus\u001b[m\u001b[K\t\t\t\t===============\r\n",
      "  ORGANISM  Bos \u001b[01;31m\u001b[Ktaurus\u001b[m\u001b[K\r\n",
      "  ORGANISM  Bos \u001b[01;31m\u001b[Ktaurus\u001b[m\u001b[K\t\t\t\tTo continue, grep\r\n",
      "  ORGANISM  Bos \u001b[01;31m\u001b[Ktaurus\u001b[m\u001b[K\t\t\t\t\"regex\" in\r\n",
      "  ORGANISM  Bos \u001b[01;31m\u001b[Ktaurus\u001b[m\u001b[K\t\t\t\tdata/exercise1_grep.txt\r\n",
      "  ORGANISM  Bos \u001b[01;31m\u001b[Ktaurus\u001b[m\u001b[K\r\n"
     ]
    }
   ],
   "source": [
    "# Solution: grep for \"bos taurus\":\n",
    "grep ORGANISM data/genes/mgat_genes.gb | grep taurus"
   ]
  },
  {
   "cell_type": "markdown",
   "metadata": {
    "slideshow": {
     "slide_type": "slide"
    }
   },
   "source": [
    "## Regular Expressions\n",
    "\n",
    "Regular expressions allow to search for more complex patterns. \n",
    "\n",
    "Here are some simple regular expression examples:\n",
    "\n",
    "| regex    | description |\n",
    "| -------- | ----------- |\n",
    "| .        | matches any character |\n",
    "| [A-Za-z] | matches any of the characters within parenthesis|\n",
    "| .\\*      | matches any character, any number of times| "
   ]
  },
  {
   "cell_type": "markdown",
   "metadata": {
    "slideshow": {
     "slide_type": "subslide"
    }
   },
   "source": [
    "## Regular Expression exercise\n",
    "\n",
    "Let's have a look at the file data/genes/sequences.fasta:"
   ]
  },
  {
   "cell_type": "code",
   "execution_count": 15,
   "metadata": {
    "collapsed": false,
    "run_control": {
     "frozen": false,
     "read_only": false
    }
   },
   "outputs": [
    {
     "name": "stdout",
     "output_type": "stream",
     "text": [
      ">seq000 sequence description\r\n",
      "NANTCNNNGNATNNCNTACNTGNTCGNCCG\r\n",
      ">seq001 sequence description\r\n",
      "TGTCAATTNTCNGCGTCNNACNNACTCGCN\r\n",
      ">seq002 sequence description\r\n",
      "TGGGCGNTCATGNANAATGTTACGCTCNGG\r\n",
      ">seq003 sequence description\r\n",
      "GCCTTTNGGNNCTCACTANGCANGTTTGAN\r\n",
      ">seq004 sequence description   \r\n",
      "CATNANNAAAccTTTAGGCACTCNACACNG\r\n"
     ]
    }
   ],
   "source": [
    "head data/genes/sequences.fasta "
   ]
  },
  {
   "cell_type": "markdown",
   "metadata": {},
   "source": [
    "Can you use grep to identify all the sequences containing three As, followed by any two characters, followed by three Ts?"
   ]
  },
  {
   "cell_type": "code",
   "execution_count": 16,
   "metadata": {
    "collapsed": false,
    "run_control": {
     "frozen": false,
     "read_only": false
    },
    "slideshow": {
     "slide_type": "subslide"
    }
   },
   "outputs": [
    {
     "name": "stdout",
     "output_type": "stream",
     "text": [
      "CATNANN\u001b[01;31m\u001b[KAAAccTTT\u001b[m\u001b[KAGGCACTCNACACNG\r\n",
      "AGGCCGCNGNGGTA\u001b[01;31m\u001b[KAAActTTT\u001b[m\u001b[KACNAAGAC\r\n",
      "GTGTNNGTCAAGCNCGNCGTTN\u001b[01;31m\u001b[KAAAGGTTT\u001b[m\u001b[K\r\n",
      "ATNCGNAGNNCANTNGAC\u001b[01;31m\u001b[KAAAccTTT\u001b[m\u001b[KTTGT\r\n",
      "NTACNTA\u001b[01;31m\u001b[KAAAgtTTT\u001b[m\u001b[KCCACTNTTTANTCAA\r\n",
      "CNNGAGCG\u001b[01;31m\u001b[KAAActTTT\u001b[m\u001b[KNGCAAGTCTGNNCN\r\n",
      "CATGGGC\u001b[01;31m\u001b[KAAAgtTTT\u001b[m\u001b[KATANATGTNAANCNT\r\n",
      "GGTGGGNNCCCAGNCGNC\u001b[01;31m\u001b[KAAAgtTTT\u001b[m\u001b[KNNCT\r\n",
      "GA\u001b[01;31m\u001b[KAAAgtTTT\u001b[m\u001b[KTCNAACTTTNNAATAANNCN\r\n",
      "GAACAAGCNGCCCTTGGCC\u001b[01;31m\u001b[KAAAgtTTT\u001b[m\u001b[KGNC\r\n",
      "NNTCGTNGNNNA\u001b[01;31m\u001b[KAAAaaTTT\u001b[m\u001b[KTAAGAGCACC\r\n",
      "NNNGNGTNG\u001b[01;31m\u001b[KAAActTTT\u001b[m\u001b[KTTGAACGANNAAT\r\n",
      "CC\u001b[01;31m\u001b[KAAAaaTTT\u001b[m\u001b[KNTAGNAGCCTGTAGAGCCGC\r\n"
     ]
    }
   ],
   "source": [
    "grep 'AAA..TTT' data/genes/sequences.fasta"
   ]
  },
  {
   "cell_type": "markdown",
   "metadata": {},
   "source": [
    "Bonus: if we use the -B 1 grep option, we can retrieve the names of these sequences:"
   ]
  },
  {
   "cell_type": "code",
   "execution_count": 17,
   "metadata": {
    "collapsed": false,
    "run_control": {
     "frozen": false,
     "read_only": false
    }
   },
   "outputs": [
    {
     "name": "stdout",
     "output_type": "stream",
     "text": [
      ">seq004 sequence description   \r\n",
      "CATNANN\u001b[01;31m\u001b[KAAAccTTT\u001b[m\u001b[KAGGCACTCNACACNG\r\n",
      "\u001b[36m\u001b[K--\u001b[m\u001b[K\r\n",
      ">seq012 sequence description    ________________\r\n",
      "AGGCCGCNGNGGTA\u001b[01;31m\u001b[KAAActTTT\u001b[m\u001b[KACNAAGAC\r\n",
      "\u001b[36m\u001b[K--\u001b[m\u001b[K\r\n",
      ">seq015 sequence description\r\n",
      "GTGTNNGTCAAGCNCGNCGTTN\u001b[01;31m\u001b[KAAAGGTTT\u001b[m\u001b[K\r\n",
      "\u001b[36m\u001b[K--\u001b[m\u001b[K\r\n",
      ">seq022 sequence description   / Congrats! This \\ \r\n",
      "ATNCGNAGNNCANTNGAC\u001b[01;31m\u001b[KAAAccTTT\u001b[m\u001b[KTTGT\r\n",
      ">seq023 sequence description   | was the last  |\r\n",
      "NTACNTA\u001b[01;31m\u001b[KAAAgtTTT\u001b[m\u001b[KCCACTNTTTANTCAA\r\n",
      "\u001b[36m\u001b[K--\u001b[m\u001b[K\r\n",
      ">seq029 sequence description   \\ grep exercise / \r\n",
      "CNNGAGCG\u001b[01;31m\u001b[KAAActTTT\u001b[m\u001b[KNGCAAGTCTGNNCN\r\n",
      ">seq030 sequence description    ----------------\r\n",
      "CATGGGC\u001b[01;31m\u001b[KAAAgtTTT\u001b[m\u001b[KATANATGTNAANCNT\r\n",
      ">seq031 sequence description       \\  ^__^\r\n",
      "GGTGGGNNCCCAGNCGNC\u001b[01;31m\u001b[KAAAgtTTT\u001b[m\u001b[KNNCT\r\n",
      "\u001b[36m\u001b[K--\u001b[m\u001b[K\r\n",
      ">seq033 sequence description        \\ (oo)\\_______\r\n",
      "GA\u001b[01;31m\u001b[KAAAgtTTT\u001b[m\u001b[KTCNAACTTTNNAATAANNCN\r\n",
      ">seq034 sequence description          (__)\\    )\\/\\ \r\n",
      "GAACAAGCNGCCCTTGGCC\u001b[01;31m\u001b[KAAAgtTTT\u001b[m\u001b[KGNC\r\n",
      "\u001b[36m\u001b[K--\u001b[m\u001b[K\r\n",
      ">seq038 sequence description           ||----w |\r\n",
      "NNTCGTNGNNNA\u001b[01;31m\u001b[KAAAaaTTT\u001b[m\u001b[KTAAGAGCACC\r\n",
      ">seq039 sequence description           ||    ||\r\n",
      "NNNGNGTNG\u001b[01;31m\u001b[KAAActTTT\u001b[m\u001b[KTTGAACGANNAAT\r\n",
      "\u001b[36m\u001b[K--\u001b[m\u001b[K\r\n",
      ">seq041 sequence description   \r\n",
      "CC\u001b[01;31m\u001b[KAAAaaTTT\u001b[m\u001b[KNTAGNAGCCTGTAGAGCCGC\r\n"
     ]
    }
   ],
   "source": [
    "grep -B1 'AAA..TTT' data/genes/sequences.fasta "
   ]
  },
  {
   "cell_type": "code",
   "execution_count": 18,
   "metadata": {
    "collapsed": false,
    "run_control": {
     "frozen": false,
     "read_only": false
    },
    "slideshow": {
     "slide_type": "fragment"
    }
   },
   "outputs": [
    {
     "name": "stdout",
     "output_type": "stream",
     "text": [
      "\u001b[01;31m\u001b[K>\u001b[m\u001b[Kseq004 sequence description   \r\n",
      "\u001b[01;31m\u001b[K>\u001b[m\u001b[Kseq012 sequence description    ________________\r\n",
      "\u001b[01;31m\u001b[K>\u001b[m\u001b[Kseq015 sequence description\r\n",
      "\u001b[01;31m\u001b[K>\u001b[m\u001b[Kseq022 sequence description   / Congrats! This \\ \r\n",
      "\u001b[01;31m\u001b[K>\u001b[m\u001b[Kseq023 sequence description   | was the last  |\r\n",
      "\u001b[01;31m\u001b[K>\u001b[m\u001b[Kseq029 sequence description   \\ grep exercise / \r\n",
      "\u001b[01;31m\u001b[K>\u001b[m\u001b[Kseq030 sequence description    ----------------\r\n",
      "\u001b[01;31m\u001b[K>\u001b[m\u001b[Kseq031 sequence description       \\  ^__^\r\n",
      "\u001b[01;31m\u001b[K>\u001b[m\u001b[Kseq033 sequence description        \\ (oo)\\_______\r\n",
      "\u001b[01;31m\u001b[K>\u001b[m\u001b[Kseq034 sequence description          (__)\\    )\\/\\ \r\n",
      "\u001b[01;31m\u001b[K>\u001b[m\u001b[Kseq038 sequence description           ||----w |\r\n",
      "\u001b[01;31m\u001b[K>\u001b[m\u001b[Kseq039 sequence description           ||    ||\r\n",
      "\u001b[01;31m\u001b[K>\u001b[m\u001b[Kseq041 sequence description   \r\n"
     ]
    }
   ],
   "source": [
    "# Bonus: pipe an additional grep '>' to see a cow:\n",
    "grep -B1 'AAA..TTT' data/genes/sequences.fasta  | grep '>'"
   ]
  },
  {
   "cell_type": "markdown",
   "metadata": {
    "slideshow": {
     "slide_type": "slide"
    }
   },
   "source": [
    "# Working with tabular files: Awk\n",
    "\n",
    "\n",
    "The **awk** command allows to search and manipulate tabular files from the command line.\n",
    "\n",
    "Imagine it as the equivalent of Excel/Calc for the command line. It allows to do search on specific columns of a file, to do numerical operations, or to change the order of the columns.\n",
    "\n",
    "The advantage of a command-line tool over graphical software is that the memory footprint is much lower. So you can access and modify large files in a fraction of the time that it would take with Excel."
   ]
  },
  {
   "cell_type": "markdown",
   "metadata": {
    "slideshow": {
     "slide_type": "subslide"
    }
   },
   "source": [
    "## Example of tabular file: the GFF3 format\n",
    "\n",
    "The file data/chr8.gff contains an example of file in the GFF3 format:"
   ]
  },
  {
   "cell_type": "code",
   "execution_count": 19,
   "metadata": {
    "collapsed": false
   },
   "outputs": [
    {
     "name": "stdout",
     "output_type": "stream",
     "text": [
      "##gff-version 3\r\n",
      "##source-version refgene 1.32.2\r\n",
      "##date 2016-09-07\r\n",
      "##genome-build .\thg19\r\n",
      "chr8\trefgene\tgene\t18248755\t18258723\t.\t+\t.\tgene_id=10;symbol=NAT2;feature=gene;exerc1=FALSE;ID=10\r\n",
      "chr8\trefgene\tgene\t100549014\t100549089\t.\t-\t.\tgene_id=100126309;symbol=MIR875;feature=gene;exerc1=FALSE;ID=100126309\r\n",
      "chr8\trefgene\tgene\t144895127\t144895212\t.\t-\t.\tgene_id=100126338;symbol=MIR937;feature=gene;exerc1=FALSE;ID=100126338\r\n",
      "chr8\trefgene\tgene\t145619364\t145619445\t.\t-\t.\tgene_id=100126351;symbol=MIR939;feature=gene;exerc1=FALSE;ID=100126351\r\n",
      "chr8\trefgene\tgene\t91970706\t91997485\t.\t-\t.\tgene_id=100127983;symbol=C8orf88;feature=gene;exerc1=FALSE;ID=100127983\r\n",
      "chr8\trefgene\tgene\t74332309\t74353753\t.\t+\t.\tgene_id=100128126;symbol=STAU2-AS1;feature=gene;exerc1=FALSE;ID=100128126\r\n"
     ]
    }
   ],
   "source": [
    "head data/chr8.gff"
   ]
  },
  {
   "cell_type": "markdown",
   "metadata": {},
   "source": [
    "As you can see it is a tab-separated file, which we could easily read in Excel or Calc.\n",
    "\n",
    "The format "
   ]
  }
 ],
 "metadata": {
  "celltoolbar": "Slideshow",
  "hide_input": false,
  "kernelspec": {
   "display_name": "Bash",
   "language": "bash",
   "name": "bash"
  },
  "language_info": {
   "codemirror_mode": "shell",
   "file_extension": ".sh",
   "mimetype": "text/x-sh",
   "name": "bash"
  },
  "nav_menu": {},
  "toc": {
   "navigate_menu": true,
   "number_sections": true,
   "sideBar": true,
   "threshold": 6,
   "toc_cell": true,
   "toc_section_display": "block",
   "toc_window_display": false
  }
 },
 "nbformat": 4,
 "nbformat_minor": 1
}
