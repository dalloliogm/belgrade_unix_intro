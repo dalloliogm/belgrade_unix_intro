{
 "cells": [
  {
   "cell_type": "markdown",
   "metadata": {
    "toc": "true"
   },
   "source": [
    "# Table of Contents\n",
    " <p><div class=\"lev1 toc-item\"><a href=\"#PEB-Belgrade---Bash-workshop\" data-toc-modified-id=\"PEB-Belgrade---Bash-workshop-1\"><span class=\"toc-item-num\">1&nbsp;&nbsp;</span>PEB Belgrade - Bash workshop</a></div><div class=\"lev1 toc-item\"><a href=\"#How-to-follow-this-workshop\" data-toc-modified-id=\"How-to-follow-this-workshop-2\"><span class=\"toc-item-num\">2&nbsp;&nbsp;</span>How to follow this workshop</a></div><div class=\"lev2 toc-item\"><a href=\"#Getting-a-Terminal-application\" data-toc-modified-id=\"Getting-a-Terminal-application-2.1\"><span class=\"toc-item-num\">2.1&nbsp;&nbsp;</span>Getting a Terminal application</a></div><div class=\"lev3 toc-item\"><a href=\"#Windows\" data-toc-modified-id=\"Windows-2.1.1\"><span class=\"toc-item-num\">2.1.1&nbsp;&nbsp;</span>Windows</a></div><div class=\"lev3 toc-item\"><a href=\"#Mac\" data-toc-modified-id=\"Mac-2.1.2\"><span class=\"toc-item-num\">2.1.2&nbsp;&nbsp;</span>Mac</a></div><div class=\"lev3 toc-item\"><a href=\"#Linux\" data-toc-modified-id=\"Linux-2.1.3\"><span class=\"toc-item-num\">2.1.3&nbsp;&nbsp;</span>Linux</a></div><div class=\"lev2 toc-item\"><a href=\"#Getting-the-workshop-materials\" data-toc-modified-id=\"Getting-the-workshop-materials-2.2\"><span class=\"toc-item-num\">2.2&nbsp;&nbsp;</span>Getting the workshop materials</a></div><div class=\"lev1 toc-item\"><a href=\"#Basic-Unix-Commands:-ls,-cd\" data-toc-modified-id=\"Basic-Unix-Commands:-ls,-cd-3\"><span class=\"toc-item-num\">3&nbsp;&nbsp;</span>Basic Unix Commands: ls, cd</a></div><div class=\"lev1 toc-item\"><a href=\"#Accessing-the-contents-of-a-file:-head,-tail,-less,-more\" data-toc-modified-id=\"Accessing-the-contents-of-a-file:-head,-tail,-less,-more-4\"><span class=\"toc-item-num\">4&nbsp;&nbsp;</span>Accessing the contents of a file: head, tail, less, more</a></div><div class=\"lev1 toc-item\"><a href=\"#Searching-patterns-into-file:-grep\" data-toc-modified-id=\"Searching-patterns-into-file:-grep-5\"><span class=\"toc-item-num\">5&nbsp;&nbsp;</span>Searching patterns into file: grep</a></div><div class=\"lev2 toc-item\"><a href=\"#Accessing-grep-documentation\" data-toc-modified-id=\"Accessing-grep-documentation-5.1\"><span class=\"toc-item-num\">5.1&nbsp;&nbsp;</span>Accessing grep documentation</a></div><div class=\"lev2 toc-item\"><a href=\"#Regular-Expressions\" data-toc-modified-id=\"Regular-Expressions-5.2\"><span class=\"toc-item-num\">5.2&nbsp;&nbsp;</span>Regular Expressions</a></div>"
   ]
  },
  {
   "cell_type": "markdown",
   "metadata": {
    "slideshow": {
     "slide_type": "slide"
    }
   },
   "source": [
    "# PEB Belgrade - Bash workshop\n",
    "\n",
    "Giovanni M. Dall'Olio, GSK, 12/09/2016. http://bioinfoblog.it\n",
    "\n",
    "```\n",
    " _______________\n",
    " / Welcome to    \\\n",
    " \\ PEB Belgrade! /\n",
    "  ---------------\n",
    "         \\   ^__^\n",
    "          \\  (oo)\\_______\n",
    "             (__)\\       )\\/\\\n",
    "                 ||----w |\n",
    "                 ||     ||\n",
    "```\n",
    "\n",
    "Welcome to Belgrade!\n",
    "\n",
    "In this workshop we will review some basic Unix command, as well as bash usage.\n",
    "\n",
    "If you attended the [Programming for Evolutionary Biology course in Leipzig](http://evop.bioinf.uni-leipzig.de/), this will be a refreshener. I've hidden some **secrets** in the exercises, so you will not get bored :-)\n",
    "\n",
    "If you are new to bash, this will be a short introduction."
   ]
  },
  {
   "cell_type": "markdown",
   "metadata": {
    "slideshow": {
     "slide_type": "slide"
    }
   },
   "source": [
    "# How to follow this workshop\n",
    "\n",
    "\n",
    "## Getting a Terminal application\n",
    "\n",
    "All the exercises will be done in a Terminal. \n",
    "\n",
    "Thus, we will have to install a terminal emulator software in your computer.\n",
    "\n",
    "During the conference we may have also time for a \"Linux Install Party\", to get Linux into some of your laptops.\n",
    "\n",
    "Scroll down to see what to install or launch."
   ]
  },
  {
   "cell_type": "markdown",
   "metadata": {
    "slideshow": {
     "slide_type": "subslide"
    }
   },
   "source": [
    "### Windows\n",
    "\n",
    "For Windows users, we will use a terminal emulator software called MobaXTerm: http://mobaxterm.mobatek.net/\n",
    "\n",
    "The Home Edition is free and contains all the features we will need for the workshop:\n",
    "\n",
    "<a href=\"http://mobaxterm.mobatek.net/\" target=\"_blank\"><img src=\"http://mobaxterm.mobatek.net/img/moba/features/feature-terminal.png\" width=\"400\"></a>"
   ]
  },
  {
   "cell_type": "markdown",
   "metadata": {
    "slideshow": {
     "slide_type": "subslide"
    }
   },
   "source": [
    "### Mac\n",
    "\n",
    "You should be able to use the Console App in Mac.\n",
    "\n",
    "<img src=\"http://blog.teamtreehouse.com/wp-content/uploads/2012/09/Screen-Shot-2012-09-25-at-1.01.45-PM.png\" width=\"400\">"
   ]
  },
  {
   "cell_type": "markdown",
   "metadata": {
    "slideshow": {
     "slide_type": "subslide"
    }
   },
   "source": [
    "### Linux\n",
    "\n",
    "Congratulations on having Linux installed! You can use your favorite terminal app (e.g. gnome-terminal or konsole)\n",
    "\n",
    "<img src=\"https://camo.githubusercontent.com/358e5e2206148280d127128499ad92e8621e5517/68747470733a2f2f7261772e6769746875622e636f6d2f63656d6d616e6f75696c696469732f6d6f6e6f6b61692d676e6f6d652d7465726d696e616c2f6d61737465722f73637265656e73686f742d30312e706e67\" width=\"400\">\n"
   ]
  },
  {
   "cell_type": "markdown",
   "metadata": {
    "slideshow": {
     "slide_type": "slide"
    }
   },
   "source": [
    "## Getting the workshop materials\n",
    "\n",
    "Now that we have a terminal application ready, let's download all the course materials.\n",
    "\n",
    "Open the terminal, and type the following commands (only the lines starting with \"$:\"):\n",
    "\n",
    "```\n",
    "$: wget  https://github.com/dalloliogm/belgrade_unix_intro/archive/master.zip\n",
    "\n",
    "$: unzip master.zip\n",
    "\n",
    "\n",
    "```\n",
    "\n",
    "\n",
    "Explanation:\n",
    "\n",
    " - the **wget** command downloads a .zip file containing all the materials\n",
    " - the **unzip** command uncompresses the .zip file, creating a new folder in your home area.\n",
    " \n",
    " \n",
    "This will contain all the data necessary to follow the exercises, as well as this tutorial and the others. "
   ]
  },
  {
   "cell_type": "markdown",
   "metadata": {
    "slideshow": {
     "slide_type": "subslide"
    }
   },
   "source": [
    "\\# Expected output\n",
    "\n",
    "```\n",
    "$: wget  https://github.com/dalloliogm/belgrade_unix_intro/archive/master.zip\n",
    "\n",
    "--2016-08-26 09:55:53--  https://github.com/dalloliogm/belgrade_unix_intro/archive/master.zip\n",
    "Resolving github.com... 192.30.253.113\n",
    "Connecting to github.com|192.30.253.113|:443... connected.\n",
    "HTTP request sent, awaiting response... 302 Found\n",
    "Location: https://codeload.github.com/dalloliogm/belgrade_unix_intro/zip/master [following]\n",
    "--2016-08-26 09:55:54--  https://codeload.github.com/dalloliogm/belgrade_unix_intro/zip/master\n",
    "Resolving codeload.github.com... 192.30.253.120\n",
    "Connecting to codeload.github.com|192.30.253.120|:443... connected.\n",
    "HTTP request sent, awaiting response... 200 OK\n",
    "Length: 129112 (126K) [application/zip]\n",
    "Saving to: `master.zip.1'\n",
    "\n",
    "100%[========================================================================================================================================================================>] 129,112      617K/s   in 0.2s\n",
    "\n",
    "2016-08-26 09:55:54 (617 KB/s) - `master.zip' saved [129112/129112]\n",
    "$: unzip master.zip\n",
    "\n",
    "Archive:  master.zip\n",
    "   creating: belgrade_unix_intro-master/\n",
    "  inflating: belgrade_unix_intro-master/PEB Bash Workshop.ipynb\n",
    "  inflating: belgrade_unix_intro-master/README.md\n",
    "   creating: belgrade_unix_intro-master/data/\n",
    "   creating: belgrade_unix_intro-master/data/part1_grep/\n",
    "  inflating: belgrade_unix_intro-master/data/part1_grep/file1.txt\n",
    "  inflating: belgrade_unix_intro-master/data/part1_grep/file2.txt\n",
    "   creating: belgrade_unix_intro-master/src/\n",
    "   creating: belgrade_unix_intro-master/src/data/\n",
    "  inflating: belgrade_unix_intro-master/src/data/README.rst\n",
    "  inflating: belgrade_unix_intro-master/src/generate_grep_exercise.py\n",
    "  ```"
   ]
  },
  {
   "cell_type": "markdown",
   "metadata": {
    "slideshow": {
     "slide_type": "slide"
    }
   },
   "source": [
    "# Basic Unix Commands: ls, cd\n",
    "\n",
    "Let's have a look at the files we just downloaded.\n",
    "\n",
    "We will use two basic Unix commands:\n",
    "\n",
    " - **ls** list the number of files in the current directory\n",
    " - **cd** allows to move to a different directory.\n",
    " \n",
    " \n",
    "Typing **ls** will show all the files in the current directory. Among these you should see a folder called **belgrade_unix_intro-master**, created by the wget and unzip commands. \n",
    " \n",
    "Let's move to this new directory, and list the files in it:\n",
    " \n",
    "```\n",
    "$: cd belgrade_unix_intro-master/\n",
    "$: ls\n",
    "```\n",
    "\n",
    "This will show a list of files, including a file called **start_here.txt**, a README, a few folders (data/, src/), and some other files."
   ]
  },
  {
   "cell_type": "code",
   "execution_count": 72,
   "metadata": {
    "collapsed": false,
    "slideshow": {
     "slide_type": "subslide"
    }
   },
   "outputs": [
    {
     "name": "stdout",
     "output_type": "stream",
     "text": [
      "total 48\r\n",
      "drwxr-x---. 2 gmd78366 gsk_rd  4096 Aug 26 18:28 \u001b[0m\u001b[01;34mdata\u001b[0m\r\n",
      "-rw-r-----. 1 gmd78366 gsk_rd   352 Aug 27 10:46 Makefile\r\n",
      "-rw-r-----. 1 gmd78366 gsk_rd 21168 Aug 27 05:21 PEB Bash Workshop.ipynb\r\n",
      "-rw-r-----. 1 gmd78366 gsk_rd   260 Aug 26 14:47 README.md\r\n",
      "drwxr-x---. 4 gmd78366 gsk_rd  4096 Aug 27 10:47 \u001b[01;34msrc\u001b[0m\r\n",
      "-rw-r-----. 1 gmd78366 gsk_rd  1877 Aug 25 18:06 start_here.txt\r\n"
     ]
    }
   ],
   "source": [
    "# Contents of the PEB workshop directory\n",
    "ls -l"
   ]
  },
  {
   "cell_type": "markdown",
   "metadata": {
    "slideshow": {
     "slide_type": "slide"
    }
   },
   "source": [
    "# Accessing the contents of a file: head, tail, less, more\n",
    "\n",
    "<style>\n",
    "table {float:left}\n",
    "</style>\n",
    "\n",
    "The new folder contains a file named start_here.txt, containing the first instructions for the workshop.\n",
    "\n",
    "To access the contents of a file, we can use several Unix commands:\n",
    "\n",
    "| command       | description                                   | example             |\n",
    "| :------------:|:-------------------------------------         |:------------------- |\n",
    "| **head**      | print the first lines of the file             | head start_here.txt |\n",
    "| **tail**      | print the last lines of the file              | tail start_here.txt |\n",
    "| **cat**       | print the contents of the file to the screen  | cat start_here.txt  |\n",
    "| **less**      | allows to navigate contents of the file       | less start_here.txt |\n",
    "\n",
    "\n",
    "For the first exercise, type \"head start_here.txt\" and follow the instructions:\n"
   ]
  },
  {
   "cell_type": "code",
   "execution_count": 73,
   "metadata": {
    "collapsed": false
   },
   "outputs": [
    {
     "name": "stdout",
     "output_type": "stream",
     "text": [
      " _________________________________________________\r\n",
      "/ To navigate the contents of this file, type:     \\\r\n",
      "|                                                  |\r\n",
      "|        less start_here.txt                       |\r\n",
      "\\                                                  /\r\n",
      " --------------------------------------------------\r\n",
      "        \\   ^__^\r\n",
      "         \\  (oo)\\_______\r\n",
      "            (__)\\       )\\/\\\r\n",
      "                ||----w |\r\n"
     ]
    }
   ],
   "source": [
    "head start_here.txt"
   ]
  },
  {
   "cell_type": "markdown",
   "metadata": {
    "slideshow": {
     "slide_type": "slide"
    }
   },
   "source": [
    "# Searching patterns into file: grep\n",
    "\n",
    "The instructions for the next exercises are stored in the **data/exercise1_grep.txt** file. \n",
    "\n",
    "However, if you look at this file with head or less, you will see that its contents have no meaning!"
   ]
  },
  {
   "cell_type": "code",
   "execution_count": 74,
   "metadata": {
    "collapsed": false,
    "slideshow": {
     "slide_type": "-"
    }
   },
   "outputs": [
    {
     "name": "stdout",
     "output_type": "stream",
     "text": [
      "1BeCqQjnnjA7kuqDvaxP6KmSs0zCS4Qcs6xPvabQ    UzBfLdCCHi0oxu2vx6jK1sRlgYZhq5UAcTB\r\n",
      "jA6P8nqcY4bOcufymh37Hl8xHXoaecRaG5mpHGVD    H04mLSS8LZeEJy6CalPbBBah9s1BXaDeJCI\r\n",
      "iqXbsGDDRJxn0Rdocsp3roYUrcUyWzoXuLzHAQ H    \r\n",
      "DchjS Gj98gepodmDn ruVAgiA0xTRn7jR6ucHKv    tcUt3ujf61D4iXcNlCpjjuyNwnPF5xVylzk\r\n",
      "5WjYOkawbesvdX7YaysotgZ1SFdyabU88Rlj y1S    5Ib0mKYpfzkIk06bMXf2J5qxF7zL2wkP2Hf\r\n",
      "W4SxoI IP3pVoBlQRq3si945rHMqHustartCiZtW    \r\n",
      "jmaHRkaMXwCLXYFwt39StYDINMg81EKlCooXP1rA    prDCrNBM0XpmE8PrvyRKfWit1rvYidNeleV\r\n",
      "hwRmKDbun0Cs2mGmgdocs1V5wkFGqfhZSi yX358        The documentation for grep can be accessed through man:\r\n",
      "ie89hmTBUais0EsqWbC6vNVcJAoBVBxR3AFvGsCa    YayZIRzLtcLsP2 bbl UhV79a8sKZ N0Kde\r\n",
      "15hRiNb8OpVaoHeTpuyJGfD8r5FeSpNilKlmN1Nz    0iyozM4NG5fXg4TZ4zKnzqG0RjOmGjli7gD\r\n"
     ]
    }
   ],
   "source": [
    "head data/exercise1_grep.txt"
   ]
  },
  {
   "cell_type": "markdown",
   "metadata": {
    "slideshow": {
     "slide_type": "-"
    }
   },
   "source": [
    "This is because I've hidden all the instructions in the file, just to make things more interesting!\n",
    "\n",
    "Scroll down to see how to continue."
   ]
  },
  {
   "cell_type": "markdown",
   "metadata": {
    "slideshow": {
     "slide_type": "subslide"
    }
   },
   "source": [
    "More precisely, I've hidden the first exercises in all the lines containing the word \"start\" somewhere.\n",
    "\n",
    "To find all the lines containing the word \"start\" in the exercise file, type:\n",
    "\n",
    "```\n",
    "$: grep start data/exercise1_grep\n",
    "```"
   ]
  },
  {
   "cell_type": "code",
   "execution_count": 75,
   "metadata": {
    "collapsed": false,
    "slideshow": {
     "slide_type": "fragment"
    }
   },
   "outputs": [
    {
     "name": "stdout",
     "output_type": "stream",
     "text": [
      "W4SxoI IP3pVoBlQRq3si945rHMqHustartCiZtW    \r\n",
      "XSyslKG5wbEMQ7aWO7mV09DVstartY5Wk ptsQ3q     ______________________________\r\n",
      "O7vOUI3bjustartvs0t3SPBvsBl6kBaTFrUIIBNj    / Congrats!                    \\ \r\n",
      "0qIgfb6fK94Zwaf0C1suktoBvSstartxKibTDAS2    |  You've used grep correctly, |\r\n",
      "j8Vi7AzPARGvVLc7V jUrVSezwAstartWKbf1a9p    \\  and found a cow.            /\r\n",
      "IdzEuhdiLZh LpKcZvRhyn7STdJFstartws9bRHp     ------------------------------\r\n",
      "e6yMXZCXxXDQy3V 5iyB1vXlyRgq9istartAXYdD            \\   ^__^\r\n",
      "Kg bXOstartHkMBqWZNW75SWO9Bksv4TBvNTfzT9             \\  (oo)\\_______\r\n",
      "zu7PXbFCi1p33lS6sekqRmnA9GGX8OuwjstartPt                (__)\\       )\\/\\ \r\n",
      "8WNN1WVyTVRfOTYxrebFq2GtVIY70startNGt0Dk                    ||----w |\r\n",
      "Ck7AYmNUlCuERMdyIpR8wQuMystartjVafDigP4N                    ||     ||\r\n",
      "j2z1D1T6IyPeKwAyksstartl7V7LOwhgxCTdfSn2    \r\n",
      "PCxr5BP4QG7MfQ4Exf5cRistartbkQWLppTAKU R    \r\n",
      "Ostart SHJMYxx08oN6mDpcNoUrKi951Teb2pdP1    \r\n",
      "6LYFfBcp7zxL0startCwXT6euqE7upoXYgTjsv7l        The command grep allows to search for a pattern in a text file.\r\n",
      "VKAdRS9r6tllIpxrpayqhstarthwlIlItak4xkR7        It will print all the matching lines to the screen.\r\n",
      "9fZYbTFgwRDstartOiEt75FQe2X14WaYtUJdqFCr    \r\n",
      "Pyvh2SLNyibB 4d0Z9Yka59Av9lsstartl62JqJH        =================\r\n",
      "diTV8O5GiSlH0qvPOcFTFZJVQBdmL4yCzkxstart        Next Exercise\r\n",
      "UeX5mhTg6GxYmrdPnRGs9HZstartNpk3FTpYBivJ        =================\r\n",
      "X9T WEf623qRh7ubIdoSe0JDx49RABstartCJ865    \r\n",
      "KnrMVoMWjW8g0VeqN5startuwvKB5Nj1U7SLQHIN        In the next exercise we will see how to access grep's documentation.\r\n",
      "yDwUZhnJI85ES5fdVtrmstartzp20kd3i0uW0azF    \r\n",
      "YKc0ICbALMwyNwynNXc 7FiPZ7fjwonjhbJstart        Grep the following word to continue:\r\n",
      "t98cRuk8py5CVrQbV8ZSG9bG96pbBWII3startpg    \r\n",
      "WYKyi VqYaBRJqyxzrRh48ZZWJcMstart8CFO21S                     | |                  \r\n",
      "1mQ6HSsyINOAM5kMldZWUWog 0msN8RstartO0sS                   __| |  ___    ___  ___ \r\n",
      "ZY9Lmcq7VP5startK0tudA6 lJG oP3MZPWWjT6j                  / _` | / _ \\  / __|/ __|\r\n",
      "xS8nddgENCstart9UGtCZgXl4f6H0qWRE7xKdvfn                 | (_| || (_) || (__ \\__ \\ \r\n",
      "s0XstartfYbnMkbb 0UWjSYwIJ 65hIs7fl9Lvb8                  \\__,_| \\___/  \\___||___/\r\n",
      "E0fx4c8qstart1Xc5cnV0voufwRuaq8x8NiiAy8u    \r\n",
      "9xumuMapi8Z1JptP1aAlstartZSSwfftLLhySxeG    \r\n"
     ]
    }
   ],
   "source": [
    "grep start data/exercise1_grep.txt"
   ]
  },
  {
   "cell_type": "markdown",
   "metadata": {
    "slideshow": {
     "slide_type": "slide"
    }
   },
   "source": [
    "## Accessing grep documentation\n",
    "\n",
    "To access the documentation of a command, we can use the **man** command.\n",
    "\n",
    "Let's type the following:\n",
    "\n",
    "```\n",
    "$: man grep\n",
    "```\n",
    "\n",
    "This will allow to navigate the documentation for grep, in the same modality as with the **less** command. Use the arrows to scroll, and q to exit.\n",
    "\n",
    "For the next exercise, we will have to do a case-insensitive search for \"ignorecase\", and count the number of lines."
   ]
  },
  {
   "cell_type": "code",
   "execution_count": 77,
   "metadata": {
    "collapsed": false,
    "slideshow": {
     "slide_type": "subslide"
    }
   },
   "outputs": [
    {
     "name": "stdout",
     "output_type": "stream",
     "text": [
      "C8jlKPAaM8QuWdJxgpok Cn5DAOadocssQ0 vrKF    \r\n",
      "SSh1S57xUp51ktTd6JTp9cbQrKH0MibLRdocsWxS        The documentation for grep can be accessed through man:\r\n",
      "xqBqXU7hHbGuqBsdocsssltRv1hkca8QkPLwsapN    \r\n",
      "uQQKM0jgfBdocsR9cD4uiSv3xtPsUjbujOymg6kN            $: man grep\r\n",
      "gk4EbTVHjrB58NrEXCwzfIkdfhjcw8jdocsdugUh        \r\n",
      "EqOk7IVDs33MIFZgp5DbIO0LjaG 8RddocsRfqHX        Scroll down to see all the parameters for grep and their description.\r\n",
      "hW8YD4wPRuDca qOpbn6N1Ym kqRmr3jVdocsMS8    \r\n",
      "43Mdocs B9ubxCFIIDjGgcHIfiMHEhf8OPagwroy        Use / to search for text.\r\n",
      "RxyG4Xb7 xwEMoXNCTyV6df9pWbMfdocskV4V8RY        Press the q key to exit.\r\n",
      "Ot5UnFT7PdocsE0pZJWqh9653anVL03X0yrCCkwI    \r\n",
      "w1jWBuTLWO5gGydocs ct4YnIZPQvEwkMJsRIrDg    \r\n",
      "zt8ECbrr7JwX5NbUcHFBYMcDpbWT4ecjLLUVdocs    \r\n",
      "docsdrHeOVWRMo19i6ChJCGs95IzijD4BFf6GzY1        ==============\r\n",
      "ysNBRI5U9vdocsrozpkvoIZXi0w4gH898D0oo8op        Next exercise\r\n",
      "03idocsvf65YaNQ6bxdTXVoZrY8MJ E9gcSkVBct        ==============\r\n",
      "UEpkEuLpmgw5uPGyKnllCjEWD4iBwB8J65docsKO    \r\n",
      "8lnK3lF9KpUDMCdiRdocsy5vZeilcObCskPWDcjk        For the next exercise, you will need to open grep's documentation and identify two options:\r\n",
      "HsgodocsVRuwunceOyMbiwkpaqJQrHXUzgLWYWrh    \r\n",
      "t71A9wNPDkyBsdocsuTJh6DMpEIxsYUDBirA ouv        - the option for doing case-insensitive searches\r\n",
      "pas7yAU79xGAnpJrkAJ8PwEZRIOgJY5PVvdocsqK        - the option for counting the number of matching lines, instead of printing them to the screen.\r\n",
      "EQakUS rJ5lLLzUznjH8OPHkUEs3ndocsOW14q9T    \r\n",
      "n0GVR7r8zSUM9uYpLIklYddocsDKsmX5RBhyWgPa        Once you have identified these options, \r\n",
      "raEED3Q96ElL8SmA ghvdocs768ciLmVr0rCh8ob        do a case-insensitive search on this file for the word \r\n",
      "8z47NEXjpCmgYjgnEnqHCuXZdocsbAinq0sd0WSP        \"ignorecase\", then count the number of matching lines.\r\n",
      "QTBHVx4jNWL39d7BLlIeidjOdocsYMUXCnEVtPUI    \r\n",
      "X3OIojQ1IQHg8bYh9docsvdE94czwJ5esMFe1176        \r\n"
     ]
    }
   ],
   "source": [
    "grep docs data/exercise1_grep.txt"
   ]
  },
  {
   "cell_type": "code",
   "execution_count": 79,
   "metadata": {
    "collapsed": false,
    "slideshow": {
     "slide_type": "subslide"
    }
   },
   "outputs": [
    {
     "name": "stdout",
     "output_type": "stream",
     "text": [
      "21\r\n"
     ]
    }
   ],
   "source": [
    "grep -i -c ignorecase data/exercise1_grep.txt"
   ]
  },
  {
   "cell_type": "code",
   "execution_count": 80,
   "metadata": {
    "collapsed": false,
    "slideshow": {
     "slide_type": "fragment"
    }
   },
   "outputs": [
    {
     "name": "stdout",
     "output_type": "stream",
     "text": [
      "9d9mMIitt iBUi58zeaignorecase6jPB3ZgBDfh    \r\n",
      "UC6nsZnx7u jfzyignorecasezLNutvJKOkuvfn7            \r\n",
      "BqIQVOH638od0vSignorecase4cRBelVODqWW1rM        Remember that, to continue with the exercise, \r\n",
      "AQdcL7QJGCsF4m8jo9J B10aignorecasebOMImQ        you need to do a case-insensitive search for the word\r\n",
      "8z47NEXjpCmgYjgnEnqHCuXZdocsbAinq0sd0WSP        \"ignorecase\", then count the number of matching lines.\r\n",
      "9FSsiHuAm8VPTkmignorecaseKEa7os07jV8tRQT    \r\n",
      "LwUJkWjuyIgnorEcaseuYirS4lNIHbXOGpy5Amw      _____________\r\n",
      "CRLsYRU3PajW7REAupPTcignorecasexb ESzi7g    / Good Job!   \\ \r\n",
      "WclhYIgnorEcasem6esLs9navFrX3YXu89PAKZAF    | You did a   |\r\n",
      "fSwW0LsE GvignOrecase6IWVPmce9ZyCjZXXi8x    | case-insens |\r\n",
      "oDLC41X3XFPtsyy5AzKp5WfcckVGXIGNORECASEA    | itive       |\r\n",
      "7B0lgd0v3UBW5NrMMBWhPpSGZignOrecasecQk4E    \\ search      /\r\n",
      "lnfKIYV7rQhTVignOrecase8mzXvQrwmEcIZytNb     -------------\r\n",
      "4PJxLEfl6G4jYfazignOrecaseB8SMtlCQv8MxEl            \\   ^__^\r\n",
      "MpP0hI8S3wBs8Mignorecasej3N Cgbxjw6wtOal             \\  (oo)\\_______\r\n",
      "y8VDxP p La8bffqhqcUAxhignOrecase9u0AN4u                (__)\\       )\\/\\ \r\n",
      "z5Yctq7zs4JUaBFOZEJRq0kPEIgnorEcasesx67C                    ||----w |\r\n",
      "4gUIGNORECASE1sX895s4HPMvIvSgy1CQs5H4TEu                    ||     ||\r\n",
      "L tJsj87vP5IrFgitHR1cxIGNORECASETh7xyfGh    \r\n",
      "vTNgiL4ignOrecaseIb7ZMNc051814eYZE7S3MGK    \r\n",
      "8hKKzIGNORECASE3hTP514LBAkmY3dWXsJ4Jf5Ck        \r\n"
     ]
    }
   ],
   "source": [
    "grep -i ignorecase data/exercise1_grep.txt"
   ]
  },
  {
   "cell_type": "markdown",
   "metadata": {
    "slideshow": {
     "slide_type": "slide"
    }
   },
   "source": [
    "## Regular Expressions\n",
    "\n"
   ]
  },
  {
   "cell_type": "code",
   "execution_count": 78,
   "metadata": {
    "collapsed": false
   },
   "outputs": [
    {
     "name": "stdout",
     "output_type": "stream",
     "text": [
      "Ls5WkaMFyBGWq6BUUL21Ti1qXc5RYskapukvVqDO    \r\n",
      "qsgKkIdG4R5sQS3oYll921WftTCLm 6JBDsdvuLx    \r\n",
      "wls7nwJbeCF6ogijDx421VQk0ycrSfmOBpvfk4LS        Regular Expressions\r\n",
      "zQqTxeTFBbj1pCFE3IX3B0ZKLXLF21SFo6Ht7i 6    \r\n",
      "GO8rvc721etITrjYCivtSuV1ywmlLq9WnmI0WWAZ        \r\n"
     ]
    }
   ],
   "source": [
    "grep 21 data/exercise1_grep.txt"
   ]
  }
 ],
 "metadata": {
  "celltoolbar": "Slideshow",
  "kernelspec": {
   "display_name": "Bash",
   "language": "bash",
   "name": "bash"
  },
  "language_info": {
   "codemirror_mode": "shell",
   "file_extension": ".sh",
   "mimetype": "text/x-sh",
   "name": "bash"
  },
  "nav_menu": {},
  "toc": {
   "navigate_menu": true,
   "number_sections": true,
   "sideBar": true,
   "threshold": 6,
   "toc_cell": true,
   "toc_section_display": "block",
   "toc_window_display": false
  }
 },
 "nbformat": 4,
 "nbformat_minor": 1
}
