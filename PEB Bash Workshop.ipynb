{
 "cells": [
  {
   "cell_type": "markdown",
   "metadata": {
    "toc": "true"
   },
   "source": [
    "# Table of Contents\n",
    " <p><div class=\"lev1 toc-item\"><a href=\"#PEB-Belgrade---Bash-workshop\" data-toc-modified-id=\"PEB-Belgrade---Bash-workshop-1\"><span class=\"toc-item-num\">1&nbsp;&nbsp;</span>PEB Belgrade - Bash workshop</a></div><div class=\"lev1 toc-item\"><a href=\"#How-to-follow-this-workshop\" data-toc-modified-id=\"How-to-follow-this-workshop-2\"><span class=\"toc-item-num\">2&nbsp;&nbsp;</span>How to follow this workshop</a></div><div class=\"lev2 toc-item\"><a href=\"#Getting-a-Terminal-application\" data-toc-modified-id=\"Getting-a-Terminal-application-2.1\"><span class=\"toc-item-num\">2.1&nbsp;&nbsp;</span>Getting a Terminal application</a></div><div class=\"lev3 toc-item\"><a href=\"#Windows\" data-toc-modified-id=\"Windows-2.1.1\"><span class=\"toc-item-num\">2.1.1&nbsp;&nbsp;</span>Windows</a></div><div class=\"lev3 toc-item\"><a href=\"#Mac\" data-toc-modified-id=\"Mac-2.1.2\"><span class=\"toc-item-num\">2.1.2&nbsp;&nbsp;</span>Mac</a></div><div class=\"lev3 toc-item\"><a href=\"#Linux\" data-toc-modified-id=\"Linux-2.1.3\"><span class=\"toc-item-num\">2.1.3&nbsp;&nbsp;</span>Linux</a></div><div class=\"lev2 toc-item\"><a href=\"#Getting-the-workshop-materials\" data-toc-modified-id=\"Getting-the-workshop-materials-2.2\"><span class=\"toc-item-num\">2.2&nbsp;&nbsp;</span>Getting the workshop materials</a></div><div class=\"lev1 toc-item\"><a href=\"#Basic-Unix-Commands:-ls,-cd\" data-toc-modified-id=\"Basic-Unix-Commands:-ls,-cd-3\"><span class=\"toc-item-num\">3&nbsp;&nbsp;</span>Basic Unix Commands: ls, cd</a></div><div class=\"lev1 toc-item\"><a href=\"#Accessing-the-contents-of-a-file:-head,-cat,-less\" data-toc-modified-id=\"Accessing-the-contents-of-a-file:-head,-cat,-less-4\"><span class=\"toc-item-num\">4&nbsp;&nbsp;</span>Accessing the contents of a file: head, cat, less</a></div><div class=\"lev1 toc-item\"><a href=\"#Searching-patterns-into-file:-grep\" data-toc-modified-id=\"Searching-patterns-into-file:-grep-5\"><span class=\"toc-item-num\">5&nbsp;&nbsp;</span>Searching patterns into file: grep</a></div><div class=\"lev2 toc-item\"><a href=\"#Accessing-grep-documentation\" data-toc-modified-id=\"Accessing-grep-documentation-5.1\"><span class=\"toc-item-num\">5.1&nbsp;&nbsp;</span>Accessing grep documentation</a></div><div class=\"lev2 toc-item\"><a href=\"#Searching-multiple-files\" data-toc-modified-id=\"Searching-multiple-files-5.2\"><span class=\"toc-item-num\">5.2&nbsp;&nbsp;</span>Searching multiple files</a></div><div class=\"lev2 toc-item\"><a href=\"#Searching-multiple-patterns-and-the-Unix-piping-system\" data-toc-modified-id=\"Searching-multiple-patterns-and-the-Unix-piping-system-5.3\"><span class=\"toc-item-num\">5.3&nbsp;&nbsp;</span>Searching multiple patterns and the Unix piping system</a></div><div class=\"lev2 toc-item\"><a href=\"#Regular-Expressions\" data-toc-modified-id=\"Regular-Expressions-5.4\"><span class=\"toc-item-num\">5.4&nbsp;&nbsp;</span>Regular Expressions</a></div><div class=\"lev2 toc-item\"><a href=\"#Regular-Expression-exercise\" data-toc-modified-id=\"Regular-Expression-exercise-5.5\"><span class=\"toc-item-num\">5.5&nbsp;&nbsp;</span>Regular Expression exercise</a></div><div class=\"lev1 toc-item\"><a href=\"#Working-with-tabular-files:-Awk\" data-toc-modified-id=\"Working-with-tabular-files:-Awk-6\"><span class=\"toc-item-num\">6&nbsp;&nbsp;</span>Working with tabular files: Awk</a></div>"
   ]
  },
  {
   "cell_type": "markdown",
   "metadata": {
    "slideshow": {
     "slide_type": "slide"
    }
   },
   "source": [
    "# PEB Belgrade - Bash workshop\n",
    "\n",
    "Giovanni M. Dall'Olio, GSK, 12/09/2016. http://bioinfoblog.it\n",
    "\n",
    "```\n",
    " _______________\n",
    " / Welcome to    \\\n",
    " \\ PEB Belgrade! /\n",
    "  ---------------\n",
    "         \\   ^__^\n",
    "          \\  (oo)\\_______\n",
    "             (__)\\       )\\/\\\n",
    "                 ||----w |\n",
    "                 ||     ||\n",
    "```\n",
    "\n",
    "Welcome to Belgrade!\n",
    "\n",
    "In this workshop we will review some basic Unix command, as well as bash usage.\n",
    "\n",
    "If you attended the [Programming for Evolutionary Biology course in Leipzig](http://evop.bioinf.uni-leipzig.de/), this will be a refreshener. I've hidden some **secrets** in the exercises, so you will not get bored :-)\n",
    "\n",
    "If you are new to bash, this will be a short introduction."
   ]
  },
  {
   "cell_type": "code",
   "execution_count": 9,
   "metadata": {
    "collapsed": false,
    "slideshow": {
     "slide_type": "skip"
    }
   },
   "outputs": [
    {
     "name": "stdout",
     "output_type": "stream",
     "text": []
    }
   ],
   "source": [
    "# Configuration - this will not appear in the slideshow\n",
    "alias grep='grep --color'"
   ]
  },
  {
   "cell_type": "markdown",
   "metadata": {
    "slideshow": {
     "slide_type": "slide"
    }
   },
   "source": [
    "# How to follow this workshop\n",
    "\n",
    "\n",
    "## Getting a Terminal application\n",
    "\n",
    "All the exercises will be done in a Terminal. \n",
    "\n",
    "During the conference we may have also time for a \"Linux Install Party\", to get Linux into some of your laptops. However there are ways to access a bash terminal without installing Linux first.\n",
    "\n",
    "Scroll down to see what to install or launch."
   ]
  },
  {
   "cell_type": "markdown",
   "metadata": {
    "slideshow": {
     "slide_type": "subslide"
    }
   },
   "source": [
    "### Windows\n",
    "\n",
    "For Windows users, we will use a terminal emulator software called MobaXTerm: http://mobaxterm.mobatek.net/\n",
    "\n",
    "The Home Edition is free and contains all the features we will need for the workshop:\n",
    "\n",
    "<a href=\"http://mobaxterm.mobatek.net/\" target=\"_blank\"><img src=\"http://mobaxterm.mobatek.net/img/moba/features/feature-terminal.png\" width=\"400\"></a>"
   ]
  },
  {
   "cell_type": "markdown",
   "metadata": {
    "slideshow": {
     "slide_type": "subslide"
    }
   },
   "source": [
    "### Mac\n",
    "\n",
    "You should be able to use the Console App in Mac.\n",
    "\n",
    "<img src=\"http://blog.teamtreehouse.com/wp-content/uploads/2012/09/Screen-Shot-2012-09-25-at-1.01.45-PM.png\" width=\"400\">"
   ]
  },
  {
   "cell_type": "markdown",
   "metadata": {
    "slideshow": {
     "slide_type": "subslide"
    }
   },
   "source": [
    "### Linux\n",
    "\n",
    "Congratulations on having Linux installed! You can use your favorite terminal app (e.g. gnome-terminal or konsole)\n",
    "\n",
    "<img src=\"https://camo.githubusercontent.com/358e5e2206148280d127128499ad92e8621e5517/68747470733a2f2f7261772e6769746875622e636f6d2f63656d6d616e6f75696c696469732f6d6f6e6f6b61692d676e6f6d652d7465726d696e616c2f6d61737465722f73637265656e73686f742d30312e706e67\" width=\"400\">\n"
   ]
  },
  {
   "cell_type": "markdown",
   "metadata": {
    "slideshow": {
     "slide_type": "slide"
    }
   },
   "source": [
    "## Getting the workshop materials\n",
    "\n",
    "Now that we have a terminal application ready, let's download all the course materials.\n",
    "\n",
    "Open the terminal, and type the following commands (omitting the \"$:\"):\n",
    "\n",
    "```\n",
    "$: wget  https://github.com/dalloliogm/belgrade_unix_intro/archive/master.zip\n",
    "$: unzip master.zip\n",
    "\n",
    "```\n",
    "\n",
    "\n",
    "Explanation:\n",
    "\n",
    " - the **wget** command downloads a .zip file containing all the materials\n",
    " - the **unzip** command uncompresses the .zip file, creating a new folder in your home area."
   ]
  },
  {
   "cell_type": "markdown",
   "metadata": {
    "slideshow": {
     "slide_type": "subslide"
    }
   },
   "source": [
    "\\# Expected output\n",
    "\n",
    "```\n",
    "$: wget  https://github.com/dalloliogm/belgrade_unix_intro/archive/master.zip\n",
    "\n",
    "--2016-08-26 09:55:53--  https://github.com/dalloliogm/belgrade_unix_intro/archive/master.zip\n",
    "Resolving github.com... 192.30.253.113\n",
    "Connecting to github.com|192.30.253.113|:443... connected.\n",
    "HTTP request sent, awaiting response... 302 Found\n",
    "Location: https://codeload.github.com/dalloliogm/belgrade_unix_intro/zip/master [following]\n",
    "--2016-08-26 09:55:54--  https://codeload.github.com/dalloliogm/belgrade_unix_intro/zip/master\n",
    "Resolving codeload.github.com... 192.30.253.120\n",
    "Connecting to codeload.github.com|192.30.253.120|:443... connected.\n",
    "HTTP request sent, awaiting response... 200 OK\n",
    "Length: 129112 (126K) [application/zip]\n",
    "Saving to: `master.zip.1'\n",
    "\n",
    "100%[========================================================================================================================================================================>] 129,112      617K/s   in 0.2s\n",
    "\n",
    "2016-08-26 09:55:54 (617 KB/s) - `master.zip' saved [129112/129112]\n",
    "$: unzip master.zip\n",
    "\n",
    "Archive:  master.zip\n",
    "   creating: belgrade_unix_intro-master/\n",
    "  inflating: belgrade_unix_intro-master/PEB Bash Workshop.ipynb\n",
    "  inflating: belgrade_unix_intro-master/README.md\n",
    "   creating: belgrade_unix_intro-master/data/\n",
    "   creating: belgrade_unix_intro-master/data/part1_grep/\n",
    "  inflating: belgrade_unix_intro-master/data/part1_grep/file1.txt\n",
    "  inflating: belgrade_unix_intro-master/data/part1_grep/file2.txt\n",
    "   creating: belgrade_unix_intro-master/src/\n",
    "   creating: belgrade_unix_intro-master/src/data/\n",
    "  inflating: belgrade_unix_intro-master/src/data/README.rst\n",
    "  inflating: belgrade_unix_intro-master/src/generate_grep_exercise.py\n",
    "  ```"
   ]
  },
  {
   "cell_type": "markdown",
   "metadata": {
    "slideshow": {
     "slide_type": "slide"
    }
   },
   "source": [
    "# Basic Unix Commands: ls, cd\n",
    "\n",
    "Let's have a look at the files we just downloaded.\n",
    "\n",
    "We will use two basic Unix commands:\n",
    "\n",
    " - **ls** list the number of files in the current directory\n",
    " - **cd** allows to move to a different directory.\n",
    " \n",
    " \n",
    "Typing **ls** will show all the files in the current directory. Among these you should see a folder called **belgrade_unix_intro-master**, created by the wget and unzip commands. \n",
    " \n",
    "Let's move to this new directory, and list the files in it:\n",
    " \n",
    "```\n",
    "$: cd belgrade_unix_intro-master/\n",
    "$: ls\n",
    "```\n",
    "\n",
    "This will show a list of files, including a file called **start_here.txt**, a README, a few folders (data/, src/), and some other files."
   ]
  },
  {
   "cell_type": "code",
   "execution_count": 10,
   "metadata": {
    "collapsed": false,
    "slideshow": {
     "slide_type": "subslide"
    }
   },
   "outputs": [
    {
     "name": "stdout",
     "output_type": "stream",
     "text": [
      "total 372\r\n",
      "drwxr-x---. 4 gmd78366 gsk_rd   4096 Aug 28 06:06 \u001b[0m\u001b[01;34mdata\u001b[0m\r\n",
      "-rw-r-----. 1 gmd78366 gsk_rd    454 Aug 27 10:53 Makefile\r\n",
      "-rw-r-----. 1 gmd78366 gsk_rd  43157 Sep  3 10:46 PEB Bash Workshop.ipynb\r\n",
      "-rw-r-----. 1 gmd78366 gsk_rd   8740 Sep  3 03:51 PEB Bioconductor workshop.ipynb\r\n",
      "-rw-r-----. 1 gmd78366 gsk_rd    260 Aug 26 14:47 README.md\r\n",
      "-rw-r-----. 1 gmd78366 gsk_rd 293778 Aug 29 10:31 slides.html\r\n",
      "drwxr-x---. 4 gmd78366 gsk_rd   4096 Sep  1 17:44 \u001b[01;34msrc\u001b[0m\r\n",
      "-rw-r-----. 1 gmd78366 gsk_rd   1877 Aug 25 18:06 start_here.txt\r\n"
     ]
    }
   ],
   "source": [
    "# Contents of the PEB workshop directory\n",
    "ls -l"
   ]
  },
  {
   "cell_type": "markdown",
   "metadata": {
    "slideshow": {
     "slide_type": "slide"
    }
   },
   "source": [
    "# Accessing the contents of a file: head, cat, less\n",
    "\n",
    "The new folder contains a file named start_here.txt, containing the first instructions for the workshop.\n",
    "\n",
    "To access the contents of a file, we can use several Unix commands:\n",
    "\n",
    "| command       | description                                   | example             |\n",
    "| :------------:|:-------------------------------------         |:------------------- |\n",
    "| **head**      | print the first lines of the file             | head start_here.txt |\n",
    "| **tail**      | print the last lines of the file              | tail start_here.txt |\n",
    "| **cat**       | print the contents of the file to the screen  | cat start_here.txt  |\n",
    "| **less**      | allows to navigate contents of the file       | less start_here.txt |"
   ]
  },
  {
   "cell_type": "markdown",
   "metadata": {},
   "source": [
    "For the first exercise, type \"head start_here.txt\" and follow the instructions:\n"
   ]
  },
  {
   "cell_type": "code",
   "execution_count": 11,
   "metadata": {
    "collapsed": false
   },
   "outputs": [
    {
     "name": "stdout",
     "output_type": "stream",
     "text": [
      " _________________________________________________\r\n",
      "/ To navigate the contents of this file, type:     \\\r\n",
      "|                                                  |\r\n",
      "|        less start_here.txt                       |\r\n",
      "\\                                                  /\r\n",
      " --------------------------------------------------\r\n",
      "        \\   ^__^\r\n",
      "         \\  (oo)\\_______\r\n",
      "            (__)\\       )\\/\\\r\n",
      "                ||----w |\r\n"
     ]
    }
   ],
   "source": [
    "head start_here.txt"
   ]
  },
  {
   "cell_type": "markdown",
   "metadata": {
    "slideshow": {
     "slide_type": "slide"
    }
   },
   "source": [
    "# Searching patterns into file: grep\n",
    "\n",
    "The instructions for the next exercises are stored in the **data/exercise1_grep.txt** file. \n",
    "\n",
    "However, if you look at this file with head or less, you will see that its contents have no meaning!"
   ]
  },
  {
   "cell_type": "code",
   "execution_count": 12,
   "metadata": {
    "collapsed": false,
    "slideshow": {
     "slide_type": "-"
    }
   },
   "outputs": [
    {
     "name": "stdout",
     "output_type": "stream",
     "text": [
      "E8O5f4JlTD6yKAXocSzHVakmWtJSnlK8drbMEzbx    EMe1Npid4JcpqrKLrKxTEqtaxnzGCqDYe1s\r\n",
      "dCtAVAte8d5zkwxcDtd0szELrEr9iCqq8HXMPBWP    tiuxLeOmEYxK59DCWWoHYXxdzKczsSJWIpf\r\n",
      "3q5ZDYAS9f8tKNkollrGMcMWGS0pf3aaT8a0mR65    nPGXlIGlt4cp5zGrPAHgslbHBLqUsPoNTPR\r\n",
      "uDUP3J6pdZ8CKgxBY6pDIYzGuK3HQOfVHKRdBdng    VzTKTJ9oddnVYDYcTXjUb6JaGXXr0OmAkLe\r\n",
      "rg3l4yhcdfwBd8cGeB8CD9y1nwjpnANOfTEasCdW    ytftJA45GfiEil4muKSTaKTjE6 8LJddqpN\r\n",
      "TUh5XVOCDg36xpWaK4Zsg0UiSb7b8AUU8ObqQY5p    bIKVzT8ttymCAMPSFaIIXEd7KUxEDsNGumz\r\n",
      "QSwnZQNNpIMaLHtxmEl1LetiXc8gp6KuI05B7Nf4    6mlUopRfeATgYfzKELbwajuJ6riZDglPbel\r\n",
      "ZiJ TtexsruQww4IBEABejAZt9VYBXXWUviGdeVm    nkEQ7BrcDgnengoV37AGJ0iKmwkm1foEtiN\r\n",
      "kEMzPP9ZtYvQuNR1bQCHXAn9LHtFldQlFOhAStP5    jIHKEHr87cflWPMT8Ioiyjq8NLtWyxfUhPm\r\n",
      "p0uINfjEZsi041TS3i1m SP7ruJB5CwG1CI9OHvS    po95OJWmWaqrFSQcmvv6fAXNqa6B6mMOOsT\r\n"
     ]
    }
   ],
   "source": [
    "head data/exercise1_grep.txt"
   ]
  },
  {
   "cell_type": "markdown",
   "metadata": {
    "slideshow": {
     "slide_type": "-"
    }
   },
   "source": [
    "This is because I've hidden all the instructions in the file, just to make things more interesting!\n",
    "\n",
    "Scroll down to see how to continue."
   ]
  },
  {
   "cell_type": "markdown",
   "metadata": {
    "slideshow": {
     "slide_type": "subslide"
    }
   },
   "source": [
    "I've hidden the instructions for the first exercise in the lines containing the word \"start\" somewhere.\n",
    "\n",
    "To find them, type:\n",
    "\n",
    "```\n",
    "$: grep start data/exercise1_grep\n",
    "```"
   ]
  },
  {
   "cell_type": "code",
   "execution_count": 13,
   "metadata": {
    "collapsed": false,
    "slideshow": {
     "slide_type": "fragment"
    }
   },
   "outputs": [
    {
     "name": "stdout",
     "output_type": "stream",
     "text": [
      "m73BcaR\u001b[01;31m\u001b[Kstart\u001b[m\u001b[K uKbzfDMJJZ7NrdBmwlrZMzMINDN    \r\n",
      "\u001b[01;31m\u001b[Kstart\u001b[m\u001b[KdzkF6cPum6ZMqj1diz4jlZ8OO8FJxIM3M0m     ______________________________\r\n",
      "w \u001b[01;31m\u001b[Kstart\u001b[m\u001b[K TBTlDPA1Hh9zVn7drRaL1jv a hmP3wD    / Congrats!                    \\  \r\n",
      "ULRQbV69WBrgFoU \u001b[01;31m\u001b[Kstart\u001b[m\u001b[K3i1N5Jh4IyNxrKfMq01    |  You've used grep correctly, |\r\n",
      "EDMznJdZP43eauX \u001b[01;31m\u001b[Kstart\u001b[m\u001b[K 3ItyUJLqMwpIaG6kDZ    \\  and found a cow.            /\r\n",
      "axOCFwksH Fs5NLau LbRDSojpH\u001b[01;31m\u001b[Kstart\u001b[m\u001b[KEffqpY9c     ------------------------------\r\n",
      "octSVXYMWsHoNcEiRe4z P\u001b[01;31m\u001b[Kstart\u001b[m\u001b[KD3bHxZpdFHGXT            \\   ^__^\r\n",
      "4FSG4\u001b[01;31m\u001b[Kstart\u001b[m\u001b[K ZxCaNiaD7Dpvc 9kydAISO9hupn1I             \\  (oo)\\_______\r\n",
      "n6np3 tKh l61 \u001b[01;31m\u001b[Kstart\u001b[m\u001b[KJtmmyeL6BLVBExAiYZsO4                (__)\\       )\\/\\ \r\n",
      "sBhKDTOPbA \u001b[01;31m\u001b[Kstart\u001b[m\u001b[K ucKu37tBhyGClIqCgbZ IZu                    ||----w |\r\n",
      "E 3nrUPNMPfl9YoThmQ1k9Wa6o\u001b[01;31m\u001b[Kstart\u001b[m\u001b[K XPoR tPE                    ||     ||\r\n",
      "5vamNRWll8wfDhNicpwOnIavjd\u001b[01;31m\u001b[Kstart\u001b[m\u001b[K tTl 9BlY    \r\n",
      "Uax FcjHOJ\u001b[01;31m\u001b[Kstart\u001b[m\u001b[K 56iD7HsHhDTVtCWLYOsHxKXt    \r\n",
      "nJLkUHp3pXS7J4RYJ \u001b[01;31m\u001b[Kstart\u001b[m\u001b[K X0buHb0izounwWZR    \r\n",
      "pjwsMCZGbv7Y3yIgo\u001b[01;31m\u001b[Kstart\u001b[m\u001b[K erSiS46V6srLtHAkc    The command grep allows to search\r\n",
      "rw\u001b[01;31m\u001b[Kstart\u001b[m\u001b[K hGGLgPnxbHrKvkNssv5BWcXVXySTLlpY    for a pattern in a text file.\r\n",
      "IshUJAfr\u001b[01;31m\u001b[Kstart\u001b[m\u001b[KSMxsMrHEp3mSl9StL1KS5aBqxIf    \r\n",
      "RxI4bOTl v8H8Bi1rJURDizZC\u001b[01;31m\u001b[Kstart\u001b[m\u001b[K DgZIO emD    It will print all the matching \r\n",
      "oRE0vTAwFyQ7cdlogfiqr76 \u001b[01;31m\u001b[Kstart\u001b[m\u001b[K azSLDurxJH    lines to the screen.\r\n",
      "wVPXDFbzTfKz5g88B1Uy7lQ \u001b[01;31m\u001b[Kstart\u001b[m\u001b[K cAfvDwn0DC    \r\n",
      "J3FhLw5Zg9RE4uj5iK7HBeIrsZIis \u001b[01;31m\u001b[Kstart\u001b[m\u001b[K S IN    =================\r\n",
      "JSaeo8onLGow ji8gYg \u001b[01;31m\u001b[Kstart\u001b[m\u001b[K ov9ClHPzQ6whYP    Next Exercise\r\n",
      "9EqrJr1dXaONB60 \u001b[01;31m\u001b[Kstart\u001b[m\u001b[K7FtOUWf FwD3U1dfyRD    =================\r\n",
      "tqjSh7OzE\u001b[01;31m\u001b[Kstart\u001b[m\u001b[K 83KgWpvVvo6LVChfoem4gZs7q    \r\n",
      "46J5W7a140dzcRAj5k 1RGZydFlyWod \u001b[01;31m\u001b[Kstart\u001b[m\u001b[K Vh    In the next exercise we will see \r\n",
      "6NDgNJzM4 HT \u001b[01;31m\u001b[Kstart\u001b[m\u001b[KCbgAIDljRsK9SdKK1EkAmC    how to access grep's documentation.\r\n",
      "nwkFYnBMZdfYoBe5 D8ATkD \u001b[01;31m\u001b[Kstart\u001b[m\u001b[K CjcGhll9CJ    \r\n",
      "6oTzxsjpr \u001b[01;31m\u001b[Kstart\u001b[m\u001b[KctiofcEC91oQ0G0fvuAusaPfJ    Grep the following word to continue:\r\n",
      "RG0R31S \u001b[01;31m\u001b[Kstart\u001b[m\u001b[KhQZpAEXjBOLiZ8hYEHpGcNGQbRi      _            _        \r\n",
      "mHjRh3sehsGKlMoaBuAXJkJux\u001b[01;31m\u001b[Kstart\u001b[m\u001b[KvL5lMis1BT     | |          | |       \r\n",
      "83pfON6ItF5b \u001b[01;31m\u001b[Kstart\u001b[m\u001b[K 097nLjQN8nju8E3S8Rrc3     | |__    ___ | | _ __  \r\n",
      "brW66RPeh5osrfWA0Ykd8p \u001b[01;31m\u001b[Kstart\u001b[m\u001b[K6OfJ7jGXqPzZ     | '_ \\  / _ \\| || '_ \\ \r\n",
      "LljV91saQl Zdq6AhMQzOEJWq \u001b[01;31m\u001b[Kstart\u001b[m\u001b[K MgFfaFOe     | | | ||  __/| || |_) |\r\n",
      "6\u001b[01;31m\u001b[Kstart\u001b[m\u001b[K 00xsMvV4wDVncgAfKrULt6iy3nDagEZbQ     |_| |_| \\___||_|| .__/ \r\n",
      "MOrfr63qzeBux8rgHYZu\u001b[01;31m\u001b[Kstart\u001b[m\u001b[Kg0DhCpsYzN1azXL                     | |    \r\n",
      "IxAZd1XSEKzhi5dVh1Kg0Hp0qnf1pwPf \u001b[01;31m\u001b[Kstart\u001b[m\u001b[Kbc                     |_|  \r\n",
      "SNwk3Ra1dZPghDD3zlZ k\u001b[01;31m\u001b[Kstart\u001b[m\u001b[KuxyDyM0Sk7Tj3v    \r\n",
      "GMwDnooCbWUvDHn0O\u001b[01;31m\u001b[Kstart\u001b[m\u001b[K Ahs4jGX9sxv688U1P    \r\n"
     ]
    }
   ],
   "source": [
    "grep start data/exercise1_grep.txt"
   ]
  },
  {
   "cell_type": "markdown",
   "metadata": {
    "slideshow": {
     "slide_type": "slide"
    }
   },
   "source": [
    "## Accessing grep documentation\n",
    "\n",
    "To access the documentation of a command, we can use the **man** command.\n",
    "\n",
    "Let's type the following:\n",
    "\n",
    "```\n",
    "$: man grep\n",
    "```\n",
    "\n",
    "This will allow to navigate the documentation for grep, in the same modality as with the **less** command. Use the arrows to scroll, and q to exit.\n",
    "\n",
    "For the next exercise, you will have to identify two options in the man page, and use them to do a case-insensitive search for \"ignorecase\", and count the number of lines."
   ]
  },
  {
   "cell_type": "code",
   "execution_count": 14,
   "metadata": {
    "collapsed": false,
    "slideshow": {
     "slide_type": "subslide"
    }
   },
   "outputs": [
    {
     "name": "stdout",
     "output_type": "stream",
     "text": [
      "jHBP0A \u001b[01;31m\u001b[Khelp\u001b[m\u001b[K KxbViZC4PkSRQ6shgQu9lcjhovoc    \r\n",
      "DH7kD0IOmf8FpQjNn\u001b[01;31m\u001b[Khelp\u001b[m\u001b[KAmwLzmFtRSSaCKyHXmf    The documentation for grep can \r\n",
      "XFy3ApXDkBh4XoZa8b\u001b[01;31m\u001b[Khelp\u001b[m\u001b[KtSPEUS5JxRUHhcahoG    be accessed through man:\r\n",
      "3Tgh \u001b[01;31m\u001b[Khelp\u001b[m\u001b[K 9Ma3X9ONqkB80vZnuoqKQ49yr6Yat8    \r\n",
      "mQkj1eHpKWS77XYv\u001b[01;31m\u001b[Khelp\u001b[m\u001b[KFMLFtI3dGvrrNitbKfOD        $: man grep\r\n",
      "h\u001b[01;31m\u001b[Khelp\u001b[m\u001b[K aYjxQy3jKUEwVewMudJiAo0ePLjSlsFp7H    \r\n",
      "PC9LcwJmUsEysyXFJQ \u001b[01;31m\u001b[Khelp\u001b[m\u001b[K wGqFnNALupS7ZF 6    Scroll down to see all the \r\n",
      "K1TGO3VwAK0PVR63fyzyeiKP5GJ \u001b[01;31m\u001b[Khelp\u001b[m\u001b[K 1WTXcuh    parameters for grep and their description.\r\n",
      "w4pZ\u001b[01;31m\u001b[Khelp\u001b[m\u001b[KOM8FYKUeQx8aD9pgKCvLZLnCOuXphEwS    \r\n",
      "0 \u001b[01;31m\u001b[Khelp\u001b[m\u001b[K 5We8jYLT8g9fAP16CQUPorrYyMNCwNIUN    Use / to search for text.\r\n",
      "CLs0uo7uxgdkZUjvgyCx3h PEa3qgXqD\u001b[01;31m\u001b[Khelp\u001b[m\u001b[K 6p4    Press the q key to exit.\r\n",
      "3AGkitR8M5dlmU \u001b[01;31m\u001b[Khelp\u001b[m\u001b[K gZD0k6hThWWEggLVeQ6m    \r\n",
      "7RuJMFqBJfH\u001b[01;31m\u001b[Khelp\u001b[m\u001b[K hcY0KcaVXPcwY B R1YRA0Ql    \r\n",
      "ZGnPcRu0aLGU\u001b[01;31m\u001b[Khelp\u001b[m\u001b[KqrpIS0Qw5iAvRhur6thfe0zg    \r\n",
      "Shzo8F6tNIcLQVO5rscyN0IqntEKY8hO48\u001b[01;31m\u001b[Khelp\u001b[m\u001b[KFI    ==============\r\n",
      "  \u001b[01;31m\u001b[Khelp\u001b[m\u001b[K wggxlWlDchZUUbKiA43zuKSLup8r6HmHI    Next exercise\r\n",
      "SCK8gcKPuvnZ49jZMx8ZyrAFkdkbFX7 \u001b[01;31m\u001b[Khelp\u001b[m\u001b[K SEW    ==============\r\n",
      "aefrKVdRc9RruPSxrL6OZ6XaO \u001b[01;31m\u001b[Khelp\u001b[m\u001b[K cDxuLxLyf    \r\n",
      "W3YvmH8GTfhjb30Z0JB5ogs\u001b[01;31m\u001b[Khelp\u001b[m\u001b[K  8zcpDQzZ7h1    For the next exercise, you will need to open \r\n",
      "vfnBz6MTmiaNL3r5rtP WQL4dO7D\u001b[01;31m\u001b[Khelp\u001b[m\u001b[K 8 oD jj    grep's documentation and identify two options:\r\n",
      "9P\u001b[01;31m\u001b[Khelp\u001b[m\u001b[K 9YtrtlEMwuNCkBmTVodwakY4PMgm0f6qk    \r\n",
      "OFOCfYGyXZLS \u001b[01;31m\u001b[Khelp\u001b[m\u001b[K s96qeS1imVVCfQv0wezijW    - the option for case-insensitive searches\r\n",
      "Lc\u001b[01;31m\u001b[Khelp\u001b[m\u001b[K khjHLOd8NjkJQRW juNqm9Rp Tri9oqGO    - the option for counting \r\n",
      "rRmVbELmgFvGOkLEhnkAELgPChd\u001b[01;31m\u001b[Khelp\u001b[m\u001b[K uwfnTMlM      the number of matching lines, \r\n",
      "y5EQAmSi81S\u001b[01;31m\u001b[Khelp\u001b[m\u001b[KOXikd4XNDuDciWedZ4gNrrdQi      instead of printing them to the screen.\r\n",
      "WjmRuTCS \u001b[01;31m\u001b[Khelp\u001b[m\u001b[K mg09X NLGrEtKWWjgC9G6C8Rm1    \r\n",
      "bCef3aEH6jF K7BwVFkWOvfJeXG\u001b[01;31m\u001b[Khelp\u001b[m\u001b[KjSnWWV6i     Once you have identified these options, \r\n",
      "vq0M1qFR8osdg1\u001b[01;31m\u001b[Khelp\u001b[m\u001b[K PUYOgRaAIy1JrpYeXK7Va    do a case-insensitive search on this file for the word \r\n",
      "mJDdQCKnvLD61lW971 \u001b[01;31m\u001b[Khelp\u001b[m\u001b[K BcdFrmWVwOFsHBj6    \"ignorecase\", then count the number of lines.\r\n",
      "R\u001b[01;31m\u001b[Khelp\u001b[m\u001b[K R9DcZbcidvsPNUc8jDcme5yBwEEUpswWnY    \r\n",
      "qs bCarqZ8fyZrjeZ\u001b[01;31m\u001b[Khelp\u001b[m\u001b[Kkrc7PffadFfDl1VwRxM        \r\n"
     ]
    }
   ],
   "source": [
    "grep help data/exercise1_grep.txt"
   ]
  },
  {
   "cell_type": "code",
   "execution_count": 15,
   "metadata": {
    "collapsed": false,
    "slideshow": {
     "slide_type": "subslide"
    }
   },
   "outputs": [
    {
     "name": "stdout",
     "output_type": "stream",
     "text": [
      "G\u001b[01;31m\u001b[Kignorecase\u001b[m\u001b[K555TFi4S6mYc0orKFMb0h8hmrBsGv    \r\n",
      "8cg3XC\u001b[01;31m\u001b[Kignorecase\u001b[m\u001b[KQnmEro4N7gltOOhZHas4Egxw            \r\n",
      "HKYu3ZQl\u001b[01;31m\u001b[Kignorecase\u001b[m\u001b[KkmqQYJC07EABZ8VxCd3RF5    Remember that, to continue with the exercise, \r\n",
      "CuqKm6HUdHHqdZPhRgMM1Td\u001b[01;31m\u001b[Kignorecase\u001b[m\u001b[KJtlowcc    you need to do a case-insensitive search for the word\r\n",
      "mJDdQCKnvLD61lW971 help BcdFrmWVwOFsHBj6    \"\u001b[01;31m\u001b[Kignorecase\u001b[m\u001b[K\", then count the number of lines.\r\n",
      "Clk5IXmKRdYSfgDC\u001b[01;31m\u001b[Kignorecase\u001b[m\u001b[KmVycd1kG0M ufK    | You did a   |\r\n",
      "EMyO6FLNbLrEeC\u001b[01;31m\u001b[Kignorecase\u001b[m\u001b[KblYuTrwZUEbikZqN    | case-insens |\r\n",
      "WnyCmoc0MsDvKbP0NChOAtI\u001b[01;31m\u001b[Kignorecase\u001b[m\u001b[Kg 6rKCD            \\   ^__^\r\n",
      "sidxsoE8RoHoOQ7BtsyxFrY6lq4OV\u001b[01;31m\u001b[Kignorecase\u001b[m\u001b[KM             \\  (oo)\\_______\r\n"
     ]
    }
   ],
   "source": [
    "# If we do a search for \"ignorecase\" without any option, we only get some of the lines.\n",
    "# You can notice that the cow is not properly displayed :-)\n",
    "grep ignorecase data/exercise1_grep.txt"
   ]
  },
  {
   "cell_type": "code",
   "execution_count": 16,
   "metadata": {
    "collapsed": false,
    "slideshow": {
     "slide_type": "fragment"
    }
   },
   "outputs": [
    {
     "name": "stdout",
     "output_type": "stream",
     "text": [
      "G\u001b[01;31m\u001b[Kignorecase\u001b[m\u001b[K555TFi4S6mYc0orKFMb0h8hmrBsGv    \r\n",
      "8cg3XC\u001b[01;31m\u001b[Kignorecase\u001b[m\u001b[KQnmEro4N7gltOOhZHas4Egxw            \r\n",
      "HKYu3ZQl\u001b[01;31m\u001b[Kignorecase\u001b[m\u001b[KkmqQYJC07EABZ8VxCd3RF5    Remember that, to continue with the exercise, \r\n",
      "CuqKm6HUdHHqdZPhRgMM1Td\u001b[01;31m\u001b[Kignorecase\u001b[m\u001b[KJtlowcc    you need to do a case-insensitive search for the word\r\n",
      "mJDdQCKnvLD61lW971 help BcdFrmWVwOFsHBj6    \"\u001b[01;31m\u001b[Kignorecase\u001b[m\u001b[K\", then count the number of lines.\r\n",
      "cJmDm0tEX5\u001b[01;31m\u001b[KignOrecase\u001b[m\u001b[KMDNGIcbMtdeneaJ6nHRf    \r\n",
      "H\u001b[01;31m\u001b[KIGNORECASE\u001b[m\u001b[KwiUCPdUH7GEbVXctk8RqRABH8XFfN     _____________\r\n",
      "jhyyNr4zBBtIMpzCsVYzSdA0onq\u001b[01;31m\u001b[KignOrecase\u001b[m\u001b[KBbK    / Good Job!   \\ \r\n",
      "Clk5IXmKRdYSfgDC\u001b[01;31m\u001b[Kignorecase\u001b[m\u001b[KmVycd1kG0M ufK    | You did a   |\r\n",
      "EMyO6FLNbLrEeC\u001b[01;31m\u001b[Kignorecase\u001b[m\u001b[KblYuTrwZUEbikZqN    | case-insens |\r\n",
      "lyqyr0 ppbunTHbka4DVvYAKW\u001b[01;31m\u001b[KIGNORECASE\u001b[m\u001b[KyUB4v    | itive       |\r\n",
      "iHS\u001b[01;31m\u001b[KignOrecase\u001b[m\u001b[Kn9bK6kQ7YBN6jKmnetMgCYyrxjZ    \\ search      /\r\n",
      "cRBj4E6d5dEqK4I\u001b[01;31m\u001b[KIgnorEcase\u001b[m\u001b[Kw8xdcLPI0tKDuNq     -------------\r\n",
      "WnyCmoc0MsDvKbP0NChOAtI\u001b[01;31m\u001b[Kignorecase\u001b[m\u001b[Kg 6rKCD            \\   ^__^\r\n",
      "sidxsoE8RoHoOQ7BtsyxFrY6lq4OV\u001b[01;31m\u001b[Kignorecase\u001b[m\u001b[KM             \\  (oo)\\_______\r\n",
      "1\u001b[01;31m\u001b[KIgnorEcase\u001b[m\u001b[KzDyENJ6N5Rv01kgwEG0CFcWl94F7m                (__)\\       )\\/\\ \r\n",
      "4XcUniT\u001b[01;31m\u001b[KIGNORECASE\u001b[m\u001b[K43i3bhuatPk3z0Goo4ydFuN                    ||----w |\r\n",
      "CVuwNDtqfxMkKf mtc\u001b[01;31m\u001b[KIGNORECASE\u001b[m\u001b[KmzPTDaXBnbtj                    ||     ||\r\n",
      "ooa\u001b[01;31m\u001b[KIgnorEcase\u001b[m\u001b[KDhVuLmAAB6DEjB4w0064j1oIanB    \r\n",
      "VMsW5r4Qqelgm41KvB4VLCry8t3\u001b[01;31m\u001b[KIGNORECASE\u001b[m\u001b[KkOY    \r\n",
      "U39wMH NRpTQZCAq6qMcnCsoQBFEg\u001b[01;31m\u001b[KIgnorEcase\u001b[m\u001b[Kb        \r\n"
     ]
    }
   ],
   "source": [
    "# The -i option allows to do a case-insensitive search.\n",
    "# As you can see, some lines contain upper case characters:\n",
    "grep -i ignorecase data/exercise1_grep.txt"
   ]
  },
  {
   "cell_type": "code",
   "execution_count": 17,
   "metadata": {
    "collapsed": false,
    "slideshow": {
     "slide_type": "fragment"
    }
   },
   "outputs": [
    {
     "name": "stdout",
     "output_type": "stream",
     "text": [
      "21\r\n"
     ]
    }
   ],
   "source": [
    "# To solve the exercise, we also have to count the number of output lines.\n",
    "# This can be done with the \"-c\" option:\n",
    "grep -i -c ignorecase data/exercise1_grep.txt"
   ]
  },
  {
   "cell_type": "code",
   "execution_count": 18,
   "metadata": {
    "collapsed": false,
    "slideshow": {
     "slide_type": "fragment"
    }
   },
   "outputs": [
    {
     "name": "stdout",
     "output_type": "stream",
     "text": [
      "Prkegm6YuLv\u001b[01;31m\u001b[K21\u001b[m\u001b[KjloDKtu4AbrFJpuG5xJH7Lb8exz    \r\n",
      "qoRaNXBvKRbt5FWXZxVh4V4qOPaEtQPVIFtv\u001b[01;31m\u001b[K21\u001b[m\u001b[KcY    \r\n",
      "3C3Au\u001b[01;31m\u001b[K21\u001b[m\u001b[K7 UN4p0Sejs6kcki0CZmtfsvUyVWACnPC     ____________________\r\n",
      "vzYTIVNhaBH0Xr0giFpe6Dagl7Uis8vhkLb\u001b[01;31m\u001b[K21\u001b[m\u001b[KxKU    / Congrats! Yes      \\ \r\n",
      "zHNr3\u001b[01;31m\u001b[K21\u001b[m\u001b[Ksh3cPle9K3RnMoT8dGGWl PBPvrduCE k    | the answer to the  |\r\n",
      "RAh0heldv5inoapG8lnJ1gksT\u001b[01;31m\u001b[K21\u001b[m\u001b[KXzDJh6spFNXRg    | case-insensitive   |\r\n",
      "3xCJjVeelXJcMlodKhLJpFcX0\u001b[01;31m\u001b[K21\u001b[m\u001b[K8neHrz4nq1TSx    | and count question |\r\n",
      "LAYHCe5LWQ1dKMd4SIgbMI8\u001b[01;31m\u001b[K21\u001b[m\u001b[K45PzR39iHCrCoUF    | is \u001b[01;31m\u001b[K21\u001b[m\u001b[K.             /\r\n",
      "UI5nd0hSNIBS\u001b[01;31m\u001b[K21\u001b[m\u001b[KyuwcUC3UYgXHZ4VkpYjLoMvrKT     --------------------\r\n",
      "O8at\u001b[01;31m\u001b[K21\u001b[m\u001b[KY7wZi9tCM414tWpOVJEvJkBvkR4j1P4OmW            \\   ^__^\r\n",
      "eMxas\u001b[01;31m\u001b[K21\u001b[m\u001b[KOlNNwfg5IljFnrgAOxFsfQZXB4MyR3Woi             \\  (oo)\\_______\r\n",
      "FztOcyitmoACX7CGh5iABtE zCNR0s7G\u001b[01;31m\u001b[K21\u001b[m\u001b[K999z4l                (__)\\       )\\/\\  \r\n",
      "TPEBAsdzUnCrBcJf\u001b[01;31m\u001b[K21\u001b[m\u001b[K5HSFc hnJYGdvrAMC3hbt7                    ||----w |\r\n",
      "lqlL a6j YmmYjWX1Mrv5S3 kHmNWqea8Sf\u001b[01;31m\u001b[K21\u001b[m\u001b[KxXT                    ||     ||\r\n",
      "3pixB6bSLEuLZr6SQRm3xPLr\u001b[01;31m\u001b[K21\u001b[m\u001b[Km5aw9Q0 SDlQBC    \r\n",
      "tSpxHtMYhgWgmvWuY\u001b[01;31m\u001b[K21\u001b[m\u001b[K64xkXHlsH7kEOKqYunSmr    \r\n",
      "pkcwiPCEYad05y ZGBgOqbCtqjYj6\u001b[01;31m\u001b[K21\u001b[m\u001b[KQyAoRnQdR    =============\r\n",
      "GOhK9v6RPqvHw\u001b[01;31m\u001b[K21\u001b[m\u001b[K16SEPig05MUp gvyis44ekPhl    Next exercise\r\n",
      "aA3QlWqB4\u001b[01;31m\u001b[K21\u001b[m\u001b[K JKlxsJJOVO46uPuHOCPo ET9vmR8    =============\r\n",
      "cGOyf9Fz6xcmFp0ag4u\u001b[01;31m\u001b[K21\u001b[m\u001b[KVUn9UWJnpHiNPBU4FbM    \r\n",
      "PvpFf1Pl1Bh\u001b[01;31m\u001b[K21\u001b[m\u001b[K54wjpAj87u7zCZ Rfh08hWMnL7P    Searching in multiple files\r\n",
      "xbSZTLKH AxRO\u001b[01;31m\u001b[K21\u001b[m\u001b[KnlzGevrxVW04TUc7BojktMLuj    \r\n",
      "qEclpe0p8CoiAnfi\u001b[01;31m\u001b[K21\u001b[m\u001b[KIrXQGLCpHvVl 4RqlbkD8Q    Grep can search the same pattern\r\n",
      "7ERkJwjNVPvcGPvye3uQY\u001b[01;31m\u001b[K21\u001b[m\u001b[Kvp3WUS73QXIZM0Q8l    in more than one file at the same time.\r\n",
      "14WuKPqEDkT3dz\u001b[01;31m\u001b[K21\u001b[m\u001b[Ka3bPaZgCDEKZvdLjLr6d5uW6    \r\n",
      "Sek5ctClHq\u001b[01;31m\u001b[K21\u001b[m\u001b[KuFFdd6HBVuFl6pKguwwqeoq3UNW0    The folder data/multiplefiles/ contains hundreds of different files.\r\n",
      "9TeOi8siP3SOv1YDnqpx1jnRJYk\u001b[01;31m\u001b[K21\u001b[m\u001b[KrP3BR8zjr7p    \r\n",
      "dzPjKLMHlVBJ 8HFCN083HArtW8IIvNw\u001b[01;31m\u001b[K21\u001b[m\u001b[KFKd0L1    Can you identify the file containing the word \"piping\"?\r\n",
      "FvuzzMsDgYGj8NXQBr\u001b[01;31m\u001b[K21\u001b[m\u001b[K7S9pWLHuRK13KSCABwiJ    \r\n",
      "m\u001b[01;31m\u001b[K21\u001b[m\u001b[K8zkpP3pUGGNK9KFSV 9CuOKy0WzgJisLBd3Rh        \r\n"
     ]
    }
   ],
   "source": [
    "# solution: how to find the instructions for the next exercise\n",
    "grep 21 data/exercise1_grep.txt"
   ]
  },
  {
   "cell_type": "markdown",
   "metadata": {
    "slideshow": {
     "slide_type": "slide"
    }
   },
   "source": [
    "## Searching multiple files\n",
    "\n",
    "Grep is useful to search over multiple files in a single command.\n",
    "\n",
    "The folder data/multiplefiles/ contains 50 randomly generated files. You can see their contents with head data/multiplefiles/\\* or with less.\n",
    "\n",
    "One of these files contains the word \"regex\" in it. Are you able to find it?"
   ]
  },
  {
   "cell_type": "code",
   "execution_count": 19,
   "metadata": {
    "collapsed": false,
    "slideshow": {
     "slide_type": "subslide"
    }
   },
   "outputs": [
    {
     "name": "stdout",
     "output_type": "stream",
     "text": [
      "\u001b[35m\u001b[Kdata/multiplefiles/file32.txt\u001b[m\u001b[K\u001b[36m\u001b[K:\u001b[m\u001b[K5gsumFTKbKEJv9dD8W94FhoEQU8qf8RMUc\u001b[01;31m\u001b[Kregex\u001b[m\u001b[KR    \r\n",
      "\u001b[35m\u001b[Kdata/multiplefiles/file32.txt\u001b[m\u001b[K\u001b[36m\u001b[K:\u001b[m\u001b[KYgDiqkA C1o\u001b[01;31m\u001b[Kregex\u001b[m\u001b[K9giqI66c3sOwfLirOsgPpSuq    \r\n",
      "\u001b[35m\u001b[Kdata/multiplefiles/file32.txt\u001b[m\u001b[K\u001b[36m\u001b[K:\u001b[m\u001b[KIsXSnp 8U8pKR0LsVuK\u001b[01;31m\u001b[Kregex\u001b[m\u001b[KO5GFegOtV4GW4fNQ    Good! You've found the \r\n",
      "\u001b[35m\u001b[Kdata/multiplefiles/file32.txt\u001b[m\u001b[K\u001b[36m\u001b[K:\u001b[m\u001b[Kl 4px8KhPRmfEJgi5uTuVO1XahG3H1sY\u001b[01;31m\u001b[Kregex\u001b[m\u001b[K4wt    file containing the word \"\u001b[01;31m\u001b[Kregex\u001b[m\u001b[K\"\r\n",
      "\u001b[35m\u001b[Kdata/multiplefiles/file32.txt\u001b[m\u001b[K\u001b[36m\u001b[K:\u001b[m\u001b[Kyz8P5 HC6N5D XRHPncZjTAeM\u001b[01;31m\u001b[Kregex\u001b[m\u001b[KT9bQUoZdsh    \r\n",
      "\u001b[35m\u001b[Kdata/multiplefiles/file32.txt\u001b[m\u001b[K\u001b[36m\u001b[K:\u001b[m\u001b[KeWUd18s0MVx5YYrEK KCKeF5hvO\u001b[01;31m\u001b[Kregex\u001b[m\u001b[KIiZbIGUX    To continue, \r\n",
      "\u001b[35m\u001b[Kdata/multiplefiles/file32.txt\u001b[m\u001b[K\u001b[36m\u001b[K:\u001b[m\u001b[KMLXiKZJ8KyHMou9lYsz4ZjFYJSfB 14t\u001b[01;31m\u001b[Kregex\u001b[m\u001b[KtpJ    grep file32.txt data/exercise1_grep.txt\r\n",
      "\u001b[35m\u001b[Kdata/multiplefiles/file32.txt\u001b[m\u001b[K\u001b[36m\u001b[K:\u001b[m\u001b[KveFQU\u001b[01;31m\u001b[Kregex\u001b[m\u001b[KfnQxwQw6POJRNvvAeYwToX6ptvN39m    \r\n",
      "\u001b[35m\u001b[Kdata/multiplefiles/file32.txt\u001b[m\u001b[K\u001b[36m\u001b[K:\u001b[m\u001b[KcHoNv\u001b[01;31m\u001b[Kregex\u001b[m\u001b[KiGjHkmptPVTjOzvWVGbrGoHoywV4Vy    \r\n"
     ]
    }
   ],
   "source": [
    "# solution: you can use the \"*\" character to specify multiple files:\n",
    "grep 'regex' data/multiplefiles/*"
   ]
  },
  {
   "cell_type": "markdown",
   "metadata": {
    "slideshow": {
     "slide_type": "slide"
    }
   },
   "source": [
    "## Searching multiple patterns and the Unix piping system\n",
    "\n",
    "How can we search that contain two or more patterns?\n",
    "\n",
    "One solution is to use the Unix piping system, executing one grep command, and then another grep on the output.\n",
    "\n",
    "This can be done using the pipe \"|\" symbol, like the following:\n",
    "\n",
    "```\n",
    "$: grep (first pattern) myfile.txt | grep (second pattern)\n",
    "```\n",
    "\n",
    "Scroll down for some example."
   ]
  },
  {
   "cell_type": "markdown",
   "metadata": {
    "slideshow": {
     "slide_type": "subslide"
    }
   },
   "source": [
    "The file data/genes/mgat_genes.gb is a genbank file. Notice how this format is well suited for grep searches:"
   ]
  },
  {
   "cell_type": "code",
   "execution_count": 20,
   "metadata": {
    "collapsed": false
   },
   "outputs": [
    {
     "name": "stdout",
     "output_type": "stream",
     "text": [
      "LOCUS       HUMUDPCNA               4705 bp    DNA     linear   PRI 19-SEP-1995\r\n",
      "DEFINITION  Human alpha-1,3-mannosyl-glycoprotein beta-1,\r\n",
      "            2-N-acetylglucosaminyltransferase (MGAT) gene, complete cds.\r\n",
      "ACCESSION   M61829\r\n",
      "VERSION     M61829.1  GI:340075\r\n",
      "KEYWORDS    alpha-1,3-mannosyl-glycoprotein beta-1,2-N-acetylglucosaminyltrae.\r\n",
      "SOURCE      Homo sapiens (human)\r\n",
      "  ORGANISM  Homo sapiens\r\n",
      "            Eukaryota; Metazoa; Chordata; Craniata; Vertebrata; Euteleostomi;\r\n",
      "            Mammalia; Eutheria; Euarchontoglires; Primates; Haplorrhini;\r\n"
     ]
    }
   ],
   "source": [
    "head data/genes/mgat_genes.gb"
   ]
  },
  {
   "cell_type": "markdown",
   "metadata": {
    "slideshow": {
     "slide_type": "fragment"
    }
   },
   "source": [
    "Let's say we want to search all the lines where \"ORGANISM\" is \"Homo sapiens\". \n",
    "\n",
    "We can do it with two grep commands:\n",
    "\n",
    "```\n",
    "grep ORGANISM data/genes/mgat_genes.gb | grep 'Homo sapiens'\n",
    "```\n",
    "Notice that searching for \"Homo sapiens\" alone would not be enough, as there are other lines where the word \"Homo sapiens\" is present."
   ]
  },
  {
   "cell_type": "code",
   "execution_count": 21,
   "metadata": {
    "collapsed": false
   },
   "outputs": [
    {
     "name": "stdout",
     "output_type": "stream",
     "text": [
      "  ORGANISM  \u001b[01;31m\u001b[KHomo sapiens\u001b[m\u001b[K\r\n",
      "  ORGANISM  \u001b[01;31m\u001b[KHomo sapiens\u001b[m\u001b[K\r\n",
      "  ORGANISM  \u001b[01;31m\u001b[KHomo sapiens\u001b[m\u001b[K\r\n",
      "  ORGANISM  \u001b[01;31m\u001b[KHomo sapiens\u001b[m\u001b[K\r\n",
      "  ORGANISM  \u001b[01;31m\u001b[KHomo sapiens\u001b[m\u001b[K\r\n",
      "  ORGANISM  \u001b[01;31m\u001b[KHomo sapiens\u001b[m\u001b[K\r\n",
      "  ORGANISM  \u001b[01;31m\u001b[KHomo sapiens\u001b[m\u001b[K\r\n",
      "  ORGANISM  \u001b[01;31m\u001b[KHomo sapiens\u001b[m\u001b[K\r\n"
     ]
    }
   ],
   "source": [
    "grep ORGANISM data/genes/mgat_genes.gb | grep 'Homo sapiens'"
   ]
  },
  {
   "cell_type": "markdown",
   "metadata": {
    "slideshow": {
     "slide_type": "subslide"
    }
   },
   "source": [
    "The file contains sequences from two other organisms apart from Homo sapiens. Can you guess which one to search for the next exercise?"
   ]
  },
  {
   "cell_type": "code",
   "execution_count": 22,
   "metadata": {
    "collapsed": false,
    "slideshow": {
     "slide_type": "fragment"
    }
   },
   "outputs": [
    {
     "name": "stdout",
     "output_type": "stream",
     "text": [
      "  ORGANISM  Bos \u001b[01;31m\u001b[Ktaurus\u001b[m\u001b[K\r\n",
      "  ORGANISM  Bos \u001b[01;31m\u001b[Ktaurus\u001b[m\u001b[K\r\n",
      "  ORGANISM  Bos \u001b[01;31m\u001b[Ktaurus\u001b[m\u001b[K\r\n",
      "  ORGANISM  Bos \u001b[01;31m\u001b[Ktaurus\u001b[m\u001b[K\t\t\t   _______________\r\n",
      "  ORGANISM  Bos \u001b[01;31m\u001b[Ktaurus\u001b[m\u001b[K\t\t          < Well guessed! >\r\n",
      "  ORGANISM  Bos \u001b[01;31m\u001b[Ktaurus\u001b[m\u001b[K\t\t\t   ---------------\r\n",
      "  ORGANISM  Bos \u001b[01;31m\u001b[Ktaurus\u001b[m\u001b[K\t\t\t\t\t\\   ^__^\r\n",
      "  ORGANISM  Bos \u001b[01;31m\u001b[Ktaurus\u001b[m\u001b[K\t\t\t\t\t \\  (oo)\\_______\r\n",
      "  ORGANISM  Bos \u001b[01;31m\u001b[Ktaurus\u001b[m\u001b[K\t\t\t  \t\t    (__)\\       )\\/\\\r\n",
      "  ORGANISM  Bos \u001b[01;31m\u001b[Ktaurus\u001b[m\u001b[K\t\t\t\t\t\t||----w |\r\n",
      "  ORGANISM  Bos \u001b[01;31m\u001b[Ktaurus\u001b[m\u001b[K\t\t\t\t\t\t||     ||\r\n",
      "  ORGANISM  Bos \u001b[01;31m\u001b[Ktaurus\u001b[m\u001b[K\r\n",
      "  ORGANISM  Bos \u001b[01;31m\u001b[Ktaurus\u001b[m\u001b[K\r\n",
      "  ORGANISM  Bos \u001b[01;31m\u001b[Ktaurus\u001b[m\u001b[K\r\n",
      "  ORGANISM  Bos \u001b[01;31m\u001b[Ktaurus\u001b[m\u001b[K\r\n",
      "  ORGANISM  Bos \u001b[01;31m\u001b[Ktaurus\u001b[m\u001b[K\r\n",
      "  ORGANISM  Bos \u001b[01;31m\u001b[Ktaurus\u001b[m\u001b[K\t\t\t\t===============\r\n",
      "  ORGANISM  Bos \u001b[01;31m\u001b[Ktaurus\u001b[m\u001b[K\t\t\t\tNext Exercise\r\n",
      "  ORGANISM  Bos \u001b[01;31m\u001b[Ktaurus\u001b[m\u001b[K\t\t\t\t===============\r\n",
      "  ORGANISM  Bos \u001b[01;31m\u001b[Ktaurus\u001b[m\u001b[K\r\n",
      "  ORGANISM  Bos \u001b[01;31m\u001b[Ktaurus\u001b[m\u001b[K\t\t\t\tTo continue, grep\r\n",
      "  ORGANISM  Bos \u001b[01;31m\u001b[Ktaurus\u001b[m\u001b[K\t\t\t\t\"regex\" in\r\n",
      "  ORGANISM  Bos \u001b[01;31m\u001b[Ktaurus\u001b[m\u001b[K\t\t\t\tdata/exercise1_grep.txt\r\n",
      "  ORGANISM  Bos \u001b[01;31m\u001b[Ktaurus\u001b[m\u001b[K\r\n"
     ]
    }
   ],
   "source": [
    "# Solution: grep for \"bos taurus\":\n",
    "grep ORGANISM data/genes/mgat_genes.gb | grep taurus"
   ]
  },
  {
   "cell_type": "markdown",
   "metadata": {
    "slideshow": {
     "slide_type": "slide"
    }
   },
   "source": [
    "## Regular Expressions\n",
    "\n",
    "Regular expressions allow to search for more complex patterns. \n",
    "\n",
    "Here are some simple regular expression examples:\n",
    "\n",
    "| regex    | description |\n",
    "| -------- | ----------- |\n",
    "| .        | matches any character |\n",
    "| [A-Za-z] | matches any of the characters within parenthesis|\n",
    "| .\\*      | matches any character, any number of times| "
   ]
  },
  {
   "cell_type": "markdown",
   "metadata": {
    "slideshow": {
     "slide_type": "subslide"
    }
   },
   "source": [
    "## Regular Expression exercise\n",
    "\n",
    "Let's have a look at the file data/genes/sequences.fasta:"
   ]
  },
  {
   "cell_type": "code",
   "execution_count": 23,
   "metadata": {
    "collapsed": false
   },
   "outputs": [
    {
     "name": "stdout",
     "output_type": "stream",
     "text": [
      ">seq000 sequence description\r\n",
      "NCTNAGNTTAACCNCCNAAGGGAGGCNTGG\r\n",
      ">seq001 sequence description\r\n",
      "GGNCTNATCTGNCNTGGTTGNAAANNGTCC\r\n",
      ">seq002 sequence description\r\n",
      "TCCACNATGGGCGGACNCGTACGTNCCGCC\r\n",
      ">seq003 sequence description\r\n",
      "CGNNTAGTCATGCTNCTTNGAGNGGACNTC\r\n",
      ">seq004 sequence description   \r\n",
      "TANCAAAaaTTTGANGANNAAANGCACTNA\r\n"
     ]
    }
   ],
   "source": [
    "head data/genes/sequences.fasta "
   ]
  },
  {
   "cell_type": "markdown",
   "metadata": {},
   "source": [
    "Can you use grep to identify all the sequences containing three As, followed by any two characters, followed by three Ts?"
   ]
  },
  {
   "cell_type": "code",
   "execution_count": 24,
   "metadata": {
    "collapsed": false,
    "slideshow": {
     "slide_type": "subslide"
    }
   },
   "outputs": [
    {
     "name": "stdout",
     "output_type": "stream",
     "text": [
      "TANC\u001b[01;31m\u001b[KAAAaaTTT\u001b[m\u001b[KGANGANNAAANGCACTNA\r\n",
      "TTATCGCCAAACAGTG\u001b[01;31m\u001b[KAAAccTTT\u001b[m\u001b[KAGCGNG\r\n",
      "GTC\u001b[01;31m\u001b[KAAAccTTT\u001b[m\u001b[KGCANCGNNATTGGCCGNGC\r\n",
      "CNT\u001b[01;31m\u001b[KAAAccTTT\u001b[m\u001b[KANTTTTTNCNAAATTTNGC\r\n",
      "NTAGCT\u001b[01;31m\u001b[KAAActTTT\u001b[m\u001b[KGTNAGTGANTTCTTGG\r\n",
      "TAACNTNTAATNA\u001b[01;31m\u001b[KAAActTTT\u001b[m\u001b[KCNCCGNCTA\r\n",
      "N\u001b[01;31m\u001b[KAAAccTTT\u001b[m\u001b[KNNNGCNCNAGNCTCATACNAN\r\n",
      "CGTATTNNATATCC\u001b[01;31m\u001b[KAAAccTTT\u001b[m\u001b[KCGGAGCCC\r\n",
      "CCTNGAT\u001b[01;31m\u001b[KAAAaaTTT\u001b[m\u001b[KCCGATTCCCCTAACG\r\n",
      "ACGGAANGTTTTACANCGGG\u001b[01;31m\u001b[KAAActTTT\u001b[m\u001b[KCA\r\n",
      "TGNTAGGGANTGTCTGT\u001b[01;31m\u001b[KAAActTTT\u001b[m\u001b[KTCCTG\r\n",
      "ATGCGGNTANCACCGATCNA\u001b[01;31m\u001b[KAAAccTTT\u001b[m\u001b[KCG\r\n"
     ]
    }
   ],
   "source": [
    "grep 'AAA..TTT' data/genes/sequences.fasta"
   ]
  },
  {
   "cell_type": "markdown",
   "metadata": {},
   "source": [
    "Bonus: if we use the -B 1 grep option, we can retrieve the names of these sequences:"
   ]
  },
  {
   "cell_type": "code",
   "execution_count": 25,
   "metadata": {
    "collapsed": false
   },
   "outputs": [
    {
     "name": "stdout",
     "output_type": "stream",
     "text": [
      ">seq004 sequence description   \r\n",
      "TANC\u001b[01;31m\u001b[KAAAaaTTT\u001b[m\u001b[KGANGANNAAANGCACTNA\r\n",
      ">seq005 sequence description    ________________\r\n",
      "TTATCGCCAAACAGTG\u001b[01;31m\u001b[KAAAccTTT\u001b[m\u001b[KAGCGNG\r\n",
      "\u001b[36m\u001b[K--\u001b[m\u001b[K\r\n",
      ">seq007 sequence description   / Congrats! This \\ \r\n",
      "GTC\u001b[01;31m\u001b[KAAAccTTT\u001b[m\u001b[KGCANCGNNATTGGCCGNGC\r\n",
      ">seq008 sequence description   | was the last  |\r\n",
      "CNT\u001b[01;31m\u001b[KAAAccTTT\u001b[m\u001b[KANTTTTTNCNAAATTTNGC\r\n",
      "\u001b[36m\u001b[K--\u001b[m\u001b[K\r\n",
      ">seq022 sequence description   \\ grep exercise / \r\n",
      "NTAGCT\u001b[01;31m\u001b[KAAActTTT\u001b[m\u001b[KGTNAGTGANTTCTTGG\r\n",
      ">seq023 sequence description    ----------------\r\n",
      "TAACNTNTAATNA\u001b[01;31m\u001b[KAAActTTT\u001b[m\u001b[KCNCCGNCTA\r\n",
      "\u001b[36m\u001b[K--\u001b[m\u001b[K\r\n",
      ">seq027 sequence description       \\  ^__^\r\n",
      "N\u001b[01;31m\u001b[KAAAccTTT\u001b[m\u001b[KNNNGCNCNAGNCTCATACNAN\r\n",
      "\u001b[36m\u001b[K--\u001b[m\u001b[K\r\n",
      ">seq030 sequence description        \\ (oo)\\_______\r\n",
      "CGTATTNNATATCC\u001b[01;31m\u001b[KAAAccTTT\u001b[m\u001b[KCGGAGCCC\r\n",
      "\u001b[36m\u001b[K--\u001b[m\u001b[K\r\n",
      ">seq035 sequence description          (__)\\    )\\/\\ \r\n",
      "CCTNGAT\u001b[01;31m\u001b[KAAAaaTTT\u001b[m\u001b[KCCGATTCCCCTAACG\r\n",
      "\u001b[36m\u001b[K--\u001b[m\u001b[K\r\n",
      ">seq037 sequence description           ||----w |\r\n",
      "ACGGAANGTTTTACANCGGG\u001b[01;31m\u001b[KAAActTTT\u001b[m\u001b[KCA\r\n",
      "\u001b[36m\u001b[K--\u001b[m\u001b[K\r\n",
      ">seq044 sequence description           ||   ||\r\n",
      "TGNTAGGGANTGTCTGT\u001b[01;31m\u001b[KAAActTTT\u001b[m\u001b[KTCCTG\r\n",
      "\u001b[36m\u001b[K--\u001b[m\u001b[K\r\n",
      ">seq048 sequence description   \r\n",
      "ATGCGGNTANCACCGATCNA\u001b[01;31m\u001b[KAAAccTTT\u001b[m\u001b[KCG\r\n"
     ]
    }
   ],
   "source": [
    "grep -B1 'AAA..TTT' data/genes/sequences.fasta "
   ]
  },
  {
   "cell_type": "code",
   "execution_count": 26,
   "metadata": {
    "collapsed": false,
    "slideshow": {
     "slide_type": "fragment"
    }
   },
   "outputs": [
    {
     "name": "stdout",
     "output_type": "stream",
     "text": [
      "\u001b[01;31m\u001b[K>\u001b[m\u001b[Kseq004 sequence description   \r\n",
      "\u001b[01;31m\u001b[K>\u001b[m\u001b[Kseq005 sequence description    ________________\r\n",
      "\u001b[01;31m\u001b[K>\u001b[m\u001b[Kseq007 sequence description   / Congrats! This \\ \r\n",
      "\u001b[01;31m\u001b[K>\u001b[m\u001b[Kseq008 sequence description   | was the last  |\r\n",
      "\u001b[01;31m\u001b[K>\u001b[m\u001b[Kseq022 sequence description   \\ grep exercise / \r\n",
      "\u001b[01;31m\u001b[K>\u001b[m\u001b[Kseq023 sequence description    ----------------\r\n",
      "\u001b[01;31m\u001b[K>\u001b[m\u001b[Kseq027 sequence description       \\  ^__^\r\n",
      "\u001b[01;31m\u001b[K>\u001b[m\u001b[Kseq030 sequence description        \\ (oo)\\_______\r\n",
      "\u001b[01;31m\u001b[K>\u001b[m\u001b[Kseq035 sequence description          (__)\\    )\\/\\ \r\n",
      "\u001b[01;31m\u001b[K>\u001b[m\u001b[Kseq037 sequence description           ||----w |\r\n",
      "\u001b[01;31m\u001b[K>\u001b[m\u001b[Kseq044 sequence description           ||   ||\r\n",
      "\u001b[01;31m\u001b[K>\u001b[m\u001b[Kseq048 sequence description   \r\n"
     ]
    }
   ],
   "source": [
    "# Bonus: pipe an additional grep '>' to see a cow:\n",
    "grep -B1 'AAA..TTT' data/genes/sequences.fasta  | grep '>'"
   ]
  },
  {
   "cell_type": "markdown",
   "metadata": {
    "slideshow": {
     "slide_type": "slide"
    }
   },
   "source": [
    "# Working with tabular files: Awk\n"
   ]
  }
 ],
 "metadata": {
  "celltoolbar": "Slideshow",
  "kernelspec": {
   "display_name": "Bash",
   "language": "bash",
   "name": "bash"
  },
  "language_info": {
   "codemirror_mode": "shell",
   "file_extension": ".sh",
   "mimetype": "text/x-sh",
   "name": "bash"
  },
  "nav_menu": {},
  "toc": {
   "navigate_menu": true,
   "number_sections": true,
   "sideBar": true,
   "threshold": 6,
   "toc_cell": true,
   "toc_section_display": "block",
   "toc_window_display": false
  }
 },
 "nbformat": 4,
 "nbformat_minor": 1
}
