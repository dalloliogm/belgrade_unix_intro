{
 "cells": [
  {
   "cell_type": "markdown",
   "metadata": {
    "toc": "true"
   },
   "source": [
    "# Table of Contents\n",
    " <p><div class=\"lev1 toc-item\"><a href=\"#PEB-Belgrade---Bash-workshop\" data-toc-modified-id=\"PEB-Belgrade---Bash-workshop-1\"><span class=\"toc-item-num\">1&nbsp;&nbsp;</span>PEB Belgrade - Bash workshop</a></div><div class=\"lev1 toc-item\"><a href=\"#How-to-follow-this-workshop\" data-toc-modified-id=\"How-to-follow-this-workshop-2\"><span class=\"toc-item-num\">2&nbsp;&nbsp;</span>How to follow this workshop</a></div><div class=\"lev2 toc-item\"><a href=\"#Getting-a-Terminal-application\" data-toc-modified-id=\"Getting-a-Terminal-application-2.1\"><span class=\"toc-item-num\">2.1&nbsp;&nbsp;</span>Getting a Terminal application</a></div><div class=\"lev3 toc-item\"><a href=\"#Windows\" data-toc-modified-id=\"Windows-2.1.1\"><span class=\"toc-item-num\">2.1.1&nbsp;&nbsp;</span>Windows</a></div><div class=\"lev3 toc-item\"><a href=\"#Mac\" data-toc-modified-id=\"Mac-2.1.2\"><span class=\"toc-item-num\">2.1.2&nbsp;&nbsp;</span>Mac</a></div><div class=\"lev3 toc-item\"><a href=\"#Linux\" data-toc-modified-id=\"Linux-2.1.3\"><span class=\"toc-item-num\">2.1.3&nbsp;&nbsp;</span>Linux</a></div><div class=\"lev2 toc-item\"><a href=\"#Getting-the-workshop-materials\" data-toc-modified-id=\"Getting-the-workshop-materials-2.2\"><span class=\"toc-item-num\">2.2&nbsp;&nbsp;</span>Getting the workshop materials</a></div><div class=\"lev1 toc-item\"><a href=\"#Basic-Unix-Commands:-ls,-cd\" data-toc-modified-id=\"Basic-Unix-Commands:-ls,-cd-3\"><span class=\"toc-item-num\">3&nbsp;&nbsp;</span>Basic Unix Commands: ls, cd</a></div><div class=\"lev1 toc-item\"><a href=\"#Accessing-the-contents-of-a-file:-head,-cat,-less\" data-toc-modified-id=\"Accessing-the-contents-of-a-file:-head,-cat,-less-4\"><span class=\"toc-item-num\">4&nbsp;&nbsp;</span>Accessing the contents of a file: head, cat, less</a></div><div class=\"lev1 toc-item\"><a href=\"#Searching-patterns-into-file:-grep\" data-toc-modified-id=\"Searching-patterns-into-file:-grep-5\"><span class=\"toc-item-num\">5&nbsp;&nbsp;</span>Searching patterns into file: grep</a></div><div class=\"lev2 toc-item\"><a href=\"#Accessing-grep-documentation\" data-toc-modified-id=\"Accessing-grep-documentation-5.1\"><span class=\"toc-item-num\">5.1&nbsp;&nbsp;</span>Accessing grep documentation</a></div><div class=\"lev2 toc-item\"><a href=\"#Searching-multiple-files\" data-toc-modified-id=\"Searching-multiple-files-5.2\"><span class=\"toc-item-num\">5.2&nbsp;&nbsp;</span>Searching multiple files</a></div><div class=\"lev2 toc-item\"><a href=\"#Searching-multiple-patterns-and-the-Unix-piping-system\" data-toc-modified-id=\"Searching-multiple-patterns-and-the-Unix-piping-system-5.3\"><span class=\"toc-item-num\">5.3&nbsp;&nbsp;</span>Searching multiple patterns and the Unix piping system</a></div><div class=\"lev2 toc-item\"><a href=\"#Regular-Expressions\" data-toc-modified-id=\"Regular-Expressions-5.4\"><span class=\"toc-item-num\">5.4&nbsp;&nbsp;</span>Regular Expressions</a></div><div class=\"lev1 toc-item\"><a href=\"#Working-with-tabular-files:-Awk\" data-toc-modified-id=\"Working-with-tabular-files:-Awk-6\"><span class=\"toc-item-num\">6&nbsp;&nbsp;</span>Working with tabular files: Awk</a></div>"
   ]
  },
  {
   "cell_type": "markdown",
   "metadata": {
    "slideshow": {
     "slide_type": "slide"
    }
   },
   "source": [
    "# PEB Belgrade - Bash workshop\n",
    "\n",
    "Giovanni M. Dall'Olio, GSK, 12/09/2016. http://bioinfoblog.it\n",
    "\n",
    "```\n",
    " _______________\n",
    " / Welcome to    \\\n",
    " \\ PEB Belgrade! /\n",
    "  ---------------\n",
    "         \\   ^__^\n",
    "          \\  (oo)\\_______\n",
    "             (__)\\       )\\/\\\n",
    "                 ||----w |\n",
    "                 ||     ||\n",
    "```\n",
    "\n",
    "Welcome to Belgrade!\n",
    "\n",
    "In this workshop we will review some basic Unix command, as well as bash usage.\n",
    "\n",
    "If you attended the [Programming for Evolutionary Biology course in Leipzig](http://evop.bioinf.uni-leipzig.de/), this will be a refreshener. I've hidden some **secrets** in the exercises, so you will not get bored :-)\n",
    "\n",
    "If you are new to bash, this will be a short introduction."
   ]
  },
  {
   "cell_type": "code",
   "execution_count": 90,
   "metadata": {
    "collapsed": false,
    "slideshow": {
     "slide_type": "skip"
    }
   },
   "outputs": [
    {
     "name": "stdout",
     "output_type": "stream",
     "text": []
    }
   ],
   "source": [
    "# Configuration - this will not appear in the slideshow\n",
    "alias grep='grep --color'"
   ]
  },
  {
   "cell_type": "markdown",
   "metadata": {
    "slideshow": {
     "slide_type": "slide"
    }
   },
   "source": [
    "# How to follow this workshop\n",
    "\n",
    "\n",
    "## Getting a Terminal application\n",
    "\n",
    "All the exercises will be done in a Terminal. \n",
    "\n",
    "During the conference we may have also time for a \"Linux Install Party\", to get Linux into some of your laptops. However there are ways to access a bash terminal without installing Linux first.\n",
    "\n",
    "Scroll down to see what to install or launch."
   ]
  },
  {
   "cell_type": "markdown",
   "metadata": {
    "slideshow": {
     "slide_type": "subslide"
    }
   },
   "source": [
    "### Windows\n",
    "\n",
    "For Windows users, we will use a terminal emulator software called MobaXTerm: http://mobaxterm.mobatek.net/\n",
    "\n",
    "The Home Edition is free and contains all the features we will need for the workshop:\n",
    "\n",
    "<a href=\"http://mobaxterm.mobatek.net/\" target=\"_blank\"><img src=\"http://mobaxterm.mobatek.net/img/moba/features/feature-terminal.png\" width=\"400\"></a>"
   ]
  },
  {
   "cell_type": "markdown",
   "metadata": {
    "slideshow": {
     "slide_type": "subslide"
    }
   },
   "source": [
    "### Mac\n",
    "\n",
    "You should be able to use the Console App in Mac.\n",
    "\n",
    "<img src=\"http://blog.teamtreehouse.com/wp-content/uploads/2012/09/Screen-Shot-2012-09-25-at-1.01.45-PM.png\" width=\"400\">"
   ]
  },
  {
   "cell_type": "markdown",
   "metadata": {
    "slideshow": {
     "slide_type": "subslide"
    }
   },
   "source": [
    "### Linux\n",
    "\n",
    "Congratulations on having Linux installed! You can use your favorite terminal app (e.g. gnome-terminal or konsole)\n",
    "\n",
    "<img src=\"https://camo.githubusercontent.com/358e5e2206148280d127128499ad92e8621e5517/68747470733a2f2f7261772e6769746875622e636f6d2f63656d6d616e6f75696c696469732f6d6f6e6f6b61692d676e6f6d652d7465726d696e616c2f6d61737465722f73637265656e73686f742d30312e706e67\" width=\"400\">\n"
   ]
  },
  {
   "cell_type": "markdown",
   "metadata": {
    "slideshow": {
     "slide_type": "slide"
    }
   },
   "source": [
    "## Getting the workshop materials\n",
    "\n",
    "Now that we have a terminal application ready, let's download all the course materials.\n",
    "\n",
    "Open the terminal, and type the following commands (omitting the \"$:\"):\n",
    "\n",
    "```\n",
    "$: wget  https://github.com/dalloliogm/belgrade_unix_intro/archive/master.zip\n",
    "$: unzip master.zip\n",
    "\n",
    "```\n",
    "\n",
    "\n",
    "Explanation:\n",
    "\n",
    " - the **wget** command downloads a .zip file containing all the materials\n",
    " - the **unzip** command uncompresses the .zip file, creating a new folder in your home area."
   ]
  },
  {
   "cell_type": "markdown",
   "metadata": {
    "slideshow": {
     "slide_type": "subslide"
    }
   },
   "source": [
    "\\# Expected output\n",
    "\n",
    "```\n",
    "$: wget  https://github.com/dalloliogm/belgrade_unix_intro/archive/master.zip\n",
    "\n",
    "--2016-08-26 09:55:53--  https://github.com/dalloliogm/belgrade_unix_intro/archive/master.zip\n",
    "Resolving github.com... 192.30.253.113\n",
    "Connecting to github.com|192.30.253.113|:443... connected.\n",
    "HTTP request sent, awaiting response... 302 Found\n",
    "Location: https://codeload.github.com/dalloliogm/belgrade_unix_intro/zip/master [following]\n",
    "--2016-08-26 09:55:54--  https://codeload.github.com/dalloliogm/belgrade_unix_intro/zip/master\n",
    "Resolving codeload.github.com... 192.30.253.120\n",
    "Connecting to codeload.github.com|192.30.253.120|:443... connected.\n",
    "HTTP request sent, awaiting response... 200 OK\n",
    "Length: 129112 (126K) [application/zip]\n",
    "Saving to: `master.zip.1'\n",
    "\n",
    "100%[========================================================================================================================================================================>] 129,112      617K/s   in 0.2s\n",
    "\n",
    "2016-08-26 09:55:54 (617 KB/s) - `master.zip' saved [129112/129112]\n",
    "$: unzip master.zip\n",
    "\n",
    "Archive:  master.zip\n",
    "   creating: belgrade_unix_intro-master/\n",
    "  inflating: belgrade_unix_intro-master/PEB Bash Workshop.ipynb\n",
    "  inflating: belgrade_unix_intro-master/README.md\n",
    "   creating: belgrade_unix_intro-master/data/\n",
    "   creating: belgrade_unix_intro-master/data/part1_grep/\n",
    "  inflating: belgrade_unix_intro-master/data/part1_grep/file1.txt\n",
    "  inflating: belgrade_unix_intro-master/data/part1_grep/file2.txt\n",
    "   creating: belgrade_unix_intro-master/src/\n",
    "   creating: belgrade_unix_intro-master/src/data/\n",
    "  inflating: belgrade_unix_intro-master/src/data/README.rst\n",
    "  inflating: belgrade_unix_intro-master/src/generate_grep_exercise.py\n",
    "  ```"
   ]
  },
  {
   "cell_type": "markdown",
   "metadata": {
    "slideshow": {
     "slide_type": "slide"
    }
   },
   "source": [
    "# Basic Unix Commands: ls, cd\n",
    "\n",
    "Let's have a look at the files we just downloaded.\n",
    "\n",
    "We will use two basic Unix commands:\n",
    "\n",
    " - **ls** list the number of files in the current directory\n",
    " - **cd** allows to move to a different directory.\n",
    " \n",
    " \n",
    "Typing **ls** will show all the files in the current directory. Among these you should see a folder called **belgrade_unix_intro-master**, created by the wget and unzip commands. \n",
    " \n",
    "Let's move to this new directory, and list the files in it:\n",
    " \n",
    "```\n",
    "$: cd belgrade_unix_intro-master/\n",
    "$: ls\n",
    "```\n",
    "\n",
    "This will show a list of files, including a file called **start_here.txt**, a README, a few folders (data/, src/), and some other files."
   ]
  },
  {
   "cell_type": "code",
   "execution_count": 91,
   "metadata": {
    "collapsed": false,
    "slideshow": {
     "slide_type": "subslide"
    }
   },
   "outputs": [
    {
     "name": "stdout",
     "output_type": "stream",
     "text": [
      "total 360\r\n",
      "drwxr-x---. 4 gmd78366 gsk_rd   4096 Aug 28 06:06 \u001b[0m\u001b[01;34mdata\u001b[0m\r\n",
      "-rw-r-----. 1 gmd78366 gsk_rd    454 Aug 27 10:53 Makefile\r\n",
      "-rw-r-----. 1 gmd78366 gsk_rd  44178 Aug 30 12:30 PEB Bash Workshop.ipynb\r\n",
      "-rw-r-----. 1 gmd78366 gsk_rd    260 Aug 26 14:47 README.md\r\n",
      "-rw-r-----. 1 gmd78366 gsk_rd 293778 Aug 29 10:31 slides.html\r\n",
      "drwxr-x---. 4 gmd78366 gsk_rd   4096 Aug 30 12:37 \u001b[01;34msrc\u001b[0m\r\n",
      "-rw-r-----. 1 gmd78366 gsk_rd   1877 Aug 25 18:06 start_here.txt\r\n"
     ]
    }
   ],
   "source": [
    "# Contents of the PEB workshop directory\n",
    "ls -l"
   ]
  },
  {
   "cell_type": "markdown",
   "metadata": {
    "slideshow": {
     "slide_type": "slide"
    }
   },
   "source": [
    "# Accessing the contents of a file: head, cat, less\n",
    "\n",
    "The new folder contains a file named start_here.txt, containing the first instructions for the workshop.\n",
    "\n",
    "To access the contents of a file, we can use several Unix commands:\n",
    "\n",
    "| command       | description                                   | example             |\n",
    "| :------------:|:-------------------------------------         |:------------------- |\n",
    "| **head**      | print the first lines of the file             | head start_here.txt |\n",
    "| **tail**      | print the last lines of the file              | tail start_here.txt |\n",
    "| **cat**       | print the contents of the file to the screen  | cat start_here.txt  |\n",
    "| **less**      | allows to navigate contents of the file       | less start_here.txt |"
   ]
  },
  {
   "cell_type": "markdown",
   "metadata": {},
   "source": [
    "For the first exercise, type \"head start_here.txt\" and follow the instructions:\n"
   ]
  },
  {
   "cell_type": "code",
   "execution_count": 92,
   "metadata": {
    "collapsed": false
   },
   "outputs": [
    {
     "name": "stdout",
     "output_type": "stream",
     "text": [
      " _________________________________________________\r\n",
      "/ To navigate the contents of this file, type:     \\\r\n",
      "|                                                  |\r\n",
      "|        less start_here.txt                       |\r\n",
      "\\                                                  /\r\n",
      " --------------------------------------------------\r\n",
      "        \\   ^__^\r\n",
      "         \\  (oo)\\_______\r\n",
      "            (__)\\       )\\/\\\r\n",
      "                ||----w |\r\n"
     ]
    }
   ],
   "source": [
    "head start_here.txt"
   ]
  },
  {
   "cell_type": "markdown",
   "metadata": {
    "slideshow": {
     "slide_type": "slide"
    }
   },
   "source": [
    "# Searching patterns into file: grep\n",
    "\n",
    "The instructions for the next exercises are stored in the **data/exercise1_grep.txt** file. \n",
    "\n",
    "However, if you look at this file with head or less, you will see that its contents have no meaning!"
   ]
  },
  {
   "cell_type": "code",
   "execution_count": 93,
   "metadata": {
    "collapsed": false,
    "slideshow": {
     "slide_type": "-"
    }
   },
   "outputs": [
    {
     "name": "stdout",
     "output_type": "stream",
     "text": [
      "csErXRAPPmdvB5sUN9KlXfj5bjOhnYu8uGrh9UVi    Ju09y6X3Oal0vzE8GOsjoj WSkockTf1p89\r\n",
      "EY0fGNsEP9F9vNPwZh10HFMG 3CmwdyEdfFjo nV    VKGtrKduaz3fhJPqcBizWefiSXyA9ihwd99\r\n",
      "hVnY6vDo1VHrKTbhWpjfD6M0MpeHvrFRVbBQKZWV    lOhURVugkKeASKmYD4uYsUidylQV3qqkfqp\r\n",
      "mtVuNeuRVlkkaMPrgNFDmOyoPCltm6s01ZftGhMG    ddebmtOCJyHQXgHB7dcZzQmGJ4kouy0vXGH\r\n",
      "FfVXzNt4NxfzHH7MdCtfimm8b7SqAic5C8zvlHtS    r6Hxyxm3zehuQPh1KbLNoiPWePseBcNarvd\r\n",
      "3xblxzPhiRffCkfIgZCZFHBv47UGkP1IyF4hTZ0Q    YEuBy6gRmVfquJqUvTRTIAZpLwFdmBb00r7\r\n",
      "fksvPElFNPyjTfm 7wcrtAVYgWVQ6FBDoqZ0AYeE    UK6vTY39GZMoUapqkGquVc5fsD7votfmo0q\r\n",
      "z0ErfnInf4X FcAyProU9FZ4pocydPyRlBvcxcB3    hwF3Yw89ZrkcpNMMYjOBkOevG4zINf9z387\r\n",
      "0SDg QtWdIob0yk8oTkqqvRnoLZSroHoyZsJIO0R    xoptxYImIjxMKfr8v8FWviEwEQ8gCdkVyOx\r\n",
      "IkKTHgEG7QSZiXlsf19VeSYeOXJc8llpa0aR3glU    9CHlWPfqZyZDm V  MZUc5RQ0ZtEzSXgqJH\r\n"
     ]
    }
   ],
   "source": [
    "head data/exercise1_grep.txt"
   ]
  },
  {
   "cell_type": "markdown",
   "metadata": {
    "slideshow": {
     "slide_type": "-"
    }
   },
   "source": [
    "This is because I've hidden all the instructions in the file, just to make things more interesting!\n",
    "\n",
    "Scroll down to see how to continue."
   ]
  },
  {
   "cell_type": "markdown",
   "metadata": {
    "slideshow": {
     "slide_type": "subslide"
    }
   },
   "source": [
    "I've hidden the instructions for the first exercise in the lines containing the word \"start\" somewhere.\n",
    "\n",
    "To find them, type:\n",
    "\n",
    "```\n",
    "$: grep start data/exercise1_grep\n",
    "```"
   ]
  },
  {
   "cell_type": "code",
   "execution_count": 94,
   "metadata": {
    "collapsed": false,
    "slideshow": {
     "slide_type": "fragment"
    }
   },
   "outputs": [
    {
     "name": "stdout",
     "output_type": "stream",
     "text": [
      "0AqP4qQNKEwOE\u001b[01;31m\u001b[Kstart\u001b[m\u001b[KplNAC8r6NHla8FLQoy8vCS    \r\n",
      "6HQlZXc9QTHCmVwqLUrO7\u001b[01;31m\u001b[Kstart\u001b[m\u001b[KmNVG1U0kfGQnh      ______________________________\r\n",
      "yubIzvnQsx8mmY0eJSISzMRng \u001b[01;31m\u001b[Kstart\u001b[m\u001b[KGsGFEESQq    / Congrats!                    \\  \r\n",
      "UGgmyhAM4JALpxzu6DEntitUPojW 9V \u001b[01;31m\u001b[Kstart\u001b[m\u001b[KACN    |  You've used grep correctly, |\r\n",
      "Hw \u001b[01;31m\u001b[Kstart\u001b[m\u001b[K 991RkQg7xfcY4pIWAEcRyY8zcL9lgGb    \\  and found a cow.            /\r\n",
      "IFeEUGjvi1ocrxyMc4w4ZN7ZgD \u001b[01;31m\u001b[Kstart\u001b[m\u001b[K5iXkwtfS     ------------------------------\r\n",
      "HfxJkMs0FxN0syi6S1y\u001b[01;31m\u001b[Kstart\u001b[m\u001b[KMnr5 ZIGY5lJkXhK            \\   ^__^\r\n",
      "ooegn6P0RWC4aDY \u001b[01;31m\u001b[Kstart\u001b[m\u001b[Kmb4AlaZxQyv4mxYtMd4             \\  (oo)\\_______\r\n",
      "5ecLZMnCxmt8Ozcd\u001b[01;31m\u001b[Kstart\u001b[m\u001b[K pw5D5ifPQGQ3ja8vf0                (__)\\       )\\/\\ \r\n",
      "\u001b[01;31m\u001b[Kstart\u001b[m\u001b[KYgevGgtxFq70AJfYFKrSSe6WCN4R6TODmc7                    ||----w |\r\n",
      "  QRH\u001b[01;31m\u001b[Kstart\u001b[m\u001b[KeFbdprTX kCBSvFxao leyl1XIECkX                    ||     ||\r\n",
      "BWkdILWCQQbZcqAPImvuzhsTpD98vSQJU \u001b[01;31m\u001b[Kstart\u001b[m\u001b[KG    \r\n",
      "AxYUAWQ \u001b[01;31m\u001b[Kstart\u001b[m\u001b[KukhpA7XAu9uNf6  uzndvvkzxFO    \r\n",
      "LgWeS1aTW65Wb7cugVfnc \u001b[01;31m\u001b[Kstart\u001b[m\u001b[K 8L3b3PWIoRl7    \r\n",
      "xkAH9i99prl97KBCjz \u001b[01;31m\u001b[Kstart\u001b[m\u001b[Kxoc6cIKfp6UWM3oT    The command grep allows to search\r\n",
      "Nt wuzBBFOZwnbdmCtwRN3JRsCz  vx3\u001b[01;31m\u001b[Kstart\u001b[m\u001b[Kt6c    for a pattern in a text file.\r\n",
      "9TPt gHVGnwaJvPjP 4033TMUS5X\u001b[01;31m\u001b[Kstart\u001b[m\u001b[K08ZHWZS    \r\n",
      "9GIPtt4oVI NfcIm \u001b[01;31m\u001b[Kstart\u001b[m\u001b[K HyM4 tnNwObXeGSqA    It will print all the matching \r\n",
      "EgqPMHpJaCqaob7Dvfrk4xCZ \u001b[01;31m\u001b[Kstart\u001b[m\u001b[K xo5U3LHHw    lines to the screen.\r\n",
      "ICmNe3b0mbGFzOCv6Wj1PLORm8k\u001b[01;31m\u001b[Kstart\u001b[m\u001b[K OOxaKQT    \r\n",
      "dyT68MtCyKyELcCN6rQ8r6P9HITB \u001b[01;31m\u001b[Kstart\u001b[m\u001b[K 06LSV    =================\r\n",
      "XIWI59 \u001b[01;31m\u001b[Kstart\u001b[m\u001b[K l8Jwx1VWyIMxMO9b7Ktf6FPya6C    Next Exercise\r\n",
      "BnL0oSMxfgvpIcvMwXo5dJE3UkR \u001b[01;31m\u001b[Kstart\u001b[m\u001b[K Qwdkt5    =================\r\n",
      "78JT5Ccb9WTD\u001b[01;31m\u001b[Kstart\u001b[m\u001b[KBfimkciDKBR3g6aga6rwkQQ    \r\n",
      "dly1xIS3cwp e8xWxnPy \u001b[01;31m\u001b[Kstart\u001b[m\u001b[K o8sBAK6q6dB46    In the next exercise we will see \r\n",
      "Di8IHV \u001b[01;31m\u001b[Kstart\u001b[m\u001b[K 6AYp73PVQRvC0vHan6XSpOLbWzB    how to access grep's documentation.\r\n",
      "NfaMkrPvwGbSjrDYXcglR6j\u001b[01;31m\u001b[Kstart\u001b[m\u001b[KYHdjjVxtD6pf    \r\n",
      "p \u001b[01;31m\u001b[Kstart\u001b[m\u001b[KVdZFOgbWbbgqIbGRPzAYJs6ff0GKt0edp    Grep the following word to continue:\r\n",
      "8OWsZVc0 \u001b[01;31m\u001b[Kstart\u001b[m\u001b[K Dssl4IwvWW5SBmdnZlvzwPW51      _            _        \r\n",
      "jh hGFFZ8pG78k v C4ajCv\u001b[01;31m\u001b[Kstart\u001b[m\u001b[KtXDBH1AAqhsL     | |          | |       \r\n",
      "Z \u001b[01;31m\u001b[Kstart\u001b[m\u001b[K sztSOG0y5Xhit3dlpRlHufH6HMhMyqL8     | |__    ___ | | _ __  \r\n",
      " \u001b[01;31m\u001b[Kstart\u001b[m\u001b[K BAmDUMWmnqj8XmX4zGcwt6TU6wuiVH74j     | '_ \\  / _ \\| || '_ \\ \r\n",
      "7aC \u001b[01;31m\u001b[Kstart\u001b[m\u001b[KFMAYibC0eMgZYJhj4wcXCu67nFXOXN0     | | | ||  __/| || |_) |\r\n",
      "oYKW7gbGAm\u001b[01;31m\u001b[Kstart\u001b[m\u001b[K3bNaAbRvGrdYvYAaHKxChMJX4     |_| |_| \\___||_|| .__/ \r\n",
      "dWy1wn\u001b[01;31m\u001b[Kstart\u001b[m\u001b[K BnJX9dl5Za9tQ1bhgH8V7Z5vwB8K                     | |    \r\n",
      "pikdO5HfjKxt FX0F FNGtg\u001b[01;31m\u001b[Kstart\u001b[m\u001b[KZVPILzxXSmTe                     |_|  \r\n",
      "nGodHTCor5eU71NID7YBt0LV7Eq\u001b[01;31m\u001b[Kstart\u001b[m\u001b[KNgRXo9Tl    \r\n",
      "fr\u001b[01;31m\u001b[Kstart\u001b[m\u001b[KEKTNwb0SAeJthnsXL3IKehjd57OK nNKb    \r\n"
     ]
    }
   ],
   "source": [
    "grep start data/exercise1_grep.txt"
   ]
  },
  {
   "cell_type": "markdown",
   "metadata": {
    "slideshow": {
     "slide_type": "slide"
    }
   },
   "source": [
    "## Accessing grep documentation\n",
    "\n",
    "To access the documentation of a command, we can use the **man** command.\n",
    "\n",
    "Let's type the following:\n",
    "\n",
    "```\n",
    "$: man grep\n",
    "```\n",
    "\n",
    "This will allow to navigate the documentation for grep, in the same modality as with the **less** command. Use the arrows to scroll, and q to exit.\n",
    "\n",
    "For the next exercise, you will have to identify two options in the man page, and use them to do a case-insensitive search for \"ignorecase\", and count the number of lines."
   ]
  },
  {
   "cell_type": "code",
   "execution_count": 95,
   "metadata": {
    "collapsed": false,
    "slideshow": {
     "slide_type": "subslide"
    }
   },
   "outputs": [
    {
     "name": "stdout",
     "output_type": "stream",
     "text": [
      "zwUD5l7r1to1\u001b[01;31m\u001b[Khelp\u001b[m\u001b[K 8VM3DAldrwhJ0FgEWw4yKFA    \r\n",
      "LD31QbHdkwnxMJinEV7A9ASYsc7drmW\u001b[01;31m\u001b[Khelp\u001b[m\u001b[K EqY8    The documentation for grep can \r\n",
      "BJxEann\u001b[01;31m\u001b[Khelp\u001b[m\u001b[K SytBkAmZmhE5aiyFH8A9rX6hLaa6    be accessed through man:\r\n",
      "fjK\u001b[01;31m\u001b[Khelp\u001b[m\u001b[KfhOg3WngHC99N3EpeJT5lXAD1EUNCW1Ic    \r\n",
      " AUGLlWl5ew1RGdwIrohYFKgOsoTMTY \u001b[01;31m\u001b[Khelp\u001b[m\u001b[K XcG        $: man grep\r\n",
      "t64ZixUQ\u001b[01;31m\u001b[Khelp\u001b[m\u001b[KH MjhjaqtJkqANNF3lc6oG1zPerN    \r\n",
      "NJbIxvtLOErPZw1MGPPmxh \u001b[01;31m\u001b[Khelp\u001b[m\u001b[K nq11im45lhwu    Scroll down to see all the \r\n",
      "HjfSFNkcZuR\u001b[01;31m\u001b[Khelp\u001b[m\u001b[K tGOgwUOHfSUz4hNRxXlfHAwt    parameters for grep and their description.\r\n",
      "dOteAzv9tlstmbf83ObiMNliYQTilW\u001b[01;31m\u001b[Khelp\u001b[m\u001b[K 3UXq4    \r\n",
      "\u001b[01;31m\u001b[Khelp\u001b[m\u001b[K rgrc9seyF6Rpxz9wJHcpYTvySQ6VyA6DqbN    Use / to search for text.\r\n",
      "olAi1X7LTNJJX\u001b[01;31m\u001b[Khelp\u001b[m\u001b[Kma3KBpVt0DgIsWWZY7rY4UI    Press the q key to exit.\r\n",
      "PFQhKyG7SvxfI5vQS5qs8oWi8\u001b[01;31m\u001b[Khelp\u001b[m\u001b[K b me0z9TP5    \r\n",
      "MyIDi44SB7CAM4 \u001b[01;31m\u001b[Khelp\u001b[m\u001b[K HwQElQJxGPvrANPv 5fe    \r\n",
      " nZKZfqX9c9XCptY \u001b[01;31m\u001b[Khelp\u001b[m\u001b[K AwdcoaLVsEvtifqeNM    \r\n",
      "QlqMVq3GLucTp1\u001b[01;31m\u001b[Khelp\u001b[m\u001b[KjOQZbNQCMlnsWB8lEF 98L    ==============\r\n",
      " c0prr0xS9Jz36ebU6UT4Nkus \u001b[01;31m\u001b[Khelp\u001b[m\u001b[K 3Bz3yFAh8    Next exercise\r\n",
      "UWIKpzAlGgqXHTNBd1\u001b[01;31m\u001b[Khelp\u001b[m\u001b[K 16dU3VH0BF7hYhioh    ==============\r\n",
      "jUZvorVC43Ry7Q6kzsHiGmpkY\u001b[01;31m\u001b[Khelp\u001b[m\u001b[K z8jlenSc1l    \r\n",
      "IK5pnOOhqLz5ZXvxB4vaFf\u001b[01;31m\u001b[Khelp\u001b[m\u001b[K xQ9iDnRENo6AM    For the next exercise, you will need to open \r\n",
      "PYMqrZTQyc\u001b[01;31m\u001b[Khelp\u001b[m\u001b[K nBj89FusSiVgt UvJdAi1C6um    grep's documentation and identify two options:\r\n",
      "PX4Fu5lhTNdBmEiZeQejALDDu Hot7gqqH\u001b[01;31m\u001b[Khelp\u001b[m\u001b[KGv    \r\n",
      "WG\u001b[01;31m\u001b[Khelp\u001b[m\u001b[K mBEms8GX0rQLOIjDyz7GPoKrWd44ExMvR    - the option for case-insensitive searches\r\n",
      "aiAE9ZOU \u001b[01;31m\u001b[Khelp\u001b[m\u001b[K TkuIgHHVl5UT4pmdxm8RDgnfaV    - the option for counting \r\n",
      "Km\u001b[01;31m\u001b[Khelp\u001b[m\u001b[K kmbsQvKbHgtMDDMD8lQgYC6pmiLOXtLjx      the number of matching lines, \r\n",
      "kUvmHXOT3eb5M o9vxnQ0Anh4a0K \u001b[01;31m\u001b[Khelp\u001b[m\u001b[K HkJL6g      instead of printing them to the screen.\r\n",
      "pm8b46Jr EkcxNgeSs8muvL\u001b[01;31m\u001b[Khelp\u001b[m\u001b[K1eHu9Si7FW4sL    \r\n",
      "sACMyWgQMs4wiUs353oXRSPBpec\u001b[01;31m\u001b[Khelp\u001b[m\u001b[KdsshsGvyo    Once you have identified these options, \r\n",
      "fQDN4 8MibFDDz \u001b[01;31m\u001b[Khelp\u001b[m\u001b[K P08m6zd3CbMJItuIbViz    do a case-insensitive search on this file for the word \r\n",
      "Pim10JC5yrGTKutRB\u001b[01;31m\u001b[Khelp\u001b[m\u001b[KpMsZ4NKC7PTNCOOJRvR    \"ignorecase\", then count the number of lines.\r\n",
      "4Qufk0UWMmsBQv qDtg9a\u001b[01;31m\u001b[Khelp\u001b[m\u001b[KEint9nTIlDNMC66    \r\n",
      "h0REgZaK6N EwOlJRoHDbMj39twLzd \u001b[01;31m\u001b[Khelp\u001b[m\u001b[K a6 o        \r\n"
     ]
    }
   ],
   "source": [
    "grep help data/exercise1_grep.txt"
   ]
  },
  {
   "cell_type": "code",
   "execution_count": 105,
   "metadata": {
    "collapsed": false,
    "slideshow": {
     "slide_type": "subslide"
    }
   },
   "outputs": [
    {
     "name": "stdout",
     "output_type": "stream",
     "text": [
      "tMYLmmeqcfSiKX \u001b[01;31m\u001b[Kignorecase\u001b[m\u001b[KwWtGB6p4SRqQkAl    \r\n",
      "sHFCL7JegrdddjCTwO\u001b[01;31m\u001b[Kignorecase\u001b[m\u001b[Kt5LkCcESpDfY            \r\n",
      "J0zvPnfQLgvG3yXy41fPnjXb\u001b[01;31m\u001b[Kignorecase\u001b[m\u001b[KZl5Reg    Remember that, to continue with the exercise, \r\n",
      "Xb5uT\u001b[01;31m\u001b[Kignorecase\u001b[m\u001b[KKm96Dx753uQcGjaetKwuzuXP5    you need to do a case-insensitive search for the word\r\n",
      "EcOWhelpH9Jyq4nIeDMb5qOkTxqCY3eXWh795FQD    \"\u001b[01;31m\u001b[Kignorecase\u001b[m\u001b[K\", then count the number of lines.\r\n",
      "5ew1fiIKF5hS4Rxcby64\u001b[01;31m\u001b[Kignorecase\u001b[m\u001b[K V FvXggOw    \r\n",
      "b7S0g Uz41t9Y\u001b[01;31m\u001b[Kignorecase\u001b[m\u001b[KTeGiUFqLxH1tG3Qzn    | case-insens |\r\n",
      "Ee8eiU\u001b[01;31m\u001b[Kignorecase\u001b[m\u001b[KHT6w7 O9ZUlXICvsWma63n1w    | itive       |\r\n",
      "M Bp8XPeOmY5fPIiP1zS94biim\u001b[01;31m\u001b[Kignorecase\u001b[m\u001b[Kj SU    \\ search      /\r\n",
      "Vqt71BzbabdMaF8BTJsW8xGgLXY\u001b[01;31m\u001b[Kignorecase\u001b[m\u001b[Kesb     -------------\r\n",
      "uHQONgNXTCGEEeYDZsbPD0ZKzftC\u001b[01;31m\u001b[Kignorecase\u001b[m\u001b[Kln    \r\n",
      "hW60ARNewNrgiLfNKfpcIX5t\u001b[01;31m\u001b[Kignorecase\u001b[m\u001b[KTgCyui    \r\n"
     ]
    }
   ],
   "source": [
    "# If we do a search for \"ignorecase\" without any option, we only get some of the lines.\n",
    "# You can notice that the cow is not properly displayed :-)\n",
    "grep ignorecase data/exercise1_grep.txt"
   ]
  },
  {
   "cell_type": "code",
   "execution_count": 106,
   "metadata": {
    "collapsed": false,
    "slideshow": {
     "slide_type": "fragment"
    }
   },
   "outputs": [
    {
     "name": "stdout",
     "output_type": "stream",
     "text": [
      "tMYLmmeqcfSiKX \u001b[01;31m\u001b[Kignorecase\u001b[m\u001b[KwWtGB6p4SRqQkAl    \r\n",
      "sHFCL7JegrdddjCTwO\u001b[01;31m\u001b[Kignorecase\u001b[m\u001b[Kt5LkCcESpDfY            \r\n",
      "J0zvPnfQLgvG3yXy41fPnjXb\u001b[01;31m\u001b[Kignorecase\u001b[m\u001b[KZl5Reg    Remember that, to continue with the exercise, \r\n",
      "Xb5uT\u001b[01;31m\u001b[Kignorecase\u001b[m\u001b[KKm96Dx753uQcGjaetKwuzuXP5    you need to do a case-insensitive search for the word\r\n",
      "EcOWhelpH9Jyq4nIeDMb5qOkTxqCY3eXWh795FQD    \"\u001b[01;31m\u001b[Kignorecase\u001b[m\u001b[K\", then count the number of lines.\r\n",
      "5ew1fiIKF5hS4Rxcby64\u001b[01;31m\u001b[Kignorecase\u001b[m\u001b[K V FvXggOw    \r\n",
      "ADOhbMZW3NwT46FD3f0w h v1btze\u001b[01;31m\u001b[KIgnorEcase\u001b[m\u001b[Kx     _____________\r\n",
      "rvG4RnrRBjZd\u001b[01;31m\u001b[KignOrecase\u001b[m\u001b[KITanJCWLSn  JCez6C    / Good Job!   \\ \r\n",
      "kQCXAqk\u001b[01;31m\u001b[KIGNORECASE\u001b[m\u001b[KLznvZXSh0wWkSWZmYV8C0vq    | You did a   |\r\n",
      "b7S0g Uz41t9Y\u001b[01;31m\u001b[Kignorecase\u001b[m\u001b[KTeGiUFqLxH1tG3Qzn    | case-insens |\r\n",
      "Ee8eiU\u001b[01;31m\u001b[Kignorecase\u001b[m\u001b[KHT6w7 O9ZUlXICvsWma63n1w    | itive       |\r\n",
      "M Bp8XPeOmY5fPIiP1zS94biim\u001b[01;31m\u001b[Kignorecase\u001b[m\u001b[Kj SU    \\ search      /\r\n",
      "Vqt71BzbabdMaF8BTJsW8xGgLXY\u001b[01;31m\u001b[Kignorecase\u001b[m\u001b[Kesb     -------------\r\n",
      "irjPK0PNHHz63xfaV1ILf1dD\u001b[01;31m\u001b[KIgnorEcase\u001b[m\u001b[KXeJ1ws            \\   ^__^\r\n",
      "qP\u001b[01;31m\u001b[KIGNORECASE\u001b[m\u001b[KaUwQNZzt1CBSNi7zh 6GR9YltIP9             \\  (oo)\\_______\r\n",
      "XlJxh\u001b[01;31m\u001b[KignOrecase\u001b[m\u001b[KyJ8zvUUGrw07RqgHZrikNc8JF                (__)\\       )\\/\\ \r\n",
      "\u001b[01;31m\u001b[KignOrecase\u001b[m\u001b[KDD4aFvlsUwkldfGnFGD4QNKXELIsKs                    ||----w |\r\n",
      "vG7GRXW\u001b[01;31m\u001b[KignOrecase\u001b[m\u001b[KfD3ZPtVn4A41dWCq30jsNRG                    ||     ||\r\n",
      "uHQONgNXTCGEEeYDZsbPD0ZKzftC\u001b[01;31m\u001b[Kignorecase\u001b[m\u001b[Kln    \r\n",
      "hW60ARNewNrgiLfNKfpcIX5t\u001b[01;31m\u001b[Kignorecase\u001b[m\u001b[KTgCyui    \r\n",
      "TyGTF\u001b[01;31m\u001b[KIgnorEcase\u001b[m\u001b[KsIIdM9Ukzsxocbu AObn6FIvr        \r\n"
     ]
    }
   ],
   "source": [
    "# The -i option allows to do a case-insensitive search.\n",
    "# As you can see, some lines contain upper case characters:\n",
    "grep -i ignorecase data/exercise1_grep.txt"
   ]
  },
  {
   "cell_type": "code",
   "execution_count": 109,
   "metadata": {
    "collapsed": false,
    "slideshow": {
     "slide_type": "fragment"
    }
   },
   "outputs": [
    {
     "name": "stdout",
     "output_type": "stream",
     "text": [
      "21\r\n"
     ]
    }
   ],
   "source": [
    "# To solve the exercise, we also have to count the number of output lines.\n",
    "# This can be done with the \"-c\" option:\n",
    "grep -i -c ignorecase data/exercise1_grep.txt"
   ]
  },
  {
   "cell_type": "code",
   "execution_count": 110,
   "metadata": {
    "collapsed": false,
    "slideshow": {
     "slide_type": "fragment"
    }
   },
   "outputs": [
    {
     "name": "stdout",
     "output_type": "stream",
     "text": [
      "LHpjkGlTWdvv4i7EjwDPOCQSps9Uw7n5Zf4\u001b[01;31m\u001b[K21\u001b[m\u001b[KybO    \r\n",
      "DVbqoU7YrmsXS6GtCRPN6R\u001b[01;31m\u001b[K21\u001b[m\u001b[Kcvvd4VEKLH5YE4Ob    \r\n",
      "Jm3vdyoJIDRPUXD9q6ZYvmQCCAQOEZ96L9IZZ\u001b[01;31m\u001b[K21\u001b[m\u001b[Kd     ____________________\r\n",
      "whepisMaQJg08aKG9hEUk3\u001b[01;31m\u001b[K21\u001b[m\u001b[K Vg7CIJneNC6g4pR    / Congrats! Yes      \\ \r\n",
      "Yc1S8qklWlC9IxxkO1rcym mN1hxVGY894\u001b[01;31m\u001b[K21\u001b[m\u001b[KCWyT    | the answer to the  |\r\n",
      "cSBejGFBncEyCO3cnL1webUqg6DlAcyND\u001b[01;31m\u001b[K21\u001b[m\u001b[K4kr1i    | case-insensitive   |\r\n",
      "1SS6P6iaQgCv4Jn\u001b[01;31m\u001b[K21\u001b[m\u001b[Kr7zevxu0UQ4tet0bfNUauyR    | and count question |\r\n",
      "CWZfhwSwt\u001b[01;31m\u001b[K21\u001b[m\u001b[K1flTd7U1XLsxOpSWbM3gIE5QpUboc    | is \u001b[01;31m\u001b[K21\u001b[m\u001b[K.             /\r\n",
      "k8oePGPTZWchQ4t0hZ\u001b[01;31m\u001b[K21\u001b[m\u001b[KT9SX6sqcceaRFklzCAdC     --------------------\r\n",
      "6eMKGGZHI5p0DaqvwX5d\u001b[01;31m\u001b[K21\u001b[m\u001b[KcCBYjCGEY0ACot1Q4D            \\   ^__^\r\n",
      "R0A0DGnYLpBjc9hRe1IykY\u001b[01;31m\u001b[K21\u001b[m\u001b[K 3FMqpMOAYQXYSKu             \\  (oo)\\_______\r\n",
      "CVudE\u001b[01;31m\u001b[K21\u001b[m\u001b[KwB6PYLhMp7fJirX1o3LgqRMzMVZwSXUdr                (__)\\       )\\/\\  \r\n",
      "416OwaQe\u001b[01;31m\u001b[K21\u001b[m\u001b[Kb37jPOyNd5a5tSA4S3pPl VW6FDQ64                    ||----w |\r\n",
      "KdJ\u001b[01;31m\u001b[K21\u001b[m\u001b[Kwjzl7gLWfX5wpXguSH9y3GxnSA Bp93O9NB                    ||     ||\r\n",
      "EXKH5JiMiK67ekZ 4cVm9eDAZtKHgzXJ1axrGs\u001b[01;31m\u001b[K21\u001b[m\u001b[K    \r\n",
      "od\u001b[01;31m\u001b[K21\u001b[m\u001b[K0Pofocpwu1WPn77XahCQnc4Q7TJfelSwJzgg    \r\n",
      "bp65qrWrUQr\u001b[01;31m\u001b[K21\u001b[m\u001b[Kb8KKIMb4wPRbhpN1iQyJJID68N6    =============\r\n",
      "uULqHEKguf9ZsZTKkEB\u001b[01;31m\u001b[K21\u001b[m\u001b[Kd hCEPGuSmwEr4oobul    Next exercise\r\n",
      "eWijlXwFXU3fWUc1LDuw\u001b[01;31m\u001b[K21\u001b[m\u001b[KS59hOwDVHiyUWZqqVg    =============\r\n",
      "q\u001b[01;31m\u001b[K21\u001b[m\u001b[KLKWsHpsOf GRTuVVc0fGfR8bgzcLnIf8nFCW3    \r\n",
      "Rs\u001b[01;31m\u001b[K21\u001b[m\u001b[KZc7XQCy64HFFrsq1KZvBvVCAAPmNb6xUWP48    Searching in multiple files\r\n",
      "JredgFZTRtYnfqyXusX5pCkdXW\u001b[01;31m\u001b[K21\u001b[m\u001b[KwPTzhtOgR9oX    \r\n",
      "VEqL8mDAYSFgUEquezNjaCDesA1Ii \u001b[01;31m\u001b[K21\u001b[m\u001b[KJB0tsxf3    Grep can search the same pattern\r\n",
      "b8HKUQLF\u001b[01;31m\u001b[K21\u001b[m\u001b[KsIXs4h MegNUkTgns4DGAIRDoJYdia    in more than one file at the same time.\r\n",
      "QYC0nh5gv\u001b[01;31m\u001b[K21\u001b[m\u001b[KWG3e4aE4FUmAXqD1WNTUx3pVDJPBO    \r\n",
      "3ww5qG\u001b[01;31m\u001b[K21\u001b[m\u001b[KSEPvFFYotrBJWFTwXfLGnM S8u4vc1Vb    The folder data/multiplefiles/ contains hundreds of different files.\r\n",
      "KGNuu7md EmD46 UYAmjrXWErT\u001b[01;31m\u001b[K21\u001b[m\u001b[Kig8fZoQixKLh    \r\n",
      "dLoiHyxCWDLWeb9p6Le5EUIS8oZH7 9PUZN\u001b[01;31m\u001b[K21\u001b[m\u001b[Kc0L    Can you identify the file containing the word \"piping\"?\r\n",
      "lh8UdccB\u001b[01;31m\u001b[K21\u001b[m\u001b[KmWuy4kJPoLFAi6armTCW0Rl1cFam1e    \r\n",
      "mlc6WJuGSgo 3gWqOFCpx656USJmZg\u001b[01;31m\u001b[K21\u001b[m\u001b[KaFfK5n10        \r\n"
     ]
    }
   ],
   "source": [
    "# solution: how to find the instructions for the next exercise\n",
    "grep 21 data/exercise1_grep.txt"
   ]
  },
  {
   "cell_type": "markdown",
   "metadata": {
    "slideshow": {
     "slide_type": "slide"
    }
   },
   "source": [
    "## Searching multiple files\n",
    "\n",
    "Grep is useful to search over multiple files in a single command.\n",
    "\n",
    "The folder data/multiplefiles/ contains 50 randomly generated files. You can see their contents with head data/multiplefiles/\\* or with less.\n",
    "\n",
    "One of these files contains the word \"regex\" in it. Are you able to find it?"
   ]
  },
  {
   "cell_type": "code",
   "execution_count": null,
   "metadata": {
    "collapsed": false,
    "slideshow": {
     "slide_type": "subslide"
    }
   },
   "outputs": [],
   "source": [
    "# solution: you can use the \"*\" character to specify multiple files:\n",
    "grep 'regex' data/multiplefiles/*"
   ]
  },
  {
   "cell_type": "markdown",
   "metadata": {
    "slideshow": {
     "slide_type": "slide"
    }
   },
   "source": [
    "## Searching multiple patterns and the Unix piping system\n",
    "\n",
    "How can we search that contain two or more patterns?\n",
    "\n",
    "One solution is to use the Unix piping system, executing one grep command, and then another grep on the output.\n",
    "\n",
    "This can be done using the pipe \"|\" symbol, like the following:\n",
    "\n",
    "```\n",
    "$: grep (first pattern) myfile.txt | grep (second pattern)\n",
    "```\n",
    "\n",
    "Scroll down for some example."
   ]
  },
  {
   "cell_type": "markdown",
   "metadata": {
    "slideshow": {
     "slide_type": "subslide"
    }
   },
   "source": [
    "The file data/genes/mgat_genes.gb is a genbank file. Notice how this format is well suited for grep searches:"
   ]
  },
  {
   "cell_type": "code",
   "execution_count": 100,
   "metadata": {
    "collapsed": false
   },
   "outputs": [
    {
     "name": "stdout",
     "output_type": "stream",
     "text": [
      "LOCUS       HUMUDPCNA               4705 bp    DNA     linear   PRI 19-SEP-1995\r\n",
      "DEFINITION  Human alpha-1,3-mannosyl-glycoprotein beta-1,\r\n",
      "            2-N-acetylglucosaminyltransferase (MGAT) gene, complete cds.\r\n",
      "ACCESSION   M61829\r\n",
      "VERSION     M61829.1  GI:340075\r\n",
      "KEYWORDS    alpha-1,3-mannosyl-glycoprotein beta-1,2-N-acetylglucosaminyltrae.\r\n",
      "SOURCE      Homo sapiens (human)\r\n",
      "  ORGANISM  Homo sapiens\r\n",
      "            Eukaryota; Metazoa; Chordata; Craniata; Vertebrata; Euteleostomi;\r\n",
      "            Mammalia; Eutheria; Euarchontoglires; Primates; Haplorrhini;\r\n"
     ]
    }
   ],
   "source": [
    "head data/genes/mgat_genes.gb"
   ]
  },
  {
   "cell_type": "markdown",
   "metadata": {
    "slideshow": {
     "slide_type": "fragment"
    }
   },
   "source": [
    "Let's say we want to search all the lines where \"ORGANISM\" is \"Homo sapiens\". \n",
    "\n",
    "We can do it with two grep commands:\n",
    "\n",
    "```\n",
    "grep ORGANISM data/genes/mgat_genes.gb | grep 'Homo sapiens'\n",
    "```\n",
    "Notice that searching for \"Homo sapiens\" alone would not be enough, as there are other lines where the word \"Homo sapiens\" is present."
   ]
  },
  {
   "cell_type": "code",
   "execution_count": 113,
   "metadata": {
    "collapsed": false
   },
   "outputs": [
    {
     "name": "stdout",
     "output_type": "stream",
     "text": [
      "  ORGANISM  \u001b[01;31m\u001b[KHomo sapiens\u001b[m\u001b[K\r\n",
      "  ORGANISM  \u001b[01;31m\u001b[KHomo sapiens\u001b[m\u001b[K\r\n",
      "  ORGANISM  \u001b[01;31m\u001b[KHomo sapiens\u001b[m\u001b[K\r\n",
      "  ORGANISM  \u001b[01;31m\u001b[KHomo sapiens\u001b[m\u001b[K\r\n",
      "  ORGANISM  \u001b[01;31m\u001b[KHomo sapiens\u001b[m\u001b[K\r\n",
      "  ORGANISM  \u001b[01;31m\u001b[KHomo sapiens\u001b[m\u001b[K\r\n",
      "  ORGANISM  \u001b[01;31m\u001b[KHomo sapiens\u001b[m\u001b[K\r\n",
      "  ORGANISM  \u001b[01;31m\u001b[KHomo sapiens\u001b[m\u001b[K\r\n"
     ]
    }
   ],
   "source": [
    "grep ORGANISM data/genes/mgat_genes.gb | grep 'Homo sapiens'"
   ]
  },
  {
   "cell_type": "markdown",
   "metadata": {
    "slideshow": {
     "slide_type": "subslide"
    }
   },
   "source": [
    "The file contains sequences from two other organisms apart from Homo sapiens. Can you guess which one to search for the next exercise?"
   ]
  },
  {
   "cell_type": "code",
   "execution_count": 102,
   "metadata": {
    "collapsed": false,
    "slideshow": {
     "slide_type": "fragment"
    }
   },
   "outputs": [
    {
     "name": "stdout",
     "output_type": "stream",
     "text": [
      "  ORGANISM  Bos \u001b[01;31m\u001b[Ktaurus\u001b[m\u001b[K\r\n",
      "  ORGANISM  Bos \u001b[01;31m\u001b[Ktaurus\u001b[m\u001b[K\r\n",
      "  ORGANISM  Bos \u001b[01;31m\u001b[Ktaurus\u001b[m\u001b[K\r\n",
      "  ORGANISM  Bos \u001b[01;31m\u001b[Ktaurus\u001b[m\u001b[K\t\t\t   _______________\r\n",
      "  ORGANISM  Bos \u001b[01;31m\u001b[Ktaurus\u001b[m\u001b[K\t\t          < Well guessed! >\r\n",
      "  ORGANISM  Bos \u001b[01;31m\u001b[Ktaurus\u001b[m\u001b[K\t\t\t   ---------------\r\n",
      "  ORGANISM  Bos \u001b[01;31m\u001b[Ktaurus\u001b[m\u001b[K\t\t\t\t\t\\   ^__^\r\n",
      "  ORGANISM  Bos \u001b[01;31m\u001b[Ktaurus\u001b[m\u001b[K\t\t\t\t\t \\  (oo)\\_______\r\n",
      "  ORGANISM  Bos \u001b[01;31m\u001b[Ktaurus\u001b[m\u001b[K\t\t\t  \t\t    (__)\\       )\\/\\\r\n",
      "  ORGANISM  Bos \u001b[01;31m\u001b[Ktaurus\u001b[m\u001b[K\t\t\t\t\t\t||----w |\r\n",
      "  ORGANISM  Bos \u001b[01;31m\u001b[Ktaurus\u001b[m\u001b[K\t\t\t\t\t\t||     ||\r\n",
      "  ORGANISM  Bos \u001b[01;31m\u001b[Ktaurus\u001b[m\u001b[K\r\n",
      "  ORGANISM  Bos \u001b[01;31m\u001b[Ktaurus\u001b[m\u001b[K\r\n",
      "  ORGANISM  Bos \u001b[01;31m\u001b[Ktaurus\u001b[m\u001b[K\r\n",
      "  ORGANISM  Bos \u001b[01;31m\u001b[Ktaurus\u001b[m\u001b[K\r\n",
      "  ORGANISM  Bos \u001b[01;31m\u001b[Ktaurus\u001b[m\u001b[K\r\n",
      "  ORGANISM  Bos \u001b[01;31m\u001b[Ktaurus\u001b[m\u001b[K\t\t\t\t===============\r\n",
      "  ORGANISM  Bos \u001b[01;31m\u001b[Ktaurus\u001b[m\u001b[K\t\t\t\tNext Exercise\r\n",
      "  ORGANISM  Bos \u001b[01;31m\u001b[Ktaurus\u001b[m\u001b[K\t\t\t\t===============\r\n",
      "  ORGANISM  Bos \u001b[01;31m\u001b[Ktaurus\u001b[m\u001b[K\r\n",
      "  ORGANISM  Bos \u001b[01;31m\u001b[Ktaurus\u001b[m\u001b[K\t\t\t\tTo continue, grep\r\n",
      "  ORGANISM  Bos \u001b[01;31m\u001b[Ktaurus\u001b[m\u001b[K\t\t\t\t\"regex\" in\r\n",
      "  ORGANISM  Bos \u001b[01;31m\u001b[Ktaurus\u001b[m\u001b[K\t\t\t\tdata/exercise1_grep.txt\r\n",
      "  ORGANISM  Bos \u001b[01;31m\u001b[Ktaurus\u001b[m\u001b[K\r\n"
     ]
    }
   ],
   "source": [
    "# Solution: grep for \"bos taurus\":\n",
    "grep ORGANISM data/genes/mgat_genes.gb | grep taurus"
   ]
  },
  {
   "cell_type": "markdown",
   "metadata": {
    "slideshow": {
     "slide_type": "slide"
    }
   },
   "source": [
    "## Regular Expressions\n",
    "\n",
    "Regular expressions allow to search for more complex patterns. \n",
    "\n",
    "Here are some simple regular expression examples:\n",
    "\n",
    "| regex    | description |\n",
    "| -------- | ----------- |\n",
    "| .        | matches any character |\n",
    "| [A-Za-z] | matches any of the characters within parenthesis|\n",
    "| .\\*      | matches any character, any number of times| "
   ]
  },
  {
   "cell_type": "markdown",
   "metadata": {},
   "source": [
    "# Working with tabular files: Awk\n"
   ]
  },
  {
   "cell_type": "markdown",
   "metadata": {
    "toc": "true"
   },
   "source": [
    "# Table of Contents\n",
    " <p><div class=\"lev1 toc-item\"><a href=\"#PEB-Belgrade---Bash-workshop\" data-toc-modified-id=\"PEB-Belgrade---Bash-workshop-1\"><span class=\"toc-item-num\">1&nbsp;&nbsp;</span>PEB Belgrade - Bash workshop</a></div><div class=\"lev1 toc-item\"><a href=\"#How-to-follow-this-workshop\" data-toc-modified-id=\"How-to-follow-this-workshop-2\"><span class=\"toc-item-num\">2&nbsp;&nbsp;</span>How to follow this workshop</a></div><div class=\"lev2 toc-item\"><a href=\"#Getting-a-Terminal-application\" data-toc-modified-id=\"Getting-a-Terminal-application-2.1\"><span class=\"toc-item-num\">2.1&nbsp;&nbsp;</span>Getting a Terminal application</a></div><div class=\"lev3 toc-item\"><a href=\"#Windows\" data-toc-modified-id=\"Windows-2.1.1\"><span class=\"toc-item-num\">2.1.1&nbsp;&nbsp;</span>Windows</a></div><div class=\"lev3 toc-item\"><a href=\"#Mac\" data-toc-modified-id=\"Mac-2.1.2\"><span class=\"toc-item-num\">2.1.2&nbsp;&nbsp;</span>Mac</a></div><div class=\"lev3 toc-item\"><a href=\"#Linux\" data-toc-modified-id=\"Linux-2.1.3\"><span class=\"toc-item-num\">2.1.3&nbsp;&nbsp;</span>Linux</a></div><div class=\"lev2 toc-item\"><a href=\"#Getting-the-workshop-materials\" data-toc-modified-id=\"Getting-the-workshop-materials-2.2\"><span class=\"toc-item-num\">2.2&nbsp;&nbsp;</span>Getting the workshop materials</a></div><div class=\"lev1 toc-item\"><a href=\"#Basic-Unix-Commands:-ls,-cd\" data-toc-modified-id=\"Basic-Unix-Commands:-ls,-cd-3\"><span class=\"toc-item-num\">3&nbsp;&nbsp;</span>Basic Unix Commands: ls, cd</a></div><div class=\"lev1 toc-item\"><a href=\"#Accessing-the-contents-of-a-file:-head,-cat,-less\" data-toc-modified-id=\"Accessing-the-contents-of-a-file:-head,-cat,-less-4\"><span class=\"toc-item-num\">4&nbsp;&nbsp;</span>Accessing the contents of a file: head, cat, less</a></div><div class=\"lev1 toc-item\"><a href=\"#Searching-patterns-into-file:-grep\" data-toc-modified-id=\"Searching-patterns-into-file:-grep-5\"><span class=\"toc-item-num\">5&nbsp;&nbsp;</span>Searching patterns into file: grep</a></div><div class=\"lev2 toc-item\"><a href=\"#Accessing-grep-documentation\" data-toc-modified-id=\"Accessing-grep-documentation-5.1\"><span class=\"toc-item-num\">5.1&nbsp;&nbsp;</span>Accessing grep documentation</a></div><div class=\"lev2 toc-item\"><a href=\"#Searching-multiple-files\" data-toc-modified-id=\"Searching-multiple-files-5.2\"><span class=\"toc-item-num\">5.2&nbsp;&nbsp;</span>Searching multiple files</a></div><div class=\"lev2 toc-item\"><a href=\"#Searching-multiple-patterns-and-the-Unix-piping-system\" data-toc-modified-id=\"Searching-multiple-patterns-and-the-Unix-piping-system-5.3\"><span class=\"toc-item-num\">5.3&nbsp;&nbsp;</span>Searching multiple patterns and the Unix piping system</a></div><div class=\"lev2 toc-item\"><a href=\"#Regular-Expressions\" data-toc-modified-id=\"Regular-Expressions-5.4\"><span class=\"toc-item-num\">5.4&nbsp;&nbsp;</span>Regular Expressions</a></div><div class=\"lev1 toc-item\"><a href=\"#Working-with-tabular-files:-Awk\" data-toc-modified-id=\"Working-with-tabular-files:-Awk-6\"><span class=\"toc-item-num\">6&nbsp;&nbsp;</span>Working with tabular files: Awk</a></div>"
   ]
  }
 ],
 "metadata": {
  "celltoolbar": "Slideshow",
  "kernelspec": {
   "display_name": "Bash",
   "language": "bash",
   "name": "bash"
  },
  "language_info": {
   "codemirror_mode": "shell",
   "file_extension": ".sh",
   "mimetype": "text/x-sh",
   "name": "bash"
  },
  "nav_menu": {},
  "toc": {
   "navigate_menu": true,
   "number_sections": true,
   "sideBar": true,
   "threshold": 6,
   "toc_cell": true,
   "toc_section_display": "block",
   "toc_window_display": false
  }
 },
 "nbformat": 4,
 "nbformat_minor": 1
}
