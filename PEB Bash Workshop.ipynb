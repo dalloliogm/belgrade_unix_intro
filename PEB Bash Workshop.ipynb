{
 "cells": [
  {
   "cell_type": "markdown",
   "metadata": {
    "toc": "true"
   },
   "source": [
    "# Table of Contents\n",
    " <p><div class=\"lev1 toc-item\"><a href=\"#PEB-Belgrade---Bash-workshop\" data-toc-modified-id=\"PEB-Belgrade---Bash-workshop-1\"><span class=\"toc-item-num\">1&nbsp;&nbsp;</span>PEB Belgrade - Bash workshop</a></div><div class=\"lev1 toc-item\"><a href=\"#How-to-follow-this-workshop\" data-toc-modified-id=\"How-to-follow-this-workshop-2\"><span class=\"toc-item-num\">2&nbsp;&nbsp;</span>How to follow this workshop</a></div><div class=\"lev2 toc-item\"><a href=\"#Getting-a-Terminal-application\" data-toc-modified-id=\"Getting-a-Terminal-application-2.1\"><span class=\"toc-item-num\">2.1&nbsp;&nbsp;</span>Getting a Terminal application</a></div><div class=\"lev3 toc-item\"><a href=\"#Windows\" data-toc-modified-id=\"Windows-2.1.1\"><span class=\"toc-item-num\">2.1.1&nbsp;&nbsp;</span>Windows</a></div><div class=\"lev3 toc-item\"><a href=\"#Mac\" data-toc-modified-id=\"Mac-2.1.2\"><span class=\"toc-item-num\">2.1.2&nbsp;&nbsp;</span>Mac</a></div><div class=\"lev3 toc-item\"><a href=\"#Linux\" data-toc-modified-id=\"Linux-2.1.3\"><span class=\"toc-item-num\">2.1.3&nbsp;&nbsp;</span>Linux</a></div><div class=\"lev2 toc-item\"><a href=\"#Getting-the-workshop-materials\" data-toc-modified-id=\"Getting-the-workshop-materials-2.2\"><span class=\"toc-item-num\">2.2&nbsp;&nbsp;</span>Getting the workshop materials</a></div><div class=\"lev1 toc-item\"><a href=\"#Basic-Unix-Commands:-ls,-cd\" data-toc-modified-id=\"Basic-Unix-Commands:-ls,-cd-3\"><span class=\"toc-item-num\">3&nbsp;&nbsp;</span>Basic Unix Commands: ls, cd</a></div><div class=\"lev1 toc-item\"><a href=\"#Accessing-the-contents-of-a-file:-head,-cat,-less\" data-toc-modified-id=\"Accessing-the-contents-of-a-file:-head,-cat,-less-4\"><span class=\"toc-item-num\">4&nbsp;&nbsp;</span>Accessing the contents of a file: head, cat, less</a></div><div class=\"lev1 toc-item\"><a href=\"#Searching-patterns-into-file:-grep\" data-toc-modified-id=\"Searching-patterns-into-file:-grep-5\"><span class=\"toc-item-num\">5&nbsp;&nbsp;</span>Searching patterns into file: grep</a></div><div class=\"lev2 toc-item\"><a href=\"#Accessing-grep-documentation\" data-toc-modified-id=\"Accessing-grep-documentation-5.1\"><span class=\"toc-item-num\">5.1&nbsp;&nbsp;</span>Accessing grep documentation</a></div><div class=\"lev2 toc-item\"><a href=\"#Regular-Expressions\" data-toc-modified-id=\"Regular-Expressions-5.2\"><span class=\"toc-item-num\">5.2&nbsp;&nbsp;</span>Regular Expressions</a></div>"
   ]
  },
  {
   "cell_type": "markdown",
   "metadata": {
    "slideshow": {
     "slide_type": "slide"
    }
   },
   "source": [
    "# PEB Belgrade - Bash workshop\n",
    "\n",
    "Giovanni M. Dall'Olio, GSK, 12/09/2016. http://bioinfoblog.it\n",
    "\n",
    "```\n",
    " _______________\n",
    " / Welcome to    \\\n",
    " \\ PEB Belgrade! /\n",
    "  ---------------\n",
    "         \\   ^__^\n",
    "          \\  (oo)\\_______\n",
    "             (__)\\       )\\/\\\n",
    "                 ||----w |\n",
    "                 ||     ||\n",
    "```\n",
    "\n",
    "Welcome to Belgrade!\n",
    "\n",
    "In this workshop we will review some basic Unix command, as well as bash usage.\n",
    "\n",
    "If you attended the [Programming for Evolutionary Biology course in Leipzig](http://evop.bioinf.uni-leipzig.de/), this will be a refreshener. I've hidden some **secrets** in the exercises, so you will not get bored :-)\n",
    "\n",
    "If you are new to bash, this will be a short introduction."
   ]
  },
  {
   "cell_type": "code",
   "execution_count": 10,
   "metadata": {
    "collapsed": false,
    "slideshow": {
     "slide_type": "skip"
    }
   },
   "outputs": [
    {
     "name": "stdout",
     "output_type": "stream",
     "text": []
    }
   ],
   "source": [
    "# Configuration - this will not appear in the slideshow\n",
    "alias grep='grep --color'"
   ]
  },
  {
   "cell_type": "markdown",
   "metadata": {
    "slideshow": {
     "slide_type": "slide"
    }
   },
   "source": [
    "# How to follow this workshop\n",
    "\n",
    "\n",
    "## Getting a Terminal application\n",
    "\n",
    "All the exercises will be done in a Terminal. \n",
    "\n",
    "Thus, we will have to install a terminal emulator software in your computer.\n",
    "\n",
    "During the conference we may have also time for a \"Linux Install Party\", to get Linux into some of your laptops.\n",
    "\n",
    "Scroll down to see what to install or launch."
   ]
  },
  {
   "cell_type": "markdown",
   "metadata": {
    "slideshow": {
     "slide_type": "subslide"
    }
   },
   "source": [
    "### Windows\n",
    "\n",
    "For Windows users, we will use a terminal emulator software called MobaXTerm: http://mobaxterm.mobatek.net/\n",
    "\n",
    "The Home Edition is free and contains all the features we will need for the workshop:\n",
    "\n",
    "<a href=\"http://mobaxterm.mobatek.net/\" target=\"_blank\"><img src=\"http://mobaxterm.mobatek.net/img/moba/features/feature-terminal.png\" width=\"400\"></a>"
   ]
  },
  {
   "cell_type": "markdown",
   "metadata": {
    "slideshow": {
     "slide_type": "subslide"
    }
   },
   "source": [
    "### Mac\n",
    "\n",
    "You should be able to use the Console App in Mac.\n",
    "\n",
    "<img src=\"http://blog.teamtreehouse.com/wp-content/uploads/2012/09/Screen-Shot-2012-09-25-at-1.01.45-PM.png\" width=\"400\">"
   ]
  },
  {
   "cell_type": "markdown",
   "metadata": {
    "slideshow": {
     "slide_type": "subslide"
    }
   },
   "source": [
    "### Linux\n",
    "\n",
    "Congratulations on having Linux installed! You can use your favorite terminal app (e.g. gnome-terminal or konsole)\n",
    "\n",
    "<img src=\"https://camo.githubusercontent.com/358e5e2206148280d127128499ad92e8621e5517/68747470733a2f2f7261772e6769746875622e636f6d2f63656d6d616e6f75696c696469732f6d6f6e6f6b61692d676e6f6d652d7465726d696e616c2f6d61737465722f73637265656e73686f742d30312e706e67\" width=\"400\">\n"
   ]
  },
  {
   "cell_type": "markdown",
   "metadata": {
    "slideshow": {
     "slide_type": "slide"
    }
   },
   "source": [
    "## Getting the workshop materials\n",
    "\n",
    "Now that we have a terminal application ready, let's download all the course materials.\n",
    "\n",
    "Open the terminal, and type the following commands (only the lines starting with \"$:\"):\n",
    "\n",
    "```\n",
    "$: wget  https://github.com/dalloliogm/belgrade_unix_intro/archive/master.zip\n",
    "\n",
    "$: unzip master.zip\n",
    "\n",
    "\n",
    "```\n",
    "\n",
    "\n",
    "Explanation:\n",
    "\n",
    " - the **wget** command downloads a .zip file containing all the materials\n",
    " - the **unzip** command uncompresses the .zip file, creating a new folder in your home area.\n",
    " \n",
    " \n",
    "This will contain all the data necessary to follow the exercises, as well as this tutorial and the others. "
   ]
  },
  {
   "cell_type": "markdown",
   "metadata": {
    "slideshow": {
     "slide_type": "subslide"
    }
   },
   "source": [
    "\\# Expected output\n",
    "\n",
    "```\n",
    "$: wget  https://github.com/dalloliogm/belgrade_unix_intro/archive/master.zip\n",
    "\n",
    "--2016-08-26 09:55:53--  https://github.com/dalloliogm/belgrade_unix_intro/archive/master.zip\n",
    "Resolving github.com... 192.30.253.113\n",
    "Connecting to github.com|192.30.253.113|:443... connected.\n",
    "HTTP request sent, awaiting response... 302 Found\n",
    "Location: https://codeload.github.com/dalloliogm/belgrade_unix_intro/zip/master [following]\n",
    "--2016-08-26 09:55:54--  https://codeload.github.com/dalloliogm/belgrade_unix_intro/zip/master\n",
    "Resolving codeload.github.com... 192.30.253.120\n",
    "Connecting to codeload.github.com|192.30.253.120|:443... connected.\n",
    "HTTP request sent, awaiting response... 200 OK\n",
    "Length: 129112 (126K) [application/zip]\n",
    "Saving to: `master.zip.1'\n",
    "\n",
    "100%[========================================================================================================================================================================>] 129,112      617K/s   in 0.2s\n",
    "\n",
    "2016-08-26 09:55:54 (617 KB/s) - `master.zip' saved [129112/129112]\n",
    "$: unzip master.zip\n",
    "\n",
    "Archive:  master.zip\n",
    "   creating: belgrade_unix_intro-master/\n",
    "  inflating: belgrade_unix_intro-master/PEB Bash Workshop.ipynb\n",
    "  inflating: belgrade_unix_intro-master/README.md\n",
    "   creating: belgrade_unix_intro-master/data/\n",
    "   creating: belgrade_unix_intro-master/data/part1_grep/\n",
    "  inflating: belgrade_unix_intro-master/data/part1_grep/file1.txt\n",
    "  inflating: belgrade_unix_intro-master/data/part1_grep/file2.txt\n",
    "   creating: belgrade_unix_intro-master/src/\n",
    "   creating: belgrade_unix_intro-master/src/data/\n",
    "  inflating: belgrade_unix_intro-master/src/data/README.rst\n",
    "  inflating: belgrade_unix_intro-master/src/generate_grep_exercise.py\n",
    "  ```"
   ]
  },
  {
   "cell_type": "markdown",
   "metadata": {
    "slideshow": {
     "slide_type": "slide"
    }
   },
   "source": [
    "# Basic Unix Commands: ls, cd\n",
    "\n",
    "Let's have a look at the files we just downloaded.\n",
    "\n",
    "We will use two basic Unix commands:\n",
    "\n",
    " - **ls** list the number of files in the current directory\n",
    " - **cd** allows to move to a different directory.\n",
    " \n",
    " \n",
    "Typing **ls** will show all the files in the current directory. Among these you should see a folder called **belgrade_unix_intro-master**, created by the wget and unzip commands. \n",
    " \n",
    "Let's move to this new directory, and list the files in it:\n",
    " \n",
    "```\n",
    "$: cd belgrade_unix_intro-master/\n",
    "$: ls\n",
    "```\n",
    "\n",
    "This will show a list of files, including a file called **start_here.txt**, a README, a few folders (data/, src/), and some other files."
   ]
  },
  {
   "cell_type": "code",
   "execution_count": 19,
   "metadata": {
    "collapsed": false,
    "slideshow": {
     "slide_type": "subslide"
    }
   },
   "outputs": [
    {
     "name": "stdout",
     "output_type": "stream",
     "text": [
      "total 80\r\n",
      "drwxr-x---. 2 gmd78366 gsk_rd  4096 Aug 27 11:50 \u001b[0m\u001b[01;34mdata\u001b[0m\r\n",
      "-rw-r-----. 1 gmd78366 gsk_rd   454 Aug 27 10:53 Makefile\r\n",
      "-rw-r-----. 1 gmd78366 gsk_rd 24814 Aug 27 12:15 PEB Bash Workshop.ipynb\r\n",
      "-rw-r-----. 1 gmd78366 gsk_rd 21335 Aug 27 11:06 PEB Bash Workshop.nbconvert.ipynb\r\n",
      "-rw-r-----. 1 gmd78366 gsk_rd   260 Aug 26 14:47 README.md\r\n",
      "drwxr-x---. 4 gmd78366 gsk_rd  4096 Aug 27 11:53 \u001b[01;34msrc\u001b[0m\r\n",
      "-rw-r-----. 1 gmd78366 gsk_rd  1877 Aug 25 18:06 start_here.txt\r\n"
     ]
    }
   ],
   "source": [
    "# Contents of the PEB workshop directory\n",
    "ls -l"
   ]
  },
  {
   "cell_type": "markdown",
   "metadata": {
    "slideshow": {
     "slide_type": "slide"
    }
   },
   "source": [
    "# Accessing the contents of a file: head, cat, less\n",
    "\n",
    "The new folder contains a file named start_here.txt, containing the first instructions for the workshop.\n",
    "\n",
    "To access the contents of a file, we can use several Unix commands:\n",
    "\n",
    "| command       | description                                   | example             |\n",
    "| :------------:|:-------------------------------------         |:------------------- |\n",
    "| **head**      | print the first lines of the file             | head start_here.txt |\n",
    "| **tail**      | print the last lines of the file              | tail start_here.txt |\n",
    "| **cat**       | print the contents of the file to the screen  | cat start_here.txt  |\n",
    "| **less**      | allows to navigate contents of the file       | less start_here.txt |"
   ]
  },
  {
   "cell_type": "markdown",
   "metadata": {},
   "source": [
    "For the first exercise, type \"head start_here.txt\" and follow the instructions:\n"
   ]
  },
  {
   "cell_type": "code",
   "execution_count": 12,
   "metadata": {
    "collapsed": false
   },
   "outputs": [
    {
     "name": "stdout",
     "output_type": "stream",
     "text": [
      " _________________________________________________\r\n",
      "/ To navigate the contents of this file, type:     \\\r\n",
      "|                                                  |\r\n",
      "|        less start_here.txt                       |\r\n",
      "\\                                                  /\r\n",
      " --------------------------------------------------\r\n",
      "        \\   ^__^\r\n",
      "         \\  (oo)\\_______\r\n",
      "            (__)\\       )\\/\\\r\n",
      "                ||----w |\r\n"
     ]
    }
   ],
   "source": [
    "head start_here.txt"
   ]
  },
  {
   "cell_type": "markdown",
   "metadata": {
    "slideshow": {
     "slide_type": "slide"
    }
   },
   "source": [
    "# Searching patterns into file: grep\n",
    "\n",
    "The instructions for the next exercises are stored in the **data/exercise1_grep.txt** file. \n",
    "\n",
    "However, if you look at this file with head or less, you will see that its contents have no meaning!"
   ]
  },
  {
   "cell_type": "code",
   "execution_count": 13,
   "metadata": {
    "collapsed": false,
    "slideshow": {
     "slide_type": "-"
    }
   },
   "outputs": [
    {
     "name": "stdout",
     "output_type": "stream",
     "text": [
      "hXYCxF4wt7q3owJP0hwS ooru0GQfgtGvOx1ofM7    GAZ48GtaOlfSrFqJeqiKoPSEeneM8xev3dy\r\n",
      "STUz9vCjioJaauXXXo4c5QTkBXIMByj9TjY36lbu    WawfK zwOva6RmdeOr4GTENrJVIRk0hwDFa\r\n",
      "vlb98ErhgJaLPnzNcH7DI1EDFaHGC3xxXzPpjEwT    oBEEIgLT4UvK9MG9OiB7tJJB0oUjfkE1xbA\r\n",
      "9d9mMIitt iBUi58zeaignorecase6jPB3ZgBDfh    \r\n",
      "MvUmM 0kNeK8YqlHRGNBg NATN QasP7H8DuPTWd    0BxSetwUGJHgsZDDXn4l8z4CFlILIkAR7hY\r\n",
      "bghcEE75YynC3YHlSJSpfJLyBb5em4bXCwhEbF66    PigrLUHNGH7sov5cSNxfAzkRLDtwMrsQSPg\r\n",
      "b9Vbtf1xujdmRvgtCKsevwLzc L0O0Wxt cz15dH    IkDYYqsar3Vq5ywE4uQfAt8v3yNpm0N7ujf\r\n",
      "UC6nsZnx7u jfzyignorecasezLNutvJKOkuvfn7            \r\n",
      "3TkaSmY6D9DHooFQJ80Xpr0EERHw5uxE7DTntV0V    7SuppbzWQN5VWpx ygRr0TPqWCxf7c8WVMH\r\n",
      "BqIQVOH638od0vSignorecase4cRBelVODqWW1rM        Remember that, to continue with the exercise, \r\n"
     ]
    }
   ],
   "source": [
    "head data/exercise1_grep.txt"
   ]
  },
  {
   "cell_type": "markdown",
   "metadata": {
    "slideshow": {
     "slide_type": "-"
    }
   },
   "source": [
    "This is because I've hidden all the instructions in the file, just to make things more interesting!\n",
    "\n",
    "Scroll down to see how to continue."
   ]
  },
  {
   "cell_type": "markdown",
   "metadata": {
    "slideshow": {
     "slide_type": "subslide"
    }
   },
   "source": [
    "More precisely, I've hidden the first exercises in all the lines containing the word \"start\" somewhere.\n",
    "\n",
    "To find all the lines containing the word \"start\" in the exercise file, type:\n",
    "\n",
    "```\n",
    "$: grep start data/exercise1_grep\n",
    "```"
   ]
  },
  {
   "cell_type": "code",
   "execution_count": 14,
   "metadata": {
    "collapsed": false,
    "slideshow": {
     "slide_type": "fragment"
    }
   },
   "outputs": [
    {
     "name": "stdout",
     "output_type": "stream",
     "text": [
      "f97R3FjV\u001b[01;31m\u001b[Kstart\u001b[m\u001b[KORyEK7lxwBEwVzhbhbfbFSFc69E    \r\n",
      "YuRspA yDRdIFq4WgkyRgLDINq0J\u001b[01;31m\u001b[Kstart\u001b[m\u001b[KDIyEZqF     ______________________________\r\n",
      "bboj fs sF\u001b[01;31m\u001b[Kstart\u001b[m\u001b[K3yvFq0cZZXPNR9Ad40d1KCore    / Congrats!                    \\ \r\n",
      "eE8P\u001b[01;31m\u001b[Kstart\u001b[m\u001b[KtjDZTZ3WtzMGWtodRH8rOebk1MM4aVH    |  You've used grep correctly, |\r\n",
      "q109Gg4\u001b[01;31m\u001b[Kstart\u001b[m\u001b[KVDcNAN4nQ9bWSWKRGvHsPzONsfmq    \\  and found a cow.            /\r\n",
      "I7gGWAf9C\u001b[01;31m\u001b[Kstart\u001b[m\u001b[KQ1T0aocKHmixZpn88WHj8i8UO      ------------------------------\r\n",
      "IZ\u001b[01;31m\u001b[Kstart\u001b[m\u001b[KWUoLJpfpk7e850WHN1s34WMrIZ8DJbkWq            \\   ^__^\r\n",
      "5jNNPvQiEKLGLsJ7\u001b[01;31m\u001b[Kstart\u001b[m\u001b[KAvO4rQIpomd7lc0sms0             \\  (oo)\\_______\r\n",
      "ZBeqZ 7\u001b[01;31m\u001b[Kstart\u001b[m\u001b[KLggyjT9ed53txjIKcK6i9peMEcR                 (__)\\       )\\/\\ \r\n",
      "KlYLzro\u001b[01;31m\u001b[Kstart\u001b[m\u001b[KMZ4ToQLgza4mDVseUfhUcsPQM04n                    ||----w |\r\n",
      "oHU mgKC04k C\u001b[01;31m\u001b[Kstart\u001b[m\u001b[KLgfFKYX g3MKr516cKrV6w                    ||     ||\r\n",
      "RWDoFI1Wy83xZ3Hho\u001b[01;31m\u001b[Kstart\u001b[m\u001b[K9MGSIEd10hr7M0YbYM    \r\n",
      "S4b3WbOKrPLCucQjJPfnfgFu3SW3w\u001b[01;31m\u001b[Kstart\u001b[m\u001b[KtqabG4    \r\n",
      "XV0pDME0B4PLA5\u001b[01;31m\u001b[Kstart\u001b[m\u001b[KgsmRFqrGpXBC3l83tiegP    \r\n",
      "Pkq\u001b[01;31m\u001b[Kstart\u001b[m\u001b[K81f4H9IM0KuncqQy1ywpMepedFfc3sCJ        The command grep allows to search for a pattern in a text file.\r\n",
      "jD1ta0eKNvEpXIYtdJoUflk\u001b[01;31m\u001b[Kstart\u001b[m\u001b[KJsKZgASWj6YO        It will print all the matching lines to the screen.\r\n",
      "XoMk5zBQgPJCSBwjX0OJ8ka49dF\u001b[01;31m\u001b[Kstart\u001b[m\u001b[Kt 1zHyiz    \r\n",
      "lLJdhENj3bPe807D\u001b[01;31m\u001b[Kstart\u001b[m\u001b[K4GomYBgVSfYjVfXJm7c        =================\r\n",
      "9C5HeXGdLA9SBB1zDb\u001b[01;31m\u001b[Kstart\u001b[m\u001b[KKQ1tSYF34PlcFs7gK        Next Exercise\r\n",
      "qtWw4qjp1s\u001b[01;31m\u001b[Kstart\u001b[m\u001b[KDrBaM9cNIyGAExQqn5rL4noUW        =================\r\n",
      "ZYbD9P\u001b[01;31m\u001b[Kstart\u001b[m\u001b[KgPFdquJhxDhuSAnuAj oOMGcJpRTG    \r\n",
      "qClLXI9SpWLSPU6iqe\u001b[01;31m\u001b[Kstart\u001b[m\u001b[KOXM51frXiC1MOWA5K        In the next exercise we will see how to access grep's documentation.\r\n",
      "viaisT8yfkfqh5svsVoYUpIAW4znZ \u001b[01;31m\u001b[Kstart\u001b[m\u001b[KiS9Df    \r\n",
      "Z5cZFvRYJ1O tcHTdg5ekb6MCutoTJAqV4w\u001b[01;31m\u001b[Kstart\u001b[m\u001b[K        Grep the following word to continue:\r\n",
      "naNLtLfmBOPUIUzdr4J\u001b[01;31m\u001b[Kstart\u001b[m\u001b[KD7ut8RLbt0Psfe1O    \r\n",
      "SAhVuWlfrc1yLIH3NBR3RYF5vLUPif58\u001b[01;31m\u001b[Kstart\u001b[m\u001b[K 8R                     | |                  \r\n",
      "eaVe7\u001b[01;31m\u001b[Kstart\u001b[m\u001b[KGrZuQvSX0AdcJ9wV8yEL0kJjLOg0G7                   __| |  ___    ___  ___ \r\n",
      "\u001b[01;31m\u001b[Kstart\u001b[m\u001b[KV 7kEqcE3eGA4CLTnckwKlXwaiB1sSCBQM6                  / _` | / _ \\  / __|/ __|\r\n",
      "Epy\u001b[01;31m\u001b[Kstart\u001b[m\u001b[KK63VDRj0FIN tsxxBVOUhOGLBb13ZAGZ                 | (_| || (_) || (__ \\__ \\ \r\n",
      "xvyNPD6Wowj7unHZY9PboRW5L8\u001b[01;31m\u001b[Kstart\u001b[m\u001b[Kj5k8WaVnj                  \\__,_| \\___/  \\___||___/\r\n",
      "Ly4WTQN9YoowWw\u001b[01;31m\u001b[Kstart\u001b[m\u001b[KZ7PXA1Ix qU1O0p9ktagN    \r\n",
      "bJ00nUiMjgkyrqB1CyAqew8UVWvgdB\u001b[01;31m\u001b[Kstart\u001b[m\u001b[KphrWR    \r\n"
     ]
    }
   ],
   "source": [
    "grep start data/exercise1_grep.txt"
   ]
  },
  {
   "cell_type": "markdown",
   "metadata": {
    "slideshow": {
     "slide_type": "slide"
    }
   },
   "source": [
    "## Accessing grep documentation\n",
    "\n",
    "To access the documentation of a command, we can use the **man** command.\n",
    "\n",
    "Let's type the following:\n",
    "\n",
    "```\n",
    "$: man grep\n",
    "```\n",
    "\n",
    "This will allow to navigate the documentation for grep, in the same modality as with the **less** command. Use the arrows to scroll, and q to exit.\n",
    "\n",
    "For the next exercise, we will have to do a case-insensitive search for \"ignorecase\", and count the number of lines."
   ]
  },
  {
   "cell_type": "code",
   "execution_count": 15,
   "metadata": {
    "collapsed": false,
    "slideshow": {
     "slide_type": "subslide"
    }
   },
   "outputs": [
    {
     "name": "stdout",
     "output_type": "stream",
     "text": [
      "C8jlKPAaM8QuWdJxgpok Cn5DAOa\u001b[01;31m\u001b[Kdocs\u001b[m\u001b[KsQ0 vrKF    \r\n",
      "SSh1S57xUp51ktTd6JTp9cbQrKH0MibLR\u001b[01;31m\u001b[Kdocs\u001b[m\u001b[KWxS        The documentation for grep can be accessed through man:\r\n",
      "xqBqXU7hHbGuqBs\u001b[01;31m\u001b[Kdocs\u001b[m\u001b[KssltRv1hkca8QkPLwsapN    \r\n",
      "uQQKM0jgfB\u001b[01;31m\u001b[Kdocs\u001b[m\u001b[KR9cD4uiSv3xtPsUjbujOymg6kN            $: man grep\r\n",
      "gk4EbTVHjrB58NrEXCwzfIkdfhjcw8j\u001b[01;31m\u001b[Kdocs\u001b[m\u001b[KdugUh        \r\n",
      "EqOk7IVDs33MIFZgp5DbIO0LjaG 8Rd\u001b[01;31m\u001b[Kdocs\u001b[m\u001b[KRfqHX        Scroll down to see all the parameters for grep and their description.\r\n",
      "hW8YD4wPRuDca qOpbn6N1Ym kqRmr3jV\u001b[01;31m\u001b[Kdocs\u001b[m\u001b[KMS8    \r\n",
      "43M\u001b[01;31m\u001b[Kdocs\u001b[m\u001b[K B9ubxCFIIDjGgcHIfiMHEhf8OPagwroy        Use / to search for text.\r\n",
      "RxyG4Xb7 xwEMoXNCTyV6df9pWbMf\u001b[01;31m\u001b[Kdocs\u001b[m\u001b[KkV4V8RY        Press the q key to exit.\r\n",
      "Ot5UnFT7P\u001b[01;31m\u001b[Kdocs\u001b[m\u001b[KE0pZJWqh9653anVL03X0yrCCkwI    \r\n",
      "w1jWBuTLWO5gGy\u001b[01;31m\u001b[Kdocs\u001b[m\u001b[K ct4YnIZPQvEwkMJsRIrDg    \r\n",
      "zt8ECbrr7JwX5NbUcHFBYMcDpbWT4ecjLLUV\u001b[01;31m\u001b[Kdocs\u001b[m\u001b[K    \r\n",
      "\u001b[01;31m\u001b[Kdocs\u001b[m\u001b[KdrHeOVWRMo19i6ChJCGs95IzijD4BFf6GzY1        ==============\r\n",
      "ysNBRI5U9v\u001b[01;31m\u001b[Kdocs\u001b[m\u001b[KrozpkvoIZXi0w4gH898D0oo8op        Next exercise\r\n",
      "03i\u001b[01;31m\u001b[Kdocs\u001b[m\u001b[Kvf65YaNQ6bxdTXVoZrY8MJ E9gcSkVBct        ==============\r\n",
      "UEpkEuLpmgw5uPGyKnllCjEWD4iBwB8J65\u001b[01;31m\u001b[Kdocs\u001b[m\u001b[KKO    \r\n",
      "8lnK3lF9KpUDMCdiR\u001b[01;31m\u001b[Kdocs\u001b[m\u001b[Ky5vZeilcObCskPWDcjk        For the next exercise, you will need to open grep's documentation and identify two options:\r\n",
      "Hsgo\u001b[01;31m\u001b[Kdocs\u001b[m\u001b[KVRuwunceOyMbiwkpaqJQrHXUzgLWYWrh    \r\n",
      "t71A9wNPDkyBs\u001b[01;31m\u001b[Kdocs\u001b[m\u001b[KuTJh6DMpEIxsYUDBirA ouv        - the option for doing case-insensitive searches\r\n",
      "pas7yAU79xGAnpJrkAJ8PwEZRIOgJY5PVv\u001b[01;31m\u001b[Kdocs\u001b[m\u001b[KqK        - the option for counting the number of matching lines, instead of printing them to the screen.\r\n",
      "EQakUS rJ5lLLzUznjH8OPHkUEs3n\u001b[01;31m\u001b[Kdocs\u001b[m\u001b[KOW14q9T    \r\n",
      "n0GVR7r8zSUM9uYpLIklYd\u001b[01;31m\u001b[Kdocs\u001b[m\u001b[KDKsmX5RBhyWgPa        Once you have identified these options, \r\n",
      "raEED3Q96ElL8SmA ghv\u001b[01;31m\u001b[Kdocs\u001b[m\u001b[K768ciLmVr0rCh8ob        do a case-insensitive search on this file for the word \r\n",
      "8z47NEXjpCmgYjgnEnqHCuXZ\u001b[01;31m\u001b[Kdocs\u001b[m\u001b[KbAinq0sd0WSP        \"ignorecase\", then count the number of matching lines.\r\n",
      "QTBHVx4jNWL39d7BLlIeidjO\u001b[01;31m\u001b[Kdocs\u001b[m\u001b[KYMUXCnEVtPUI    \r\n",
      "X3OIojQ1IQHg8bYh9\u001b[01;31m\u001b[Kdocs\u001b[m\u001b[KvdE94czwJ5esMFe1176        \r\n"
     ]
    }
   ],
   "source": [
    "grep docs data/exercise1_grep.txt"
   ]
  },
  {
   "cell_type": "code",
   "execution_count": 16,
   "metadata": {
    "collapsed": false,
    "slideshow": {
     "slide_type": "subslide"
    }
   },
   "outputs": [
    {
     "name": "stdout",
     "output_type": "stream",
     "text": [
      "21\r\n"
     ]
    }
   ],
   "source": [
    "grep -i -c ignorecase data/exercise1_grep.txt"
   ]
  },
  {
   "cell_type": "code",
   "execution_count": 17,
   "metadata": {
    "collapsed": false,
    "slideshow": {
     "slide_type": "fragment"
    }
   },
   "outputs": [
    {
     "name": "stdout",
     "output_type": "stream",
     "text": [
      "9d9mMIitt iBUi58zea\u001b[01;31m\u001b[Kignorecase\u001b[m\u001b[K6jPB3ZgBDfh    \r\n",
      "UC6nsZnx7u jfzy\u001b[01;31m\u001b[Kignorecase\u001b[m\u001b[KzLNutvJKOkuvfn7            \r\n",
      "BqIQVOH638od0vS\u001b[01;31m\u001b[Kignorecase\u001b[m\u001b[K4cRBelVODqWW1rM        Remember that, to continue with the exercise, \r\n",
      "AQdcL7QJGCsF4m8jo9J B10a\u001b[01;31m\u001b[Kignorecase\u001b[m\u001b[KbOMImQ        you need to do a case-insensitive search for the word\r\n",
      "8z47NEXjpCmgYjgnEnqHCuXZdocsbAinq0sd0WSP        \"\u001b[01;31m\u001b[Kignorecase\u001b[m\u001b[K\", then count the number of matching lines.\r\n",
      "9FSsiHuAm8VPTkm\u001b[01;31m\u001b[Kignorecase\u001b[m\u001b[KKEa7os07jV8tRQT    \r\n",
      "LwUJkWjuy\u001b[01;31m\u001b[KIgnorEcase\u001b[m\u001b[KuYirS4lNIHbXOGpy5Amw      _____________\r\n",
      "CRLsYRU3PajW7REAupPTc\u001b[01;31m\u001b[Kignorecase\u001b[m\u001b[Kxb ESzi7g    / Good Job!   \\ \r\n",
      "WclhY\u001b[01;31m\u001b[KIgnorEcase\u001b[m\u001b[Km6esLs9navFrX3YXu89PAKZAF    | You did a   |\r\n",
      "fSwW0LsE Gv\u001b[01;31m\u001b[KignOrecase\u001b[m\u001b[K6IWVPmce9ZyCjZXXi8x    | case-insens |\r\n",
      "oDLC41X3XFPtsyy5AzKp5WfcckVGX\u001b[01;31m\u001b[KIGNORECASE\u001b[m\u001b[KA    | itive       |\r\n",
      "7B0lgd0v3UBW5NrMMBWhPpSGZ\u001b[01;31m\u001b[KignOrecase\u001b[m\u001b[KcQk4E    \\ search      /\r\n",
      "lnfKIYV7rQhTV\u001b[01;31m\u001b[KignOrecase\u001b[m\u001b[K8mzXvQrwmEcIZytNb     -------------\r\n",
      "4PJxLEfl6G4jYfaz\u001b[01;31m\u001b[KignOrecase\u001b[m\u001b[KB8SMtlCQv8MxEl            \\   ^__^\r\n",
      "MpP0hI8S3wBs8M\u001b[01;31m\u001b[Kignorecase\u001b[m\u001b[Kj3N Cgbxjw6wtOal             \\  (oo)\\_______\r\n",
      "y8VDxP p La8bffqhqcUAxh\u001b[01;31m\u001b[KignOrecase\u001b[m\u001b[K9u0AN4u                (__)\\       )\\/\\ \r\n",
      "z5Yctq7zs4JUaBFOZEJRq0kPE\u001b[01;31m\u001b[KIgnorEcase\u001b[m\u001b[Ksx67C                    ||----w |\r\n",
      "4gU\u001b[01;31m\u001b[KIGNORECASE\u001b[m\u001b[K1sX895s4HPMvIvSgy1CQs5H4TEu                    ||     ||\r\n",
      "L tJsj87vP5IrFgitHR1cx\u001b[01;31m\u001b[KIGNORECASE\u001b[m\u001b[KTh7xyfGh    \r\n",
      "vTNgiL4\u001b[01;31m\u001b[KignOrecase\u001b[m\u001b[KIb7ZMNc051814eYZE7S3MGK    \r\n",
      "8hKKz\u001b[01;31m\u001b[KIGNORECASE\u001b[m\u001b[K3hTP514LBAkmY3dWXsJ4Jf5Ck        \r\n"
     ]
    }
   ],
   "source": [
    "grep -i ignorecase data/exercise1_grep.txt"
   ]
  },
  {
   "cell_type": "markdown",
   "metadata": {
    "slideshow": {
     "slide_type": "slide"
    }
   },
   "source": [
    "## Regular Expressions\n",
    "\n"
   ]
  },
  {
   "cell_type": "code",
   "execution_count": 18,
   "metadata": {
    "collapsed": false
   },
   "outputs": [
    {
     "name": "stdout",
     "output_type": "stream",
     "text": [
      "Ls5WkaMFyBGWq6BUUL\u001b[01;31m\u001b[K21\u001b[m\u001b[KTi1qXc5RYskapukvVqDO    \r\n",
      "qsgKkIdG4R5sQS3oYll9\u001b[01;31m\u001b[K21\u001b[m\u001b[KWftTCLm 6JBDsdvuLx    \r\n",
      "wls7nwJbeCF6ogijDx4\u001b[01;31m\u001b[K21\u001b[m\u001b[KVQk0ycrSfmOBpvfk4LS        Regular Expressions\r\n",
      "zQqTxeTFBbj1pCFE3IX3B0ZKLXLF\u001b[01;31m\u001b[K21\u001b[m\u001b[KSFo6Ht7i 6    \r\n",
      "GO8rvc7\u001b[01;31m\u001b[K21\u001b[m\u001b[KetITrjYCivtSuV1ywmlLq9WnmI0WWAZ        \r\n"
     ]
    }
   ],
   "source": [
    "grep 21 data/exercise1_grep.txt"
   ]
  }
 ],
 "metadata": {
  "celltoolbar": "Slideshow",
  "kernelspec": {
   "display_name": "Bash",
   "language": "bash",
   "name": "bash"
  },
  "language_info": {
   "codemirror_mode": "shell",
   "file_extension": ".sh",
   "mimetype": "text/x-sh",
   "name": "bash"
  },
  "nav_menu": {},
  "toc": {
   "navigate_menu": true,
   "number_sections": true,
   "sideBar": true,
   "threshold": 6,
   "toc_cell": true,
   "toc_section_display": "block",
   "toc_window_display": false
  }
 },
 "nbformat": 4,
 "nbformat_minor": 1
}
