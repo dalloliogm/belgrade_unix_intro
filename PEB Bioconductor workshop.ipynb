{
 "cells": [
  {
   "cell_type": "markdown",
   "metadata": {
    "slideshow": {
     "slide_type": "skip"
    },
    "toc": "true"
   },
   "source": [
    "# Table of Contents\n",
    " <p><div class=\"lev1 toc-item\"><a href=\"#PEB-Belgrade---Bioconductor-workshop\" data-toc-modified-id=\"PEB-Belgrade---Bioconductor-workshop-1\"><span class=\"toc-item-num\">1&nbsp;&nbsp;</span>PEB Belgrade - Bioconductor workshop</a></div><div class=\"lev2 toc-item\"><a href=\"#Requirements\" data-toc-modified-id=\"Requirements-1.1\"><span class=\"toc-item-num\">1.1&nbsp;&nbsp;</span>Requirements</a></div><div class=\"lev2 toc-item\"><a href=\"#Which-libraries-are-we-installing?\" data-toc-modified-id=\"Which-libraries-are-we-installing?-1.2\"><span class=\"toc-item-num\">1.2&nbsp;&nbsp;</span>Which libraries are we installing?</a></div><div class=\"lev1 toc-item\"><a href=\"#The-Annotation-packages-in-Bioconductor\" data-toc-modified-id=\"The-Annotation-packages-in-Bioconductor-2\"><span class=\"toc-item-num\">2&nbsp;&nbsp;</span>The Annotation packages in Bioconductor</a></div><div class=\"lev1 toc-item\"><a href=\"#The-Homo.sapiens-package\" data-toc-modified-id=\"The-Homo.sapiens-package-3\"><span class=\"toc-item-num\">3&nbsp;&nbsp;</span>The Homo.sapiens package</a></div><div class=\"lev2 toc-item\"><a href=\"#Gene-symbols-and-IDs:-the-org.Hs.eg.db-package\" data-toc-modified-id=\"Gene-symbols-and-IDs:-the-org.Hs.eg.db-package-3.1\"><span class=\"toc-item-num\">3.1&nbsp;&nbsp;</span>Gene symbols and IDs: the org.Hs.eg.db package</a></div><div class=\"lev3 toc-item\"><a href=\"#Entrez-and-symbols\" data-toc-modified-id=\"Entrez-and-symbols-3.1.1\"><span class=\"toc-item-num\">3.1.1&nbsp;&nbsp;</span>Entrez and symbols</a></div><div class=\"lev4 toc-item\"><a href=\"#Exercise-1--Gene-Ontology\" data-toc-modified-id=\"Exercise-1--Gene-Ontology-3.1.1.1\"><span class=\"toc-item-num\">3.1.1.1&nbsp;&nbsp;</span>Exercise 1- Gene Ontology</a></div><div class=\"lev3 toc-item\"><a href=\"#Gene-Ontology-Enrichment-with-DOSE-and-clusterProfiler\" data-toc-modified-id=\"Gene-Ontology-Enrichment-with-DOSE-and-clusterProfiler-3.1.2\"><span class=\"toc-item-num\">3.1.2&nbsp;&nbsp;</span>Gene Ontology Enrichment with DOSE and clusterProfiler</a></div><div class=\"lev2 toc-item\"><a href=\"#Getting-gene-coordinates:-the-TxDB-packages\" data-toc-modified-id=\"Getting-gene-coordinates:-the-TxDB-packages-3.2\"><span class=\"toc-item-num\">3.2&nbsp;&nbsp;</span>Getting gene coordinates: the TxDB packages</a></div><div class=\"lev1 toc-item\"><a href=\"#Calculating-Enrichment\" data-toc-modified-id=\"Calculating-Enrichment-4\"><span class=\"toc-item-num\">4&nbsp;&nbsp;</span>Calculating Enrichment</a></div><div class=\"lev1 toc-item\"><a href=\"#Annotation-Hub\" data-toc-modified-id=\"Annotation-Hub-5\"><span class=\"toc-item-num\">5&nbsp;&nbsp;</span>Annotation Hub</a></div>"
   ]
  },
  {
   "cell_type": "markdown",
   "metadata": {
    "slideshow": {
     "slide_type": "slide"
    }
   },
   "source": [
    "# PEB Belgrade - Bioconductor workshop\n",
    "\n",
    "Giovanni M. Dall'Olio, GSK. 10/09/2016. http://bioinfoblog.it\n",
    "\n",
    "Welcome to the Bioconductor / Data Integration workshop.\n",
    "\n",
    "This workshop is heavily inspired by the Coursera Bioconductor course. See here for materials: http://kasperdanielhansen.github.io/genbioconductor/\n"
   ]
  },
  {
   "cell_type": "markdown",
   "metadata": {
    "slideshow": {
     "slide_type": "slide"
    }
   },
   "source": [
    "## Requirements\n",
    "\n",
    "This workshop requires several bioconductor libraries, which take a while to install.\n",
    "\n",
    "Please start their installation by copying&pasting the commands below. We'll continue the lecture while they get installed:\n",
    "\n",
    "```\n",
    "# dplyr\n",
    "install.packages(c(\"dplyr\"))\n",
    "\n",
    "# bioconductor\n",
    "source(\"http://bioconductor.org/biocLite/R\")\n",
    "biocLite(\"Homo.sapiens\")\n",
    "biocLite(\"rtracklayer\")\n",
    "biocLite(\"DOSE\")\n",
    "biocLite(\"clusterProfiler\")\n",
    "biocLite(\"AnnotationHub\")\n",
    "```"
   ]
  },
  {
   "cell_type": "markdown",
   "metadata": {
    "slideshow": {
     "slide_type": "subslide"
    }
   },
   "source": [
    "## Which libraries are we installing?\n",
    "\n",
    "- **Homo.sapiens**: Wrapper containing several H.sapiens-related packages:\n",
    "    - **TxDB**: coordinates for genes, transcripts, exons...\n",
    "    - **org.Hs.eg.db**: Gene symbols\n",
    "    - **GenomicRanges**: allows to work with gene coordinates\n",
    "- **rtracklayer**: allows to import BED files and other formats\n",
    "- **DOSE** and **clusterProfiler**: for ontology enrichment (GO, Disease Ontology, Reactome)\n",
    "- **AnnotationHub**: allows to download data from UCSC and many other sources"
   ]
  },
  {
   "cell_type": "markdown",
   "metadata": {
    "slideshow": {
     "slide_type": "slide"
    }
   },
   "source": [
    "# The Annotation packages in Bioconductor\n",
    "\n",
    "Bioconductor contains several data packages (https://www.bioconductor.org/packages/release/data/annotation/), containing contain datasets from public sources for multiple organisms.\n",
    "\n",
    "Some examples:\n",
    "\n",
    "- **TxDB** objects: coordinates for genes, transcripts, exons...\n",
    "- **BSGenome**: genome sequences\n",
    "- **microarray ids** (e.g. hgu133): conversions probe to genes for Affymetrix and Illumina arrays\n",
    "- **org.\\*.eg.db**: gene symbol to id conversion (entrez, ensembl, GO, ..)\n",
    "\n",
    "In addition two packages allow to access large dataset repositories:\n",
    "\n",
    "- **biomaRt**: any biomart installation, e.g. ensembl, hgnc, (see http://www.biomart.org/)\n",
    "- **AnnotationHub**: access to several resources, e.g. any track in the UCSC browser, and more\n",
    "\n",
    "In this tutorial we will see some of these (TxDB, org.eg.db, AnnotationHub)."
   ]
  },
  {
   "cell_type": "markdown",
   "metadata": {
    "slideshow": {
     "slide_type": "slide"
    }
   },
   "source": [
    "# The Homo.sapiens package\n",
    "\n",
    "Let's load the Homo.sapiens package. You will see that it will load several other packages:"
   ]
  },
  {
   "cell_type": "code",
   "execution_count": 4,
   "metadata": {
    "collapsed": false
   },
   "outputs": [],
   "source": [
    "suppressPackageStartupMessages(library(Homo.sapiens))"
   ]
  },
  {
   "cell_type": "markdown",
   "metadata": {},
   "source": [
    "Bioconductor contains similar wrapper packages for the most common model species (e.g. mouse, rat). For other species, similar data packages may be available, although not organized with a similar wrapper."
   ]
  },
  {
   "cell_type": "markdown",
   "metadata": {
    "slideshow": {
     "slide_type": "slide"
    }
   },
   "source": [
    "## Gene symbols and IDs: the org.Hs.eg.db package\n",
    "\n",
    "The org.\\*.eg.db packages allow to retrieve gene symbols and ids relative to a species (see [list of all packages](https://www.bioconductor.org/packages/release/data/annotation/)). The data is updated every two years, which is a good compromise between reproducibility and getting recent data.\n",
    "\n",
    "To see which data is included in this package, we can open its help page:\n",
    "```\n",
    "library(help=org.Hs.eg.db)\n",
    "```\n",
    "In alternative, we can use the columns() function:"
   ]
  },
  {
   "cell_type": "code",
   "execution_count": 3,
   "metadata": {
    "collapsed": false
   },
   "outputs": [
    {
     "data": {
      "text/html": [
       "<ol class=list-inline>\n",
       "\t<li>'ENTREZID'</li>\n",
       "\t<li>'PFAM'</li>\n",
       "\t<li>'IPI'</li>\n",
       "\t<li>'PROSITE'</li>\n",
       "\t<li>'ACCNUM'</li>\n",
       "\t<li>'ALIAS'</li>\n",
       "\t<li>'CHR'</li>\n",
       "\t<li>'CHRLOC'</li>\n",
       "\t<li>'CHRLOCEND'</li>\n",
       "\t<li>'ENZYME'</li>\n",
       "\t<li>'MAP'</li>\n",
       "\t<li>'PATH'</li>\n",
       "\t<li>'PMID'</li>\n",
       "\t<li>'REFSEQ'</li>\n",
       "\t<li>'SYMBOL'</li>\n",
       "\t<li>'UNIGENE'</li>\n",
       "\t<li>'ENSEMBL'</li>\n",
       "\t<li>'ENSEMBLPROT'</li>\n",
       "\t<li>'ENSEMBLTRANS'</li>\n",
       "\t<li>'GENENAME'</li>\n",
       "\t<li>'UNIPROT'</li>\n",
       "\t<li>'GO'</li>\n",
       "\t<li>'EVIDENCE'</li>\n",
       "\t<li>'ONTOLOGY'</li>\n",
       "\t<li>'GOALL'</li>\n",
       "\t<li>'EVIDENCEALL'</li>\n",
       "\t<li>'ONTOLOGYALL'</li>\n",
       "\t<li>'OMIM'</li>\n",
       "\t<li>'UCSCKG'</li>\n",
       "</ol>\n"
      ],
      "text/latex": [
       "\\begin{enumerate*}\n",
       "\\item 'ENTREZID'\n",
       "\\item 'PFAM'\n",
       "\\item 'IPI'\n",
       "\\item 'PROSITE'\n",
       "\\item 'ACCNUM'\n",
       "\\item 'ALIAS'\n",
       "\\item 'CHR'\n",
       "\\item 'CHRLOC'\n",
       "\\item 'CHRLOCEND'\n",
       "\\item 'ENZYME'\n",
       "\\item 'MAP'\n",
       "\\item 'PATH'\n",
       "\\item 'PMID'\n",
       "\\item 'REFSEQ'\n",
       "\\item 'SYMBOL'\n",
       "\\item 'UNIGENE'\n",
       "\\item 'ENSEMBL'\n",
       "\\item 'ENSEMBLPROT'\n",
       "\\item 'ENSEMBLTRANS'\n",
       "\\item 'GENENAME'\n",
       "\\item 'UNIPROT'\n",
       "\\item 'GO'\n",
       "\\item 'EVIDENCE'\n",
       "\\item 'ONTOLOGY'\n",
       "\\item 'GOALL'\n",
       "\\item 'EVIDENCEALL'\n",
       "\\item 'ONTOLOGYALL'\n",
       "\\item 'OMIM'\n",
       "\\item 'UCSCKG'\n",
       "\\end{enumerate*}\n"
      ],
      "text/markdown": [
       "1. 'ENTREZID'\n",
       "2. 'PFAM'\n",
       "3. 'IPI'\n",
       "4. 'PROSITE'\n",
       "5. 'ACCNUM'\n",
       "6. 'ALIAS'\n",
       "7. 'CHR'\n",
       "8. 'CHRLOC'\n",
       "9. 'CHRLOCEND'\n",
       "10. 'ENZYME'\n",
       "11. 'MAP'\n",
       "12. 'PATH'\n",
       "13. 'PMID'\n",
       "14. 'REFSEQ'\n",
       "15. 'SYMBOL'\n",
       "16. 'UNIGENE'\n",
       "17. 'ENSEMBL'\n",
       "18. 'ENSEMBLPROT'\n",
       "19. 'ENSEMBLTRANS'\n",
       "20. 'GENENAME'\n",
       "21. 'UNIPROT'\n",
       "22. 'GO'\n",
       "23. 'EVIDENCE'\n",
       "24. 'ONTOLOGY'\n",
       "25. 'GOALL'\n",
       "26. 'EVIDENCEALL'\n",
       "27. 'ONTOLOGYALL'\n",
       "28. 'OMIM'\n",
       "29. 'UCSCKG'\n",
       "\n",
       "\n"
      ],
      "text/plain": [
       " [1] \"ENTREZID\"     \"PFAM\"         \"IPI\"          \"PROSITE\"      \"ACCNUM\"      \n",
       " [6] \"ALIAS\"        \"CHR\"          \"CHRLOC\"       \"CHRLOCEND\"    \"ENZYME\"      \n",
       "[11] \"MAP\"          \"PATH\"         \"PMID\"         \"REFSEQ\"       \"SYMBOL\"      \n",
       "[16] \"UNIGENE\"      \"ENSEMBL\"      \"ENSEMBLPROT\"  \"ENSEMBLTRANS\" \"GENENAME\"    \n",
       "[21] \"UNIPROT\"      \"GO\"           \"EVIDENCE\"     \"ONTOLOGY\"     \"GOALL\"       \n",
       "[26] \"EVIDENCEALL\"  \"ONTOLOGYALL\"  \"OMIM\"         \"UCSCKG\"      "
      ]
     },
     "metadata": {},
     "output_type": "display_data"
    }
   ],
   "source": [
    "columns(org.Hs.eg.db)"
   ]
  },
  {
   "cell_type": "markdown",
   "metadata": {},
   "source": [
    "This means that the org.Hs.eg.db package contains mapping between Entrez IDs, PFAM, Prosite, Genenames, GO, etc... for all human genes.\n",
    "\n"
   ]
  },
  {
   "cell_type": "markdown",
   "metadata": {
    "slideshow": {
     "slide_type": "subslide"
    }
   },
   "source": [
    "### Entrez and symbols\n",
    "\n",
    "The select() function from AnnotationDbi allows to access all the IDs and Symbols in the org.db object.\n",
    "\n",
    "For example, here is how to get entrez and description of genes MGAT2 and MGAT3:"
   ]
  },
  {
   "cell_type": "code",
   "execution_count": 8,
   "metadata": {
    "collapsed": false
   },
   "outputs": [
    {
     "data": {
      "text/html": [
       "<table>\n",
       "<thead><tr><th scope=col>SYMBOL</th><th scope=col>ENTREZID</th><th scope=col>GENENAME</th></tr></thead>\n",
       "<tbody>\n",
       "\t<tr><td>MGAT2                                                                      </td><td>4247                                                                       </td><td>mannosyl (alpha-1,6-)-glycoprotein beta-1,2-N-acetylglucosaminyltransferase</td></tr>\n",
       "\t<tr><td>MGAT3                                                                      </td><td>4248                                                                       </td><td>mannosyl (beta-1,4-)-glycoprotein beta-1,4-N-acetylglucosaminyltransferase </td></tr>\n",
       "</tbody>\n",
       "</table>\n"
      ],
      "text/latex": [
       "\\begin{tabular}{r|lll}\n",
       " SYMBOL & ENTREZID & GENENAME\\\\\n",
       "\\hline\n",
       "\t MGAT2                                                                       & 4247                                                                        & mannosyl (alpha-1,6-)-glycoprotein beta-1,2-N-acetylglucosaminyltransferase\\\\\n",
       "\t MGAT3                                                                       & 4248                                                                        & mannosyl (beta-1,4-)-glycoprotein beta-1,4-N-acetylglucosaminyltransferase \\\\\n",
       "\\end{tabular}\n"
      ],
      "text/plain": [
       "  SYMBOL ENTREZID\n",
       "1 MGAT2  4247    \n",
       "2 MGAT3  4248    \n",
       "  GENENAME                                                                   \n",
       "1 mannosyl (alpha-1,6-)-glycoprotein beta-1,2-N-acetylglucosaminyltransferase\n",
       "2 mannosyl (beta-1,4-)-glycoprotein beta-1,4-N-acetylglucosaminyltransferase "
      ]
     },
     "metadata": {},
     "output_type": "display_data"
    }
   ],
   "source": [
    "AnnotationDbi::select(org.Hs.eg.db, keys=as.character(c(\"MGAT2\", \"MGAT3\")), keytype='SYMBOL', columns=c('ENTREZID','GENENAME'))"
   ]
  },
  {
   "cell_type": "markdown",
   "metadata": {},
   "source": [
    "The \"keys\" argument defines the symbols that we want to search. The \"keytype\" and \"columns\" define the type of input and output. Use the functions keytypes(org.Hs.eg.db) and columns(org.Hs.eg.db) to see which values are supported. "
   ]
  },
  {
   "cell_type": "markdown",
   "metadata": {
    "slideshow": {
     "slide_type": "subslide"
    }
   },
   "source": [
    "#### Exercise 1: symbol and Ensembl\n",
    "\n",
    "What is the name and the Ensembl ID of the gene with Entrez ID 1234? "
   ]
  },
  {
   "cell_type": "code",
   "execution_count": 9,
   "metadata": {
    "collapsed": false,
    "slideshow": {
     "slide_type": "fragment"
    }
   },
   "outputs": [
    {
     "data": {
      "text/html": [
       "<table>\n",
       "<thead><tr><th scope=col>ENTREZID</th><th scope=col>SYMBOL</th><th scope=col>ENSEMBL</th></tr></thead>\n",
       "<tbody>\n",
       "\t<tr><td>1234           </td><td>CCR5           </td><td>ENSG00000160791</td></tr>\n",
       "</tbody>\n",
       "</table>\n"
      ],
      "text/latex": [
       "\\begin{tabular}{r|lll}\n",
       " ENTREZID & SYMBOL & ENSEMBL\\\\\n",
       "\\hline\n",
       "\t 1234            & CCR5            & ENSG00000160791\\\\\n",
       "\\end{tabular}\n"
      ],
      "text/plain": [
       "  ENTREZID SYMBOL ENSEMBL        \n",
       "1 1234     CCR5   ENSG00000160791"
      ]
     },
     "metadata": {},
     "output_type": "display_data"
    }
   ],
   "source": [
    "AnnotationDbi::select(org.Hs.eg.db, keys=as.character(c(\"1234\")), keytype='ENTREZID', columns=c('SYMBOL','ENSEMBL'))"
   ]
  },
  {
   "cell_type": "markdown",
   "metadata": {
    "slideshow": {
     "slide_type": "subslide"
    }
   },
   "source": [
    "#### Exercise 2- Gene Ontology\n",
    "\n",
    "The Gene Ontology database annotates terms related to the biological process, molecular function, and cellular compartment for every gene.\n",
    "\n",
    "Can you get all the Gene Ontology (GO) terms associated to PTEN?"
   ]
  },
  {
   "cell_type": "code",
   "execution_count": 5,
   "metadata": {
    "collapsed": false,
    "slideshow": {
     "slide_type": "fragment"
    }
   },
   "outputs": [
    {
     "data": {
      "text/html": [
       "<table>\n",
       "<thead><tr><th scope=col>SYMBOL</th><th scope=col>GO</th><th scope=col>EVIDENCE</th><th scope=col>ONTOLOGY</th></tr></thead>\n",
       "<tbody>\n",
       "\t<tr><td>PTEN      </td><td>GO:0000079</td><td>TAS       </td><td>BP        </td></tr>\n",
       "\t<tr><td>PTEN      </td><td>GO:0000287</td><td>IEA       </td><td>MF        </td></tr>\n",
       "\t<tr><td>PTEN      </td><td>GO:0001525</td><td>IEA       </td><td>BP        </td></tr>\n",
       "\t<tr><td>PTEN      </td><td>GO:0001933</td><td>IDA       </td><td>BP        </td></tr>\n",
       "\t<tr><td>PTEN      </td><td>GO:0002902</td><td>IEA       </td><td>BP        </td></tr>\n",
       "\t<tr><td>PTEN      </td><td>GO:0004438</td><td>IDA       </td><td>MF        </td></tr>\n",
       "</tbody>\n",
       "</table>\n"
      ],
      "text/latex": [
       "\\begin{tabular}{r|llll}\n",
       " SYMBOL & GO & EVIDENCE & ONTOLOGY\\\\\n",
       "\\hline\n",
       "\t PTEN       & GO:0000079 & TAS        & BP        \\\\\n",
       "\t PTEN       & GO:0000287 & IEA        & MF        \\\\\n",
       "\t PTEN       & GO:0001525 & IEA        & BP        \\\\\n",
       "\t PTEN       & GO:0001933 & IDA        & BP        \\\\\n",
       "\t PTEN       & GO:0002902 & IEA        & BP        \\\\\n",
       "\t PTEN       & GO:0004438 & IDA        & MF        \\\\\n",
       "\\end{tabular}\n"
      ],
      "text/plain": [
       "  SYMBOL GO         EVIDENCE ONTOLOGY\n",
       "1 PTEN   GO:0000079 TAS      BP      \n",
       "2 PTEN   GO:0000287 IEA      MF      \n",
       "3 PTEN   GO:0001525 IEA      BP      \n",
       "4 PTEN   GO:0001933 IDA      BP      \n",
       "5 PTEN   GO:0002902 IEA      BP      \n",
       "6 PTEN   GO:0004438 IDA      MF      "
      ]
     },
     "metadata": {},
     "output_type": "display_data"
    }
   ],
   "source": [
    "head(select(org.Hs.eg.db, keys='PTEN', keytype='SYMBOL', columns='GO'))"
   ]
  },
  {
   "cell_type": "markdown",
   "metadata": {
    "slideshow": {
     "slide_type": "fragment"
    }
   },
   "source": [
    "To get the definition of these GO ids, we can use the GO.db database:"
   ]
  },
  {
   "cell_type": "code",
   "execution_count": 6,
   "metadata": {
    "collapsed": false
   },
   "outputs": [
    {
     "data": {
      "text/html": [
       "<table>\n",
       "<thead><tr><th scope=col>SYMBOL</th><th scope=col>GO</th><th scope=col>EVIDENCE</th><th scope=col>ONTOLOGY</th><th scope=col>TERM</th></tr></thead>\n",
       "<tbody>\n",
       "\t<tr><td>PTEN                                                                   </td><td>GO:0000079                                                             </td><td>TAS                                                                    </td><td>BP                                                                     </td><td>regulation of cyclin-dependent protein serine/threonine kinase activity</td></tr>\n",
       "\t<tr><td>PTEN                                                                   </td><td>GO:0000287                                                             </td><td>IEA                                                                    </td><td>MF                                                                     </td><td>magnesium ion binding                                                  </td></tr>\n",
       "\t<tr><td>PTEN                                                                   </td><td>GO:0001525                                                             </td><td>IEA                                                                    </td><td>BP                                                                     </td><td>angiogenesis                                                           </td></tr>\n",
       "\t<tr><td>PTEN                                                                   </td><td>GO:0001933                                                             </td><td>IDA                                                                    </td><td>BP                                                                     </td><td>negative regulation of protein phosphorylation                         </td></tr>\n",
       "\t<tr><td>PTEN                                                                   </td><td>GO:0002902                                                             </td><td>IEA                                                                    </td><td>BP                                                                     </td><td>regulation of B cell apoptotic process                                 </td></tr>\n",
       "\t<tr><td>PTEN                                                                   </td><td>GO:0004438                                                             </td><td>IDA                                                                    </td><td>MF                                                                     </td><td>phosphatidylinositol-3-phosphatase activity                            </td></tr>\n",
       "</tbody>\n",
       "</table>\n"
      ],
      "text/latex": [
       "\\begin{tabular}{r|lllll}\n",
       " SYMBOL & GO & EVIDENCE & ONTOLOGY & TERM\\\\\n",
       "\\hline\n",
       "\t PTEN                                                                    & GO:0000079                                                              & TAS                                                                     & BP                                                                      & regulation of cyclin-dependent protein serine/threonine kinase activity\\\\\n",
       "\t PTEN                                                                    & GO:0000287                                                              & IEA                                                                     & MF                                                                      & magnesium ion binding                                                  \\\\\n",
       "\t PTEN                                                                    & GO:0001525                                                              & IEA                                                                     & BP                                                                      & angiogenesis                                                           \\\\\n",
       "\t PTEN                                                                    & GO:0001933                                                              & IDA                                                                     & BP                                                                      & negative regulation of protein phosphorylation                         \\\\\n",
       "\t PTEN                                                                    & GO:0002902                                                              & IEA                                                                     & BP                                                                      & regulation of B cell apoptotic process                                 \\\\\n",
       "\t PTEN                                                                    & GO:0004438                                                              & IDA                                                                     & MF                                                                      & phosphatidylinositol-3-phosphatase activity                            \\\\\n",
       "\\end{tabular}\n"
      ],
      "text/plain": [
       "  SYMBOL GO         EVIDENCE ONTOLOGY\n",
       "1 PTEN   GO:0000079 TAS      BP      \n",
       "2 PTEN   GO:0000287 IEA      MF      \n",
       "3 PTEN   GO:0001525 IEA      BP      \n",
       "4 PTEN   GO:0001933 IDA      BP      \n",
       "5 PTEN   GO:0002902 IEA      BP      \n",
       "6 PTEN   GO:0004438 IDA      MF      \n",
       "  TERM                                                                   \n",
       "1 regulation of cyclin-dependent protein serine/threonine kinase activity\n",
       "2 magnesium ion binding                                                  \n",
       "3 angiogenesis                                                           \n",
       "4 negative regulation of protein phosphorylation                         \n",
       "5 regulation of B cell apoptotic process                                 \n",
       "6 phosphatidylinositol-3-phosphatase activity                            "
      ]
     },
     "metadata": {},
     "output_type": "display_data"
    }
   ],
   "source": [
    "PTEN.go = select(org.Hs.eg.db, keys='PTEN', keytype='SYMBOL', columns='GO')\n",
    "PTEN.go$TERM = AnnotationDbi::select(GO.db, keys=as.character(PTEN.go$GO), columns=\"TERM\")$TERM\n",
    "head(PTEN.go)"
   ]
  },
  {
   "cell_type": "markdown",
   "metadata": {
    "slideshow": {
     "slide_type": "slide"
    }
   },
   "source": [
    "### Gene Ontology Enrichment with DOSE and clusterProfiler\n",
    "\n",
    "When we have a long list of genes, listing all the Gene Ontology terms associated to each gene produces a very verbose output, which is difficult to use.\n",
    "\n",
    "It is more useful to do an Ontology Enrichment analysis, to see which are the most represented terms in the list.\n",
    "\n",
    "There are several functions to do enrichment analysis in BiocConductor, but today we will use the enrichGO function from clusterProfiler:"
   ]
  },
  {
   "cell_type": "code",
   "execution_count": 11,
   "metadata": {
    "collapsed": false
   },
   "outputs": [
    {
     "name": "stdout",
     "output_type": "stream",
     "text": [
      " [1] \"4597\"  \"7111\"  \"5266\"  \"2175\"  \"755\"   \"23046\" \"3931\"  \"6770\"  \"993\"  \n",
      "[10] \"229\"  \n"
     ]
    }
   ],
   "source": [
    "# The gcSample data contains a list of genes\n",
    "library(clusterProfiler)\n",
    "data(gcSample)  \n",
    "mygenes = gcSample$X1\n",
    "print(mygenes[1:10])"
   ]
  },
  {
   "cell_type": "code",
   "execution_count": null,
   "metadata": {
    "collapsed": false,
    "slideshow": {
     "slide_type": "fragment"
    }
   },
   "outputs": [],
   "source": [
    "# Let's calculate the enrichment\n",
    "myenrich = enrichGO(mygenes, \"human\", ont=\"MF\", readable=T)\n",
    "summary(myenrich)"
   ]
  },
  {
   "cell_type": "markdown",
   "metadata": {},
   "source": [
    "Behind the lines, enrichGO retrieves the GO annotations from the org.Hs.eg.db package, and calculates the enrichment.\n",
    "\n",
    "We can also plot the enrichment:"
   ]
  },
  {
   "cell_type": "code",
   "execution_count": 4,
   "metadata": {
    "collapsed": false
   },
   "outputs": [],
   "source": [
    "plot(myenrich)"
   ]
  },
  {
   "cell_type": "markdown",
   "metadata": {
    "slideshow": {
     "slide_type": "slide"
    }
   },
   "source": [
    "## Enrichment using other ontologies\n",
    "\n",
    "We can also do an enrichment using other ontologies.\n",
    "\n",
    "For example, Disease Ontology "
   ]
  },
  {
   "cell_type": "code",
   "execution_count": 11,
   "metadata": {
    "collapsed": false,
    "scrolled": true
   },
   "outputs": [],
   "source": [
    "library(DOSE)\n",
    "myenrich.do = enrichDO(mygenes)\n",
    "plot(myenrich.do)"
   ]
  },
  {
   "cell_type": "markdown",
   "metadata": {
    "slideshow": {
     "slide_type": "slide"
    }
   },
   "source": [
    "\n",
    "## Getting gene coordinates: the TxDB packages\n",
    "\n"
   ]
  },
  {
   "cell_type": "markdown",
   "metadata": {
    "slideshow": {
     "slide_type": "slide"
    }
   },
   "source": [
    "# Calculating Enrichment"
   ]
  },
  {
   "cell_type": "markdown",
   "metadata": {
    "slideshow": {
     "slide_type": "slide"
    }
   },
   "source": [
    "# Annotation Hub"
   ]
  },
  {
   "cell_type": "code",
   "execution_count": 10,
   "metadata": {
    "collapsed": false
   },
   "outputs": [
    {
     "name": "stderr",
     "output_type": "stream",
     "text": [
      "\n",
      "Attaching package: ‘AnnotationHub’\n",
      "\n",
      "The following object is masked from ‘package:Biobase’:\n",
      "\n",
      "    cache\n",
      "\n"
     ]
    },
    {
     "data": {
      "text/plain": [
       "AnnotationHub with 35306 records\n",
       "# snapshotDate(): 2016-08-15 \n",
       "# $dataprovider: BroadInstitute, UCSC, Ensembl, NCBI, Haemcode, Inparanoid8,...\n",
       "# $species: Homo sapiens, Mus musculus, Bos taurus, Pan troglodytes, Danio r...\n",
       "# $rdataclass: GRanges, FaFile, BigWigFile, OrgDb, ChainFile, Inparanoid8Db,...\n",
       "# additional mcols(): taxonomyid, genome, description, tags, sourceurl,\n",
       "#   sourcetype \n",
       "# retrieve records with, e.g., 'object[[\"AH2\"]]' \n",
       "\n",
       "            title                                               \n",
       "  AH2     | Ailuropoda_melanoleuca.ailMel1.69.dna.toplevel.fa   \n",
       "  AH3     | Ailuropoda_melanoleuca.ailMel1.69.dna_rm.toplevel.fa\n",
       "  AH4     | Ailuropoda_melanoleuca.ailMel1.69.dna_sm.toplevel.fa\n",
       "  AH5     | Ailuropoda_melanoleuca.ailMel1.69.ncrna.fa          \n",
       "  AH6     | Ailuropoda_melanoleuca.ailMel1.69.pep.all.fa        \n",
       "  ...       ...                                                 \n",
       "  AH49436 | Xiphophorus_maculatus.Xipmac4.4.2.dna_rm.toplevel.fa\n",
       "  AH49437 | Xiphophorus_maculatus.Xipmac4.4.2.dna_sm.toplevel.fa\n",
       "  AH49438 | Xiphophorus_maculatus.Xipmac4.4.2.dna.toplevel.fa   \n",
       "  AH49439 | Xiphophorus_maculatus.Xipmac4.4.2.ncrna.fa          \n",
       "  AH49440 | Xiphophorus_maculatus.Xipmac4.4.2.pep.all.fa        "
      ]
     },
     "metadata": {},
     "output_type": "display_data"
    }
   ],
   "source": [
    "library(AnnotationHub)\n",
    "ahub = AnnotationHub()\n",
    "ahub\n"
   ]
  },
  {
   "cell_type": "code",
   "execution_count": 11,
   "metadata": {
    "collapsed": false
   },
   "outputs": [
    {
     "data": {
      "text/plain": [
       "GRanges object with 23056 ranges and 1 metadata column:\n",
       "        seqnames                 ranges strand   |     gene_id\n",
       "           <Rle>              <IRanges>  <Rle>   | <character>\n",
       "      1    chr19 [ 58858172,  58874214]      -   |           1\n",
       "     10     chr8 [ 18248755,  18258723]      +   |          10\n",
       "    100    chr20 [ 43248163,  43280376]      -   |         100\n",
       "   1000    chr18 [ 25530930,  25757445]      -   |        1000\n",
       "  10000     chr1 [243651535, 244006886]      -   |       10000\n",
       "    ...      ...                    ...    ... ...         ...\n",
       "   9991     chr9 [114979995, 115095944]      -   |        9991\n",
       "   9992    chr21 [ 35736323,  35743440]      +   |        9992\n",
       "   9993    chr22 [ 19023795,  19109967]      -   |        9993\n",
       "   9994     chr6 [ 90539619,  90584155]      +   |        9994\n",
       "   9997    chr22 [ 50961997,  50964905]      -   |        9997\n",
       "  -------\n",
       "  seqinfo: 93 sequences (1 circular) from hg19 genome"
      ]
     },
     "metadata": {},
     "output_type": "display_data"
    }
   ],
   "source": [
    "library(Homo.sapiens)\n",
    "genes(TxDb.Hsapiens.UCSC.hg19.knownGene)\n",
    "\n"
   ]
  }
 ],
 "metadata": {
  "celltoolbar": "Slideshow",
  "kernelspec": {
   "display_name": "R",
   "language": "R",
   "name": "ir"
  },
  "language_info": {
   "codemirror_mode": "r",
   "file_extension": ".r",
   "mimetype": "text/x-r-source",
   "name": "R",
   "pygments_lexer": "r",
   "version": "3.3.1"
  },
  "nav_menu": {},
  "toc": {
   "navigate_menu": true,
   "number_sections": true,
   "sideBar": true,
   "threshold": 6,
   "toc_cell": true,
   "toc_section_display": "block",
   "toc_window_display": false
  }
 },
 "nbformat": 4,
 "nbformat_minor": 1
}
