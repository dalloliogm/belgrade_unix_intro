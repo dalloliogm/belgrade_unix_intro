{
 "cells": [
  {
   "cell_type": "markdown",
   "metadata": {
    "slideshow": {
     "slide_type": "skip"
    },
    "toc": "true"
   },
   "source": [
    "# Table of Contents\n",
    " <p><div class=\"lev1 toc-item\"><a href=\"#PEB-Belgrade---Bioconductor-workshop\" data-toc-modified-id=\"PEB-Belgrade---Bioconductor-workshop-1\"><span class=\"toc-item-num\">1&nbsp;&nbsp;</span>PEB Belgrade - Bioconductor workshop</a></div><div class=\"lev2 toc-item\"><a href=\"#Requirements\" data-toc-modified-id=\"Requirements-1.1\"><span class=\"toc-item-num\">1.1&nbsp;&nbsp;</span>Requirements</a></div><div class=\"lev2 toc-item\"><a href=\"#Which-libraries-are-we-installing?\" data-toc-modified-id=\"Which-libraries-are-we-installing?-1.2\"><span class=\"toc-item-num\">1.2&nbsp;&nbsp;</span>Which libraries are we installing?</a></div><div class=\"lev1 toc-item\"><a href=\"#The-Annotation-packages-in-Bioconductor\" data-toc-modified-id=\"The-Annotation-packages-in-Bioconductor-2\"><span class=\"toc-item-num\">2&nbsp;&nbsp;</span>The Annotation packages in Bioconductor</a></div><div class=\"lev1 toc-item\"><a href=\"#The-Homo.sapiens-package\" data-toc-modified-id=\"The-Homo.sapiens-package-3\"><span class=\"toc-item-num\">3&nbsp;&nbsp;</span>The Homo.sapiens package</a></div><div class=\"lev2 toc-item\"><a href=\"#Gene-symbols-and-IDs:-the-org.Hs.eg.db-package\" data-toc-modified-id=\"Gene-symbols-and-IDs:-the-org.Hs.eg.db-package-3.1\"><span class=\"toc-item-num\">3.1&nbsp;&nbsp;</span>Gene symbols and IDs: the org.Hs.eg.db package</a></div><div class=\"lev3 toc-item\"><a href=\"#Entrez-and-symbols\" data-toc-modified-id=\"Entrez-and-symbols-3.1.1\"><span class=\"toc-item-num\">3.1.1&nbsp;&nbsp;</span>Entrez and symbols</a></div><div class=\"lev4 toc-item\"><a href=\"#Exercise-1:-symbol-and-Ensembl\" data-toc-modified-id=\"Exercise-1:-symbol-and-Ensembl-3.1.1.1\"><span class=\"toc-item-num\">3.1.1.1&nbsp;&nbsp;</span>Exercise 1: symbol and Ensembl</a></div><div class=\"lev4 toc-item\"><a href=\"#Exercise-2--Gene-Ontology\" data-toc-modified-id=\"Exercise-2--Gene-Ontology-3.1.1.2\"><span class=\"toc-item-num\">3.1.1.2&nbsp;&nbsp;</span>Exercise 2- Gene Ontology</a></div><div class=\"lev3 toc-item\"><a href=\"#Gene-Ontology-Enrichment-with-DOSE-and-clusterProfiler\" data-toc-modified-id=\"Gene-Ontology-Enrichment-with-DOSE-and-clusterProfiler-3.1.2\"><span class=\"toc-item-num\">3.1.2&nbsp;&nbsp;</span>Gene Ontology Enrichment with DOSE and clusterProfiler</a></div><div class=\"lev2 toc-item\"><a href=\"#Enrichment-using-other-ontologies\" data-toc-modified-id=\"Enrichment-using-other-ontologies-3.2\"><span class=\"toc-item-num\">3.2&nbsp;&nbsp;</span>Enrichment using other ontologies</a></div><div class=\"lev2 toc-item\"><a href=\"#Getting-gene-coordinates:-the-TxDB-packages\" data-toc-modified-id=\"Getting-gene-coordinates:-the-TxDB-packages-3.3\"><span class=\"toc-item-num\">3.3&nbsp;&nbsp;</span>Getting gene coordinates: the TxDB packages</a></div><div class=\"lev1 toc-item\"><a href=\"#Calculating-Enrichment\" data-toc-modified-id=\"Calculating-Enrichment-4\"><span class=\"toc-item-num\">4&nbsp;&nbsp;</span>Calculating Enrichment</a></div><div class=\"lev1 toc-item\"><a href=\"#Annotation-Hub\" data-toc-modified-id=\"Annotation-Hub-5\"><span class=\"toc-item-num\">5&nbsp;&nbsp;</span>Annotation Hub</a></div>"
   ]
  },
  {
   "cell_type": "markdown",
   "metadata": {
    "slideshow": {
     "slide_type": "slide"
    }
   },
   "source": [
    "# PEB Belgrade - Bioconductor workshop\n",
    "\n",
    "Giovanni M. Dall'Olio, GlaxoSmithKline. http://bioinfoblog.it\n",
    "\n",
    "Welcome to the Bioconductor / Data Integration workshop.\n",
    "\n",
    "This workshop is heavily inspired by the Coursera Bioconductor course. See here for materials: http://kasperdanielhansen.github.io/genbioconductor/\n"
   ]
  },
  {
   "cell_type": "markdown",
   "metadata": {
    "slideshow": {
     "slide_type": "slide"
    }
   },
   "source": [
    "## Requirements\n",
    "\n",
    "Course materials: http://dalloliogm.github.io\n",
    "\n",
    "This workshop requires several bioconductor libraries, which take a while to install.\n",
    "\n",
    "Please start their installation by copying&pasting the commands below. We'll continue the lecture while they get installed:\n",
    "\n",
    "```\n",
    "# bioconductor\n",
    "source(\"http://bioconductor.org/biocLite.R\")\n",
    "biocLite(\"Homo.sapiens\")\n",
    "biocLite(\"rtracklayer\")\n",
    "biocLite(\"DOSE\")\n",
    "biocLite(\"clusterProfiler\")\n",
    "biocLite(\"AnnotationHub\")\n",
    "\n",
    "# dplyr\n",
    "install.packages(c(\"dplyr\"))\n",
    "\n",
    "```"
   ]
  },
  {
   "cell_type": "markdown",
   "metadata": {
    "slideshow": {
     "slide_type": "slide"
    }
   },
   "source": [
    "# What is Bioconductor?\n",
    "\n",
    "Bioconductor is the biggest repository of bioinformatics libraries for R. It contains code for dealing with genomic coordinates, calculating differential expression, converting gene symbols and ids, and much more.\n",
    "\n",
    "To be included in bioconductor, a library must:\n",
    "\n",
    "- have documentation in the form of a vignette()\n",
    "- include a battery of tests to make sure that each new version is working\n",
    "- be citable, using citation() and possibly be described in a bioinformatics journal"
   ]
  },
  {
   "cell_type": "markdown",
   "metadata": {
    "slideshow": {
     "slide_type": "subslide"
    }
   },
   "source": [
    "## How to get Bioconductor Packages\n",
    "\n",
    "First, run the following:\n",
    "```\n",
    "source(\"http://bioconductor.org/biocLite.R\")\n",
    "```\n",
    "\n",
    "At this point you can run the biocLite function to install any package available at http://bioconductor.org/packages/release/BiocViews.html#___Software\n",
    "\n",
    "For example:\n",
    "```\n",
    "biocLite(\"limma\")\n",
    "```\n",
    "will install the library limma (a popular library for diff. expression analysis) \n",
    "\n",
    "Tip: The next time you run R, you can use library(BiocInstaller) instead of source(\"http://bioconductor.org/biocLite.R\")"
   ]
  },
  {
   "cell_type": "markdown",
   "metadata": {
    "slideshow": {
     "slide_type": "subslide"
    }
   },
   "source": [
    "# How to get help on a Bioconductor package\n",
    "\n",
    "Overview of a package:\n",
    "```\n",
    "library(help=Homo.sapiens)\n",
    "ls(\"package:Homo.sapiens\")\n",
    "```\n",
    "\n",
    "Vignettes\n",
    "```\n",
    "library(Homo.sapiens)\n",
    "vignette()\n",
    "```\n",
    "Given a function from a Bioconductor package, get a list of all the objects objects to which it can be applied:\n",
    "\n",
    "```\n",
    "showMethods(\"findOverlaps\")\n",
    "```"
   ]
  },
  {
   "cell_type": "markdown",
   "metadata": {
    "slideshow": {
     "slide_type": "slide"
    }
   },
   "source": [
    "# The Annotation packages in Bioconductor\n",
    "\n",
    "Apart from analysis functions, Bioconductor contains several data packages (https://www.bioconductor.org/packages/release/data/annotation/), assembled from datasets of common interest for multiple organisms.\n",
    "\n",
    "Some examples:\n",
    "\n",
    "- **TxDB** objects: coordinates for genes, transcripts, exons...\n",
    "- **BSGenome**: genome sequences\n",
    "- **microarray ids** (e.g. hgu133): conversions probe to genes for Affymetrix and Illumina arrays\n",
    "- **org.\\*.eg.db**: gene symbol to id conversion (entrez, ensembl, GO, ..)"
   ]
  },
  {
   "cell_type": "markdown",
   "metadata": {
    "slideshow": {
     "slide_type": "fragment"
    }
   },
   "source": [
    "In addition two packages allow to access large dataset repositories:\n",
    "\n",
    "- **biomaRt**: any biomart installation, e.g. ensembl, hgnc, (see http://www.biomart.org/)\n",
    "- **AnnotationHub**: access to several resources, e.g. any track in the UCSC browser, and more\n",
    "\n",
    "In this tutorial we will see some of these (TxDB, org.eg.db, AnnotationHub)."
   ]
  },
  {
   "cell_type": "markdown",
   "metadata": {
    "slideshow": {
     "slide_type": "subslide"
    }
   },
   "source": [
    "## Are Bioconductor Annotation packages up to date?\n",
    "\n",
    "Most data packages are annotated regularly, with different frequency depending on the data type, from 6 months to 2 years.\n",
    "\n",
    "This is a good compromise between reproducibility of analysis, efforts needed to maintain the packages, and getting recent data.\n",
    "\n",
    "## My species is not present or the data is outdated.\n",
    "\n",
    "If your species is not present or you need more recent data, you can create a package on your own.\n",
    "\n",
    "The procedure is well documented and usually require just a table as input. It's an easy way to become a Bioconductor developer and good for CV :-)"
   ]
  },
  {
   "cell_type": "markdown",
   "metadata": {
    "slideshow": {
     "slide_type": "skip"
    }
   },
   "source": [
    "## Which libraries are we installing?\n",
    "\n",
    "- **Homo.sapiens**: Wrapper containing several H.sapiens-related packages:\n",
    "    - **TxDB**: coordinates for genes, transcripts, exons...\n",
    "    - **org.Hs.eg.db**: Gene symbols\n",
    "    - **GenomicRanges**: allows to work with gene coordinates\n",
    "- **rtracklayer**: allows to import BED files and other formats\n",
    "- **DOSE** and **clusterProfiler**: for ontology enrichment (GO, Disease Ontology, Reactome)\n",
    "- **AnnotationHub**: allows to download data from UCSC and many other sources"
   ]
  },
  {
   "cell_type": "markdown",
   "metadata": {
    "slideshow": {
     "slide_type": "slide"
    }
   },
   "source": [
    "# The Homo.sapiens package\n",
    "\n",
    "Let's load the Homo.sapiens package. You will see that it will load several other packages:"
   ]
  },
  {
   "cell_type": "code",
   "execution_count": 19,
   "metadata": {
    "collapsed": false,
    "run_control": {
     "frozen": false,
     "read_only": false
    }
   },
   "outputs": [
    {
     "data": {},
     "metadata": {},
     "output_type": "display_data"
    }
   ],
   "source": [
    "library(Homo.sapiens)\n",
    "library(help=\"Homo.sapiens\")"
   ]
  },
  {
   "cell_type": "markdown",
   "metadata": {},
   "source": [
    "Bioconductor contains similar wrapper packages for the most common model species (e.g. mouse, rat). "
   ]
  },
  {
   "cell_type": "markdown",
   "metadata": {
    "slideshow": {
     "slide_type": "slide"
    }
   },
   "source": [
    "## Gene symbols and IDs: the org.Hs.eg.db package\n",
    "\n",
    "The org.\\*.eg.db packages allow to retrieve gene symbols and ids relative to a species (see [list of all packages](https://www.bioconductor.org/packages/release/data/annotation/)). The data is updated every two years, which is a good compromise between reproducibility and getting recent data.\n",
    "\n",
    "If no org.eg.db package is available for your species, you may consider creating one yourself. You only require a table of genes/symbols, and following a [tutorial](https://www.bioconductor.org/packages/devel/bioc/vignettes/AnnotationForge/inst/doc/SQLForge.pdf)\n",
    "\n",
    "To see which data is included in the human package, we can open its help page:\n",
    "```\n",
    "library(help=org.Hs.eg.db)\n",
    "```\n",
    "In alternative, we can use the columns() function:"
   ]
  },
  {
   "cell_type": "code",
   "execution_count": 20,
   "metadata": {
    "collapsed": false,
    "run_control": {
     "frozen": false,
     "read_only": false
    }
   },
   "outputs": [
    {
     "data": {
      "text/html": [
       "<ol class=list-inline>\n",
       "\t<li>'ENTREZID'</li>\n",
       "\t<li>'PFAM'</li>\n",
       "\t<li>'IPI'</li>\n",
       "\t<li>'PROSITE'</li>\n",
       "\t<li>'ACCNUM'</li>\n",
       "\t<li>'ALIAS'</li>\n",
       "\t<li>'CHR'</li>\n",
       "\t<li>'CHRLOC'</li>\n",
       "\t<li>'CHRLOCEND'</li>\n",
       "\t<li>'ENZYME'</li>\n",
       "\t<li>'MAP'</li>\n",
       "\t<li>'PATH'</li>\n",
       "\t<li>'PMID'</li>\n",
       "\t<li>'REFSEQ'</li>\n",
       "\t<li>'SYMBOL'</li>\n",
       "\t<li>'UNIGENE'</li>\n",
       "\t<li>'ENSEMBL'</li>\n",
       "\t<li>'ENSEMBLPROT'</li>\n",
       "\t<li>'ENSEMBLTRANS'</li>\n",
       "\t<li>'GENENAME'</li>\n",
       "\t<li>'UNIPROT'</li>\n",
       "\t<li>'GO'</li>\n",
       "\t<li>'EVIDENCE'</li>\n",
       "\t<li>'ONTOLOGY'</li>\n",
       "\t<li>'GOALL'</li>\n",
       "\t<li>'EVIDENCEALL'</li>\n",
       "\t<li>'ONTOLOGYALL'</li>\n",
       "\t<li>'OMIM'</li>\n",
       "\t<li>'UCSCKG'</li>\n",
       "</ol>\n"
      ],
      "text/latex": [
       "\\begin{enumerate*}\n",
       "\\item 'ENTREZID'\n",
       "\\item 'PFAM'\n",
       "\\item 'IPI'\n",
       "\\item 'PROSITE'\n",
       "\\item 'ACCNUM'\n",
       "\\item 'ALIAS'\n",
       "\\item 'CHR'\n",
       "\\item 'CHRLOC'\n",
       "\\item 'CHRLOCEND'\n",
       "\\item 'ENZYME'\n",
       "\\item 'MAP'\n",
       "\\item 'PATH'\n",
       "\\item 'PMID'\n",
       "\\item 'REFSEQ'\n",
       "\\item 'SYMBOL'\n",
       "\\item 'UNIGENE'\n",
       "\\item 'ENSEMBL'\n",
       "\\item 'ENSEMBLPROT'\n",
       "\\item 'ENSEMBLTRANS'\n",
       "\\item 'GENENAME'\n",
       "\\item 'UNIPROT'\n",
       "\\item 'GO'\n",
       "\\item 'EVIDENCE'\n",
       "\\item 'ONTOLOGY'\n",
       "\\item 'GOALL'\n",
       "\\item 'EVIDENCEALL'\n",
       "\\item 'ONTOLOGYALL'\n",
       "\\item 'OMIM'\n",
       "\\item 'UCSCKG'\n",
       "\\end{enumerate*}\n"
      ],
      "text/markdown": [
       "1. 'ENTREZID'\n",
       "2. 'PFAM'\n",
       "3. 'IPI'\n",
       "4. 'PROSITE'\n",
       "5. 'ACCNUM'\n",
       "6. 'ALIAS'\n",
       "7. 'CHR'\n",
       "8. 'CHRLOC'\n",
       "9. 'CHRLOCEND'\n",
       "10. 'ENZYME'\n",
       "11. 'MAP'\n",
       "12. 'PATH'\n",
       "13. 'PMID'\n",
       "14. 'REFSEQ'\n",
       "15. 'SYMBOL'\n",
       "16. 'UNIGENE'\n",
       "17. 'ENSEMBL'\n",
       "18. 'ENSEMBLPROT'\n",
       "19. 'ENSEMBLTRANS'\n",
       "20. 'GENENAME'\n",
       "21. 'UNIPROT'\n",
       "22. 'GO'\n",
       "23. 'EVIDENCE'\n",
       "24. 'ONTOLOGY'\n",
       "25. 'GOALL'\n",
       "26. 'EVIDENCEALL'\n",
       "27. 'ONTOLOGYALL'\n",
       "28. 'OMIM'\n",
       "29. 'UCSCKG'\n",
       "\n",
       "\n"
      ],
      "text/plain": [
       " [1] \"ENTREZID\"     \"PFAM\"         \"IPI\"          \"PROSITE\"      \"ACCNUM\"      \n",
       " [6] \"ALIAS\"        \"CHR\"          \"CHRLOC\"       \"CHRLOCEND\"    \"ENZYME\"      \n",
       "[11] \"MAP\"          \"PATH\"         \"PMID\"         \"REFSEQ\"       \"SYMBOL\"      \n",
       "[16] \"UNIGENE\"      \"ENSEMBL\"      \"ENSEMBLPROT\"  \"ENSEMBLTRANS\" \"GENENAME\"    \n",
       "[21] \"UNIPROT\"      \"GO\"           \"EVIDENCE\"     \"ONTOLOGY\"     \"GOALL\"       \n",
       "[26] \"EVIDENCEALL\"  \"ONTOLOGYALL\"  \"OMIM\"         \"UCSCKG\"      "
      ]
     },
     "metadata": {},
     "output_type": "display_data"
    }
   ],
   "source": [
    "columns(org.Hs.eg.db)"
   ]
  },
  {
   "cell_type": "markdown",
   "metadata": {},
   "source": [
    "This means that the org.Hs.eg.db package contains mapping between Entrez IDs, PFAM, Prosite, Genenames, GO, etc... for all human genes.\n",
    "\n"
   ]
  },
  {
   "cell_type": "markdown",
   "metadata": {
    "slideshow": {
     "slide_type": "subslide"
    }
   },
   "source": [
    "## Visualizing a bimap as a table\n",
    "\n",
    "The BiMaps in a library can also be accessed as variable. For example, org.Hs.eg.db contains many variables starting with \"org.Hs.eg\":"
   ]
  },
  {
   "cell_type": "code",
   "execution_count": 21,
   "metadata": {
    "collapsed": false
   },
   "outputs": [
    {
     "data": {
      "text/html": [
       "<ol class=list-inline>\n",
       "\t<li>'org.Hs.eg'</li>\n",
       "\t<li>'org.Hs.egACCNUM'</li>\n",
       "\t<li>'org.Hs.egACCNUM2EG'</li>\n",
       "\t<li>'org.Hs.egALIAS2EG'</li>\n",
       "\t<li>'org.Hs.egCHR'</li>\n",
       "\t<li>'org.Hs.egCHRLENGTHS'</li>\n",
       "\t<li>'org.Hs.egCHRLOC'</li>\n",
       "\t<li>'org.Hs.egCHRLOCEND'</li>\n",
       "\t<li>'org.Hs.eg.db'</li>\n",
       "\t<li>'org.Hs.eg_dbconn'</li>\n",
       "\t<li>'org.Hs.eg_dbfile'</li>\n",
       "\t<li>'org.Hs.eg_dbInfo'</li>\n",
       "\t<li>'org.Hs.eg_dbschema'</li>\n",
       "\t<li>'org.Hs.egENSEMBL'</li>\n",
       "\t<li>'org.Hs.egENSEMBL2EG'</li>\n",
       "\t<li>'org.Hs.egENSEMBLPROT'</li>\n",
       "\t<li>'org.Hs.egENSEMBLPROT2EG'</li>\n",
       "\t<li>'org.Hs.egENSEMBLTRANS'</li>\n",
       "\t<li>'org.Hs.egENSEMBLTRANS2EG'</li>\n",
       "\t<li>'org.Hs.egENZYME'</li>\n",
       "\t<li>'org.Hs.egENZYME2EG'</li>\n",
       "\t<li>'org.Hs.egGENENAME'</li>\n",
       "\t<li>'org.Hs.egGO'</li>\n",
       "\t<li>'org.Hs.egGO2ALLEGS'</li>\n",
       "\t<li>'org.Hs.egGO2EG'</li>\n",
       "\t<li>'org.Hs.egMAP'</li>\n",
       "\t<li>'org.Hs.egMAP2EG'</li>\n",
       "\t<li>'org.Hs.egMAPCOUNTS'</li>\n",
       "\t<li>'org.Hs.egOMIM'</li>\n",
       "\t<li>'org.Hs.egOMIM2EG'</li>\n",
       "\t<li>'org.Hs.egORGANISM'</li>\n",
       "\t<li>'org.Hs.egPATH'</li>\n",
       "\t<li>'org.Hs.egPATH2EG'</li>\n",
       "\t<li>'org.Hs.egPFAM'</li>\n",
       "\t<li>'org.Hs.egPMID'</li>\n",
       "\t<li>'org.Hs.egPMID2EG'</li>\n",
       "\t<li>'org.Hs.egPROSITE'</li>\n",
       "\t<li>'org.Hs.egREFSEQ'</li>\n",
       "\t<li>'org.Hs.egREFSEQ2EG'</li>\n",
       "\t<li>'org.Hs.egSYMBOL'</li>\n",
       "\t<li>'org.Hs.egSYMBOL2EG'</li>\n",
       "\t<li>'org.Hs.egUCSCKG'</li>\n",
       "\t<li>'org.Hs.egUNIGENE'</li>\n",
       "\t<li>'org.Hs.egUNIGENE2EG'</li>\n",
       "\t<li>'org.Hs.egUNIPROT'</li>\n",
       "</ol>\n"
      ],
      "text/latex": [
       "\\begin{enumerate*}\n",
       "\\item 'org.Hs.eg'\n",
       "\\item 'org.Hs.egACCNUM'\n",
       "\\item 'org.Hs.egACCNUM2EG'\n",
       "\\item 'org.Hs.egALIAS2EG'\n",
       "\\item 'org.Hs.egCHR'\n",
       "\\item 'org.Hs.egCHRLENGTHS'\n",
       "\\item 'org.Hs.egCHRLOC'\n",
       "\\item 'org.Hs.egCHRLOCEND'\n",
       "\\item 'org.Hs.eg.db'\n",
       "\\item 'org.Hs.eg\\_dbconn'\n",
       "\\item 'org.Hs.eg\\_dbfile'\n",
       "\\item 'org.Hs.eg\\_dbInfo'\n",
       "\\item 'org.Hs.eg\\_dbschema'\n",
       "\\item 'org.Hs.egENSEMBL'\n",
       "\\item 'org.Hs.egENSEMBL2EG'\n",
       "\\item 'org.Hs.egENSEMBLPROT'\n",
       "\\item 'org.Hs.egENSEMBLPROT2EG'\n",
       "\\item 'org.Hs.egENSEMBLTRANS'\n",
       "\\item 'org.Hs.egENSEMBLTRANS2EG'\n",
       "\\item 'org.Hs.egENZYME'\n",
       "\\item 'org.Hs.egENZYME2EG'\n",
       "\\item 'org.Hs.egGENENAME'\n",
       "\\item 'org.Hs.egGO'\n",
       "\\item 'org.Hs.egGO2ALLEGS'\n",
       "\\item 'org.Hs.egGO2EG'\n",
       "\\item 'org.Hs.egMAP'\n",
       "\\item 'org.Hs.egMAP2EG'\n",
       "\\item 'org.Hs.egMAPCOUNTS'\n",
       "\\item 'org.Hs.egOMIM'\n",
       "\\item 'org.Hs.egOMIM2EG'\n",
       "\\item 'org.Hs.egORGANISM'\n",
       "\\item 'org.Hs.egPATH'\n",
       "\\item 'org.Hs.egPATH2EG'\n",
       "\\item 'org.Hs.egPFAM'\n",
       "\\item 'org.Hs.egPMID'\n",
       "\\item 'org.Hs.egPMID2EG'\n",
       "\\item 'org.Hs.egPROSITE'\n",
       "\\item 'org.Hs.egREFSEQ'\n",
       "\\item 'org.Hs.egREFSEQ2EG'\n",
       "\\item 'org.Hs.egSYMBOL'\n",
       "\\item 'org.Hs.egSYMBOL2EG'\n",
       "\\item 'org.Hs.egUCSCKG'\n",
       "\\item 'org.Hs.egUNIGENE'\n",
       "\\item 'org.Hs.egUNIGENE2EG'\n",
       "\\item 'org.Hs.egUNIPROT'\n",
       "\\end{enumerate*}\n"
      ],
      "text/markdown": [
       "1. 'org.Hs.eg'\n",
       "2. 'org.Hs.egACCNUM'\n",
       "3. 'org.Hs.egACCNUM2EG'\n",
       "4. 'org.Hs.egALIAS2EG'\n",
       "5. 'org.Hs.egCHR'\n",
       "6. 'org.Hs.egCHRLENGTHS'\n",
       "7. 'org.Hs.egCHRLOC'\n",
       "8. 'org.Hs.egCHRLOCEND'\n",
       "9. 'org.Hs.eg.db'\n",
       "10. 'org.Hs.eg_dbconn'\n",
       "11. 'org.Hs.eg_dbfile'\n",
       "12. 'org.Hs.eg_dbInfo'\n",
       "13. 'org.Hs.eg_dbschema'\n",
       "14. 'org.Hs.egENSEMBL'\n",
       "15. 'org.Hs.egENSEMBL2EG'\n",
       "16. 'org.Hs.egENSEMBLPROT'\n",
       "17. 'org.Hs.egENSEMBLPROT2EG'\n",
       "18. 'org.Hs.egENSEMBLTRANS'\n",
       "19. 'org.Hs.egENSEMBLTRANS2EG'\n",
       "20. 'org.Hs.egENZYME'\n",
       "21. 'org.Hs.egENZYME2EG'\n",
       "22. 'org.Hs.egGENENAME'\n",
       "23. 'org.Hs.egGO'\n",
       "24. 'org.Hs.egGO2ALLEGS'\n",
       "25. 'org.Hs.egGO2EG'\n",
       "26. 'org.Hs.egMAP'\n",
       "27. 'org.Hs.egMAP2EG'\n",
       "28. 'org.Hs.egMAPCOUNTS'\n",
       "29. 'org.Hs.egOMIM'\n",
       "30. 'org.Hs.egOMIM2EG'\n",
       "31. 'org.Hs.egORGANISM'\n",
       "32. 'org.Hs.egPATH'\n",
       "33. 'org.Hs.egPATH2EG'\n",
       "34. 'org.Hs.egPFAM'\n",
       "35. 'org.Hs.egPMID'\n",
       "36. 'org.Hs.egPMID2EG'\n",
       "37. 'org.Hs.egPROSITE'\n",
       "38. 'org.Hs.egREFSEQ'\n",
       "39. 'org.Hs.egREFSEQ2EG'\n",
       "40. 'org.Hs.egSYMBOL'\n",
       "41. 'org.Hs.egSYMBOL2EG'\n",
       "42. 'org.Hs.egUCSCKG'\n",
       "43. 'org.Hs.egUNIGENE'\n",
       "44. 'org.Hs.egUNIGENE2EG'\n",
       "45. 'org.Hs.egUNIPROT'\n",
       "\n",
       "\n"
      ],
      "text/plain": [
       " [1] \"org.Hs.eg\"                \"org.Hs.egACCNUM\"         \n",
       " [3] \"org.Hs.egACCNUM2EG\"       \"org.Hs.egALIAS2EG\"       \n",
       " [5] \"org.Hs.egCHR\"             \"org.Hs.egCHRLENGTHS\"     \n",
       " [7] \"org.Hs.egCHRLOC\"          \"org.Hs.egCHRLOCEND\"      \n",
       " [9] \"org.Hs.eg.db\"             \"org.Hs.eg_dbconn\"        \n",
       "[11] \"org.Hs.eg_dbfile\"         \"org.Hs.eg_dbInfo\"        \n",
       "[13] \"org.Hs.eg_dbschema\"       \"org.Hs.egENSEMBL\"        \n",
       "[15] \"org.Hs.egENSEMBL2EG\"      \"org.Hs.egENSEMBLPROT\"    \n",
       "[17] \"org.Hs.egENSEMBLPROT2EG\"  \"org.Hs.egENSEMBLTRANS\"   \n",
       "[19] \"org.Hs.egENSEMBLTRANS2EG\" \"org.Hs.egENZYME\"         \n",
       "[21] \"org.Hs.egENZYME2EG\"       \"org.Hs.egGENENAME\"       \n",
       "[23] \"org.Hs.egGO\"              \"org.Hs.egGO2ALLEGS\"      \n",
       "[25] \"org.Hs.egGO2EG\"           \"org.Hs.egMAP\"            \n",
       "[27] \"org.Hs.egMAP2EG\"          \"org.Hs.egMAPCOUNTS\"      \n",
       "[29] \"org.Hs.egOMIM\"            \"org.Hs.egOMIM2EG\"        \n",
       "[31] \"org.Hs.egORGANISM\"        \"org.Hs.egPATH\"           \n",
       "[33] \"org.Hs.egPATH2EG\"         \"org.Hs.egPFAM\"           \n",
       "[35] \"org.Hs.egPMID\"            \"org.Hs.egPMID2EG\"        \n",
       "[37] \"org.Hs.egPROSITE\"         \"org.Hs.egREFSEQ\"         \n",
       "[39] \"org.Hs.egREFSEQ2EG\"       \"org.Hs.egSYMBOL\"         \n",
       "[41] \"org.Hs.egSYMBOL2EG\"       \"org.Hs.egUCSCKG\"         \n",
       "[43] \"org.Hs.egUNIGENE\"         \"org.Hs.egUNIGENE2EG\"     \n",
       "[45] \"org.Hs.egUNIPROT\"        "
      ]
     },
     "metadata": {},
     "output_type": "display_data"
    }
   ],
   "source": [
    "ls(\"package:org.Hs.eg.db\")\n"
   ]
  },
  {
   "cell_type": "markdown",
   "metadata": {
    "slideshow": {
     "slide_type": "fragment"
    }
   },
   "source": [
    "These can be converted to table using as.data.frame or toTable. For example the following gets a dataframe of all KEGG pathways to Entrez:"
   ]
  },
  {
   "cell_type": "code",
   "execution_count": 22,
   "metadata": {
    "collapsed": false
   },
   "outputs": [
    {
     "data": {
      "text/html": [
       "<table>\n",
       "<thead><tr><th scope=col>gene_id</th><th scope=col>path_id</th></tr></thead>\n",
       "<tbody>\n",
       "\t<tr><td>2    </td><td>04610</td></tr>\n",
       "\t<tr><td>9    </td><td>00232</td></tr>\n",
       "\t<tr><td>9    </td><td>00983</td></tr>\n",
       "\t<tr><td>9    </td><td>01100</td></tr>\n",
       "\t<tr><td>10   </td><td>00232</td></tr>\n",
       "\t<tr><td>10   </td><td>00983</td></tr>\n",
       "</tbody>\n",
       "</table>\n"
      ],
      "text/latex": [
       "\\begin{tabular}{r|ll}\n",
       " gene\\_id & path\\_id\\\\\n",
       "\\hline\n",
       "\t 2     & 04610\\\\\n",
       "\t 9     & 00232\\\\\n",
       "\t 9     & 00983\\\\\n",
       "\t 9     & 01100\\\\\n",
       "\t 10    & 00232\\\\\n",
       "\t 10    & 00983\\\\\n",
       "\\end{tabular}\n"
      ],
      "text/plain": [
       "  gene_id path_id\n",
       "1 2       04610  \n",
       "2 9       00232  \n",
       "3 9       00983  \n",
       "4 9       01100  \n",
       "5 10      00232  \n",
       "6 10      00983  "
      ]
     },
     "metadata": {},
     "output_type": "display_data"
    }
   ],
   "source": [
    "head(toTable(org.Hs.egPATH2EG))"
   ]
  },
  {
   "cell_type": "markdown",
   "metadata": {},
   "source": [
    "To get the name and description of these KEGG pathways, we would have to load the KEGG.db data package."
   ]
  },
  {
   "cell_type": "markdown",
   "metadata": {},
   "source": [
    "These packages also allows to get more documentation:\n",
    "\n",
    "```\n",
    "?org.Hs.egPATH2EG\n",
    "```"
   ]
  },
  {
   "cell_type": "markdown",
   "metadata": {
    "slideshow": {
     "slide_type": "slide"
    }
   },
   "source": [
    "### Entrez and symbols\n",
    "\n",
    "The basic way to get data from these BiMap objects is the select() function from AnnotationDbi.\n",
    "\n",
    "For example, here is how to get entrez and description of genes MGAT2 and MGAT3:"
   ]
  },
  {
   "cell_type": "code",
   "execution_count": 23,
   "metadata": {
    "collapsed": false,
    "run_control": {
     "frozen": false,
     "read_only": false
    }
   },
   "outputs": [
    {
     "data": {
      "text/html": [
       "<table>\n",
       "<thead><tr><th scope=col>SYMBOL</th><th scope=col>ENTREZID</th><th scope=col>GENENAME</th></tr></thead>\n",
       "<tbody>\n",
       "\t<tr><td>MGAT2                                                                      </td><td>4247                                                                       </td><td>mannosyl (alpha-1,6-)-glycoprotein beta-1,2-N-acetylglucosaminyltransferase</td></tr>\n",
       "\t<tr><td>MGAT3                                                                      </td><td>4248                                                                       </td><td>mannosyl (beta-1,4-)-glycoprotein beta-1,4-N-acetylglucosaminyltransferase </td></tr>\n",
       "</tbody>\n",
       "</table>\n"
      ],
      "text/latex": [
       "\\begin{tabular}{r|lll}\n",
       " SYMBOL & ENTREZID & GENENAME\\\\\n",
       "\\hline\n",
       "\t MGAT2                                                                       & 4247                                                                        & mannosyl (alpha-1,6-)-glycoprotein beta-1,2-N-acetylglucosaminyltransferase\\\\\n",
       "\t MGAT3                                                                       & 4248                                                                        & mannosyl (beta-1,4-)-glycoprotein beta-1,4-N-acetylglucosaminyltransferase \\\\\n",
       "\\end{tabular}\n"
      ],
      "text/plain": [
       "  SYMBOL ENTREZID\n",
       "1 MGAT2  4247    \n",
       "2 MGAT3  4248    \n",
       "  GENENAME                                                                   \n",
       "1 mannosyl (alpha-1,6-)-glycoprotein beta-1,2-N-acetylglucosaminyltransferase\n",
       "2 mannosyl (beta-1,4-)-glycoprotein beta-1,4-N-acetylglucosaminyltransferase "
      ]
     },
     "metadata": {},
     "output_type": "display_data"
    }
   ],
   "source": [
    "AnnotationDbi::select(org.Hs.eg.db, keys=as.character(c(\"MGAT2\", \"MGAT3\")), keytype='SYMBOL', columns=c('ENTREZID','GENENAME'))"
   ]
  },
  {
   "cell_type": "markdown",
   "metadata": {},
   "source": [
    "The \"keys\" argument defines the symbols that we want to search. The \"keytype\" and \"columns\" define the type of input and output. Use the functions keytypes(org.Hs.eg.db) and columns(org.Hs.eg.db) to see which values are supported. "
   ]
  },
  {
   "cell_type": "markdown",
   "metadata": {
    "slideshow": {
     "slide_type": "subslide"
    }
   },
   "source": [
    "#### Exercise 1: symbol and Ensembl\n",
    "\n",
    "What is the name and the Ensembl ID of the gene with Entrez ID 1234? "
   ]
  },
  {
   "cell_type": "code",
   "execution_count": 24,
   "metadata": {
    "collapsed": false,
    "run_control": {
     "frozen": false,
     "read_only": false
    },
    "slideshow": {
     "slide_type": "fragment"
    }
   },
   "outputs": [
    {
     "data": {
      "text/html": [
       "<table>\n",
       "<thead><tr><th scope=col>ENTREZID</th><th scope=col>SYMBOL</th><th scope=col>ENSEMBL</th></tr></thead>\n",
       "<tbody>\n",
       "\t<tr><td>1234           </td><td>CCR5           </td><td>ENSG00000160791</td></tr>\n",
       "</tbody>\n",
       "</table>\n"
      ],
      "text/latex": [
       "\\begin{tabular}{r|lll}\n",
       " ENTREZID & SYMBOL & ENSEMBL\\\\\n",
       "\\hline\n",
       "\t 1234            & CCR5            & ENSG00000160791\\\\\n",
       "\\end{tabular}\n"
      ],
      "text/plain": [
       "  ENTREZID SYMBOL ENSEMBL        \n",
       "1 1234     CCR5   ENSG00000160791"
      ]
     },
     "metadata": {},
     "output_type": "display_data"
    }
   ],
   "source": [
    "AnnotationDbi::select(org.Hs.eg.db, keys=as.character(c(\"1234\")), keytype='ENTREZID', columns=c('SYMBOL','ENSEMBL'))"
   ]
  },
  {
   "cell_type": "markdown",
   "metadata": {
    "slideshow": {
     "slide_type": "subslide"
    }
   },
   "source": [
    "#### Exercise 2- Gene Ontology\n",
    "\n",
    "The Gene Ontology database annotates terms related to the biological process, molecular function, and cellular compartment for every gene.\n",
    "\n",
    "Can you get all the Gene Ontology (GO) terms associated to PTEN?"
   ]
  },
  {
   "cell_type": "code",
   "execution_count": 25,
   "metadata": {
    "collapsed": false,
    "run_control": {
     "frozen": false,
     "read_only": false
    },
    "slideshow": {
     "slide_type": "fragment"
    }
   },
   "outputs": [
    {
     "data": {
      "text/html": [
       "<table>\n",
       "<thead><tr><th scope=col>SYMBOL</th><th scope=col>GO</th><th scope=col>EVIDENCE</th><th scope=col>ONTOLOGY</th></tr></thead>\n",
       "<tbody>\n",
       "\t<tr><td>PTEN      </td><td>GO:0000079</td><td>TAS       </td><td>BP        </td></tr>\n",
       "\t<tr><td>PTEN      </td><td>GO:0000287</td><td>IEA       </td><td>MF        </td></tr>\n",
       "\t<tr><td>PTEN      </td><td>GO:0001525</td><td>IEA       </td><td>BP        </td></tr>\n",
       "\t<tr><td>PTEN      </td><td>GO:0001933</td><td>IDA       </td><td>BP        </td></tr>\n",
       "\t<tr><td>PTEN      </td><td>GO:0002902</td><td>IEA       </td><td>BP        </td></tr>\n",
       "\t<tr><td>PTEN      </td><td>GO:0004438</td><td>IDA       </td><td>MF        </td></tr>\n",
       "</tbody>\n",
       "</table>\n"
      ],
      "text/latex": [
       "\\begin{tabular}{r|llll}\n",
       " SYMBOL & GO & EVIDENCE & ONTOLOGY\\\\\n",
       "\\hline\n",
       "\t PTEN       & GO:0000079 & TAS        & BP        \\\\\n",
       "\t PTEN       & GO:0000287 & IEA        & MF        \\\\\n",
       "\t PTEN       & GO:0001525 & IEA        & BP        \\\\\n",
       "\t PTEN       & GO:0001933 & IDA        & BP        \\\\\n",
       "\t PTEN       & GO:0002902 & IEA        & BP        \\\\\n",
       "\t PTEN       & GO:0004438 & IDA        & MF        \\\\\n",
       "\\end{tabular}\n"
      ],
      "text/plain": [
       "  SYMBOL GO         EVIDENCE ONTOLOGY\n",
       "1 PTEN   GO:0000079 TAS      BP      \n",
       "2 PTEN   GO:0000287 IEA      MF      \n",
       "3 PTEN   GO:0001525 IEA      BP      \n",
       "4 PTEN   GO:0001933 IDA      BP      \n",
       "5 PTEN   GO:0002902 IEA      BP      \n",
       "6 PTEN   GO:0004438 IDA      MF      "
      ]
     },
     "metadata": {},
     "output_type": "display_data"
    }
   ],
   "source": [
    "head(select(org.Hs.eg.db, keys='PTEN', keytype='SYMBOL', columns='GO'))"
   ]
  },
  {
   "cell_type": "markdown",
   "metadata": {
    "slideshow": {
     "slide_type": "fragment"
    }
   },
   "source": [
    "To get the definition of these GO ids, we can use the GO.db database:"
   ]
  },
  {
   "cell_type": "code",
   "execution_count": 26,
   "metadata": {
    "collapsed": false,
    "run_control": {
     "frozen": false,
     "read_only": false
    }
   },
   "outputs": [
    {
     "data": {
      "text/html": [
       "<table>\n",
       "<thead><tr><th scope=col>SYMBOL</th><th scope=col>GO</th><th scope=col>EVIDENCE</th><th scope=col>ONTOLOGY</th><th scope=col>TERM</th></tr></thead>\n",
       "<tbody>\n",
       "\t<tr><td>PTEN                                                                   </td><td>GO:0000079                                                             </td><td>TAS                                                                    </td><td>BP                                                                     </td><td>regulation of cyclin-dependent protein serine/threonine kinase activity</td></tr>\n",
       "\t<tr><td>PTEN                                                                   </td><td>GO:0000287                                                             </td><td>IEA                                                                    </td><td>MF                                                                     </td><td>magnesium ion binding                                                  </td></tr>\n",
       "\t<tr><td>PTEN                                                                   </td><td>GO:0001525                                                             </td><td>IEA                                                                    </td><td>BP                                                                     </td><td>angiogenesis                                                           </td></tr>\n",
       "\t<tr><td>PTEN                                                                   </td><td>GO:0001933                                                             </td><td>IDA                                                                    </td><td>BP                                                                     </td><td>negative regulation of protein phosphorylation                         </td></tr>\n",
       "\t<tr><td>PTEN                                                                   </td><td>GO:0002902                                                             </td><td>IEA                                                                    </td><td>BP                                                                     </td><td>regulation of B cell apoptotic process                                 </td></tr>\n",
       "\t<tr><td>PTEN                                                                   </td><td>GO:0004438                                                             </td><td>IDA                                                                    </td><td>MF                                                                     </td><td>phosphatidylinositol-3-phosphatase activity                            </td></tr>\n",
       "</tbody>\n",
       "</table>\n"
      ],
      "text/latex": [
       "\\begin{tabular}{r|lllll}\n",
       " SYMBOL & GO & EVIDENCE & ONTOLOGY & TERM\\\\\n",
       "\\hline\n",
       "\t PTEN                                                                    & GO:0000079                                                              & TAS                                                                     & BP                                                                      & regulation of cyclin-dependent protein serine/threonine kinase activity\\\\\n",
       "\t PTEN                                                                    & GO:0000287                                                              & IEA                                                                     & MF                                                                      & magnesium ion binding                                                  \\\\\n",
       "\t PTEN                                                                    & GO:0001525                                                              & IEA                                                                     & BP                                                                      & angiogenesis                                                           \\\\\n",
       "\t PTEN                                                                    & GO:0001933                                                              & IDA                                                                     & BP                                                                      & negative regulation of protein phosphorylation                         \\\\\n",
       "\t PTEN                                                                    & GO:0002902                                                              & IEA                                                                     & BP                                                                      & regulation of B cell apoptotic process                                 \\\\\n",
       "\t PTEN                                                                    & GO:0004438                                                              & IDA                                                                     & MF                                                                      & phosphatidylinositol-3-phosphatase activity                            \\\\\n",
       "\\end{tabular}\n"
      ],
      "text/plain": [
       "  SYMBOL GO         EVIDENCE ONTOLOGY\n",
       "1 PTEN   GO:0000079 TAS      BP      \n",
       "2 PTEN   GO:0000287 IEA      MF      \n",
       "3 PTEN   GO:0001525 IEA      BP      \n",
       "4 PTEN   GO:0001933 IDA      BP      \n",
       "5 PTEN   GO:0002902 IEA      BP      \n",
       "6 PTEN   GO:0004438 IDA      MF      \n",
       "  TERM                                                                   \n",
       "1 regulation of cyclin-dependent protein serine/threonine kinase activity\n",
       "2 magnesium ion binding                                                  \n",
       "3 angiogenesis                                                           \n",
       "4 negative regulation of protein phosphorylation                         \n",
       "5 regulation of B cell apoptotic process                                 \n",
       "6 phosphatidylinositol-3-phosphatase activity                            "
      ]
     },
     "metadata": {},
     "output_type": "display_data"
    }
   ],
   "source": [
    "PTEN.go = select(org.Hs.eg.db, keys='PTEN', keytype='SYMBOL', columns='GO')\n",
    "PTEN.go$TERM = AnnotationDbi::select(GO.db, keys=as.character(PTEN.go$GO), columns=\"TERM\")$TERM\n",
    "head(PTEN.go)"
   ]
  },
  {
   "cell_type": "markdown",
   "metadata": {
    "slideshow": {
     "slide_type": "slide"
    }
   },
   "source": [
    "### Gene Ontology Enrichment with DOSE and clusterProfiler\n",
    "\n",
    "When we have a long list of genes, listing all the Gene Ontology terms associated to each gene produces a very verbose output, which is difficult to use.\n",
    "\n",
    "It is more useful to do an Ontology Enrichment analysis, to see which are the most represented terms in the list.\n",
    "\n",
    "There are several functions to do enrichment analysis in BiocConductor, but today we will use the enrichGO function from clusterProfiler:"
   ]
  },
  {
   "cell_type": "code",
   "execution_count": 27,
   "metadata": {
    "collapsed": false,
    "run_control": {
     "frozen": false,
     "read_only": false
    }
   },
   "outputs": [
    {
     "name": "stdout",
     "output_type": "stream",
     "text": [
      " [1] 23450  5160  7126 27118  8452  3675  6624  3638  9918   123\n"
     ]
    }
   ],
   "source": [
    "library(clusterProfiler)\n",
    "library(DOSE)\n",
    "\n",
    "mygenes = c(23450, 5160, 7126, 27118, 8452, 3675, 6624, 3638, 9918, 123, 213, 3383,1869,890,1871,9134,9928,1029,3479,6573,3757,332)\n",
    "print(mygenes[1:10])\n"
   ]
  },
  {
   "cell_type": "code",
   "execution_count": 28,
   "metadata": {
    "collapsed": false,
    "run_control": {
     "frozen": false,
     "read_only": false
    },
    "slideshow": {
     "slide_type": "fragment"
    }
   },
   "outputs": [
    {
     "data": {
      "text/html": [
       "<table>\n",
       "<thead><tr><th></th><th scope=col>ID</th><th scope=col>Description</th><th scope=col>GeneRatio</th><th scope=col>BgRatio</th><th scope=col>pvalue</th><th scope=col>p.adjust</th><th scope=col>qvalue</th><th scope=col>geneID</th><th scope=col>Count</th></tr></thead>\n",
       "<tbody>\n",
       "\t<tr><th scope=row>GO:0019899</th><td>GO:0019899                                                         </td><td>enzyme binding                                                     </td><td>9/20                                                               </td><td>1481/18585                                                         </td><td>9.460737e-06                                                       </td><td>0.001712393                                                        </td><td>0.001145247                                                        </td><td>1029/213/332/3675/3757/7126/8452/890/9928                          </td><td>9                                                                  </td></tr>\n",
       "\t<tr><th scope=row>GO:0005178</th><td>GO:0005178                                                         </td><td>integrin binding                                                   </td><td>3/20                                                               </td><td>104/18585                                                          </td><td>1.810737e-04                                                       </td><td>0.009349881                                                        </td><td>0.006253192                                                        </td><td>3383/3479/3675                                                     </td><td>3                                                                  </td></tr>\n",
       "\t<tr><th scope=row>GO:0032403</th><td>GO:0032403                                                         </td><td>protein complex binding                                            </td><td>6/20                                                               </td><td>852/18585                                                          </td><td>2.032337e-04                                                       </td><td>0.009349881                                                        </td><td>0.006253192                                                        </td><td>332/3383/3479/3675/6624/9928                                       </td><td>6                                                                  </td></tr>\n",
       "\t<tr><th scope=row>GO:0016538</th><td>GO:0016538                                                         </td><td>cyclin-dependent protein serine/threonine kinase regulator activity</td><td>2/20                                                               </td><td>20/18585                                                           </td><td>2.066272e-04                                                       </td><td>0.009349881                                                        </td><td>0.006253192                                                        </td><td>1029/9134                                                          </td><td>2                                                                  </td></tr>\n",
       "\t<tr><th scope=row>GO:0019904</th><td>GO:0019904                                                         </td><td>protein domain specific binding                                    </td><td>5/20                                                               </td><td>588/18585                                                          </td><td>3.255709e-04                                                       </td><td>0.011785666                                                        </td><td>0.007882242                                                        </td><td>3675/3757/7126/8452/9928                                           </td><td>5                                                                  </td></tr>\n",
       "\t<tr><th scope=row>GO:0050839</th><td>GO:0050839                                                         </td><td>cell adhesion molecule binding                                     </td><td>3/20                                                               </td><td>171/18585                                                          </td><td>7.775958e-04                                                       </td><td>0.023457474                                                        </td><td>0.015688337                                                        </td><td>3383/3479/3675                                                     </td><td>3                                                                  </td></tr>\n",
       "</tbody>\n",
       "</table>\n"
      ],
      "text/latex": [
       "\\begin{tabular}{r|lllllllll}\n",
       "  & ID & Description & GeneRatio & BgRatio & pvalue & p.adjust & qvalue & geneID & Count\\\\\n",
       "\\hline\n",
       "\tGO:0019899 & GO:0019899                                                          & enzyme binding                                                      & 9/20                                                                & 1481/18585                                                          & 9.460737e-06                                                        & 0.001712393                                                         & 0.001145247                                                         & 1029/213/332/3675/3757/7126/8452/890/9928                           & 9                                                                  \\\\\n",
       "\tGO:0005178 & GO:0005178                                                          & integrin binding                                                    & 3/20                                                                & 104/18585                                                           & 1.810737e-04                                                        & 0.009349881                                                         & 0.006253192                                                         & 3383/3479/3675                                                      & 3                                                                  \\\\\n",
       "\tGO:0032403 & GO:0032403                                                          & protein complex binding                                             & 6/20                                                                & 852/18585                                                           & 2.032337e-04                                                        & 0.009349881                                                         & 0.006253192                                                         & 332/3383/3479/3675/6624/9928                                        & 6                                                                  \\\\\n",
       "\tGO:0016538 & GO:0016538                                                          & cyclin-dependent protein serine/threonine kinase regulator activity & 2/20                                                                & 20/18585                                                            & 2.066272e-04                                                        & 0.009349881                                                         & 0.006253192                                                         & 1029/9134                                                           & 2                                                                  \\\\\n",
       "\tGO:0019904 & GO:0019904                                                          & protein domain specific binding                                     & 5/20                                                                & 588/18585                                                           & 3.255709e-04                                                        & 0.011785666                                                         & 0.007882242                                                         & 3675/3757/7126/8452/9928                                            & 5                                                                  \\\\\n",
       "\tGO:0050839 & GO:0050839                                                          & cell adhesion molecule binding                                      & 3/20                                                                & 171/18585                                                           & 7.775958e-04                                                        & 0.023457474                                                         & 0.015688337                                                         & 3383/3479/3675                                                      & 3                                                                  \\\\\n",
       "\\end{tabular}\n"
      ],
      "text/plain": [
       "           ID        \n",
       "GO:0019899 GO:0019899\n",
       "GO:0005178 GO:0005178\n",
       "GO:0032403 GO:0032403\n",
       "GO:0016538 GO:0016538\n",
       "GO:0019904 GO:0019904\n",
       "GO:0050839 GO:0050839\n",
       "           Description                                                        \n",
       "GO:0019899 enzyme binding                                                     \n",
       "GO:0005178 integrin binding                                                   \n",
       "GO:0032403 protein complex binding                                            \n",
       "GO:0016538 cyclin-dependent protein serine/threonine kinase regulator activity\n",
       "GO:0019904 protein domain specific binding                                    \n",
       "GO:0050839 cell adhesion molecule binding                                     \n",
       "           GeneRatio BgRatio    pvalue       p.adjust    qvalue     \n",
       "GO:0019899 9/20      1481/18585 9.460737e-06 0.001712393 0.001145247\n",
       "GO:0005178 3/20      104/18585  1.810737e-04 0.009349881 0.006253192\n",
       "GO:0032403 6/20      852/18585  2.032337e-04 0.009349881 0.006253192\n",
       "GO:0016538 2/20      20/18585   2.066272e-04 0.009349881 0.006253192\n",
       "GO:0019904 5/20      588/18585  3.255709e-04 0.011785666 0.007882242\n",
       "GO:0050839 3/20      171/18585  7.775958e-04 0.023457474 0.015688337\n",
       "           geneID                                    Count\n",
       "GO:0019899 1029/213/332/3675/3757/7126/8452/890/9928 9    \n",
       "GO:0005178 3383/3479/3675                            3    \n",
       "GO:0032403 332/3383/3479/3675/6624/9928              6    \n",
       "GO:0016538 1029/9134                                 2    \n",
       "GO:0019904 3675/3757/7126/8452/9928                  5    \n",
       "GO:0050839 3383/3479/3675                            3    "
      ]
     },
     "metadata": {},
     "output_type": "display_data"
    }
   ],
   "source": [
    "# Let's calculate the enrichment\n",
    "myenrich = enrichGO(mygenes, \"human\", ont=\"MF\", readable=F)\n",
    "head(summary(myenrich))\n"
   ]
  },
  {
   "cell_type": "markdown",
   "metadata": {},
   "source": [
    "Behind the lines, enrichGO retrieves the GO annotations from the org.Hs.eg.db package, and calculates the enrichment.\n",
    "\n",
    "The output can be plot in several ways. For example as a graph, using cnetplot:"
   ]
  },
  {
   "cell_type": "code",
   "execution_count": 29,
   "metadata": {
    "collapsed": false
   },
   "outputs": [
    {
     "data": {
      "image/png": "[encoded data removed]",
      "text/plain": [
       "Plot with title “”"
      ]
     },
     "metadata": {},
     "output_type": "display_data"
    }
   ],
   "source": [
    "cnetplot(myenrich)"
   ]
  },
  {
   "cell_type": "markdown",
   "metadata": {
    "slideshow": {
     "slide_type": "slide"
    }
   },
   "source": [
    "## Enrichment using other ontologies\n",
    "\n",
    "We can also do an enrichment using other ontologies.\n",
    "\n",
    "### What is an Ontology?\n",
    "\n",
    "An ontology is a controlled dictionary for a category of terms. They allow to avoid ambigueties and misunderstandings, by defining the standard name of a term (e.g. epilepsy) and annotating all the possible synonyms (e.g. epilepsy syndrome)\n",
    "\n",
    "In bioinformatics the most famous ontology is GO, but there are many others. For example MeSH annotates medical terms, and Disease Ontology (subset of MeSH) annotates disease names.\n",
    "\n",
    "When an Ontology is provided with mappings between terms and genes, we can use it to calculate enrichment. For example, we can use Disease Ontology to see which diseases are enriched in our list:"
   ]
  },
  {
   "cell_type": "code",
   "execution_count": 30,
   "metadata": {
    "collapsed": false,
    "run_control": {
     "frozen": false,
     "read_only": false
    },
    "scrolled": true,
    "slideshow": {
     "slide_type": "fragment"
    }
   },
   "outputs": [
    {
     "data": {
      "text/html": [
       "<table>\n",
       "<thead><tr><th></th><th scope=col>ID</th><th scope=col>Description</th><th scope=col>GeneRatio</th><th scope=col>BgRatio</th><th scope=col>pvalue</th><th scope=col>p.adjust</th><th scope=col>qvalue</th><th scope=col>geneID</th><th scope=col>Count</th></tr></thead>\n",
       "<tbody>\n",
       "\t<tr><th scope=row>DOID:0060116</th><td>DOID:0060116                                            </td><td>sensory system cancer                                   </td><td>11/18                                                   </td><td>139/8018                                                </td><td>8.183720e-16                                            </td><td>2.168686e-13                                            </td><td>8.011431e-14                                            </td><td>3383/1869/890/1871/9134/9928/1029/3479/6573/3757/332    </td><td>11                                                      </td></tr>\n",
       "\t<tr><th scope=row>DOID:2174</th><td>DOID:2174                                               </td><td>ocular cancer                                           </td><td>11/18                                                   </td><td>139/8018                                                </td><td>8.183720e-16                                            </td><td>2.168686e-13                                            </td><td>8.011431e-14                                            </td><td>3383/1869/890/1871/9134/9928/1029/3479/6573/3757/332    </td><td>11                                                      </td></tr>\n",
       "\t<tr><th scope=row>DOID:768</th><td>DOID:768                                                </td><td>retinoblastoma                                          </td><td>10/18                                                   </td><td>116/8018                                                </td><td>1.076659e-14                                            </td><td>1.360963e-12                                            </td><td>5.027589e-13                                            </td><td>1869/890/1871/9134/9928/1029/3479/6573/3757/332         </td><td>10                                                      </td></tr>\n",
       "\t<tr><th scope=row>DOID:771</th><td>DOID:771                                                </td><td>retinal cell cancer                                     </td><td>10/18                                                   </td><td>116/8018                                                </td><td>1.076659e-14                                            </td><td>1.360963e-12                                            </td><td>5.027589e-13                                            </td><td>1869/890/1871/9134/9928/1029/3479/6573/3757/332         </td><td>10                                                      </td></tr>\n",
       "\t<tr><th scope=row>DOID:4645</th><td>DOID:4645                                               </td><td>retinal cancer                                          </td><td>10/18                                                   </td><td>118/8018                                                </td><td>1.283927e-14                                            </td><td>1.360963e-12                                            </td><td>5.027589e-13                                            </td><td>1869/890/1871/9134/9928/1029/3479/6573/3757/332         </td><td>10                                                      </td></tr>\n",
       "\t<tr><th scope=row>DOID:5679</th><td>DOID:5679                                               </td><td>retinal disease                                         </td><td>12/18                                                   </td><td>455/8018                                                </td><td>1.316791e-11                                            </td><td>1.163165e-09                                            </td><td>4.296896e-10                                            </td><td>123/3383/1869/890/1871/9134/9928/1029/3479/6573/3757/332</td><td>12                                                      </td></tr>\n",
       "</tbody>\n",
       "</table>\n"
      ],
      "text/latex": [
       "\\begin{tabular}{r|lllllllll}\n",
       "  & ID & Description & GeneRatio & BgRatio & pvalue & p.adjust & qvalue & geneID & Count\\\\\n",
       "\\hline\n",
       "\tDOID:0060116 & DOID:0060116                                             & sensory system cancer                                    & 11/18                                                    & 139/8018                                                 & 8.183720e-16                                             & 2.168686e-13                                             & 8.011431e-14                                             & 3383/1869/890/1871/9134/9928/1029/3479/6573/3757/332     & 11                                                      \\\\\n",
       "\tDOID:2174 & DOID:2174                                                & ocular cancer                                            & 11/18                                                    & 139/8018                                                 & 8.183720e-16                                             & 2.168686e-13                                             & 8.011431e-14                                             & 3383/1869/890/1871/9134/9928/1029/3479/6573/3757/332     & 11                                                      \\\\\n",
       "\tDOID:768 & DOID:768                                                 & retinoblastoma                                           & 10/18                                                    & 116/8018                                                 & 1.076659e-14                                             & 1.360963e-12                                             & 5.027589e-13                                             & 1869/890/1871/9134/9928/1029/3479/6573/3757/332          & 10                                                      \\\\\n",
       "\tDOID:771 & DOID:771                                                 & retinal cell cancer                                      & 10/18                                                    & 116/8018                                                 & 1.076659e-14                                             & 1.360963e-12                                             & 5.027589e-13                                             & 1869/890/1871/9134/9928/1029/3479/6573/3757/332          & 10                                                      \\\\\n",
       "\tDOID:4645 & DOID:4645                                                & retinal cancer                                           & 10/18                                                    & 118/8018                                                 & 1.283927e-14                                             & 1.360963e-12                                             & 5.027589e-13                                             & 1869/890/1871/9134/9928/1029/3479/6573/3757/332          & 10                                                      \\\\\n",
       "\tDOID:5679 & DOID:5679                                                & retinal disease                                          & 12/18                                                    & 455/8018                                                 & 1.316791e-11                                             & 1.163165e-09                                             & 4.296896e-10                                             & 123/3383/1869/890/1871/9134/9928/1029/3479/6573/3757/332 & 12                                                      \\\\\n",
       "\\end{tabular}\n"
      ],
      "text/plain": [
       "             ID           Description           GeneRatio BgRatio  pvalue      \n",
       "DOID:0060116 DOID:0060116 sensory system cancer 11/18     139/8018 8.183720e-16\n",
       "DOID:2174    DOID:2174    ocular cancer         11/18     139/8018 8.183720e-16\n",
       "DOID:768     DOID:768     retinoblastoma        10/18     116/8018 1.076659e-14\n",
       "DOID:771     DOID:771     retinal cell cancer   10/18     116/8018 1.076659e-14\n",
       "DOID:4645    DOID:4645    retinal cancer        10/18     118/8018 1.283927e-14\n",
       "DOID:5679    DOID:5679    retinal disease       12/18     455/8018 1.316791e-11\n",
       "             p.adjust     qvalue      \n",
       "DOID:0060116 2.168686e-13 8.011431e-14\n",
       "DOID:2174    2.168686e-13 8.011431e-14\n",
       "DOID:768     1.360963e-12 5.027589e-13\n",
       "DOID:771     1.360963e-12 5.027589e-13\n",
       "DOID:4645    1.360963e-12 5.027589e-13\n",
       "DOID:5679    1.163165e-09 4.296896e-10\n",
       "             geneID                                                   Count\n",
       "DOID:0060116 3383/1869/890/1871/9134/9928/1029/3479/6573/3757/332     11   \n",
       "DOID:2174    3383/1869/890/1871/9134/9928/1029/3479/6573/3757/332     11   \n",
       "DOID:768     1869/890/1871/9134/9928/1029/3479/6573/3757/332          10   \n",
       "DOID:771     1869/890/1871/9134/9928/1029/3479/6573/3757/332          10   \n",
       "DOID:4645    1869/890/1871/9134/9928/1029/3479/6573/3757/332          10   \n",
       "DOID:5679    123/3383/1869/890/1871/9134/9928/1029/3479/6573/3757/332 12   "
      ]
     },
     "metadata": {},
     "output_type": "display_data"
    }
   ],
   "source": [
    "library(DOSE)\n",
    "myenrich.do = enrichDO(mygenes)\n",
    "head(summary(myenrich.do))"
   ]
  },
  {
   "cell_type": "markdown",
   "metadata": {
    "slideshow": {
     "slide_type": "subslide"
    }
   },
   "source": [
    "You can also plot the output of the enrichment.\n",
    "\n",
    "NOTE: due to a bug in the current version of clusterProfiler, the following plot does not currently work. (will try to fix it next week)"
   ]
  },
  {
   "cell_type": "code",
   "execution_count": 32,
   "metadata": {
    "collapsed": false
   },
   "outputs": [
    {
     "name": "stderr",
     "output_type": "stream",
     "text": [
      "Warning message in data.matrix(x):\n",
      "“NAs introduced by coercion”Warning message in data.matrix(x):\n",
      "“NAs introduced by coercion”Warning message in min(x):\n",
      "“no non-missing arguments to min; returning Inf”Warning message in max(x):\n",
      "“no non-missing arguments to max; returning -Inf”Warning message in min(x):\n",
      "“no non-missing arguments to min; returning Inf”Warning message in max(x):\n",
      "“no non-missing arguments to max; returning -Inf”"
     ]
    },
    {
     "ename": "ERROR",
     "evalue": "Error in plot.window(...): need finite 'xlim' values\n",
     "output_type": "error",
     "traceback": [
      "Error in plot.window(...): need finite 'xlim' values\nTraceback:\n",
      "1. plot(summary(myenrich.do))",
      "2. plot(summary(myenrich.do))",
      "3. plot.data.frame(summary(myenrich.do))",
      "4. pairs(data.matrix(x), ...)",
      "5. pairs.default(data.matrix(x), ...)",
      "6. localPlot(x[, j], x[, i], xlab = \"\", ylab = \"\", axes = FALSE, \n .     type = \"n\", ..., log = l)",
      "7. plot(...)",
      "8. plot.default(...)",
      "9. localWindow(xlim, ylim, log, asp, ...)",
      "10. plot.window(...)"
     ]
    },
    {
     "data": {
      "image/png": "[encoded data removed]",
      "text/plain": [
       "plot without title"
      ]
     },
     "metadata": {},
     "output_type": "display_data"
    }
   ],
   "source": [
    "plot(summary(myenrich.do))"
   ]
  },
  {
   "cell_type": "markdown",
   "metadata": {
    "slideshow": {
     "slide_type": "slide"
    }
   },
   "source": [
    "\n",
    "## Getting gene coordinates: the TxDB packages\n",
    "\n",
    "Another package loaded with Homo.sapiens is a TxDb object, named TxDb.Hsapiens.UCSC.hg19.knownGene.\n",
    "\n",
    "This contains coordinates of genes, transcripts and exons in the human genome.\n",
    "\n",
    "We can get the gene coordinates using the genes() function:"
   ]
  },
  {
   "cell_type": "code",
   "execution_count": 33,
   "metadata": {
    "collapsed": false
   },
   "outputs": [
    {
     "data": {
      "text/plain": [
       "GRanges object with 23056 ranges and 1 metadata column:\n",
       "        seqnames                 ranges strand   |     gene_id\n",
       "           <Rle>              <IRanges>  <Rle>   | <character>\n",
       "      1    chr19 [ 58858172,  58874214]      -   |           1\n",
       "     10     chr8 [ 18248755,  18258723]      +   |          10\n",
       "    100    chr20 [ 43248163,  43280376]      -   |         100\n",
       "   1000    chr18 [ 25530930,  25757445]      -   |        1000\n",
       "  10000     chr1 [243651535, 244006886]      -   |       10000\n",
       "    ...      ...                    ...    ... ...         ...\n",
       "   9991     chr9 [114979995, 115095944]      -   |        9991\n",
       "   9992    chr21 [ 35736323,  35743440]      +   |        9992\n",
       "   9993    chr22 [ 19023795,  19109967]      -   |        9993\n",
       "   9994     chr6 [ 90539619,  90584155]      +   |        9994\n",
       "   9997    chr22 [ 50961997,  50964905]      -   |        9997\n",
       "  -------\n",
       "  seqinfo: 93 sequences (1 circular) from hg19 genome"
      ]
     },
     "metadata": {},
     "output_type": "display_data"
    }
   ],
   "source": [
    "genes(TxDb.Hsapiens.UCSC.hg19.knownGene)"
   ]
  },
  {
   "cell_type": "markdown",
   "metadata": {
    "slideshow": {
     "slide_type": "subslide"
    }
   },
   "source": [
    "### Getting promoters, cds, transcripts and exons\n",
    "\n",
    "Apart from genes, we can extract coordinates of transcripts(), exons(), cds(), and promoters(), using the homonymous function.\n",
    "\n",
    "The output of these functions can be customized to include additional columns, e.g. you may want to print both the exon and gene id:"
   ]
  },
  {
   "cell_type": "code",
   "execution_count": 34,
   "metadata": {
    "collapsed": false
   },
   "outputs": [
    {
     "data": {
      "text/plain": [
       "GRanges object with 289969 ranges and 1 metadata column:\n",
       "           seqnames               ranges strand   |   exon_id\n",
       "              <Rle>            <IRanges>  <Rle>   | <integer>\n",
       "       [1]     chr1       [11874, 12227]      +   |         1\n",
       "       [2]     chr1       [12595, 12721]      +   |         2\n",
       "       [3]     chr1       [12613, 12721]      +   |         3\n",
       "       [4]     chr1       [12646, 12697]      +   |         4\n",
       "       [5]     chr1       [13221, 14409]      +   |         5\n",
       "       ...      ...                  ...    ... ...       ...\n",
       "  [289965]     chrY [27607404, 27607432]      -   |    277746\n",
       "  [289966]     chrY [27635919, 27635954]      -   |    277747\n",
       "  [289967]     chrY [59358329, 59359508]      -   |    277748\n",
       "  [289968]     chrY [59360007, 59360115]      -   |    277749\n",
       "  [289969]     chrY [59360501, 59360854]      -   |    277750\n",
       "  -------\n",
       "  seqinfo: 93 sequences (1 circular) from hg19 genome"
      ]
     },
     "metadata": {},
     "output_type": "display_data"
    }
   ],
   "source": [
    "exons(TxDb.Hsapiens.UCSC.hg19.knownGene)"
   ]
  },
  {
   "cell_type": "code",
   "execution_count": 35,
   "metadata": {
    "collapsed": false
   },
   "outputs": [
    {
     "data": {
      "text/plain": [
       "GRanges object with 289969 ranges and 2 metadata columns:\n",
       "           seqnames               ranges strand   |   exon_id         gene_id\n",
       "              <Rle>            <IRanges>  <Rle>   | <integer> <CharacterList>\n",
       "       [1]     chr1       [11874, 12227]      +   |         1       100287102\n",
       "       [2]     chr1       [12595, 12721]      +   |         2       100287102\n",
       "       [3]     chr1       [12613, 12721]      +   |         3       100287102\n",
       "       [4]     chr1       [12646, 12697]      +   |         4       100287102\n",
       "       [5]     chr1       [13221, 14409]      +   |         5       100287102\n",
       "       ...      ...                  ...    ... ...       ...             ...\n",
       "  [289965]     chrY [27607404, 27607432]      -   |    277746              NA\n",
       "  [289966]     chrY [27635919, 27635954]      -   |    277747              NA\n",
       "  [289967]     chrY [59358329, 59359508]      -   |    277748              NA\n",
       "  [289968]     chrY [59360007, 59360115]      -   |    277749              NA\n",
       "  [289969]     chrY [59360501, 59360854]      -   |    277750              NA\n",
       "  -------\n",
       "  seqinfo: 93 sequences (1 circular) from hg19 genome"
      ]
     },
     "metadata": {},
     "output_type": "display_data"
    }
   ],
   "source": [
    "exons(TxDb.Hsapiens.UCSC.hg19.knownGene, columns=c(\"exon_id\", \"gene_id\"))"
   ]
  },
  {
   "cell_type": "markdown",
   "metadata": {
    "slideshow": {
     "slide_type": "fragment"
    }
   },
   "source": [
    "To get the list of all possible additional columns, we can use the columns() function as for the org.Hs.eg.db package:"
   ]
  },
  {
   "cell_type": "code",
   "execution_count": 36,
   "metadata": {
    "collapsed": false
   },
   "outputs": [
    {
     "data": {
      "text/html": [
       "<ol class=list-inline>\n",
       "\t<li>'CDSID'</li>\n",
       "\t<li>'CDSNAME'</li>\n",
       "\t<li>'CDSCHROM'</li>\n",
       "\t<li>'CDSSTRAND'</li>\n",
       "\t<li>'CDSSTART'</li>\n",
       "\t<li>'CDSEND'</li>\n",
       "\t<li>'EXONID'</li>\n",
       "\t<li>'EXONNAME'</li>\n",
       "\t<li>'EXONCHROM'</li>\n",
       "\t<li>'EXONSTRAND'</li>\n",
       "\t<li>'EXONSTART'</li>\n",
       "\t<li>'EXONEND'</li>\n",
       "\t<li>'GENEID'</li>\n",
       "\t<li>'TXID'</li>\n",
       "\t<li>'EXONRANK'</li>\n",
       "\t<li>'TXNAME'</li>\n",
       "\t<li>'TXTYPE'</li>\n",
       "\t<li>'TXCHROM'</li>\n",
       "\t<li>'TXSTRAND'</li>\n",
       "\t<li>'TXSTART'</li>\n",
       "\t<li>'TXEND'</li>\n",
       "</ol>\n"
      ],
      "text/latex": [
       "\\begin{enumerate*}\n",
       "\\item 'CDSID'\n",
       "\\item 'CDSNAME'\n",
       "\\item 'CDSCHROM'\n",
       "\\item 'CDSSTRAND'\n",
       "\\item 'CDSSTART'\n",
       "\\item 'CDSEND'\n",
       "\\item 'EXONID'\n",
       "\\item 'EXONNAME'\n",
       "\\item 'EXONCHROM'\n",
       "\\item 'EXONSTRAND'\n",
       "\\item 'EXONSTART'\n",
       "\\item 'EXONEND'\n",
       "\\item 'GENEID'\n",
       "\\item 'TXID'\n",
       "\\item 'EXONRANK'\n",
       "\\item 'TXNAME'\n",
       "\\item 'TXTYPE'\n",
       "\\item 'TXCHROM'\n",
       "\\item 'TXSTRAND'\n",
       "\\item 'TXSTART'\n",
       "\\item 'TXEND'\n",
       "\\end{enumerate*}\n"
      ],
      "text/markdown": [
       "1. 'CDSID'\n",
       "2. 'CDSNAME'\n",
       "3. 'CDSCHROM'\n",
       "4. 'CDSSTRAND'\n",
       "5. 'CDSSTART'\n",
       "6. 'CDSEND'\n",
       "7. 'EXONID'\n",
       "8. 'EXONNAME'\n",
       "9. 'EXONCHROM'\n",
       "10. 'EXONSTRAND'\n",
       "11. 'EXONSTART'\n",
       "12. 'EXONEND'\n",
       "13. 'GENEID'\n",
       "14. 'TXID'\n",
       "15. 'EXONRANK'\n",
       "16. 'TXNAME'\n",
       "17. 'TXTYPE'\n",
       "18. 'TXCHROM'\n",
       "19. 'TXSTRAND'\n",
       "20. 'TXSTART'\n",
       "21. 'TXEND'\n",
       "\n",
       "\n"
      ],
      "text/plain": [
       " [1] \"CDSID\"      \"CDSNAME\"    \"CDSCHROM\"   \"CDSSTRAND\"  \"CDSSTART\"  \n",
       " [6] \"CDSEND\"     \"EXONID\"     \"EXONNAME\"   \"EXONCHROM\"  \"EXONSTRAND\"\n",
       "[11] \"EXONSTART\"  \"EXONEND\"    \"GENEID\"     \"TXID\"       \"EXONRANK\"  \n",
       "[16] \"TXNAME\"     \"TXTYPE\"     \"TXCHROM\"    \"TXSTRAND\"   \"TXSTART\"   \n",
       "[21] \"TXEND\"     "
      ]
     },
     "metadata": {},
     "output_type": "display_data"
    }
   ],
   "source": [
    "columns(TxDb.Hsapiens.UCSC.hg19.knownGene)\n"
   ]
  },
  {
   "cell_type": "markdown",
   "metadata": {
    "slideshow": {
     "slide_type": "subslide"
    }
   },
   "source": [
    "### Subsetting a GenomicRanges object\n",
    "\n",
    "GenomicRanges object can be subsetted like normal data frames, using the subset function.\n",
    "\n",
    "Chromosome names must be referred as \"seqnames\":"
   ]
  },
  {
   "cell_type": "code",
   "execution_count": 37,
   "metadata": {
    "collapsed": false
   },
   "outputs": [
    {
     "data": {
      "text/plain": [
       "GRanges object with 569 ranges and 1 metadata column:\n",
       "        seqnames               ranges strand   |   exon_id\n",
       "           <Rle>            <IRanges>  <Rle>   | <integer>\n",
       "    [1]     chr6 [10412551, 10412600]      +   |     86074\n",
       "    [2]     chr6 [10414300, 10415284]      +   |     86075\n",
       "    [3]     chr6 [10414914, 10415284]      +   |     86076\n",
       "    [4]     chr6 [10415520, 10415613]      +   |     86077\n",
       "    [5]     chr6 [10415520, 10416402]      +   |     86078\n",
       "    ...      ...                  ...    ... ...       ...\n",
       "  [565]     chr6 [19180383, 19180711]      -   |     93064\n",
       "  [566]     chr6 [19642656, 19642760]      -   |     93065\n",
       "  [567]     chr6 [19802395, 19804141]      -   |     93066\n",
       "  [568]     chr6 [19804402, 19804508]      -   |     93067\n",
       "  [569]     chr6 [19804906, 19804981]      -   |     93068\n",
       "  -------\n",
       "  seqinfo: 93 sequences (1 circular) from hg19 genome"
      ]
     },
     "metadata": {},
     "output_type": "display_data"
    }
   ],
   "source": [
    "subset(exons(TxDb.Hsapiens.UCSC.hg19.knownGene), \n",
    "       seqnames==\"chr6\" & start>10000000 & end<20000000)"
   ]
  },
  {
   "cell_type": "markdown",
   "metadata": {
    "slideshow": {
     "slide_type": "slide"
    }
   },
   "source": [
    "# Importing a BED file\n",
    "\n",
    "BED and other formats (GFF, bigwig, etc..) can be imported using the import() function from rtracklayer.\n",
    "\n",
    "Let's import a simple BED file:"
   ]
  },
  {
   "cell_type": "code",
   "execution_count": 38,
   "metadata": {
    "collapsed": false
   },
   "outputs": [
    {
     "data": {
      "text/plain": [
       "GRanges object with 2 ranges and 2 metadata columns:\n",
       "      seqnames                 ranges strand |        name     score\n",
       "         <Rle>              <IRanges>  <Rle> | <character> <numeric>\n",
       "  [1]     chr8 [145701383, 145702686]      + |       mark1        12\n",
       "  [2]    chr20 [ 33850820,  33852880]      - |       mark2        52\n",
       "  -------\n",
       "  seqinfo: 2 sequences from an unspecified genome; no seqlengths"
      ]
     },
     "metadata": {},
     "output_type": "display_data"
    }
   ],
   "source": [
    "library(rtracklayer)\n",
    "marks = import(\"https://raw.githubusercontent.com/dalloliogm/belgrade_unix_intro/master/data/genes/example.bed\",\n",
    "      format=\"bed\")\n",
    "marks"
   ]
  },
  {
   "cell_type": "markdown",
   "metadata": {},
   "source": [
    "If you have trouble downloading the file, just copy these contents and save it to a file called example.bed:\n",
    "\n",
    "```\n",
    "chr8\t145701382\t145702686\tmark1\t12\t+\n",
    "chr20\t33850819\t33852880\tmark2\t52\t-\n",
    "```"
   ]
  },
  {
   "cell_type": "markdown",
   "metadata": {
    "slideshow": {
     "slide_type": "subslide"
    }
   },
   "source": [
    "### Operations on GenomicRanges: nearest\n",
    "\n",
    "The BED file just imported contains coordinates of two regions.\n",
    "\n",
    "We can use the nearest() function to find the genes that are closer to these regions:"
   ]
  },
  {
   "cell_type": "code",
   "execution_count": 39,
   "metadata": {
    "collapsed": false
   },
   "outputs": [
    {
     "data": {
      "text/plain": [
       "GRanges object with 2 ranges and 2 metadata columns:\n",
       "        seqnames                 ranges strand |     gene_id        mark\n",
       "           <Rle>              <IRanges>  <Rle> | <character> <character>\n",
       "  90990     chr8 [145691738, 145699499]      + |       90990       mark1\n",
       "  55741    chr20 [ 33703160,  33865960]      - |       55741       mark2\n",
       "  -------\n",
       "  seqinfo: 93 sequences (1 circular) from hg19 genome"
      ]
     },
     "metadata": {},
     "output_type": "display_data"
    }
   ],
   "source": [
    "human.genes = genes(TxDb.Hsapiens.UCSC.hg19.knownGene)\n",
    "closest.genes = human.genes[nearest(marks, human.genes)]\n",
    "closest.genes$mark = marks$name\n",
    "closest.genes"
   ]
  },
  {
   "cell_type": "markdown",
   "metadata": {
    "slideshow": {
     "slide_type": "slide"
    }
   },
   "source": [
    "# Annotation Hub\n",
    "\n",
    "AnnotationHub is a recently introduced library, which allows to download data from several sources, directly into R:"
   ]
  },
  {
   "cell_type": "code",
   "execution_count": 40,
   "metadata": {
    "collapsed": false,
    "run_control": {
     "frozen": false,
     "read_only": false
    }
   },
   "outputs": [
    {
     "data": {
      "text/plain": [
       "AnnotationHub with 35306 records\n",
       "# snapshotDate(): 2016-08-15 \n",
       "# $dataprovider: BroadInstitute, UCSC, Ensembl, NCBI, Haemcode, Inparanoid8,...\n",
       "# $species: Homo sapiens, Mus musculus, Bos taurus, Pan troglodytes, Danio r...\n",
       "# $rdataclass: GRanges, FaFile, BigWigFile, OrgDb, ChainFile, Inparanoid8Db,...\n",
       "# additional mcols(): taxonomyid, genome, description, tags, sourceurl,\n",
       "#   sourcetype \n",
       "# retrieve records with, e.g., 'object[[\"AH2\"]]' \n",
       "\n",
       "            title                                               \n",
       "  AH2     | Ailuropoda_melanoleuca.ailMel1.69.dna.toplevel.fa   \n",
       "  AH3     | Ailuropoda_melanoleuca.ailMel1.69.dna_rm.toplevel.fa\n",
       "  AH4     | Ailuropoda_melanoleuca.ailMel1.69.dna_sm.toplevel.fa\n",
       "  AH5     | Ailuropoda_melanoleuca.ailMel1.69.ncrna.fa          \n",
       "  AH6     | Ailuropoda_melanoleuca.ailMel1.69.pep.all.fa        \n",
       "  ...       ...                                                 \n",
       "  AH49436 | Xiphophorus_maculatus.Xipmac4.4.2.dna_rm.toplevel.fa\n",
       "  AH49437 | Xiphophorus_maculatus.Xipmac4.4.2.dna_sm.toplevel.fa\n",
       "  AH49438 | Xiphophorus_maculatus.Xipmac4.4.2.dna.toplevel.fa   \n",
       "  AH49439 | Xiphophorus_maculatus.Xipmac4.4.2.ncrna.fa          \n",
       "  AH49440 | Xiphophorus_maculatus.Xipmac4.4.2.pep.all.fa        "
      ]
     },
     "metadata": {},
     "output_type": "display_data"
    }
   ],
   "source": [
    "library(AnnotationHub)\n",
    "ahub = AnnotationHub()\n",
    "ahub\n"
   ]
  },
  {
   "cell_type": "markdown",
   "metadata": {
    "slideshow": {
     "slide_type": "subslide"
    }
   },
   "source": [
    "### Getting data with AnnotationHub\n",
    "\n",
    "For an overview of the data available via AnnotationHub, we can run the display function:\n",
    "\n",
    "```\n",
    "ahub = AnnotationHub()\n",
    "display(ahub)\n",
    "```\n",
    "\n",
    "In alternative, we can use the subset function:"
   ]
  },
  {
   "cell_type": "code",
   "execution_count": 41,
   "metadata": {
    "collapsed": false
   },
   "outputs": [
    {
     "data": {
      "text/plain": [
       "AnnotationHub with 5958 records\n",
       "# snapshotDate(): 2016-08-15 \n",
       "# $dataprovider: UCSC\n",
       "# $species: Homo sapiens\n",
       "# $rdataclass: GRanges, ChainFile, TwoBitFile\n",
       "# additional mcols(): taxonomyid, genome, description, tags, sourceurl,\n",
       "#   sourcetype \n",
       "# retrieve records with, e.g., 'object[[\"AH5012\"]]' \n",
       "\n",
       "            title                                             \n",
       "  AH5012  | Chromosome Band                                   \n",
       "  AH5013  | STS Markers                                       \n",
       "  AH5014  | FISH Clones                                       \n",
       "  AH5015  | Recomb Rate                                       \n",
       "  AH5016  | ENCODE Pilot                                      \n",
       "  ...       ...                                               \n",
       "  AH27618 | wgEncodeUwTfbsWerirb1CtcfStdPkRep2.narrowPeak.gz  \n",
       "  AH27619 | wgEncodeUwTfbsWi38CtcfStdHotspotsRep1.broadPeak.gz\n",
       "  AH27620 | wgEncodeUwTfbsWi38CtcfStdHotspotsRep2.broadPeak.gz\n",
       "  AH27621 | wgEncodeUwTfbsWi38CtcfStdPkRep1.narrowPeak.gz     \n",
       "  AH27622 | wgEncodeUwTfbsWi38CtcfStdPkRep2.narrowPeak.gz     "
      ]
     },
     "metadata": {},
     "output_type": "display_data"
    }
   ],
   "source": [
    "subset(ahub, species == \"Homo sapiens\" & dataprovider == \"UCSC\")"
   ]
  },
  {
   "cell_type": "markdown",
   "metadata": {
    "slideshow": {
     "slide_type": "fragment"
    }
   },
   "source": [
    "For more complex queries, we can also use query(): "
   ]
  },
  {
   "cell_type": "code",
   "execution_count": 42,
   "metadata": {
    "collapsed": false
   },
   "outputs": [
    {
     "data": {
      "text/plain": [
       "AnnotationHub with 3 records\n",
       "# snapshotDate(): 2016-08-15 \n",
       "# $dataprovider: UCSC\n",
       "# $species: Homo sapiens\n",
       "# $rdataclass: GRanges\n",
       "# additional mcols(): taxonomyid, genome, description, tags, sourceurl,\n",
       "#   sourcetype \n",
       "# retrieve records with, e.g., 'object[[\"AH5224\"]]' \n",
       "\n",
       "           title           \n",
       "  AH5224 | 28-Way Most Cons\n",
       "  AH5225 | 17-Way Most Cons\n",
       "  AH5354 | Most Conserved  "
      ]
     },
     "metadata": {},
     "output_type": "display_data"
    }
   ],
   "source": [
    "query(subset(ahub, species == \"Homo sapiens\" & dataprovider == \"UCSC\"), \"Most cons\")"
   ]
  },
  {
   "cell_type": "markdown",
   "metadata": {
    "slideshow": {
     "slide_type": "slide"
    }
   },
   "source": [
    "## Download a dataset from AnnotationHub\n",
    "\n",
    "To download a dataset, we can use double square brackets, and the id of the dataset:"
   ]
  },
  {
   "cell_type": "code",
   "execution_count": 43,
   "metadata": {
    "collapsed": false
   },
   "outputs": [
    {
     "data": {
      "text/plain": [
       "GRanges object with 2040420 ranges and 2 metadata columns:\n",
       "                 seqnames               ranges strand   |        name     score\n",
       "                    <Rle>            <IRanges>  <Rle>   | <character> <numeric>\n",
       "        [1]          chr1 [25165820, 25165859]      *   |      lod=22       299\n",
       "        [2]          chr1 [28311541, 28311557]      *   |      lod=14       244\n",
       "        [3]          chr1 [29360118, 29360136]      *   |      lod=14       244\n",
       "        [4]          chr1 [71303152, 71303427]      *   |     lod=462       674\n",
       "        [5]          chr1 [88080377, 88080627]      *   |     lod=485       680\n",
       "        ...           ...                  ...    ... ...         ...       ...\n",
       "  [2040416] chr6_qbl_hap2   [4564430, 4564669]      *   |      lod=40       373\n",
       "  [2040417] chr6_qbl_hap2   [4564824, 4564899]      *   |      lod=26       320\n",
       "  [2040418] chr6_qbl_hap2   [4564975, 4565246]      *   |      lod=93       477\n",
       "  [2040419] chr6_qbl_hap2   [4565271, 4565538]      *   |     lod=102       488\n",
       "  [2040420] chr6_qbl_hap2   [4565616, 4565661]      *   |      lod=15       252\n",
       "  -------\n",
       "  seqinfo: 49 sequences from hg18 genome"
      ]
     },
     "metadata": {},
     "output_type": "display_data"
    }
   ],
   "source": [
    "multi.24 = ahub[[\"AH5224\"]]\n",
    "multi.24"
   ]
  },
  {
   "cell_type": "markdown",
   "metadata": {
    "collapsed": true,
    "slideshow": {
     "slide_type": "subslide"
    }
   },
   "source": [
    "## Getting conservation scores for custom intervals\n",
    "\n",
    "Now that we have conservation scores from the UCSC-Multiz table, we can get the scores for the marks bed file we imported earlier:\n",
    "\n",
    "\n"
   ]
  },
  {
   "cell_type": "code",
   "execution_count": 44,
   "metadata": {
    "collapsed": false
   },
   "outputs": [
    {
     "data": {
      "text/plain": [
       "GRanges object with 10 ranges and 2 metadata columns:\n",
       "       seqnames                 ranges strand |        name     score\n",
       "          <Rle>              <IRanges>  <Rle> | <character> <numeric>\n",
       "   [1]     chr8 [145701434, 145701456]      * |      lod=19       281\n",
       "   [2]     chr8 [145701503, 145701510]      * |      lod=13       235\n",
       "   [3]     chr8 [145701542, 145701585]      * |      lod=35       357\n",
       "   [4]     chr8 [145701653, 145701678]      * |      lod=24       310\n",
       "   [5]     chr8 [145702037, 145702121]      * |      lod=36       360\n",
       "   [6]     chr8 [145702184, 145702262]      * |      lod=65       433\n",
       "   [7]     chr8 [145702272, 145702329]      * |      lod=36       360\n",
       "   [8]     chr8 [145702421, 145702512]      * |      lod=46       390\n",
       "   [9]    chr20 [ 33852458,  33852471]      * |      lod=15       252\n",
       "  [10]    chr20 [ 33852712,  33852970]      * |     lod=428       665\n",
       "  -------\n",
       "  seqinfo: 49 sequences from hg18 genome"
      ]
     },
     "metadata": {},
     "output_type": "display_data"
    }
   ],
   "source": [
    "subsetByOverlaps(multi.24, marks)"
   ]
  },
  {
   "cell_type": "markdown",
   "metadata": {},
   "source": [
    "Another useful function is mergeByOverlaps, which combines information from both ranges:\n"
   ]
  },
  {
   "cell_type": "code",
   "execution_count": 45,
   "metadata": {
    "collapsed": false
   },
   "outputs": [
    {
     "data": {
      "text/plain": [
       "DataFrame with 10 rows and 6 columns\n",
       "                            marks        name     score\n",
       "                        <GRanges> <character> <numeric>\n",
       "1   chr8:+:[145701383, 145702686]       mark1        12\n",
       "2   chr8:+:[145701383, 145702686]       mark1        12\n",
       "3   chr8:+:[145701383, 145702686]       mark1        12\n",
       "4   chr8:+:[145701383, 145702686]       mark1        12\n",
       "5   chr8:+:[145701383, 145702686]       mark1        12\n",
       "6   chr8:+:[145701383, 145702686]       mark1        12\n",
       "7   chr8:+:[145701383, 145702686]       mark1        12\n",
       "8   chr8:+:[145701383, 145702686]       mark1        12\n",
       "9  chr20:-:[ 33850820,  33852880]       mark2        52\n",
       "10 chr20:-:[ 33850820,  33852880]       mark2        52\n",
       "                         multi.24      name.1   score.1\n",
       "                        <GRanges> <character> <numeric>\n",
       "1   chr8:*:[145701434, 145701456]      lod=19       281\n",
       "2   chr8:*:[145701503, 145701510]      lod=13       235\n",
       "3   chr8:*:[145701542, 145701585]      lod=35       357\n",
       "4   chr8:*:[145701653, 145701678]      lod=24       310\n",
       "5   chr8:*:[145702037, 145702121]      lod=36       360\n",
       "6   chr8:*:[145702184, 145702262]      lod=65       433\n",
       "7   chr8:*:[145702272, 145702329]      lod=36       360\n",
       "8   chr8:*:[145702421, 145702512]      lod=46       390\n",
       "9  chr20:*:[ 33852458,  33852471]      lod=15       252\n",
       "10 chr20:*:[ 33852712,  33852970]     lod=428       665"
      ]
     },
     "metadata": {},
     "output_type": "display_data"
    }
   ],
   "source": [
    "mergeByOverlaps(marks, multi.24) "
   ]
  },
  {
   "cell_type": "markdown",
   "metadata": {},
   "source": [
    "This can be used to calculate the average conservation by region. In this case we will use the dplyr library for the aggregation:"
   ]
  },
  {
   "cell_type": "code",
   "execution_count": 47,
   "metadata": {
    "collapsed": false
   },
   "outputs": [
    {
     "data": {
      "text/html": [
       "<table>\n",
       "<thead><tr><th scope=col>marks.seqnames</th><th scope=col>mean</th></tr></thead>\n",
       "<tbody>\n",
       "\t<tr><td>chr8  </td><td>340.75</td></tr>\n",
       "\t<tr><td>chr20 </td><td>458.50</td></tr>\n",
       "</tbody>\n",
       "</table>\n"
      ],
      "text/latex": [
       "\\begin{tabular}{r|ll}\n",
       " marks.seqnames & mean\\\\\n",
       "\\hline\n",
       "\t chr8   & 340.75\\\\\n",
       "\t chr20  & 458.50\\\\\n",
       "\\end{tabular}\n"
      ],
      "text/plain": [
       "  marks.seqnames mean  \n",
       "1 chr8           340.75\n",
       "2 chr20          458.50"
      ]
     },
     "metadata": {},
     "output_type": "display_data"
    }
   ],
   "source": [
    "library(dplyr)\n",
    "select = AnnotationDbi::select\n",
    "\n",
    "mergeByOverlaps(marks, multi.24) %>% as.data.frame %>% group_by(marks.seqnames) %>% summarise(mean=mean(score.1))\n"
   ]
  }
 ],
 "metadata": {
  "celltoolbar": "Slideshow",
  "hide_input": false,
  "kernelspec": {
   "display_name": "R",
   "language": "R",
   "name": "ir"
  },
  "language_info": {
   "codemirror_mode": "r",
   "file_extension": ".r",
   "mimetype": "text/x-r-source",
   "name": "R",
   "pygments_lexer": "r",
   "version": "3.3.1"
  },
  "nav_menu": {},
  "toc": {
   "navigate_menu": true,
   "number_sections": true,
   "sideBar": true,
   "threshold": 6,
   "toc_cell": true,
   "toc_section_display": "block",
   "toc_window_display": false
  }
 },
 "nbformat": 4,
 "nbformat_minor": 1
}
