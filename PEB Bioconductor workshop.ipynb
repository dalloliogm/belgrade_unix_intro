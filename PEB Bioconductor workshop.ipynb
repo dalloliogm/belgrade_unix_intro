{
 "cells": [
  {
   "cell_type": "markdown",
   "metadata": {
    "slideshow": {
     "slide_type": "skip"
    },
    "toc": "true"
   },
   "source": [
    "# Table of Contents\n",
    " <p><div class=\"lev1 toc-item\"><a href=\"#PEB-Belgrade---Bioconductor-workshop\" data-toc-modified-id=\"PEB-Belgrade---Bioconductor-workshop-1\"><span class=\"toc-item-num\">1&nbsp;&nbsp;</span>PEB Belgrade - Bioconductor workshop</a></div><div class=\"lev2 toc-item\"><a href=\"#Requirements\" data-toc-modified-id=\"Requirements-1.1\"><span class=\"toc-item-num\">1.1&nbsp;&nbsp;</span>Requirements</a></div><div class=\"lev2 toc-item\"><a href=\"#Which-libraries-are-we-installing?\" data-toc-modified-id=\"Which-libraries-are-we-installing?-1.2\"><span class=\"toc-item-num\">1.2&nbsp;&nbsp;</span>Which libraries are we installing?</a></div><div class=\"lev1 toc-item\"><a href=\"#The-Annotation-packages-in-Bioconductor\" data-toc-modified-id=\"The-Annotation-packages-in-Bioconductor-2\"><span class=\"toc-item-num\">2&nbsp;&nbsp;</span>The Annotation packages in Bioconductor</a></div><div class=\"lev1 toc-item\"><a href=\"#The-Homo.sapiens-package\" data-toc-modified-id=\"The-Homo.sapiens-package-3\"><span class=\"toc-item-num\">3&nbsp;&nbsp;</span>The Homo.sapiens package</a></div><div class=\"lev2 toc-item\"><a href=\"#Gene-symbols-and-IDs:-the-org.Hs.eg.db-package\" data-toc-modified-id=\"Gene-symbols-and-IDs:-the-org.Hs.eg.db-package-3.1\"><span class=\"toc-item-num\">3.1&nbsp;&nbsp;</span>Gene symbols and IDs: the org.Hs.eg.db package</a></div><div class=\"lev3 toc-item\"><a href=\"#Converting-Entrez-Ids-to-symbols\" data-toc-modified-id=\"Converting-Entrez-Ids-to-symbols-3.1.1\"><span class=\"toc-item-num\">3.1.1&nbsp;&nbsp;</span>Converting Entrez Ids to symbols</a></div><div class=\"lev2 toc-item\"><a href=\"#Getting-gene-coordinates:-the-TxDB-packages\" data-toc-modified-id=\"Getting-gene-coordinates:-the-TxDB-packages-3.2\"><span class=\"toc-item-num\">3.2&nbsp;&nbsp;</span>Getting gene coordinates: the TxDB packages</a></div><div class=\"lev1 toc-item\"><a href=\"#Calculating-Enrichment\" data-toc-modified-id=\"Calculating-Enrichment-4\"><span class=\"toc-item-num\">4&nbsp;&nbsp;</span>Calculating Enrichment</a></div><div class=\"lev1 toc-item\"><a href=\"#Annotation-Hub\" data-toc-modified-id=\"Annotation-Hub-5\"><span class=\"toc-item-num\">5&nbsp;&nbsp;</span>Annotation Hub</a></div>"
   ]
  },
  {
   "cell_type": "markdown",
   "metadata": {
    "slideshow": {
     "slide_type": "slide"
    }
   },
   "source": [
    "# PEB Belgrade - Bioconductor workshop\n",
    "\n",
    "Giovanni M. Dall'Olio, GSK. 10/09/2016. http://bioinfoblog.it\n",
    "\n",
    "Welcome to the Bioconductor / Data Integration workshop.\n",
    "\n",
    "This workshop is heavily inspired by the Coursera Bioconductor course. See here for materials: http://kasperdanielhansen.github.io/genbioconductor/\n"
   ]
  },
  {
   "cell_type": "markdown",
   "metadata": {
    "slideshow": {
     "slide_type": "slide"
    }
   },
   "source": [
    "## Requirements\n",
    "\n",
    "This workshop requires several bioconductor libraries, which take a while to install.\n",
    "\n",
    "Please start their installation by copying&pasting the commands below. We'll continue the lecture while they get installed:\n",
    "\n",
    "```\n",
    "# dplyr\n",
    "install.packages(c(\"dplyr\"))\n",
    "\n",
    "# bioconductor\n",
    "source(\"http://bioconductor.org/biocLite/R\")\n",
    "biocLite(\"Homo.sapiens\")\n",
    "biocLite(\"rtracklayer\")\n",
    "biocLite(\"AnnotationHub\")\n",
    "```"
   ]
  },
  {
   "cell_type": "markdown",
   "metadata": {
    "slideshow": {
     "slide_type": "subslide"
    }
   },
   "source": [
    "## Which libraries are we installing?\n",
    "\n",
    "- **Homo.sapiens**: Wrapper containing several H.sapiens-related packages:\n",
    "    - **TxDB**: coordinates for genes, transcripts, exons...\n",
    "    - **org.Hs.eg.db**: Gene symbols\n",
    "    - **GenomicRanges**: allows to work with gene coordinates\n",
    "- **rtracklayer**: allows to import BED files and other formats\n",
    "- **DOSE** and **clusterProfiler**: for ontology enrichment (GO, Disease Ontology, Reactome)\n",
    "- **AnnotationHub**: allows to download data from UCSC and many other sources"
   ]
  },
  {
   "cell_type": "markdown",
   "metadata": {
    "slideshow": {
     "slide_type": "slide"
    }
   },
   "source": [
    "# The Annotation packages in Bioconductor\n",
    "\n",
    "Bioconductor contains several Annotation packages (https://www.bioconductor.org/packages/release/data/annotation/)\n",
    "\n",
    "Most of these are updated regularly, and contain datasets from public sources for multiple organisms:\n",
    "\n",
    "Some examples:\n",
    "\n",
    "- **TxDB** objects: coordinates for genes, transcripts, exons...\n",
    "- **BSGenome**: genome sequences\n",
    "- **microarray ids** (e.g. hgu133): conversions probe to genes for Affymetrix and Illumina arrays\n",
    "- **org.\\*.eg.db**: gene symbol to id conversion (entrez, ensembl, GO, ..)\n",
    "\n",
    "In addition two packages allow to access large dataset repositories:\n",
    "\n",
    "- **biomaRt**: any biomart installation, e.g. ensembl, hgnc, (see http://www.biomart.org/)\n",
    "- **AnnotationHub**: access to several resources, e.g. any track in the UCSC browser, and more\n",
    "\n",
    "In this tutorial we will see some of these (TxDB, org.eg.db, AnnotationHub)."
   ]
  },
  {
   "cell_type": "markdown",
   "metadata": {
    "slideshow": {
     "slide_type": "slide"
    }
   },
   "source": [
    "# The Homo.sapiens package\n",
    "\n",
    "Let's load the Homo.sapiens package. You will see that it will load several other packages:"
   ]
  },
  {
   "cell_type": "code",
   "execution_count": 6,
   "metadata": {
    "collapsed": false
   },
   "outputs": [],
   "source": [
    "library(Homo.sapiens)"
   ]
  },
  {
   "cell_type": "markdown",
   "metadata": {},
   "source": [
    "Today we are going to focus on two packages: org.Hs.eg.db and TxDB"
   ]
  },
  {
   "cell_type": "markdown",
   "metadata": {
    "slideshow": {
     "slide_type": "slide"
    }
   },
   "source": [
    "## Gene symbols and IDs: the org.Hs.eg.db package\n",
    "\n",
    "The org.\\*.eg.db packages allow to retrieve gene symbols and ids relative to a species (see [list of all packages](https://www.bioconductor.org/packages/release/data/annotation/)). Data is updated every two years.\n",
    "\n",
    "To see which data is included in this package, we can open its help page:\n",
    "```\n",
    "library(help=org.Hs.eg.db)\n",
    "```\n",
    "\n",
    "Each of these datasets is stored as a Bimap object. Type the following to get information on BiMaps:\n",
    "```\n",
    "?AnnDbBimap\n",
    "```"
   ]
  },
  {
   "cell_type": "markdown",
   "metadata": {
    "slideshow": {
     "slide_type": "subslide"
    }
   },
   "source": [
    "### Converting Entrez Ids to symbols\n",
    "\n",
    "The org.Hs.egGENENAME contains mappings between Entrez IDs and Gene Symbols:"
   ]
  },
  {
   "cell_type": "code",
   "execution_count": 3,
   "metadata": {
    "collapsed": false
   },
   "outputs": [
    {
     "data": {
      "text/html": [
       "<table>\n",
       "<thead><tr><th scope=col>gene_id</th><th scope=col>gene_name</th></tr></thead>\n",
       "<tbody>\n",
       "\t<tr><td>1                                                    </td><td>alpha-1-B glycoprotein                               </td></tr>\n",
       "\t<tr><td>2                                                    </td><td>alpha-2-macroglobulin                                </td></tr>\n",
       "\t<tr><td>3                                                    </td><td>alpha-2-macroglobulin pseudogene 1                   </td></tr>\n",
       "\t<tr><td>9                                                    </td><td>N-acetyltransferase 1 (arylamine N-acetyltransferase)</td></tr>\n",
       "\t<tr><td>10                                                   </td><td>N-acetyltransferase 2 (arylamine N-acetyltransferase)</td></tr>\n",
       "\t<tr><td>11                                                   </td><td>N-acetyltransferase pseudogene                       </td></tr>\n",
       "</tbody>\n",
       "</table>\n"
      ],
      "text/latex": [
       "\\begin{tabular}{r|ll}\n",
       " gene\\_id & gene\\_name\\\\\n",
       "\\hline\n",
       "\t 1                                                     & alpha-1-B glycoprotein                               \\\\\n",
       "\t 2                                                     & alpha-2-macroglobulin                                \\\\\n",
       "\t 3                                                     & alpha-2-macroglobulin pseudogene 1                   \\\\\n",
       "\t 9                                                     & N-acetyltransferase 1 (arylamine N-acetyltransferase)\\\\\n",
       "\t 10                                                    & N-acetyltransferase 2 (arylamine N-acetyltransferase)\\\\\n",
       "\t 11                                                    & N-acetyltransferase pseudogene                       \\\\\n",
       "\\end{tabular}\n"
      ],
      "text/plain": [
       "  gene_id gene_name                                            \n",
       "1 1       alpha-1-B glycoprotein                               \n",
       "2 2       alpha-2-macroglobulin                                \n",
       "3 3       alpha-2-macroglobulin pseudogene 1                   \n",
       "4 9       N-acetyltransferase 1 (arylamine N-acetyltransferase)\n",
       "5 10      N-acetyltransferase 2 (arylamine N-acetyltransferase)\n",
       "6 11      N-acetyltransferase pseudogene                       "
      ]
     },
     "metadata": {},
     "output_type": "display_data"
    }
   ],
   "source": [
    "head(as.data.frame(org.Hs.egGENENAME))"
   ]
  },
  {
   "cell_type": "code",
   "execution_count": null,
   "metadata": {
    "collapsed": true
   },
   "outputs": [],
   "source": []
  },
  {
   "cell_type": "markdown",
   "metadata": {
    "slideshow": {
     "slide_type": "slide"
    }
   },
   "source": [
    "## Getting gene coordinates: the TxDB packages"
   ]
  },
  {
   "cell_type": "markdown",
   "metadata": {
    "slideshow": {
     "slide_type": "slide"
    }
   },
   "source": [
    "# Calculating Enrichment"
   ]
  },
  {
   "cell_type": "markdown",
   "metadata": {
    "slideshow": {
     "slide_type": "slide"
    }
   },
   "source": [
    "# Annotation Hub"
   ]
  },
  {
   "cell_type": "code",
   "execution_count": 4,
   "metadata": {
    "collapsed": false
   },
   "outputs": [
    {
     "name": "stderr",
     "output_type": "stream",
     "text": [
      "\n",
      "Attaching package: ‘AnnotationHub’\n",
      "\n",
      "The following object is masked from ‘package:Biobase’:\n",
      "\n",
      "    cache\n",
      "\n",
      "snapshotDate(): 2016-08-15\n"
     ]
    },
    {
     "data": {
      "text/plain": [
       "AnnotationHub with 44404 records\n",
       "# snapshotDate(): 2016-08-15 \n",
       "# $dataprovider: BroadInstitute, UCSC, Ensembl, EncodeDCC, NCBI, ftp://ftp.n...\n",
       "# $species: Homo sapiens, Mus musculus, Bos taurus, Pan troglodytes, Danio r...\n",
       "# $rdataclass: GRanges, BigWigFile, FaFile, OrgDb, TwoBitFile, ChainFile, In...\n",
       "# additional mcols(): taxonomyid, genome, description, tags, sourceurl,\n",
       "#   sourcetype \n",
       "# retrieve records with, e.g., 'object[[\"AH2\"]]' \n",
       "\n",
       "            title                                                 \n",
       "  AH2     | Ailuropoda_melanoleuca.ailMel1.69.dna.toplevel.fa     \n",
       "  AH3     | Ailuropoda_melanoleuca.ailMel1.69.dna_rm.toplevel.fa  \n",
       "  AH4     | Ailuropoda_melanoleuca.ailMel1.69.dna_sm.toplevel.fa  \n",
       "  AH5     | Ailuropoda_melanoleuca.ailMel1.69.ncrna.fa            \n",
       "  AH6     | Ailuropoda_melanoleuca.ailMel1.69.pep.all.fa          \n",
       "  ...       ...                                                   \n",
       "  AH51456 | Xiphophorus_maculatus.Xipmac4.4.2.cdna.all.2bit       \n",
       "  AH51457 | Xiphophorus_maculatus.Xipmac4.4.2.dna_rm.toplevel.2bit\n",
       "  AH51458 | Xiphophorus_maculatus.Xipmac4.4.2.dna_sm.toplevel.2bit\n",
       "  AH51459 | Xiphophorus_maculatus.Xipmac4.4.2.dna.toplevel.2bit   \n",
       "  AH51460 | Xiphophorus_maculatus.Xipmac4.4.2.ncrna.2bit          "
      ]
     },
     "metadata": {},
     "output_type": "display_data"
    }
   ],
   "source": [
    "library(AnnotationHub)\n",
    "ahub = AnnotationHub()\n",
    "ahub\n"
   ]
  },
  {
   "cell_type": "code",
   "execution_count": 5,
   "metadata": {
    "collapsed": false
   },
   "outputs": [
    {
     "data": {
      "text/plain": [
       "GRanges object with 23056 ranges and 1 metadata column:\n",
       "        seqnames                 ranges strand |     gene_id\n",
       "           <Rle>              <IRanges>  <Rle> | <character>\n",
       "      1    chr19 [ 58858172,  58874214]      - |           1\n",
       "     10     chr8 [ 18248755,  18258723]      + |          10\n",
       "    100    chr20 [ 43248163,  43280376]      - |         100\n",
       "   1000    chr18 [ 25530930,  25757445]      - |        1000\n",
       "  10000     chr1 [243651535, 244006886]      - |       10000\n",
       "    ...      ...                    ...    ... .         ...\n",
       "   9991     chr9 [114979995, 115095944]      - |        9991\n",
       "   9992    chr21 [ 35736323,  35743440]      + |        9992\n",
       "   9993    chr22 [ 19023795,  19109967]      - |        9993\n",
       "   9994     chr6 [ 90539619,  90584155]      + |        9994\n",
       "   9997    chr22 [ 50961997,  50964905]      - |        9997\n",
       "  -------\n",
       "  seqinfo: 93 sequences (1 circular) from hg19 genome"
      ]
     },
     "metadata": {},
     "output_type": "display_data"
    }
   ],
   "source": [
    "library(Homo.sapiens)\n",
    "genes(TxDb.Hsapiens.UCSC.hg19.knownGene)\n",
    "\n"
   ]
  }
 ],
 "metadata": {
  "celltoolbar": "Slideshow",
  "kernelspec": {
   "display_name": "R 3.3",
   "language": "R",
   "name": "ir33"
  },
  "nav_menu": {},
  "toc": {
   "navigate_menu": true,
   "number_sections": true,
   "sideBar": true,
   "threshold": 6,
   "toc_cell": true,
   "toc_section_display": "block",
   "toc_window_display": false
  }
 },
 "nbformat": 4,
 "nbformat_minor": 1
}
